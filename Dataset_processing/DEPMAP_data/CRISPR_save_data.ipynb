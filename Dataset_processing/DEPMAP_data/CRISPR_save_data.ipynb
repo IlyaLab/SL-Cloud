{
 "cells": [
  {
   "cell_type": "code",
   "execution_count": 1,
   "metadata": {},
   "outputs": [
    {
     "name": "stdout",
     "output_type": "stream",
     "text": [
      "Once deleted, variables cannot be recovered. Proceed (y/[n])? y\n"
     ]
    }
   ],
   "source": [
    "%reset \n"
   ]
  },
  {
   "cell_type": "code",
   "execution_count": 2,
   "metadata": {},
   "outputs": [
    {
     "data": {
      "text/plain": [
       "'/Users/bahar/Downloads/SL-Cloud-main2/DEPMAP_save_data'"
      ]
     },
     "execution_count": 2,
     "metadata": {},
     "output_type": "execute_result"
    }
   ],
   "source": [
    "pwd"
   ]
  },
  {
   "cell_type": "code",
   "execution_count": 29,
   "metadata": {},
   "outputs": [],
   "source": [
    "import pandas as pd\n",
    "import pandas_gbq as gbq\n",
    "from google.cloud import bigquery\n",
    "import numpy as np\n",
    "import sys\n",
    "sys.path.append('../scripts/')\n",
    "import importlib\n",
    "import BIGQUERY_operations\n",
    "importlib.reload(BIGQUERY_operations)\n",
    "from BIGQUERY_operations import *\n",
    "import DEPMAP_data_preprocessing\n",
    "importlib.reload(DEPMAP_data_preprocessing)\n",
    "from DEPMAP_data_preprocessing import *"
   ]
  },
  {
   "cell_type": "code",
   "execution_count": 17,
   "metadata": {},
   "outputs": [
    {
     "name": "stdout",
     "output_type": "stream",
     "text": [
      "Traceback (most recent call last):\r\n",
      "  File \"/Users/bahar/Downloads/google-cloud-sdk/lib/gcloud.py\", line 104, in <module>\r\n",
      "    main()\r\n",
      "  File \"/Users/bahar/Downloads/google-cloud-sdk/lib/gcloud.py\", line 100, in main\r\n",
      "    sys.exit(gcloud_main.main())\r\n",
      "  File \"/Users/bahar/Downloads/google-cloud-sdk/lib/googlecloudsdk/gcloud_main.py\", line 171, in main\r\n",
      "    gcloud_cli = CreateCLI([])\r\n",
      "  File \"/Users/bahar/Downloads/google-cloud-sdk/lib/googlecloudsdk/gcloud_main.py\", line 151, in CreateCLI\r\n",
      "    generated_cli = loader.Generate()\r\n",
      "  File \"/Users/bahar/Downloads/google-cloud-sdk/lib/googlecloudsdk/calliope/cli.py\", line 504, in Generate\r\n",
      "    cli = self.__MakeCLI(top_group)\r\n",
      "  File \"/Users/bahar/Downloads/google-cloud-sdk/lib/googlecloudsdk/calliope/cli.py\", line 674, in __MakeCLI\r\n",
      "    log.AddFileLogging(self.__logs_dir)\r\n",
      "  File \"/Users/bahar/Downloads/google-cloud-sdk/lib/googlecloudsdk/core/log.py\", line 1039, in AddFileLogging\r\n",
      "    _log_manager.AddLogsDir(logs_dir=logs_dir)\r\n",
      "  File \"/Users/bahar/Downloads/google-cloud-sdk/lib/googlecloudsdk/core/log.py\", line 683, in AddLogsDir\r\n",
      "    self._CleanUpLogs(logs_dir)\r\n",
      "  File \"/Users/bahar/Downloads/google-cloud-sdk/lib/googlecloudsdk/core/log.py\", line 711, in _CleanUpLogs\r\n",
      "    self._CleanLogsDir(logs_dir)\r\n",
      "  File \"/Users/bahar/Downloads/google-cloud-sdk/lib/googlecloudsdk/core/log.py\", line 737, in _CleanLogsDir\r\n",
      "    os.remove(log_file_path)\r\n",
      "PermissionError: [Errno 13] Permission denied: '/Users/bahar/.config/gcloud/logs/2020.08.04/12.16.05.276251.log'\r\n"
     ]
    }
   ],
   "source": [
    "!gcloud auth application-default login"
   ]
  },
  {
   "cell_type": "code",
   "execution_count": 18,
   "metadata": {},
   "outputs": [],
   "source": [
    "from google.cloud import bigquery"
   ]
  },
  {
   "cell_type": "code",
   "execution_count": 19,
   "metadata": {},
   "outputs": [],
   "source": [
    "# configure project info and bigquery client\n",
    "project_id='syntheticlethality'\n",
    "\n",
    "# construct a BigQuery client object.\n",
    "client = bigquery.Client(project_id)"
   ]
  },
  {
   "cell_type": "code",
   "execution_count": 7,
   "metadata": {},
   "outputs": [
    {
     "name": "stdout",
     "output_type": "stream",
     "text": [
      "Dataset DepMap_public_20Q3 already exists.\n"
     ]
    }
   ],
   "source": [
    "dataset_name='DepMap_public_20Q3'\n",
    "dataset_description=\"\"\"  \n",
    "This DepMap release contains data from CRISPR knockout \n",
    "screens from project Achilles, as well as genomic characterization data from the CCLE project.\n",
    "\"\"\"\n",
    "\n",
    "CreateDataSet(client, dataset_name, project_id, dataset_description)"
   ]
  },
  {
   "cell_type": "code",
   "execution_count": 8,
   "metadata": {},
   "outputs": [
    {
     "name": "stderr",
     "output_type": "stream",
     "text": [
      "/Users/bahar/opt/anaconda3/lib/python3.7/site-packages/IPython/core/interactiveshell.py:3063: DtypeWarning: Columns (19,29,30) have mixed types.Specify dtype option on import or set low_memory=False.\n",
      "  interactivity=interactivity, compiler=compiler, result=result)\n"
     ]
    }
   ],
   "source": [
    "#CCLE_mutation_data.csv file\n",
    "mutation_data=pd.read_csv(\"https://ndownloader.figshare.com/files/24613355\", sep=\"\\t\") \n",
    "#https://ndownloader.figshare.com/files/24613355\n",
    "\n",
    "#sample_info.csv file\n",
    "sample_info=pd.read_csv(\"https://ndownloader.figshare.com/files/24613394\",  sep=\",\")\n",
    "#https://ndownloader.figshare.com/files/24613394\n",
    "\n",
    "#WES_SNP_CN_data.csv file\n",
    "cn_data=pd.read_csv(\"https://ndownloader.figshare.com/files/24613352\", index_col=0)\n",
    "#https://ndownloader.figshare.com/files/24613352\n",
    "\n",
    "#CCLE_expression.csv\n",
    "gene_exp_data=pd.read_csv(\"https://ndownloader.figshare.com/files/24613325\", index_col=0)\n",
    "#https://ndownloader.figshare.com/files/24613325\n",
    "\n",
    "#D2_Achilles_gene_effect.csv file\n",
    "achilles_gene_effect=pd.read_csv(\"https://ndownloader.figshare.com/files/24613292\", index_col=0)\n",
    "#https://ndownloader.figshare.com/files/24613292\n"
   ]
  },
  {
   "cell_type": "code",
   "execution_count": 20,
   "metadata": {},
   "outputs": [
    {
     "data": {
      "text/plain": [
       "'/Users/bahar/Downloads/SL-Cloud-main2/DEPMAP_save_data'"
      ]
     },
     "execution_count": 20,
     "metadata": {},
     "output_type": "execute_result"
    }
   ],
   "source": [
    "pwd"
   ]
  },
  {
   "cell_type": "code",
   "execution_count": 21,
   "metadata": {},
   "outputs": [],
   "source": [
    "# get annotations from the excel file \n",
    "depmap_annotations=pd.ExcelFile(\"../data/DEPMAP_20Q3_annotation.xlsx\")"
   ]
  },
  {
   "cell_type": "code",
   "execution_count": 22,
   "metadata": {},
   "outputs": [
    {
     "data": {
      "text/plain": [
       "['Export Summary',\n",
       " 'Ref',\n",
       " 'Sample_Info',\n",
       " 'CCLE_Mutations',\n",
       " 'CCLE_Gene_Expression',\n",
       " 'CCLE_Copy_Number',\n",
       " 'Achilles_Gene_Effect']"
      ]
     },
     "execution_count": 22,
     "metadata": {},
     "output_type": "execute_result"
    }
   ],
   "source": [
    "depmap_annotations.sheet_names "
   ]
  },
  {
   "cell_type": "code",
   "execution_count": 23,
   "metadata": {},
   "outputs": [],
   "source": [
    "mutation_annotation=depmap_annotations.parse('CCLE_Mutations')\n",
    "sample_annotation=depmap_annotations.parse('Sample_Info')\n",
    "achilles_gene_effect_annotation=depmap_annotations.parse('Achilles_Gene_Effect')\n",
    "CCLE_expression_annotation=depmap_annotations.parse('CCLE_Gene_Expression')\n",
    "cnv_annotations=depmap_annotations.parse('CCLE_Copy_Number')"
   ]
  },
  {
   "cell_type": "code",
   "execution_count": 24,
   "metadata": {},
   "outputs": [
    {
     "name": "stderr",
     "output_type": "stream",
     "text": [
      "1it [02:42, 162.30s/it]\n"
     ]
    },
    {
     "name": "stdout",
     "output_type": "stream",
     "text": [
      "Table created successfully\n"
     ]
    }
   ],
   "source": [
    "mutation_table_name='CCLE_mutation'\n",
    "mutation_table_desc='''Pipeline: Mutations\n",
    "MAF of gene mutations.'''\n",
    "\n",
    "mutation_dict=mutation_annotation.to_dict('records')\n",
    "mutation_table=CreateTable(client, mutation_data, dataset_name, mutation_table_name, project_id,  mutation_table_desc, mutation_dict)"
   ]
  },
  {
   "cell_type": "code",
   "execution_count": 25,
   "metadata": {},
   "outputs": [
    {
     "name": "stderr",
     "output_type": "stream",
     "text": [
      "1it [00:03,  3.20s/it]\n"
     ]
    },
    {
     "name": "stdout",
     "output_type": "stream",
     "text": [
      "Table created successfully\n"
     ]
    }
   ],
   "source": [
    "sample_info_table_name=\"sample_info\"\n",
    "sample_info_table_desc='''Cell line information definitions.'''\n",
    "\n",
    "sample_dict=sample_annotation.to_dict('records')\n",
    "CreateTable(client, sample_info, dataset_name, sample_info_table_name, project_id, sample_info_table_desc, sample_dict)"
   ]
  },
  {
   "cell_type": "code",
   "execution_count": 30,
   "metadata": {},
   "outputs": [
    {
     "name": "stderr",
     "output_type": "stream",
     "text": [
      "1it [17:09, 1029.67s/it]\n"
     ]
    },
    {
     "name": "stdout",
     "output_type": "stream",
     "text": [
      "Table created successfully\n"
     ]
    }
   ],
   "source": [
    "cn_table_desc='''Pipeline: Copy number\n",
    "Gene level copy number data, log2 transformed with a pseudo count of 1. \n",
    "This is generated by mapping genes onto the segment level calls.\n",
    ".'''\n",
    "\n",
    "cnv_long_format=CRISPRPreprocess(cn_data, 'CNA')\n",
    "cnv_table_name=\"CCLE_gene_cn\"\n",
    "cnv_dict=cnv_annotations.to_dict('records')\n",
    "CreateTable(client, cnv_long_format, dataset_name, cnv_table_name, project_id, cn_table_desc, cnv_dict)"
   ]
  },
  {
   "cell_type": "code",
   "execution_count": 31,
   "metadata": {},
   "outputs": [
    {
     "name": "stderr",
     "output_type": "stream",
     "text": [
      "1it [07:51, 471.67s/it]\n"
     ]
    },
    {
     "name": "stdout",
     "output_type": "stream",
     "text": [
      "Table created successfully\n"
     ]
    }
   ],
   "source": [
    "CCLE_expression_table_desc='''\n",
    "Pipeline: Expression\n",
    "Ransom TPM gene expression data for just protein coding genes using RSEM. \n",
    "Log2 transformed, using a pseudo-count of 1.\n",
    "'''\n",
    "CCLE_expression_long_format=CRISPRPreprocess(gene_exp_data, 'TPM')\n",
    "CCLE_expression_table_name=\"CCLE_gene_expression\"\n",
    "\n",
    "CCLE_expression_dict=CCLE_expression_annotation.to_dict('records')\n",
    "CreateTable(client, CCLE_expression_long_format, dataset_name, CCLE_expression_table_name, project_id, CCLE_expression_table_desc, CCLE_expression_dict)\n",
    "\n",
    "\n"
   ]
  },
  {
   "cell_type": "code",
   "execution_count": 32,
   "metadata": {},
   "outputs": [
    {
     "name": "stderr",
     "output_type": "stream",
     "text": [
      "1it [05:42, 342.90s/it]\n"
     ]
    },
    {
     "name": "stdout",
     "output_type": "stream",
     "text": [
      "Table created successfully\n"
     ]
    }
   ],
   "source": [
    "achilles_gene_effect_table_desc='''Pipeline: Achilles_Post-CERES_\n",
    "CERES data with principle components strongly related to known batch effects removed,\n",
    "then shifted and scaled per cell line so the median nonessential KO effect is 0 and \n",
    "the median essential KO effect is -1.\n",
    "'''\n",
    "achilles_gene_effect_long_format=CRISPRPreprocess(achilles_gene_effect, 'Gene_Effect')\n",
    "achilles_gene_effect_table_name=\"Achilles_gene_effect\"\n",
    "achilles_gene_effect_dict=achilles_gene_effect_annotation.to_dict('records')\n",
    "CreateTable(client, achilles_gene_effect_long_format, dataset_name, achilles_gene_effect_table_name, project_id, achilles_gene_effect_table_desc, achilles_gene_effect_dict)\n",
    "\n"
   ]
  },
  {
   "cell_type": "code",
   "execution_count": null,
   "metadata": {},
   "outputs": [],
   "source": []
  }
 ],
 "metadata": {
  "kernelspec": {
   "display_name": "Python 3",
   "language": "python",
   "name": "python3"
  },
  "language_info": {
   "codemirror_mode": {
    "name": "ipython",
    "version": 3
   },
   "file_extension": ".py",
   "mimetype": "text/x-python",
   "name": "python",
   "nbconvert_exporter": "python",
   "pygments_lexer": "ipython3",
   "version": "3.7.6"
  }
 },
 "nbformat": 4,
 "nbformat_minor": 4
}
