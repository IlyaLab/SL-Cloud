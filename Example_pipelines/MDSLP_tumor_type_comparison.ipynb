{
 "cells": [
  {
   "cell_type": "markdown",
   "id": "d468201b",
   "metadata": {},
   "source": [
    "### Title: Mutation dependent synthetic lethyal pipeline -- tumor type comparison\n",
    "<font color='blue'> Author:</font>  Guangrong Qin<br/>\n",
    "\n",
    "<font color='blue'> Contact:</font>  gqin@systemsbiology.org<br/>\n",
    "\n",
    "<font color='blue'> Description:</font> This notebook is used to answer which gene knockout or gene knockdown  show sensitivity to certain gene mutation or the mutation of a group of genes in different tumor types <br/>\n",
    "\n",
    "<font color='blue'>Citations:</font> The functional screening data and omics data for cell lines is from the Depmap and CCLE project from the Broad institute (DepMap Public 20Q3). To use this jupyter notebook and the data which are used in the jupyter notebook, Please cite the following papers<br/>\n",
    "\n",
    "Bahar Tercan, Guangrong Qin, Taek-Kyun Kim, Boris Aguilar, Christopher J. Kemp, Nyasha Chambwe, Ilya Shmulevich. SL-Cloud: A Computational Resource to Support Synthetic Lethal Interaction Discovery. BioRxiv 2021.09.18.459450; doi: https://doi.org/10.1101/2021.09.18.459450\n",
    "\n",
    "For this DepMap release:\n",
    "DepMap, Broad (2020): DepMap 20Q3 Public. figshare. Dataset doi:10.6084/m9.figshare.11791698.v2.\n",
    "\n",
    "For CRISPR datasets:\n",
    "Robin M. Meyers, Jordan G. Bryan, James M. McFarland, Barbara A. Weir, ... David E. Root, William C. Hahn, Aviad Tsherniak. Computational correction of copy number effect improves specificity of CRISPR-Cas9 essentiality screens in cancer cells. Nature Genetics 2017 October 49:1779–1784. doi:10.1038/ng.3984. PMID: 29083409\n",
    "\n",
    "Dempster, J. M., Rossen, J., Kazachkova, M., Pan, J., Kugener, G., Root, D. E., & Tsherniak, A. (2019). Extracting Biological Insights from the Project Achilles Genome-Scale CRISPR Screens in Cancer Cell Lines. BioRxiv, 720243.\n",
    "\n",
    "For omics datasets:\n",
    "Mahmoud Ghandi, Franklin W. Huang, Judit Jané-Valbuena, Gregory V. Kryukov, ... Todd R. Golub, Levi A. Garraway & William R. Sellers. 2019. Next-generation characterization of the Cancer Cell Line Encyclopedia. Nature 569, 503–508 (2019).PMID: 31068700\n"
   ]
  },
  {
   "cell_type": "code",
   "execution_count": 1,
   "id": "88451607",
   "metadata": {},
   "outputs": [
    {
     "name": "stdout",
     "output_type": "stream",
     "text": [
      "module 'google-cloud-bigquery' is installed\n",
      "module 'ipywidgets' is installed\n",
      "module 'pyarrow' is installed\n",
      "module 'pandas' is installed\n",
      "module 'numpy' is installed\n",
      "module 'scipy' is installed\n",
      "module 'statsmodels' is installed\n"
     ]
    }
   ],
   "source": [
    "#Check the required libraries\n",
    "try:\n",
    "    from google.cloud import bigquery\n",
    "    print(\"module 'google-cloud-bigquery' is installed\")\n",
    "except ModuleNotFoundError:\n",
    "    !pip install google-cloud-bigquery\n",
    "    from google.cloud import bigquery\n",
    "\n",
    "try:\n",
    "    import ipywidgets as widgets\n",
    "    print(\"module 'ipywidgets' is installed\")\n",
    "except ModuleNotFoundError:\n",
    "    !pip install ipywidgets\n",
    "    import ipywidgets as widgets\n",
    "\n",
    "try:\n",
    "    import pyarrow\n",
    "    print(\"module 'pyarrow' is installed\")\n",
    "except ModuleNotFoundError:\n",
    "    !pip install pyarrow\n",
    "    import pyarrow\n",
    "\n",
    "try:\n",
    "    import pandas as pd\n",
    "    print(\"module 'pandas' is installed\")\n",
    "except ModuleNotFoundError:\n",
    "    !pip install pandas\n",
    "    import pandas as pd\n",
    "\n",
    "try:\n",
    "    import numpy as np\n",
    "    print(\"module 'numpy' is installed\")\n",
    "except ModuleNotFoundError:\n",
    "    !pip install numpy\n",
    "    import numpy as np\n",
    "\n",
    "try:\n",
    "    from scipy import stats    \n",
    "    print(\"module 'scipy' is installed\")\n",
    "except ModuleNotFoundError:\n",
    "    !pip install scipy\n",
    "    from scipy import stats    \n",
    "\n",
    "try:\n",
    "    import statsmodels.stats.multitest as multi   \n",
    "    print(\"module 'statsmodels' is installed\")\n",
    "except ModuleNotFoundError:\n",
    "    !pip install statsmodels\n",
    "    import statsmodels.stats.multitest as multi\n",
    "\n",
    "try:\n",
    "    import seaborn as sns\n",
    "    print(\"module 'seaborn' is installed\")\n",
    "except ModuleNotFoundError:\n",
    "    !pip install seaborn\n",
    "    import seaborn as sns\n",
    "    \n",
    "\n",
    "try:\n",
    "    import matplotlib.pyplot as plt\n",
    "    print(\"module 'matplotlib' is installed\")\n",
    "except ModuleNotFoundError:\n",
    "    !pip install matplotlib\n",
    "    import matplotlib.pyplot as plt\n",
    "            \n",
    "import sys\n",
    "sys.path.append('../Scripts/')\n",
    "import MDSLP"
   ]
  },
  {
   "cell_type": "code",
   "execution_count": 2,
   "id": "2c6dba2e",
   "metadata": {},
   "outputs": [
    {
     "name": "stdout",
     "output_type": "stream",
     "text": [
      "Your browser has been opened to visit:\n",
      "\n",
      "    https://accounts.google.com/o/oauth2/auth?response_type=code&client_id=764086051850-6qr4p6gpi6hn506pt8ejuq83di341hur.apps.googleusercontent.com&redirect_uri=http%3A%2F%2Flocalhost%3A8085%2F&scope=openid+https%3A%2F%2Fwww.googleapis.com%2Fauth%2Fuserinfo.email+https%3A%2F%2Fwww.googleapis.com%2Fauth%2Fcloud-platform+https%3A%2F%2Fwww.googleapis.com%2Fauth%2Faccounts.reauth&state=nqVHcmhdAF8HeCWbk5FH93R0tpP8A5&access_type=offline&code_challenge=nwp4MD7bmPVS8xh-MumVb5n9aRnZZPXsC1oCAltxltg&code_challenge_method=S256\n",
      "\n",
      "\n",
      "Credentials saved to file: [/Users/guangrong/.config/gcloud/application_default_credentials.json]\n",
      "\n",
      "These credentials will be used by any library that requests Application Default Credentials (ADC).\n",
      "\n",
      "Quota project \"isb-cgc-04-0002\" was added to ADC which can be used by Google client libraries for billing and quota. Note that some services may still bill the project owning the resource.\n"
     ]
    }
   ],
   "source": [
    "!gcloud auth application-default login"
   ]
  },
  {
   "cell_type": "code",
   "execution_count": 3,
   "id": "4891151c",
   "metadata": {},
   "outputs": [],
   "source": [
    "# Users need to a google cloud project to query the data in the BigQuery tables. \n",
    "project_id='syntheticlethality' #users need to have their own google project to query the datasets on ISB-CGC\n",
    "client = bigquery.Client(project_id)"
   ]
  },
  {
   "cell_type": "code",
   "execution_count": 4,
   "id": "384c202d",
   "metadata": {},
   "outputs": [
    {
     "name": "stdout",
     "output_type": "stream",
     "text": [
      "Unnamed: 0\n",
      "AZ521_STOMACH\n",
      "GISTT1_GASTROINTESTINAL_TRACT\n",
      "MB157_BREAST\n",
      "SW527_BREAST\n"
     ]
    }
   ],
   "source": [
    "#This step may take a little bit longer time\n",
    "Mut_mat = MDSLP.get_ccle_mutation_data(project_id) # Get mutation table for the ccle cell lines (version: Depmap 20Q3)\n",
    "Demeter_data = MDSLP.get_demeter_shRNA_data(project_id) # Get shRNA-based gene knockdown effects from the Depmap project (Demeter2)\n",
    "Depmap_matrix = MDSLP.get_depmap_crispr_data(project_id) #Get the CRISPR-based gene knockout effects from the Depmap project (version: Depmap 20Q3) "
   ]
  },
  {
   "cell_type": "code",
   "execution_count": 5,
   "id": "c5c7e8e5",
   "metadata": {},
   "outputs": [],
   "source": [
    "Data_source = \"shRNA\" # only two options are avaiable, \"shRNA\" or \"Crispr\", datatype: string\n",
    "Gene_list = ['BRCA2'] # data type: list of gene symbols\n"
   ]
  },
  {
   "cell_type": "code",
   "execution_count": 6,
   "id": "cf2fc3cf",
   "metadata": {},
   "outputs": [],
   "source": [
    "# ID mapping between the CCLE annotation and input gene symbols\n",
    "id_mapping, Gene_list_matched = MDSLP.GeneSymbol_standardization(Gene_list,project_id)\n"
   ]
  },
  {
   "cell_type": "code",
   "execution_count": 7,
   "id": "b4d1e30e",
   "metadata": {},
   "outputs": [
    {
     "name": "stderr",
     "output_type": "stream",
     "text": [
      "/var/folders/w1/p1v0w3j165ggfdk4xpn0tzgh0000gp/T/ipykernel_69219/2719120962.py:14: DeprecationWarning: NotImplemented should not be used in a boolean context\n",
      "  TCGA_list = list(Not_none_values)\n"
     ]
    },
    {
     "data": {
      "application/vnd.jupyter.widget-view+json": {
       "model_id": "d14468f79b11496494cbd2af1aa21be1",
       "version_major": 2,
       "version_minor": 0
      },
      "text/plain": [
       "SelectMultiple(description='Tumor type', options=('pancancer', 'Colon/Colorectal Cancer', 'Kidney Cancer', 'Le…"
      ]
     },
     "metadata": {},
     "output_type": "display_data"
    }
   ],
   "source": [
    "#### Selection of tumor types for comparison\n",
    "query = ''' \n",
    "SELECT DepMap_ID, primary_disease,TCGA_subtype\n",
    "FROM `syntheticlethality.DepMap_public_20Q3.sample_info_Depmap_withTCGA_labels` \n",
    "'''\n",
    "sample_info = client.query(query).result().to_dataframe()\n",
    "\n",
    "pancancer_cls = sample_info.loc[~sample_info['primary_disease'].isin(['Non-Cancerous','Unknown','Engineered','Immortalized'])]\n",
    "pancancer_cls = pancancer_cls.loc[~(pancancer_cls['primary_disease'].isna())]\n",
    "\n",
    "TCGA_list = [x for x in list(set(pancancer_cls['primary_disease'])) if x == x]\n",
    "\n",
    "Not_none_values = filter(None.__ne__, TCGA_list)\n",
    "TCGA_list = list(Not_none_values)\n",
    "\n",
    "tumor_type = widgets.SelectMultiple(\n",
    "    options=['pancancer'] + TCGA_list  ,\n",
    "    value=[],\n",
    "    description='Tumor type',\n",
    "    disabled=False\n",
    ")\n",
    "display(tumor_type)"
   ]
  },
  {
   "cell_type": "code",
   "execution_count": 15,
   "id": "2e766afd",
   "metadata": {},
   "outputs": [
    {
     "name": "stdout",
     "output_type": "stream",
     "text": [
      "pancancer\n"
     ]
    },
    {
     "name": "stderr",
     "output_type": "stream",
     "text": [
      "/Users/guangrong/Documents/GitHub_project/SL-Cloud/Example_pipelines/../Scripts/MDSLP.py:283: FutureWarning: Passing a set as an indexer is deprecated and will raise in a future version. Use a list instead.\n",
      "  Depmap_matrix_sele = Depmap_matrix.loc[Samples_with_mut_kd,:].transpose()\n"
     ]
    },
    {
     "name": "stdout",
     "output_type": "stream",
     "text": [
      "Gene mutated: ARID1A\n",
      "Number of samples with mutation: 152\n",
      "Leukemia\n"
     ]
    },
    {
     "name": "stderr",
     "output_type": "stream",
     "text": [
      "/Users/guangrong/Documents/GitHub_project/SL-Cloud/Example_pipelines/../Scripts/MDSLP.py:283: FutureWarning: Passing a set as an indexer is deprecated and will raise in a future version. Use a list instead.\n",
      "  Depmap_matrix_sele = Depmap_matrix.loc[Samples_with_mut_kd,:].transpose()\n"
     ]
    },
    {
     "name": "stdout",
     "output_type": "stream",
     "text": [
      "Gene mutated: ARID1A\n",
      "Number of samples with mutation: 3\n"
     ]
    }
   ],
   "source": [
    "#Test whether two genes are SL pairs in different tumor types using the shRNA dataset\n",
    "Gene_list = ['ARID1A'] #Genes mutated\n",
    "pan_cancer_result =  pd.DataFrame()\n",
    "for tumor in list(tumor_type.value):\n",
    "    print(tumor)\n",
    "    Data_source = \"shRNA\"\n",
    "    if Data_source == \"shRNA\":\n",
    "        result_shRNA = MDSLP.Mutational_based_SL_pipeline([tumor], Gene_list, Mut_mat, Demeter_data, Data_source,project_id)\n",
    "        if result_shRNA.shape[0] > 0:\n",
    "            result_shRNA_ARID1B = result_shRNA.loc[result_shRNA['Gene_kd_symbol'] =='ARID1B'] #Genes being knockdown\n",
    "            pan_cancer_result = pd.concat([pan_cancer_result, result_shRNA_ARID1B])"
   ]
  },
  {
   "cell_type": "code",
   "execution_count": 16,
   "id": "6f277147",
   "metadata": {},
   "outputs": [],
   "source": [
    "pan_cancer_result['source']=['MDSLP-shRNA']*pan_cancer_result.shape[0]"
   ]
  },
  {
   "cell_type": "code",
   "execution_count": 17,
   "id": "5ca21347",
   "metadata": {},
   "outputs": [
    {
     "data": {
      "text/html": [
       "<div>\n",
       "<style scoped>\n",
       "    .dataframe tbody tr th:only-of-type {\n",
       "        vertical-align: middle;\n",
       "    }\n",
       "\n",
       "    .dataframe tbody tr th {\n",
       "        vertical-align: top;\n",
       "    }\n",
       "\n",
       "    .dataframe thead th {\n",
       "        text-align: right;\n",
       "    }\n",
       "</style>\n",
       "<table border=\"1\" class=\"dataframe\">\n",
       "  <thead>\n",
       "    <tr style=\"text-align: right;\">\n",
       "      <th></th>\n",
       "      <th>Gene_mut</th>\n",
       "      <th>Gene_mut_symbol</th>\n",
       "      <th>Gene_kd</th>\n",
       "      <th>Gene_kd_symbol</th>\n",
       "      <th>Mutated_samples</th>\n",
       "      <th>pvalue</th>\n",
       "      <th>ES</th>\n",
       "      <th>FDR_by_gene</th>\n",
       "      <th>FDR_all_exp</th>\n",
       "      <th>Tumor_type</th>\n",
       "      <th>source</th>\n",
       "    </tr>\n",
       "  </thead>\n",
       "  <tbody>\n",
       "    <tr>\n",
       "      <th>11632</th>\n",
       "      <td>ARID1A</td>\n",
       "      <td>ARID1A</td>\n",
       "      <td>ARID1B</td>\n",
       "      <td>ARID1B</td>\n",
       "      <td>152</td>\n",
       "      <td>5.695207e-25</td>\n",
       "      <td>-0.981864</td>\n",
       "      <td>9.850430e-21</td>\n",
       "      <td>9.850430e-21</td>\n",
       "      <td>pancancer</td>\n",
       "      <td>MDSLP-shRNA</td>\n",
       "    </tr>\n",
       "  </tbody>\n",
       "</table>\n",
       "</div>"
      ],
      "text/plain": [
       "      Gene_mut Gene_mut_symbol Gene_kd Gene_kd_symbol  Mutated_samples  \\\n",
       "11632   ARID1A          ARID1A  ARID1B         ARID1B              152   \n",
       "\n",
       "             pvalue        ES   FDR_by_gene   FDR_all_exp Tumor_type  \\\n",
       "11632  5.695207e-25 -0.981864  9.850430e-21  9.850430e-21  pancancer   \n",
       "\n",
       "            source  \n",
       "11632  MDSLP-shRNA  "
      ]
     },
     "execution_count": 17,
     "metadata": {},
     "output_type": "execute_result"
    }
   ],
   "source": [
    "pan_cancer_result"
   ]
  },
  {
   "cell_type": "code",
   "execution_count": 18,
   "id": "303028a3",
   "metadata": {},
   "outputs": [
    {
     "name": "stdout",
     "output_type": "stream",
     "text": [
      "pancancer\n"
     ]
    },
    {
     "name": "stderr",
     "output_type": "stream",
     "text": [
      "/Users/guangrong/Documents/GitHub_project/SL-Cloud/Example_pipelines/../Scripts/MDSLP.py:283: FutureWarning: Passing a set as an indexer is deprecated and will raise in a future version. Use a list instead.\n",
      "  Depmap_matrix_sele = Depmap_matrix.loc[Samples_with_mut_kd,:].transpose()\n"
     ]
    },
    {
     "name": "stdout",
     "output_type": "stream",
     "text": [
      "Gene mutated: ARID1A\n",
      "Number of samples with mutation: 172\n",
      "Leukemia\n"
     ]
    },
    {
     "name": "stderr",
     "output_type": "stream",
     "text": [
      "/Users/guangrong/Documents/GitHub_project/SL-Cloud/Example_pipelines/../Scripts/MDSLP.py:283: FutureWarning: Passing a set as an indexer is deprecated and will raise in a future version. Use a list instead.\n",
      "  Depmap_matrix_sele = Depmap_matrix.loc[Samples_with_mut_kd,:].transpose()\n"
     ]
    },
    {
     "name": "stdout",
     "output_type": "stream",
     "text": [
      "Gene mutated: ARID1A\n",
      "Number of samples with mutation: 10\n"
     ]
    }
   ],
   "source": [
    "#Test whether two genes are SL pairs in different tumor types using the CRISPR dataset\n",
    "\n",
    "Gene_list = ['ARID1A'] #Genes mutated\n",
    "pan_cancer_result_crispr =  pd.DataFrame()\n",
    "for tumor in list(tumor_type.value):\n",
    "    print(tumor)\n",
    "    Data_source = \"Crispr\"\n",
    "    if Data_source == \"Crispr\":\n",
    "        result_crispr = MDSLP.Mutational_based_SL_pipeline([tumor], Gene_list, Mut_mat, Depmap_matrix, Data_source,project_id)\n",
    "        if result_crispr.shape[0] > 0:\n",
    "            result_crispr_ARID1B = result_crispr.loc[result_crispr['Gene_kd_symbol'] =='ARID1B'] #Genes being knockout\n",
    "            pan_cancer_result_crispr = pd.concat([pan_cancer_result_crispr, result_crispr_ARID1B])\n",
    "            "
   ]
  },
  {
   "cell_type": "code",
   "execution_count": 19,
   "id": "f9764468",
   "metadata": {},
   "outputs": [],
   "source": [
    "pan_cancer_result_crispr['source']=['MDSLP-CRISPR']*pan_cancer_result_crispr.shape[0]"
   ]
  },
  {
   "cell_type": "code",
   "execution_count": 20,
   "id": "7856342a",
   "metadata": {},
   "outputs": [],
   "source": [
    "result = pd.concat([pan_cancer_result_crispr,pan_cancer_result])"
   ]
  },
  {
   "cell_type": "code",
   "execution_count": 21,
   "id": "7400a717",
   "metadata": {},
   "outputs": [],
   "source": [
    "result['-log(FDR)'] = -1 *np.log(result['FDR_all_exp'])"
   ]
  },
  {
   "cell_type": "code",
   "execution_count": 22,
   "id": "2fe91609",
   "metadata": {},
   "outputs": [
    {
     "data": {
      "text/html": [
       "<div>\n",
       "<style scoped>\n",
       "    .dataframe tbody tr th:only-of-type {\n",
       "        vertical-align: middle;\n",
       "    }\n",
       "\n",
       "    .dataframe tbody tr th {\n",
       "        vertical-align: top;\n",
       "    }\n",
       "\n",
       "    .dataframe thead th {\n",
       "        text-align: right;\n",
       "    }\n",
       "</style>\n",
       "<table border=\"1\" class=\"dataframe\">\n",
       "  <thead>\n",
       "    <tr style=\"text-align: right;\">\n",
       "      <th></th>\n",
       "      <th>Gene_mut</th>\n",
       "      <th>Gene_mut_symbol</th>\n",
       "      <th>Gene_kd</th>\n",
       "      <th>Gene_kd_symbol</th>\n",
       "      <th>Mutated_samples</th>\n",
       "      <th>pvalue</th>\n",
       "      <th>ES</th>\n",
       "      <th>FDR_by_gene</th>\n",
       "      <th>FDR_all_exp</th>\n",
       "      <th>Tumor_type</th>\n",
       "      <th>source</th>\n",
       "      <th>-log(FDR)</th>\n",
       "    </tr>\n",
       "  </thead>\n",
       "  <tbody>\n",
       "    <tr>\n",
       "      <th>965</th>\n",
       "      <td>ARID1A</td>\n",
       "      <td>ARID1A</td>\n",
       "      <td>ARID1B</td>\n",
       "      <td>ARID1B</td>\n",
       "      <td>169</td>\n",
       "      <td>6.025520e-25</td>\n",
       "      <td>-0.920789</td>\n",
       "      <td>1.091764e-20</td>\n",
       "      <td>1.091764e-20</td>\n",
       "      <td>pancancer</td>\n",
       "      <td>MDSLP-CRISPR</td>\n",
       "      <td>45.963907</td>\n",
       "    </tr>\n",
       "    <tr>\n",
       "      <th>965</th>\n",
       "      <td>ARID1A</td>\n",
       "      <td>ARID1A</td>\n",
       "      <td>ARID1B</td>\n",
       "      <td>ARID1B</td>\n",
       "      <td>10</td>\n",
       "      <td>3.474910e-02</td>\n",
       "      <td>-0.788030</td>\n",
       "      <td>2.451776e-01</td>\n",
       "      <td>2.451776e-01</td>\n",
       "      <td>Leukemia</td>\n",
       "      <td>MDSLP-CRISPR</td>\n",
       "      <td>1.405773</td>\n",
       "    </tr>\n",
       "    <tr>\n",
       "      <th>11632</th>\n",
       "      <td>ARID1A</td>\n",
       "      <td>ARID1A</td>\n",
       "      <td>ARID1B</td>\n",
       "      <td>ARID1B</td>\n",
       "      <td>152</td>\n",
       "      <td>5.695207e-25</td>\n",
       "      <td>-0.981864</td>\n",
       "      <td>9.850430e-21</td>\n",
       "      <td>9.850430e-21</td>\n",
       "      <td>pancancer</td>\n",
       "      <td>MDSLP-shRNA</td>\n",
       "      <td>46.066772</td>\n",
       "    </tr>\n",
       "  </tbody>\n",
       "</table>\n",
       "</div>"
      ],
      "text/plain": [
       "      Gene_mut Gene_mut_symbol Gene_kd Gene_kd_symbol  Mutated_samples  \\\n",
       "965     ARID1A          ARID1A  ARID1B         ARID1B              169   \n",
       "965     ARID1A          ARID1A  ARID1B         ARID1B               10   \n",
       "11632   ARID1A          ARID1A  ARID1B         ARID1B              152   \n",
       "\n",
       "             pvalue        ES   FDR_by_gene   FDR_all_exp Tumor_type  \\\n",
       "965    6.025520e-25 -0.920789  1.091764e-20  1.091764e-20  pancancer   \n",
       "965    3.474910e-02 -0.788030  2.451776e-01  2.451776e-01   Leukemia   \n",
       "11632  5.695207e-25 -0.981864  9.850430e-21  9.850430e-21  pancancer   \n",
       "\n",
       "             source  -log(FDR)  \n",
       "965    MDSLP-CRISPR  45.963907  \n",
       "965    MDSLP-CRISPR   1.405773  \n",
       "11632   MDSLP-shRNA  46.066772  "
      ]
     },
     "execution_count": 22,
     "metadata": {},
     "output_type": "execute_result"
    }
   ],
   "source": [
    "result"
   ]
  },
  {
   "cell_type": "code",
   "execution_count": 23,
   "id": "2381e7a4",
   "metadata": {},
   "outputs": [],
   "source": [
    "#result.to_csv(\"tumor_specific_analysis_ARID1A_ARID1B.csv\") output to a file"
   ]
  },
  {
   "cell_type": "code",
   "execution_count": 24,
   "id": "807b6abf",
   "metadata": {},
   "outputs": [
    {
     "data": {
      "text/plain": [
       "<matplotlib.legend.Legend at 0x14b5cf130>"
      ]
     },
     "execution_count": 24,
     "metadata": {},
     "output_type": "execute_result"
    },
    {
     "data": {
      "image/png": "[encoded data removed]",
      "text/plain": [
       "<Figure size 1200x1200 with 1 Axes>"
      ]
     },
     "metadata": {
      "needs_background": "light"
     },
     "output_type": "display_data"
    }
   ],
   "source": [
    "#Plot the results of the gene pairs in different tumor types. Effect size is shown in the figure below.\n",
    "\n",
    "import seaborn as sns\n",
    "import matplotlib.pyplot as plt\n",
    "plt.figure(figsize = [4,4], dpi = 300)\n",
    "\n",
    "clrs = []\n",
    "for x in range(0,int(result.shape[0]/2)):\n",
    "    clrs.append('#5477b4')\n",
    "    clrs.append('#dc895a')\n",
    "\n",
    "ax = sns.barplot(x=\"ES\", y=\"Tumor_type\", hue=\"source\",data=result,\n",
    "                 orient = 'h', \n",
    "                 palette = clrs)\n",
    "\n",
    "plt.setp(ax.get_legend().get_texts(), fontsize='8') # for legend text\n",
    "ax.set_xlabel('Effect size (Mut - WT)', fontsize=14)\n",
    "ax.set_ylabel('', fontsize=0)\n",
    "ax.set(xlim=(-2, 0))\n",
    "plt.legend(loc='lower left')\n"
   ]
  },
  {
   "cell_type": "code",
   "execution_count": 25,
   "id": "6d970a2a",
   "metadata": {},
   "outputs": [
    {
     "data": {
      "text/plain": [
       "[<matplotlib.lines.Line2D at 0x1431bfe80>]"
      ]
     },
     "execution_count": 25,
     "metadata": {},
     "output_type": "execute_result"
    },
    {
     "data": {
      "image/png": "[encoded data removed]",
      "text/plain": [
       "<Figure size 1200x1200 with 1 Axes>"
      ]
     },
     "metadata": {
      "needs_background": "light"
     },
     "output_type": "display_data"
    }
   ],
   "source": [
    "#Plot the results of the gene pairs in different tumor types. negative log-transformed FDR is shown in the figure below.\n",
    "clrs = []\n",
    "for x in range(0,int(result.shape[0]/2)):\n",
    "    clrs.append('#5477b4')\n",
    "    clrs.append('#dc895a')\n",
    "    \n",
    "plt.figure(figsize = [4,4], dpi = 300)\n",
    "ax1 = sns.barplot(x=\"-log(FDR)\", y=\"Tumor_type\", hue=\"source\",\n",
    "                  data=result,\n",
    "                  orient = 'h' ,\n",
    "                 \n",
    "                  palette = clrs)\n",
    "plt.setp(ax1.get_legend().get_texts(), fontsize='8') # for legend text\n",
    "ax1.set_xlabel('Statistical Significance', fontsize=14) #-1 * log (FDR)\n",
    "ax1.set_ylabel('', fontsize=0) #ignore the y axis label\n",
    "plt.legend(loc='lower right')\n",
    "\n",
    "plt.plot([1.301029996, 1.301029996], [0, int(result.shape[0]/2)], 'k-', lw=0.5) # Plot the significance threshold 1.301029996 = -log(0.05)\n"
   ]
  },
  {
   "cell_type": "code",
   "execution_count": 26,
   "id": "05f66c2f",
   "metadata": {},
   "outputs": [
    {
     "data": {
      "text/html": [
       "<div>\n",
       "<style scoped>\n",
       "    .dataframe tbody tr th:only-of-type {\n",
       "        vertical-align: middle;\n",
       "    }\n",
       "\n",
       "    .dataframe tbody tr th {\n",
       "        vertical-align: top;\n",
       "    }\n",
       "\n",
       "    .dataframe thead th {\n",
       "        text-align: right;\n",
       "    }\n",
       "</style>\n",
       "<table border=\"1\" class=\"dataframe\">\n",
       "  <thead>\n",
       "    <tr style=\"text-align: right;\">\n",
       "      <th></th>\n",
       "      <th>Gene_mut</th>\n",
       "      <th>Gene_mut_symbol</th>\n",
       "      <th>Gene_kd</th>\n",
       "      <th>Gene_kd_symbol</th>\n",
       "      <th>Mutated_samples</th>\n",
       "      <th>pvalue</th>\n",
       "      <th>ES</th>\n",
       "      <th>FDR_by_gene</th>\n",
       "      <th>FDR_all_exp</th>\n",
       "      <th>Tumor_type</th>\n",
       "      <th>source</th>\n",
       "      <th>-log(FDR)</th>\n",
       "    </tr>\n",
       "  </thead>\n",
       "  <tbody>\n",
       "    <tr>\n",
       "      <th>965</th>\n",
       "      <td>ARID1A</td>\n",
       "      <td>ARID1A</td>\n",
       "      <td>ARID1B</td>\n",
       "      <td>ARID1B</td>\n",
       "      <td>169</td>\n",
       "      <td>6.025520e-25</td>\n",
       "      <td>-0.920789</td>\n",
       "      <td>1.091764e-20</td>\n",
       "      <td>1.091764e-20</td>\n",
       "      <td>pancancer</td>\n",
       "      <td>MDSLP-CRISPR</td>\n",
       "      <td>45.963907</td>\n",
       "    </tr>\n",
       "    <tr>\n",
       "      <th>965</th>\n",
       "      <td>ARID1A</td>\n",
       "      <td>ARID1A</td>\n",
       "      <td>ARID1B</td>\n",
       "      <td>ARID1B</td>\n",
       "      <td>10</td>\n",
       "      <td>3.474910e-02</td>\n",
       "      <td>-0.788030</td>\n",
       "      <td>2.451776e-01</td>\n",
       "      <td>2.451776e-01</td>\n",
       "      <td>Leukemia</td>\n",
       "      <td>MDSLP-CRISPR</td>\n",
       "      <td>1.405773</td>\n",
       "    </tr>\n",
       "  </tbody>\n",
       "</table>\n",
       "</div>"
      ],
      "text/plain": [
       "    Gene_mut Gene_mut_symbol Gene_kd Gene_kd_symbol  Mutated_samples  \\\n",
       "965   ARID1A          ARID1A  ARID1B         ARID1B              169   \n",
       "965   ARID1A          ARID1A  ARID1B         ARID1B               10   \n",
       "\n",
       "           pvalue        ES   FDR_by_gene   FDR_all_exp Tumor_type  \\\n",
       "965  6.025520e-25 -0.920789  1.091764e-20  1.091764e-20  pancancer   \n",
       "965  3.474910e-02 -0.788030  2.451776e-01  2.451776e-01   Leukemia   \n",
       "\n",
       "           source  -log(FDR)  \n",
       "965  MDSLP-CRISPR  45.963907  \n",
       "965  MDSLP-CRISPR   1.405773  "
      ]
     },
     "execution_count": 26,
     "metadata": {},
     "output_type": "execute_result"
    }
   ],
   "source": [
    "result.loc[result['source'] == 'MDSLP-CRISPR'].sort_values(by = ['FDR_all_exp'])"
   ]
  },
  {
   "cell_type": "code",
   "execution_count": null,
   "id": "640da432",
   "metadata": {},
   "outputs": [],
   "source": [
    "## End analysis"
   ]
  }
 ],
 "metadata": {
  "kernelspec": {
   "display_name": "Python 3 (ipykernel)",
   "language": "python",
   "name": "python3"
  },
  "language_info": {
   "codemirror_mode": {
    "name": "ipython",
    "version": 3
   },
   "file_extension": ".py",
   "mimetype": "text/x-python",
   "name": "python",
   "nbconvert_exporter": "python",
   "pygments_lexer": "ipython3",
   "version": "3.10.0"
  }
 },
 "nbformat": 4,
 "nbformat_minor": 5
}
