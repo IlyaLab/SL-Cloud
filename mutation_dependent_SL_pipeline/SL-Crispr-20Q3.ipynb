{
 "cells": [
  {
   "cell_type": "markdown",
   "metadata": {},
   "source": [
    "### About this notebook: \n",
    "<font color='grey'>This notebook is used to answer </font><font color='red'>which gene knockout</font> show sensitivity to <font color='red'> certain gene mutation or the mutation of a group of genes.</font> <br/>\n",
    "\n",
    "<font color='blue'>The functional screening data and omics data for cell lines is from the Depmap and CCLE project from the Broad institute (DepMap Public 20Q3). To use this jupyter notebook and the data which are used in the jupyter notebook, Please cite the following papers</font> <br/>\n",
    "\n",
    "....our paper\n",
    "\n",
    "For this DepMap release:\n",
    "DepMap, Broad (2020): DepMap 20Q3 Public. figshare. Dataset doi:10.6084/m9.figshare.11791698.v2.\n",
    "\n",
    "For CRISPR datasets:\n",
    "Robin M. Meyers, Jordan G. Bryan, James M. McFarland, Barbara A. Weir, ... David E. Root, William C. Hahn, Aviad Tsherniak. Computational correction of copy number effect improves specificity of CRISPR-Cas9 essentiality screens in cancer cells. Nature Genetics 2017 October 49:1779–1784. doi:10.1038/ng.3984\n",
    "\n",
    "Dempster, J. M., Rossen, J., Kazachkova, M., Pan, J., Kugener, G., Root, D. E., & Tsherniak, A. (2019). Extracting Biological Insights from the Project Achilles Genome-Scale CRISPR Screens in Cancer Cell Lines. BioRxiv, 720243.\n",
    "\n",
    "For omics datasets:\n",
    "Mahmoud Ghandi, Franklin W. Huang, Judit Jané-Valbuena, Gregory V. Kryukov, ... Todd R. Golub, Levi A. Garraway & William R. Sellers. 2019. Next-generation characterization of the Cancer Cell Line Encyclopedia. Nature 569, 503–508 (2019).\n"
   ]
  },
  {
   "cell_type": "code",
   "execution_count": 2,
   "metadata": {},
   "outputs": [],
   "source": [
    "import sys\n",
    "sys.path.append('../scripts/')\n",
    "import SL\n",
    "import matplotlib.pyplot as plt\n",
    "import pandas as pd\n",
    "import scipy\n",
    "from scipy import stats \n",
    "import numpy as np\n",
    "import json\n",
    "import statsmodels.stats.multitest as multi\n",
    "import matplotlib.pyplot as plt\n",
    "import math\n",
    "import ipywidgets as widgets\n",
    "import plotly\n",
    "import plotly.express as px\n",
    "\n",
    "#from google.cloud import bigquery"
   ]
  },
  {
   "cell_type": "code",
   "execution_count": 14,
   "metadata": {},
   "outputs": [],
   "source": [
    "def Cohen_dist(x,y):\n",
    "\n",
    "    n1 = len(x)\n",
    "    n2 = len(y)\n",
    "    s = np.sqrt(((n1 - 1)*(np.std(x))*(np.std(x)) + (n2 - 1) * (np.std(y)) * (np.std(y))) / (n1 + n2 -2))\n",
    "    d = (np.mean(x) - np.mean(y)) / s\n",
    "    return(d)\n",
    " "
   ]
  },
  {
   "cell_type": "markdown",
   "metadata": {},
   "source": [
    "### Define the input directory and the output directory: \n",
    "<font color='grey'> \n",
    "    \"input_dir\": directory of input data<br/>\n",
    "    \"output_dir\":directory of output data<br/>\n",
    "</font>\n",
    "This section can be replaced with the Bigquery statements"
   ]
  },
  {
   "cell_type": "code",
   "execution_count": 3,
   "metadata": {},
   "outputs": [],
   "source": [
    "directories = {\"input_dir\":\"~/Documents/ISB/KG\",\n",
    "               \"output_dir\":\"../Output_SL/\"}\n",
    "\n",
    "input_data = {\n",
    "         \"input_mut\": \"Depmap_Crispr_data/20Q3/CCLE_mutations.csv\",\n",
    "         \"input_depmap\": \"Depmap_Crispr_data/20Q3/Achilles_gene_effect.csv\",\n",
    "         \"input_sample_info\": \"Depmap_Crispr_data/20Q3/sample_info_Depmap.csv\",\n",
    "        }"
   ]
  },
  {
   "cell_type": "markdown",
   "metadata": {},
   "source": [
    "### Read tables and convert to matrix"
   ]
  },
  {
   "cell_type": "code",
   "execution_count": 4,
   "metadata": {},
   "outputs": [
    {
     "name": "stderr",
     "output_type": "stream",
     "text": [
      "/Users/gloria/.pyenv/versions/3.7.7/envs/3.7.7-incov/lib/python3.7/site-packages/IPython/core/interactiveshell.py:3063: DtypeWarning: Columns (19,29,30) have mixed types.Specify dtype option on import or set low_memory=False.\n",
      "  interactivity=interactivity, compiler=compiler, result=result)\n"
     ]
    }
   ],
   "source": [
    "\n",
    "Mut_mat = pd.read_csv(directories['input_dir']+'/'+input_data['input_mut'], sep = '\\t') \n",
    "Depmap_matrix = pd.read_csv(directories['input_dir']+'/'+input_data['input_depmap'],sep = ',' , index_col = \"DepMap_ID\") \n",
    "sample_info = pd.read_csv(directories['input_dir']+'/'+input_data['input_sample_info'])\n",
    "\n"
   ]
  },
  {
   "cell_type": "markdown",
   "metadata": {},
   "source": [
    "#### Overview of the datasets\n",
    "The number of samples with mutation data is 1741;\n",
    "The number of samples with cripr data is 789;\n",
    "The number of samples with both cripr data and mutation data is 787;"
   ]
  },
  {
   "cell_type": "markdown",
   "metadata": {},
   "source": [
    "#### rename the gene names"
   ]
  },
  {
   "cell_type": "code",
   "execution_count": 5,
   "metadata": {},
   "outputs": [],
   "source": [
    "gene_names_old = list(Depmap_matrix.columns.values)\n",
    "gene_names_new = []\n",
    "for item in gene_names_old:\n",
    "    name = item.split(' (')[0]\n",
    "    gene_names_new.append(name)\n",
    "Depmap_matrix.columns = gene_names_new"
   ]
  },
  {
   "cell_type": "markdown",
   "metadata": {},
   "source": [
    "### Selection of variants"
   ]
  },
  {
   "cell_type": "code",
   "execution_count": 6,
   "metadata": {},
   "outputs": [
    {
     "name": "stdout",
     "output_type": "stream",
     "text": [
      "[nan, 'Frame_Shift_Del', 'Start_Codon_Ins', 'IGR', 'In_Frame_Ins', 'In_Frame_Del', 'Stop_Codon_Del', 'Missense_Mutation', 'Silent', 'De_novo_Start_OutOfFrame', 'Start_Codon_SNP', \"5'UTR\", 'Intron', \"3'UTR\", 'Nonsense_Mutation', 'Frame_Shift_Ins', \"5'Flank\", 'Splice_Site', 'Stop_Codon_Ins', 'Start_Codon_Del', 'Nonstop_Mutation']\n"
     ]
    }
   ],
   "source": [
    "print(list(set(Mut_mat['Variant_Classification'])))\n",
    "selected_variants = ['Splice_Site',\n",
    "                     'Frame_Shift_Del',\n",
    "                     'Frame_Shift_Ins',\n",
    "                     'Nonstop_Mutation',\n",
    "                     'In_Frame_Del',\n",
    "                     'In_Frame_Ins',\n",
    "                     'Missense_Mutation',\n",
    "                     'Nonsense_Mutation',\n",
    "                     'Nonstop_Mutation',\n",
    "                     'Start_Codon_Del',\n",
    "                     'Start_Codon_Ins',\n",
    "                     'Start_Codon_SNP',\n",
    "                     'Stop_Codon_Del',\n",
    "                     'Stop_Codon_Del',\n",
    "                     'Stop_Codon_Ins',\n",
    "                     'De_novo_Start_OutOfFrame']"
   ]
  },
  {
   "cell_type": "markdown",
   "metadata": {},
   "source": [
    "#### Selection of Cancerous cells"
   ]
  },
  {
   "cell_type": "code",
   "execution_count": 7,
   "metadata": {},
   "outputs": [],
   "source": [
    "pancancer_cls = (sample_info.loc[~sample_info['primary_disease'].isin(['Non-Cancerous','Unknown','Engineered','Immortalized'])])\n",
    "pancancer_cls = pancancer_cls.loc[~(pancancer_cls['primary_disease'].isna())]\n"
   ]
  },
  {
   "cell_type": "markdown",
   "metadata": {},
   "source": [
    "###  <font color='red'>Selection of tumor types.\n",
    "</font>\n",
    "\n"
   ]
  },
  {
   "cell_type": "code",
   "execution_count": 8,
   "metadata": {},
   "outputs": [
    {
     "data": {
      "application/vnd.jupyter.widget-view+json": {
       "model_id": "a9ba0cc57ea341a4bd0db30f8fa0346a",
       "version_major": 2,
       "version_minor": 0
      },
      "text/plain": [
       "SelectMultiple(description='Tumor type', options=('pancancer', 'GBM', 'PRAD', 'KIRC', 'ALL', 'OV', 'LIHC', 'SC…"
      ]
     },
     "metadata": {},
     "output_type": "display_data"
    }
   ],
   "source": [
    "TCGA_list = [x for x in list(set(pancancer_cls['TCGA_subtype'])) if x == x]\n",
    "\n",
    "w = widgets.SelectMultiple(\n",
    "    options=['pancancer'] + TCGA_list  ,\n",
    "    value=[],\n",
    "    description='Tumor type',\n",
    "    disabled=False\n",
    ")\n",
    "display(w)"
   ]
  },
  {
   "cell_type": "code",
   "execution_count": 9,
   "metadata": {},
   "outputs": [
    {
     "name": "stdout",
     "output_type": "stream",
     "text": [
      "TCGA tumor types selected are: \n",
      "['pancancer']\n",
      "No. of cell lines selected in the sample_info file is : 1740\n",
      "No. of cell lines selected is with both mutation and knockdown data is : 787\n"
     ]
    }
   ],
   "source": [
    "print(\"TCGA tumor types selected are: \")\n",
    "print(list(w.value))\n",
    "tumor_type = list(w.value)\n",
    "#print(\"tumor types selected are: \" + list(w.value))\n",
    "\n",
    "if tumor_type == ['pancancer']:\n",
    "    cl_sele = list(pancancer_cls['DepMap_ID'].values)\n",
    "\n",
    "else:\n",
    "    tumor_selected = tumor_type\n",
    "    cl_sele = sample_info.loc[sample_info['TCGA_subtype'].isin((tumor_selected))]['DepMap_ID']  \n",
    "    cl_sele = list(set(list(Depmap_matrix.index.values)).intersection(set(cl_sele)))\n",
    "print(\"No. of cell lines selected in the sample_info file is : \" + str(len(cl_sele)))\n",
    "\n",
    "Samples_with_mut_kd = set(Mut_mat['DepMap_ID']).intersection(cl_sele).intersection(set(Depmap_matrix.index.values))\n",
    "print(\"No. of cell lines selected is with both mutation and knockdown data is : \" + str(len(Samples_with_mut_kd)))"
   ]
  },
  {
   "cell_type": "code",
   "execution_count": 10,
   "metadata": {},
   "outputs": [],
   "source": [
    "Mut_mat_sele1 = Mut_mat.loc[Mut_mat['DepMap_ID'].isin(Samples_with_mut_kd)]\n",
    "Mut_mat_sele2 = Mut_mat_sele1.loc[Mut_mat_sele1['Variant_Classification'].isin(selected_variants)]"
   ]
  },
  {
   "cell_type": "markdown",
   "metadata": {},
   "source": [
    "#### Input mutated genes"
   ]
  },
  {
   "cell_type": "code",
   "execution_count": 11,
   "metadata": {},
   "outputs": [],
   "source": [
    "mut_gene = pd.read_csv(\"../Github_version/SyntheticLethality/data/CancerDriverGenes.csv\")\n",
    "mut_gene = list(mut_gene['HGNC_gene_symbol'])\n"
   ]
  },
  {
   "cell_type": "code",
   "execution_count": 12,
   "metadata": {},
   "outputs": [],
   "source": [
    "Mut_mat_sele3 = Mut_mat_sele2.loc[Mut_mat_sele2['Hugo_Symbol'].isin(mut_gene),['Hugo_Symbol','DepMap_ID']]\n",
    "Depmap_matrix_sele = Depmap_matrix.loc[Samples_with_mut_kd,:].transpose()"
   ]
  },
  {
   "cell_type": "markdown",
   "metadata": {},
   "source": [
    "#### T-test and effect size estimation between the mutated group and the wt-group"
   ]
  },
  {
   "cell_type": "code",
   "execution_count": 15,
   "metadata": {},
   "outputs": [
    {
     "name": "stdout",
     "output_type": "stream",
     "text": [
      "ABL1\n",
      "ACVR1\n",
      "ACVR1B\n",
      "ACVR2A\n",
      "AJUBA\n",
      "AKT1\n",
      "ALB\n",
      "ALK\n",
      "AMER1\n",
      "APC\n",
      "APOB\n",
      "AR\n",
      "ARAF\n",
      "ARHGAP35\n",
      "ARID1A\n",
      "ARID2\n",
      "ARID5B\n",
      "ASXL1\n",
      "ASXL2\n",
      "ATF7IP\n",
      "ATM\n",
      "ATR\n",
      "ATRX\n",
      "ATXN3\n",
      "AXIN1\n",
      "AXIN2\n",
      "B2M\n",
      "BAP1\n",
      "BCL2\n",
      "BCL2L11\n",
      "BCOR\n",
      "BRAF\n",
      "BRCA1\n",
      "BRCA2\n",
      "BRD7\n",
      "BTG2\n",
      "CACNA1A\n",
      "CARD11\n",
      "CASP8\n",
      "CBFB\n",
      "CBWD3\n",
      "CCND1\n",
      "CD70\n",
      "CD79B\n",
      "CDH1\n",
      "CDK12\n",
      "CDK4\n",
      "CDKN1A\n",
      "CDKN1B\n",
      "CDKN2A\n",
      "CDKN2C\n",
      "CEBPA\n",
      "CHD3\n",
      "CHD4\n",
      "CHD8\n",
      "CHEK2\n",
      "CIC\n",
      "CNBD1\n",
      "COL5A1\n",
      "CREB3L3\n",
      "CREBBP\n",
      "CSDE1\n",
      "CTCF\n",
      "CTNNB1\n",
      "CTNND1\n",
      "CUL1\n",
      "CUL3\n",
      "CYLD\n",
      "CYSLTR2\n",
      "DACH1\n",
      "DAZAP1\n",
      "DDX3X\n",
      "DHX9\n",
      "DIAPH2\n",
      "DICER1\n",
      "DMD\n",
      "DNMT3A\n",
      "EEF1A1\n",
      "EEF2\n",
      "EGFR\n",
      "EGR3\n",
      "EIF1AX\n",
      "ELF3\n",
      "EP300\n",
      "EPAS1\n",
      "EPHA2\n",
      "EPHA3\n",
      "ERBB2\n",
      "ERBB3\n",
      "ERBB4\n",
      "ERCC2\n",
      "ESR1\n",
      "EZH2\n",
      "FAM46D\n",
      "FAT1\n",
      "FBXW7\n",
      "FGFR1\n",
      "FGFR2\n",
      "FGFR3\n",
      "FLNA\n",
      "FLT3\n",
      "FOXA1\n",
      "FOXA2\n",
      "FOXQ1\n",
      "FUBP1\n",
      "GABRA6\n",
      "GATA3\n",
      "GNA11\n",
      "GNA13\n",
      "GNAQ\n",
      "GNAS\n",
      "GPS2\n",
      "GRIN2D\n",
      "GTF2I\n",
      "H3F3A\n",
      "H3F3C\n",
      "HGF\n",
      "HIST1H1C\n",
      "HIST1H1E\n",
      "HLA-A\n",
      "HLA-B\n",
      "HRAS\n",
      "HUWE1\n",
      "IDH1\n",
      "IDH2\n",
      "IL6ST\n",
      "IL7R\n",
      "INPPL1\n",
      "IRF2\n",
      "IRF6\n",
      "JAK1\n",
      "JAK2\n",
      "JAK3\n",
      "KANSL1\n",
      "KDM5C\n",
      "KDM6A\n",
      "KEAP1\n",
      "KEL\n",
      "KIF1A\n",
      "KIT\n",
      "KLF5\n",
      "KMT2A\n",
      "KMT2B\n",
      "KMT2C\n",
      "KMT2D\n",
      "KRAS\n",
      "KRT222\n",
      "LATS1\n",
      "LATS2\n",
      "LEMD2\n",
      "LZTR1\n",
      "MACF1\n",
      "MAP2K1\n",
      "MAP2K4\n",
      "MAP3K1\n",
      "MAP3K4\n",
      "MAPK1\n",
      "MAX\n",
      "MECOM\n",
      "MED12\n",
      "MEN1\n",
      "MET\n",
      "MGA\n",
      "MGMT\n",
      "MLH1\n",
      "MSH2\n",
      "MSH3\n",
      "MSH6\n",
      "MTOR\n",
      "MUC6\n",
      "MYC\n",
      "MYCN\n",
      "MYD88\n",
      "MYH9\n",
      "NCOR1\n",
      "NF1\n",
      "NF2\n",
      "NFE2L2\n",
      "NIPBL\n",
      "NOTCH1\n",
      "NOTCH2\n",
      "NPM1\n",
      "NRAS\n",
      "NSD1\n",
      "NUP133\n",
      "NUP93\n",
      "PAX5\n",
      "PBRM1\n",
      "PCBP1\n",
      "PDGFRA\n",
      "PDS5B\n",
      "PGR\n",
      "PHF6\n",
      "PIK3CA\n",
      "PIK3CB\n",
      "PIK3CG\n",
      "PIK3R1\n",
      "PIK3R2\n",
      "PIM1\n",
      "PLCB4\n",
      "PLCG1\n",
      "PLXNB2\n",
      "PMS1\n",
      "PMS2\n",
      "POLE\n",
      "POLQ\n",
      "POLRMT\n",
      "PPM1D\n",
      "PPP2R1A\n",
      "PPP6C\n",
      "PRKAR1A\n",
      "PSIP1\n",
      "PTCH1\n",
      "PTEN\n",
      "PTMA\n",
      "PTPDC1\n",
      "PTPN11\n",
      "PTPRC\n",
      "PTPRD\n",
      "RAC1\n",
      "RAD21\n",
      "RAF1\n",
      "RARA\n",
      "RASA1\n",
      "RB1\n",
      "RBM10\n",
      "RET\n",
      "RFC1\n",
      "RHEB\n",
      "RHOA\n",
      "RHOB\n",
      "RIT1\n",
      "RNF111\n",
      "RNF43\n",
      "RPL22\n",
      "RPL5\n",
      "RPS6KA3\n",
      "RQCD1\n",
      "RRAS2\n",
      "RUNX1\n",
      "RXRA\n",
      "SCAF4\n",
      "SETBP1\n",
      "SETD2\n",
      "SF1\n",
      "SF3B1\n",
      "SIN3A\n",
      "SMAD2\n",
      "SMAD4\n",
      "SMARCA1\n",
      "SMARCA4\n",
      "SMARCB1\n",
      "SMC1A\n",
      "SMC3\n",
      "SOS1\n",
      "SOX17\n",
      "SOX9\n",
      "SPOP\n",
      "SPTA1\n",
      "SPTAN1\n",
      "SRSF2\n",
      "STAG2\n",
      "STK11\n",
      "TAF1\n",
      "TBL1XR1\n",
      "TBX3\n",
      "TCEB1\n",
      "TCF12\n",
      "TCF7L2\n",
      "TET2\n",
      "TGFBR2\n",
      "TGIF1\n",
      "THRAP3\n",
      "TLR4\n",
      "TMSB4X\n",
      "TNFAIP3\n",
      "TP53\n",
      "TRAF3\n",
      "TSC1\n",
      "TSC2\n",
      "TXNIP\n",
      "U2AF1\n",
      "UNCX\n",
      "USP9X\n",
      "VHL\n",
      "WHSC1\n",
      "WT1\n",
      "XPO1\n",
      "ZBTB20\n",
      "ZBTB7B\n",
      "ZC3H12A\n",
      "ZCCHC12\n",
      "ZFHX3\n",
      "ZFP36L1\n",
      "ZFP36L2\n",
      "ZMYM2\n",
      "ZMYM3\n",
      "ZNF133\n",
      "ZNF750\n"
     ]
    }
   ],
   "source": [
    "Gene_mut_list = []\n",
    "Gene_kd_list = []\n",
    "p_list = []\n",
    "es_list = []\n",
    "size_mut = []\n",
    "FDR_List = []\n",
    "for Gene in mut_gene:\n",
    "    print(Gene)\n",
    "    p_list_curr = []\n",
    "    \n",
    "    Mut_group = list(Mut_mat_sele3.loc[Mut_mat_sele3['Hugo_Symbol'] == Gene]['DepMap_ID'].values)\n",
    "    WT_group = list(set(Samples_with_mut_kd) - set(Mut_group))\n",
    "\n",
    "    for Gene_kd in list(Depmap_matrix_sele.index.values):\n",
    "        D_mut_new = Depmap_matrix_sele.loc[Gene_kd,Mut_group].values\n",
    "        D_wt_new = Depmap_matrix_sele.loc[Gene_kd,WT_group].values\n",
    "        \n",
    "        nan_array = np.isnan(D_mut_new)\n",
    "        not_nan_array = ~ nan_array\n",
    "        D_mut_new = D_mut_new[not_nan_array]\n",
    "        \n",
    "        nan_array = np.isnan(D_wt_new)\n",
    "        not_nan_array = ~ nan_array\n",
    "        D_wt_new = D_wt_new[not_nan_array]\n",
    "        \n",
    "        \n",
    "        if len(D_mut_new) > 2:\n",
    "            size_mut.append(len(D_mut_new))\n",
    "            Sci_test = stats.ttest_ind(D_mut_new, D_wt_new, nan_policy = 'omit')\n",
    "            pvalue = Sci_test[1]\n",
    "            p_list_curr.append(pvalue)\n",
    "            \n",
    "            Size_effect =Cohen_dist(D_mut_new, D_wt_new)\n",
    "            es_list.append(Size_effect)\n",
    "            Gene_mut_list.append(Gene)\n",
    "            Gene_kd_list.append(Gene_kd)\n",
    "    \n",
    "    if len(p_list_curr) > 0:\n",
    "        p_list = p_list + p_list_curr\n",
    "        FDR_List_table = multi.multipletests(p_list_curr, alpha=0.05, method='fdr_bh', is_sorted=False)[1]\n",
    "        FDR_List = FDR_List + list(FDR_List_table)\n"
   ]
  },
  {
   "cell_type": "code",
   "execution_count": 18,
   "metadata": {},
   "outputs": [],
   "source": [
    "result = pd.DataFrame({\"Gene_mut\": Gene_mut_list, \n",
    "                       \"Gene_kd\": Gene_kd_list, \n",
    "                       \"Mutated_samples\":size_mut,\n",
    "                       \"pvalue\": p_list, \n",
    "                       \"ES\":es_list, \n",
    "                       \"FDR\": FDR_List\n",
    "                      })"
   ]
  },
  {
   "cell_type": "code",
   "execution_count": 19,
   "metadata": {},
   "outputs": [],
   "source": [
    "result.sort_values(by = ['FDR']).to_csv(\"../Results/driver_gene_mutation_dependency_crispr\"+'.'.join(tumor_type)+\"Mar24.2021.csv\")"
   ]
  },
  {
   "cell_type": "code",
   "execution_count": null,
   "metadata": {},
   "outputs": [],
   "source": []
  },
  {
   "cell_type": "code",
   "execution_count": null,
   "metadata": {},
   "outputs": [],
   "source": []
  }
 ],
 "metadata": {
  "kernelspec": {
   "display_name": "Python 3",
   "language": "python",
   "name": "python3"
  },
  "language_info": {
   "codemirror_mode": {
    "name": "ipython",
    "version": 3
   },
   "file_extension": ".py",
   "mimetype": "text/x-python",
   "name": "python",
   "nbconvert_exporter": "python",
   "pygments_lexer": "ipython3",
   "version": "3.7.7"
  }
 },
 "nbformat": 4,
 "nbformat_minor": 4
}
