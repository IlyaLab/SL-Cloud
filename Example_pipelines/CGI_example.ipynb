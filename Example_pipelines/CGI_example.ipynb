{
 "cells": [
  {
   "cell_type": "markdown",
   "metadata": {},
   "source": [
    "# Conservation-based Synthetic Lethal Search\n",
    "\n",
    "## Introduction\n",
    "\n",
    "### Rationale\n",
    "\n",
    "### Use-cases:\n",
    "* Prioritize human candidate synthetic lethal interactions based on prior evidence of interaction in yeast SL screens\n",
    "* _de novo_ discovery of SL interactions\n",
    "\n",
    "### Approach\n",
    "This notebook re-implements the approach outlined in Srivas et al. (2016)\n",
    "\n",
    "### Usage:\n",
    "Add genes of interest to \"inputGenes\" value, then run the next step.\n",
    "Example: inputGenes = \"'DDX3X','DICER1','DROSHA','TNFRSF14','TRAF7','TSC1','POLG','FBXO11','PRDM1','RFWD3','AMER1','LZTR1','ATP2B3'\"\n",
    "\n",
    "### Workflow Overview\n",
    "\n",
    "### Datasets\n",
    "#### Yeast Synthetic Lethal Interactions\n",
    "Constanzo et al. (2016)\n",
    "#### Human to Yeast Ortholog Mapping\n",
    "detailed treatement in the accompanying notebook (Mapping human to yeast orthologs)\n",
    "#### Human Tumor Suppressor Genes\n",
    "\n",
    "\n",
    "### References\n",
    "* Costanzo M, VanderSluis B, Koch EN, Baryshnikova A, Pons C, Tan G, Wang W, Usaj M, Hanchard J, Lee SD, Pelechano V, Styles EB, Billmann M, van Leeuwen J, van Dyk N, Lin ZY, Kuzmin E, Nelson J, Piotrowski JS, Srikumar T, Bahr S, Chen Y, Deshpande R, Kurat CF, Li SC, Li Z, Usaj MM, Okada H, Pascoe N, San Luis BJ, Sharifpoor S, Shuteriqi E, Simpkins SW, Snider J, Suresh HG, Tan Y, Zhu H, Malod-Dognin N, Janjic V, Przulj N, Troyanskaya OG, Stagljar I, Xia T, Ohya Y, Gingras AC, Raught B, Boutros M, Steinmetz LM, Moore CL, Rosebrock AP, Caudy AA, Myers CL, Andrews B, Boone C. **A global genetic interaction network maps a wiring diagram of cellular function.** Science. 2016 Sep 23;353(6306). pii: aaf1420. PubMed PMID: 27708008; PubMed Central PMCID: PMC5661885.\n",
    "* Srivas R, Shen JP, Yang CC, Sun SM, Li J, Gross AM, Jensen J, Licon K, Bojorquez-Gomez A, Klepper K, Huang J, Pekin D, Xu JL, Yeerna H, Sivaganesh V, Kollenstart L, van Attikum H, Aza-Blanc P, Sobol RW, Ideker T. **A Network of Conserved Synthetic Lethal Interactions for Exploration of Precision Cancer Therapy**. Mol Cell. 2016 Aug 4;63(3):514-25. doi:10.1016/j.molcel.2016.06.022.Epub 2016 Jul 21. PubMed PMID: 27453043; PubMed Central PMCID: PMC5209245. "
   ]
  },
  {
   "cell_type": "markdown",
   "metadata": {},
   "source": [
    "## Preamble\n",
    "This section describes how to setup the analysis environment appropriately, including google cloud platform authentication and importing all the relevant python libraries."
   ]
  },
  {
   "cell_type": "markdown",
   "metadata": {},
   "source": [
    "### Setup Analysis Environment"
   ]
  },
  {
   "cell_type": "code",
   "execution_count": null,
   "metadata": {},
   "outputs": [],
   "source": [
    "#! pip3 install google-cloud-bigquery"
   ]
  },
  {
   "cell_type": "code",
   "execution_count": null,
   "metadata": {},
   "outputs": [],
   "source": [
    "# google cloud authentication\n",
    "from google.cloud import bigquery\n"
   ]
  },
  {
   "cell_type": "code",
   "execution_count": null,
   "metadata": {},
   "outputs": [],
   "source": [
    "# import modules\n",
    "import sys\n",
    "import matplotlib.pyplot as plt\n",
    "import pandas as pd\n",
    "import scipy\n",
    "from scipy import stats \n",
    "import numpy as np\n",
    "import json\n",
    "import statsmodels.stats.multitest as multi\n",
    "import matplotlib.pyplot as plt\n",
    "import math\n",
    "import ipywidgets as widgets\n",
    "import plotly\n",
    "import plotly.express as px\n",
    "import pyarrow\n"
   ]
  },
  {
   "cell_type": "code",
   "execution_count": null,
   "metadata": {},
   "outputs": [],
   "source": [
    "# users need to run the following commend in their local machine or throught the notebook.\n",
    "# Make sure to install the google cloud in the local envirionment. For more detail of gcloud installation, please see support from https://cloud.google.com/sdk/docs/install\n",
    "\n",
    "!gcloud auth application-default login"
   ]
  },
  {
   "cell_type": "code",
   "execution_count": null,
   "metadata": {},
   "outputs": [],
   "source": [
    "# Choose the project to be used for bigquery\n",
    "project_id='syntheticlethality'\n",
    "client = bigquery.Client(project_id) # Replace XXXXXXXX with your project ID"
   ]
  },
  {
   "cell_type": "code",
   "execution_count": null,
   "metadata": {},
   "outputs": [],
   "source": [
    "%load_ext google.cloud.bigquery"
   ]
  },
  {
   "cell_type": "markdown",
   "metadata": {},
   "source": [
    "## Define a set of cancer-relevant tumor suppressor genes (TSGs)\n",
    "\n",
    "In this workflow, the search for relevant synthetic lethal interactions is seeded by defining a set of tumor suppressor genes (TSGs) of interest. There are various strategies for obtaining such a list, here we give an example of mining the [COSMIC Cancer Gene Census](https://cancer.sanger.ac.uk/census) for TSG annotations and then prioritizing the list based on driver status or frequency of alteration in a cancer type of interest.\n",
    "\n",
    "If you want to get the SL interactions for genes of interest, please add the genes to \"inputGenes\"."
   ]
  },
  {
   "cell_type": "code",
   "execution_count": null,
   "metadata": {},
   "outputs": [],
   "source": [
    "query = ''' \n",
    "            SELECT *\n",
    "            FROM `isb-cgc.COSMIC_v90_grch38.Cancer_Gene_Census` \n",
    "            WHERE Role_in_Cancer = \"TSG\"\n",
    "        '''\n",
    "tsg = client.query(query).result().to_dataframe()"
   ]
  },
  {
   "cell_type": "code",
   "execution_count": null,
   "metadata": {},
   "outputs": [],
   "source": [
    "tsg.head()"
   ]
  },
  {
   "cell_type": "code",
   "execution_count": null,
   "metadata": {},
   "outputs": [],
   "source": [
    "# generate a list for inputGenes (Please go to the next block if you want to use your genes instead of tumor suppressor genes)\n",
    "tumor_suppressor_genes = tsg[\"Gene_Symbol\"].tolist() \n",
    "inputGenes = [\"'\"+x+\"'\" for x in tumor_suppressor_genes]\n",
    "inputGenes = ','.join(inputGenes)\n",
    "inputGenes"
   ]
  },
  {
   "cell_type": "code",
   "execution_count": null,
   "metadata": {},
   "outputs": [],
   "source": [
    "# please skip this block if you want to keep using tumor suppressor genes as an input\n",
    "#inputGenes = \"\""
   ]
  },
  {
   "cell_type": "markdown",
   "metadata": {},
   "source": [
    "## Map Yeast Orthologs & Get SL insteractions"
   ]
  },
  {
   "cell_type": "code",
   "execution_count": null,
   "metadata": {},
   "outputs": [],
   "source": [
    "sql = '''\n",
    "WITH\n",
    "--- Retreive YeastSymbols mapped to HumanSymbols for the input genes\n",
    "INPUT_H2Y AS (\n",
    "  SELECT YeastSymbol\n",
    "    FROM `syntheticlethality.gene_information.human2Yeast`\n",
    "   WHERE HumanSymbol IN (__INPUTGENES__) AND\n",
    "         AlgorithmsMatch >= __ALGORITHMCUTOFF__\n",
    "),\n",
    "\n",
    "--- Identify protein-protein interactions using the YeastSymbols (left match)\n",
    "Yeast_ITX1 AS (\n",
    "  SELECT UPPER(Query_allele_name)       AS Interactor1, \n",
    "         UPPER(Array_allele_name)       AS Interactor2,\n",
    "         Genetic_interaction_score_____ AS Interaction_score,\n",
    "         P_value\n",
    "    FROM `syntheticlethality.CellMap.CellMap`\n",
    "   WHERE (Genetic_interaction_score_____ < __SCORECUTOFF__ AND P_value < __PvalueCUTOFF__) AND\n",
    "         (UPPER(Query_allele_name) IN (SELECT YeastSymbol FROM INPUT_H2Y))\n",
    "   \n",
    "),\n",
    "\n",
    "--- Identify protein-protein interactions using the YeastSymbols (right match)\n",
    "Yeast_ITX2 AS (\n",
    "  SELECT UPPER(Array_allele_name)       AS Interactor1, \n",
    "         UPPER(Query_allele_name)       AS Interactor2,\n",
    "         Genetic_interaction_score_____ AS Interaction_score,\n",
    "         P_value\n",
    "    FROM `syntheticlethality.CellMap.CellMap`\n",
    "   WHERE (Genetic_interaction_score_____ < __SCORECUTOFF__ AND P_value < __PvalueCUTOFF__) AND\n",
    "         (UPPER(Array_allele_name) IN (SELECT YeastSymbol FROM INPUT_H2Y))\n",
    "   \n",
    "),\n",
    "\n",
    "--- Union interaction tables\n",
    "Union_ITX AS (\n",
    "  SELECT * FROM Yeast_ITX1\n",
    "   UNION ALL\n",
    "  SELECT * FROM Yeast_ITX2\n",
    ")\n",
    "\n",
    "--- Convert YeastSymbols to HumanSymbols in the protein-protein interations\n",
    "SELECT DISTINCT \n",
    "       GINFO1.EntrezID        AS EntrezID_Input,\n",
    "       H2Y1.HumanSymbol       AS Gene_Input,\n",
    "---       Add if you want to know what yeast genes are involved\n",
    "---       YITX.Interactor1       AS Gene_Input_Yeast,\n",
    "       GINFO2.EntrezID        AS EntrezID_SL_Candidate,\n",
    "       H2Y2.HumanSymbol       AS Gene_SL_Candidate,\n",
    "---       Add if you want to know what yeast genes are involved\n",
    "---       YITX.Interactor2       AS Gene_SL_Candidate_Yeast,\n",
    "       YITX.Interaction_score AS Interaction_score,\n",
    "       YITX.P_value           AS P_value\n",
    "       \n",
    "  FROM Union_ITX AS YITX\n",
    "       LEFT JOIN `syntheticlethality.gene_information.human2Yeast`                       AS H2Y1   ON YITX.Interactor1 = H2Y1.YeastSymbol\n",
    "       LEFT JOIN `syntheticlethality.gene_information.human2Yeast`                       AS H2Y2   ON YITX.Interactor2 = H2Y2.YeastSymbol\n",
    "       LEFT JOIN `syntheticlethality.gene_information.gene_info_human_HGNC` AS GINFO1 ON H2Y1.HumanID = GINFO1.HGNCID\n",
    "       LEFT JOIN `syntheticlethality.gene_information.gene_info_human_HGNC` AS GINFO2 ON H2Y2.HumanID = GINFO2.HGNCID\n",
    "       \n",
    " WHERE (H2Y1.HumanSymbol IS NOT NULL AND YITX.Interactor1 IS NOT NULL) AND\n",
    "       (H2Y2.HumanSymbol IS NOT NULL AND YITX.Interactor2 IS NOT NULL)\n",
    "\n",
    "'''\n",
    "# select the thresholds to be used\n",
    "cutoff_algorithmMatchNo = \"3\"\n",
    "cutoff_score = \"-0.35\"\n",
    "cutoff_p = \"0.01\"\n",
    "\n",
    "sql = sql.replace(\"__INPUTGENES__\", inputGenes)\n",
    "sql = sql.replace(\"__ALGORITHMCUTOFF__\", cutoff_algorithmMatchNo)\n",
    "sql = sql.replace(\"__SCORECUTOFF__\", cutoff_score)\n",
    "sql = sql.replace(\"__PvalueCUTOFF__\", cutoff_p)\n",
    "\n",
    "res = client.query(sql).to_dataframe()\n",
    "\n"
   ]
  },
  {
   "cell_type": "markdown",
   "metadata": {},
   "source": [
    "## Get Yeast SL Interactions"
   ]
  },
  {
   "cell_type": "code",
   "execution_count": null,
   "metadata": {},
   "outputs": [],
   "source": [
    "# shore the SL partner genes for the input genes\n",
    "res\n"
   ]
  },
  {
   "cell_type": "markdown",
   "metadata": {},
   "source": [
    "## Write to file & bigQuery Table"
   ]
  },
  {
   "cell_type": "code",
   "execution_count": null,
   "metadata": {},
   "outputs": [],
   "source": [
    "res.to_csv(path_or_buf='conserved_SL_output.csv', index=False)"
   ]
  },
  {
   "cell_type": "markdown",
   "metadata": {},
   "source": [
    "# END"
   ]
  },
  {
   "cell_type": "code",
   "execution_count": null,
   "metadata": {},
   "outputs": [],
   "source": []
  }
 ],
 "metadata": {
  "kernelspec": {
   "display_name": "Python 3 (ipykernel)",
   "language": "python",
   "name": "python3"
  },
  "language_info": {
   "codemirror_mode": {
    "name": "ipython",
    "version": 3
   },
   "file_extension": ".py",
   "mimetype": "text/x-python",
   "name": "python",
   "nbconvert_exporter": "python",
   "pygments_lexer": "ipython3",
   "version": "3.9.6"
  }
 },
 "nbformat": 4,
 "nbformat_minor": 4
}
