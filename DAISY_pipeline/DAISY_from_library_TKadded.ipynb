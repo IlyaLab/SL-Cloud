{
 "cells": [
  {
   "cell_type": "markdown",
   "metadata": {},
   "source": [
    "#  DAISY- the DAta-mIning SYnthetic-lethality-identification pipeline\n",
    "\n",
    "Please cite: \n",
    "\n",
    "For Implementation: \n",
    "\n",
    "Our paper,\n",
    "\n",
    "For DAISY algorithm: \n",
    "\n",
    "Jerby-Arnon, L., Pfetzer, N., Waldman, Y. Y., McGarry, L., James, D., Shanks, E., ... & Gottlieb, E. (2014). Predicting cancer-specific vulnerability via data-driven detection of synthetic lethality. Cell, 158(5), 1199-1209.\n",
    "\n",
    "For CCLE Omics data:\n",
    "\n",
    "Ghandi, M., Huang, F.W., Jané-Valbuena, J. et al. Next-generation characterization of the Cancer Cell Line Encyclopedia. Nature 569, 503–508 (2019). https://doi.org/10.1038/s41586-019-1186-3\n",
    "\n",
    "For CRISPR Data: \n",
    "\n",
    "Robin M. Meyers, Jordan G. Bryan, James M. McFarland, Barbara A. Weir, ... David E. Root, William C. Hahn, Aviad Tsherniak. Computational correction of copy number effect improves specificity of CRISPR-Cas9 essentiality screens in cancer cells. Nature Genetics 2017 October 49:1779–1784. doi:10.1038/ng.3984\n",
    "\n",
    "Dempster, J. M., Rossen, J., Kazachkova, M., Pan, J., Kugener, G., Root, D. E., & Tsherniak, A. (2019). Extracting Biological Insights from the Project Achilles Genome-Scale CRISPR Screens in Cancer Cell Lines. BioRxiv, 720243.\n",
    "\n",
    "\n",
    "This notebook is a reimplementation of DAISY Synthetic Lethal Pair Prediction Algorithm\n",
    "\n",
    "Please first run the table_creation notebook before runnnig the DAISY notebook. \n",
    "\n",
    "It consists 3 modules: \n",
    "\n",
    "1. SL candidate determination using gene co-expression\n",
    "2. SL candidate determination using survival of fittest\n",
    "3. SL candidate determination using CRISPR and ShRNA experiment\n",
    "\n",
    "\n",
    "* The results from the three modules were then aggregated into one ranked list of candidate SL pairs\n",
    "\n",
    "\n",
    "Input Parameters\n",
    "* Cancer type \n",
    "* The genes whose SL partners are seeked\n",
    "\n",
    "\n",
    "Input Data\n",
    "* Gene expression data \n",
    "* Gene mutation data\n",
    "* Copy number variation data\n",
    "* Gene effect data (CRISPR)\n",
    "* Gene Dependency scores data (shRNA)\n",
    "\n",
    "Output\n",
    "* Ranked list of candidate SL pairs\n",
    "![../../figures/daisy_pipeline.png](attachment:dene.png)"
   ]
  },
  {
   "cell_type": "code",
   "execution_count": 1,
   "metadata": {},
   "outputs": [
    {
     "name": "stdin",
     "output_type": "stream",
     "text": [
      "Once deleted, variables cannot be recovered. Proceed (y/[n])?  y\n"
     ]
    }
   ],
   "source": [
    "reset ####TK#### not sure if it is necessary"
   ]
  },
  {
   "cell_type": "code",
   "execution_count": 2,
   "metadata": {},
   "outputs": [
    {
     "data": {
      "text/plain": [
       "'C:\\\\Users\\\\salta\\\\Documents\\\\GitHub\\\\SL-Cloud\\\\DAISY_pipeline'"
      ]
     },
     "execution_count": 2,
     "metadata": {},
     "output_type": "execute_result"
    }
   ],
   "source": [
    "pwd ####TK#### not sure if it is necessary"
   ]
  },
  {
   "cell_type": "markdown",
   "metadata": {},
   "source": [
    "### 1. Import python libraries required\n",
    "The required libraries are imported. "
   ]
  },
  {
   "cell_type": "code",
   "execution_count": 4,
   "metadata": {
    "scrolled": true
   },
   "outputs": [],
   "source": [
    "from datetime import datetime\n",
    "import sys\n",
    "from ipywidgets import interact, interactive, fixed, interact_manual\n",
    "import ipywidgets as widgets\n",
    "import sys\n",
    "sys.path.append('../scripts/') ####TK#### need to add \"scripts\" directory in a parent directory \n",
    "from google.cloud import bigquery\n",
    "import importlib\n",
    "import pandas as pd\n",
    "import DAISY_operations\n",
    "importlib.reload(DAISY_operations)\n",
    "from DAISY_operations import *\n",
    "from helper_functions import *\n",
    "from BIGQUERY_operations import *"
   ]
  },
  {
   "cell_type": "code",
   "execution_count": 117,
   "metadata": {},
   "outputs": [],
   "source": [
    "import sys ####TK#### duplicated\n",
    "\n",
    "if not sys.warnoptions:\n",
    "    import warnings\n",
    "    warnings.simplefilter(\"ignore\")"
   ]
  },
  {
   "cell_type": "markdown",
   "metadata": {},
   "source": [
    "### 2. Sign in Google Bigquery with the project id\n",
    "\n",
    "Bigquery connection\n",
    "Please replace syntheticlethality with your project name"
   ]
  },
  {
   "cell_type": "code",
   "execution_count": 5,
   "metadata": {},
   "outputs": [
    {
     "name": "stderr",
     "output_type": "stream",
     "text": [
      "Your browser has been opened to visit:\n",
      "\n",
      "    https://accounts.google.com/o/oauth2/auth?response_type=code&client_id=32555940559.apps.googleusercontent.com&redirect_uri=http%3A%2F%2Flocalhost%3A8085%2F&scope=openid+https%3A%2F%2Fwww.googleapis.com%2Fauth%2Fuserinfo.email+https%3A%2F%2Fwww.googleapis.com%2Fauth%2Fcloud-platform+https%3A%2F%2Fwww.googleapis.com%2Fauth%2Fappengine.admin+https%3A%2F%2Fwww.googleapis.com%2Fauth%2Fcompute+https%3A%2F%2Fwww.googleapis.com%2Fauth%2Faccounts.reauth&state=SUCDtf9LC1JXaHzqdqgeiUewgCFATJ&access_type=offline&code_challenge=cMruscI9frhqTZ7yFXvOL4V3SwBPYVWs9uthQq7qxwM&code_challenge_method=S256\n",
      "\n",
      "\n",
      "You are now logged in as [tkim@systemsbiology.org].\n",
      "Your current project is [isb-cgc-04-0010].  You can change this setting by running:\n",
      "  $ gcloud config set project PROJECT_ID\n"
     ]
    }
   ],
   "source": [
    "project_id='syntheticlethality'\n",
    "client = bigquery.Client(project_id)\n",
    "#client = bigquery.Client(credentials=credentials, project=credentials.project_id)\n",
    "\n",
    "!gcloud auth login"
   ]
  },
  {
   "cell_type": "code",
   "execution_count": 7,
   "metadata": {},
   "outputs": [],
   "source": [
    "%load_ext google.cloud.bigquery"
   ]
  },
  {
   "cell_type": "code",
   "execution_count": 8,
   "metadata": {},
   "outputs": [
    {
     "name": "stderr",
     "output_type": "stream",
     "text": [
      "UsageError: %%bigquery is a cell magic, but the cell body is empty.\n"
     ]
    }
   ],
   "source": [
    "%%bigquery tsg"
   ]
  },
  {
   "cell_type": "markdown",
   "metadata": {},
   "source": [
    "### 3. Input genes of interest for the SL partner prediction\n",
    "\n",
    "We will predict synthetic lethal partner genes for tumor suppressor genes as default.\n",
    "The query will use a permission required big-query table for tumor suppressor genes.\n",
    "To execute this query, you need to register for a new COSMIC account and to get a permission.\n",
    "Please follow this link for the registration : https://isb-cancer-genomics-cloud.readthedocs.io/en/latest/sections/data/COSMIC_about.html.\n",
    "If you want to test the genes of your interest, please skip this and add you own genes to the variable \"input_genes\"."
   ]
  },
  {
   "cell_type": "code",
   "execution_count": 10,
   "metadata": {
    "scrolled": true
   },
   "outputs": [],
   "source": [
    "query='''\n",
    "SELECT Gene_Symbol\n",
    "  FROM `isb-cgc.COSMIC_v90_grch38.Cancer_Gene_Census` \n",
    " WHERE Role_in_Cancer LIKE '%TSG%'\n",
    "\n",
    "INTERSECT DISTINCT\n",
    "\n",
    "SELECT HGNC_gene_symbol\n",
    "  FROM `syntheticlethality.gene_information.cancer_driver_genes`\n",
    " \n",
    "'''\n",
    "driver_tsg_genes = client.query(query).result().to_dataframe()"
   ]
  },
  {
   "cell_type": "markdown",
   "metadata": {},
   "source": [
    "<br>\n",
    "Conversion from Hugo Symbols into EntrezIDs "
   ]
  },
  {
   "cell_type": "code",
   "execution_count": 13,
   "metadata": {
    "scrolled": true
   },
   "outputs": [
    {
     "data": {
      "text/html": [
       "<div>\n",
       "<style scoped>\n",
       "    .dataframe tbody tr th:only-of-type {\n",
       "        vertical-align: middle;\n",
       "    }\n",
       "\n",
       "    .dataframe tbody tr th {\n",
       "        vertical-align: top;\n",
       "    }\n",
       "\n",
       "    .dataframe thead th {\n",
       "        text-align: right;\n",
       "    }\n",
       "</style>\n",
       "<table border=\"1\" class=\"dataframe\">\n",
       "  <thead>\n",
       "    <tr style=\"text-align: right;\">\n",
       "      <th></th>\n",
       "      <th>Gene</th>\n",
       "      <th>EntrezID</th>\n",
       "    </tr>\n",
       "  </thead>\n",
       "  <tbody>\n",
       "    <tr>\n",
       "      <th>0</th>\n",
       "      <td>APC</td>\n",
       "      <td>324</td>\n",
       "    </tr>\n",
       "    <tr>\n",
       "      <th>1</th>\n",
       "      <td>ATM</td>\n",
       "      <td>472</td>\n",
       "    </tr>\n",
       "    <tr>\n",
       "      <th>2</th>\n",
       "      <td>ATR</td>\n",
       "      <td>545</td>\n",
       "    </tr>\n",
       "    <tr>\n",
       "      <th>3</th>\n",
       "      <td>B2M</td>\n",
       "      <td>567</td>\n",
       "    </tr>\n",
       "    <tr>\n",
       "      <th>4</th>\n",
       "      <td>CIC</td>\n",
       "      <td>23152</td>\n",
       "    </tr>\n",
       "    <tr>\n",
       "      <th>...</th>\n",
       "      <td>...</td>\n",
       "      <td>...</td>\n",
       "    </tr>\n",
       "    <tr>\n",
       "      <th>108</th>\n",
       "      <td>PRKAR1A</td>\n",
       "      <td>5573</td>\n",
       "    </tr>\n",
       "    <tr>\n",
       "      <th>109</th>\n",
       "      <td>SMARCA4</td>\n",
       "      <td>6597</td>\n",
       "    </tr>\n",
       "    <tr>\n",
       "      <th>110</th>\n",
       "      <td>SMARCB1</td>\n",
       "      <td>6598</td>\n",
       "    </tr>\n",
       "    <tr>\n",
       "      <th>111</th>\n",
       "      <td>TBL1XR1</td>\n",
       "      <td>79718</td>\n",
       "    </tr>\n",
       "    <tr>\n",
       "      <th>112</th>\n",
       "      <td>TNFAIP3</td>\n",
       "      <td>7128</td>\n",
       "    </tr>\n",
       "  </tbody>\n",
       "</table>\n",
       "<p>113 rows × 2 columns</p>\n",
       "</div>"
      ],
      "text/plain": [
       "        Gene  EntrezID\n",
       "0        APC       324\n",
       "1        ATM       472\n",
       "2        ATR       545\n",
       "3        B2M       567\n",
       "4        CIC     23152\n",
       "..       ...       ...\n",
       "108  PRKAR1A      5573\n",
       "109  SMARCA4      6597\n",
       "110  SMARCB1      6598\n",
       "111  TBL1XR1     79718\n",
       "112  TNFAIP3      7128\n",
       "\n",
       "[113 rows x 2 columns]"
      ]
     },
     "execution_count": 13,
     "metadata": {},
     "output_type": "execute_result"
    }
   ],
   "source": [
    "input_genes = driver_tsg_genes[\"Gene_Symbol\"].to_list()\n",
    "input_entrez_ids = ConvertGene(client, input_genes, 'Gene', ['EntrezID'])\n",
    "input_entrez_ids"
   ]
  },
  {
   "cell_type": "markdown",
   "metadata": {},
   "source": [
    "### 4. Prediction of synthetic lethal partners using different modules on DAISY\n"
   ]
  },
  {
   "cell_type": "markdown",
   "metadata": {},
   "source": [
    "There are three modules for synthetic lethal pair inferences on DAISY : 1. Pairwise gene coexpression, 2. Genomic survival of the fittest. 3. shRNA or CRISPR based functional examination. You can get more information in the original paper : https://www.sciencedirect.com/science/article/pii/S0092867414009775.\n",
    "\n",
    "In pairwise gene coexpression module and genomic survial of the fittest module, we will use PancancerAtlas and CCLE data.<br>\n",
    "In functional examination module, we will use CRISPR and shRNA data. <br>\n",
    "\n",
    "Python codes for each module are built in our internal library (../scripts/SL_library.py) which was already imported at the beginning. \n"
   ]
  },
  {
   "cell_type": "markdown",
   "metadata": {},
   "source": [
    "#### 4.0. Default parameters for DAISY, you can edit them"
   ]
  },
  {
   "cell_type": "code",
   "execution_count": 14,
   "metadata": {},
   "outputs": [],
   "source": [
    "input_mutations = ['Nonsense_Mutation', 'Frame_Shift_Ins', 'Frame_Shift_Del'] # Three mutation types were chosed as default by DAISY.\n",
    "percentile_threshold = 10\n",
    "cn_threshold = -0.3 \n",
    "cor_threshold = 0.5\n",
    "p_threshold = 0.05\n",
    "pval_correction = 'Bonferroni'"
   ]
  },
  {
   "cell_type": "markdown",
   "metadata": {},
   "source": [
    "#### 4.1. Pairwise gene coexpression module"
   ]
  },
  {
   "cell_type": "markdown",
   "metadata": {},
   "source": [
    "4.1.1. Pairwise gene coexpression module on PancancerAtlas."
   ]
  },
  {
   "cell_type": "code",
   "execution_count": 15,
   "metadata": {
    "scrolled": true
   },
   "outputs": [
    {
     "name": "stderr",
     "output_type": "stream",
     "text": [
      "C:\\Users\\salta\\miniconda3\\lib\\site-packages\\statsmodels\\stats\\multitest.py:150: RuntimeWarning: invalid value encountered in less_equal\n",
      "  reject = pvals <= alphacBonf\n",
      "C:\\Users\\salta\\miniconda3\\lib\\site-packages\\statsmodels\\stats\\multitest.py:254: RuntimeWarning: invalid value encountered in greater\n",
      "  pvals_corrected[pvals_corrected>1] = 1\n",
      "../scripts\\DAISY_operations.py:146: SettingWithCopyWarning: \n",
      "A value is trying to be set on a copy of a slice from a DataFrame.\n",
      "Try using .loc[row_indexer,col_indexer] = value instead\n",
      "\n",
      "See the caveats in the documentation: https://pandas.pydata.org/pandas-docs/stable/user_guide/indexing.html#returning-a-view-versus-a-copy\n",
      "  report['PValue']=FDR\n"
     ]
    }
   ],
   "source": [
    "coexp_pancancer = CoexpressionAnalysis(client, \"PanCancerAtlas\", input_entrez_ids['EntrezID'][0:1], cor_threshold, p_threshold, pval_correction) "
   ]
  },
  {
   "cell_type": "code",
   "execution_count": 16,
   "metadata": {
    "scrolled": true
   },
   "outputs": [
    {
     "data": {
      "text/html": [
       "<div>\n",
       "<style scoped>\n",
       "    .dataframe tbody tr th:only-of-type {\n",
       "        vertical-align: middle;\n",
       "    }\n",
       "\n",
       "    .dataframe tbody tr th {\n",
       "        vertical-align: top;\n",
       "    }\n",
       "\n",
       "    .dataframe thead th {\n",
       "        text-align: right;\n",
       "    }\n",
       "</style>\n",
       "<table border=\"1\" class=\"dataframe\">\n",
       "  <thead>\n",
       "    <tr style=\"text-align: right;\">\n",
       "      <th></th>\n",
       "      <th></th>\n",
       "      <th>EntrezID_Inactive</th>\n",
       "      <th>Gene_Inactive</th>\n",
       "      <th>EntrezID_SL_Candidate</th>\n",
       "      <th>Gene_SL_Candidate</th>\n",
       "      <th>Correlation</th>\n",
       "      <th>PValue</th>\n",
       "    </tr>\n",
       "    <tr>\n",
       "      <th>Gene_Inactive</th>\n",
       "      <th></th>\n",
       "      <th></th>\n",
       "      <th></th>\n",
       "      <th></th>\n",
       "      <th></th>\n",
       "      <th></th>\n",
       "      <th></th>\n",
       "    </tr>\n",
       "  </thead>\n",
       "  <tbody>\n",
       "    <tr>\n",
       "      <th rowspan=\"11\" valign=\"top\">APC</th>\n",
       "      <th>0</th>\n",
       "      <td>324</td>\n",
       "      <td>APC</td>\n",
       "      <td>146057</td>\n",
       "      <td>TTBK2</td>\n",
       "      <td>0.712054</td>\n",
       "      <td>0.0</td>\n",
       "    </tr>\n",
       "    <tr>\n",
       "      <th>172</th>\n",
       "      <td>324</td>\n",
       "      <td>APC</td>\n",
       "      <td>8411</td>\n",
       "      <td>EEA1</td>\n",
       "      <td>0.535663</td>\n",
       "      <td>0.0</td>\n",
       "    </tr>\n",
       "    <tr>\n",
       "      <th>173</th>\n",
       "      <td>324</td>\n",
       "      <td>APC</td>\n",
       "      <td>4763</td>\n",
       "      <td>NF1</td>\n",
       "      <td>0.535011</td>\n",
       "      <td>0.0</td>\n",
       "    </tr>\n",
       "    <tr>\n",
       "      <th>174</th>\n",
       "      <td>324</td>\n",
       "      <td>APC</td>\n",
       "      <td>26046</td>\n",
       "      <td>LTN1</td>\n",
       "      <td>0.534041</td>\n",
       "      <td>0.0</td>\n",
       "    </tr>\n",
       "    <tr>\n",
       "      <th>175</th>\n",
       "      <td>324</td>\n",
       "      <td>APC</td>\n",
       "      <td>91526</td>\n",
       "      <td>ANKRD44</td>\n",
       "      <td>0.534037</td>\n",
       "      <td>0.0</td>\n",
       "    </tr>\n",
       "    <tr>\n",
       "      <th>...</th>\n",
       "      <td>...</td>\n",
       "      <td>...</td>\n",
       "      <td>...</td>\n",
       "      <td>...</td>\n",
       "      <td>...</td>\n",
       "      <td>...</td>\n",
       "    </tr>\n",
       "    <tr>\n",
       "      <th>88</th>\n",
       "      <td>324</td>\n",
       "      <td>APC</td>\n",
       "      <td>58508</td>\n",
       "      <td>KMT2C</td>\n",
       "      <td>0.570013</td>\n",
       "      <td>0.0</td>\n",
       "    </tr>\n",
       "    <tr>\n",
       "      <th>87</th>\n",
       "      <td>324</td>\n",
       "      <td>APC</td>\n",
       "      <td>7638</td>\n",
       "      <td>ZNF221</td>\n",
       "      <td>0.570202</td>\n",
       "      <td>0.0</td>\n",
       "    </tr>\n",
       "    <tr>\n",
       "      <th>86</th>\n",
       "      <td>324</td>\n",
       "      <td>APC</td>\n",
       "      <td>9101</td>\n",
       "      <td>USP8</td>\n",
       "      <td>0.570952</td>\n",
       "      <td>0.0</td>\n",
       "    </tr>\n",
       "    <tr>\n",
       "      <th>92</th>\n",
       "      <td>324</td>\n",
       "      <td>APC</td>\n",
       "      <td>6655</td>\n",
       "      <td>SOS2</td>\n",
       "      <td>0.567321</td>\n",
       "      <td>0.0</td>\n",
       "    </tr>\n",
       "    <tr>\n",
       "      <th>271</th>\n",
       "      <td>324</td>\n",
       "      <td>APC</td>\n",
       "      <td>79088</td>\n",
       "      <td>ZNF426</td>\n",
       "      <td>0.500762</td>\n",
       "      <td>0.0</td>\n",
       "    </tr>\n",
       "  </tbody>\n",
       "</table>\n",
       "<p>272 rows × 6 columns</p>\n",
       "</div>"
      ],
      "text/plain": [
       "                   EntrezID_Inactive Gene_Inactive  EntrezID_SL_Candidate  \\\n",
       "Gene_Inactive                                                               \n",
       "APC           0                  324           APC                 146057   \n",
       "              172                324           APC                   8411   \n",
       "              173                324           APC                   4763   \n",
       "              174                324           APC                  26046   \n",
       "              175                324           APC                  91526   \n",
       "...                              ...           ...                    ...   \n",
       "              88                 324           APC                  58508   \n",
       "              87                 324           APC                   7638   \n",
       "              86                 324           APC                   9101   \n",
       "              92                 324           APC                   6655   \n",
       "              271                324           APC                  79088   \n",
       "\n",
       "                  Gene_SL_Candidate  Correlation  PValue  \n",
       "Gene_Inactive                                             \n",
       "APC           0               TTBK2     0.712054     0.0  \n",
       "              172              EEA1     0.535663     0.0  \n",
       "              173               NF1     0.535011     0.0  \n",
       "              174              LTN1     0.534041     0.0  \n",
       "              175           ANKRD44     0.534037     0.0  \n",
       "...                             ...          ...     ...  \n",
       "              88              KMT2C     0.570013     0.0  \n",
       "              87             ZNF221     0.570202     0.0  \n",
       "              86               USP8     0.570952     0.0  \n",
       "              92               SOS2     0.567321     0.0  \n",
       "              271            ZNF426     0.500762     0.0  \n",
       "\n",
       "[272 rows x 6 columns]"
      ]
     },
     "execution_count": 16,
     "metadata": {},
     "output_type": "execute_result"
    }
   ],
   "source": [
    "coexp_pancancer"
   ]
  },
  {
   "cell_type": "markdown",
   "metadata": {},
   "source": [
    "<br>\n",
    "You can save the results into bigquery table."
   ]
  },
  {
   "cell_type": "code",
   "execution_count": 17,
   "metadata": {},
   "outputs": [
    {
     "name": "stdout",
     "output_type": "stream",
     "text": [
      "Table could not be created\n",
      "Table description could not be updated\n"
     ]
    }
   ],
   "source": [
    "CreateTable(client, coexp_pancancer, 'pipeline_results', 'DAISY_coexpression_pancancer_sl_pairs_trial', project_id, \"\") "
   ]
  },
  {
   "cell_type": "markdown",
   "metadata": {},
   "source": [
    "<br>\n",
    "4.1.2. Pairwise gene coexpression module on CCLE data"
   ]
  },
  {
   "cell_type": "code",
   "execution_count": 18,
   "metadata": {
    "scrolled": true
   },
   "outputs": [
    {
     "name": "stderr",
     "output_type": "stream",
     "text": [
      "C:\\Users\\salta\\miniconda3\\lib\\site-packages\\statsmodels\\stats\\multitest.py:150: RuntimeWarning: invalid value encountered in less_equal\n",
      "  reject = pvals <= alphacBonf\n",
      "C:\\Users\\salta\\miniconda3\\lib\\site-packages\\statsmodels\\stats\\multitest.py:254: RuntimeWarning: invalid value encountered in greater\n",
      "  pvals_corrected[pvals_corrected>1] = 1\n",
      "../scripts\\DAISY_operations.py:146: SettingWithCopyWarning: \n",
      "A value is trying to be set on a copy of a slice from a DataFrame.\n",
      "Try using .loc[row_indexer,col_indexer] = value instead\n",
      "\n",
      "See the caveats in the documentation: https://pandas.pydata.org/pandas-docs/stable/user_guide/indexing.html#returning-a-view-versus-a-copy\n",
      "  report['PValue']=FDR\n"
     ]
    }
   ],
   "source": [
    "coexp_CCLE=CoexpressionAnalysis(client, \"CCLE\", input_entrez_ids['EntrezID'][0:1], cor_threshold, p_threshold, pval_correction) "
   ]
  },
  {
   "cell_type": "code",
   "execution_count": 19,
   "metadata": {
    "scrolled": true
   },
   "outputs": [
    {
     "data": {
      "text/html": [
       "<div>\n",
       "<style scoped>\n",
       "    .dataframe tbody tr th:only-of-type {\n",
       "        vertical-align: middle;\n",
       "    }\n",
       "\n",
       "    .dataframe tbody tr th {\n",
       "        vertical-align: top;\n",
       "    }\n",
       "\n",
       "    .dataframe thead th {\n",
       "        text-align: right;\n",
       "    }\n",
       "</style>\n",
       "<table border=\"1\" class=\"dataframe\">\n",
       "  <thead>\n",
       "    <tr style=\"text-align: right;\">\n",
       "      <th></th>\n",
       "      <th></th>\n",
       "      <th>EntrezID_Inactive</th>\n",
       "      <th>Gene_Inactive</th>\n",
       "      <th>EntrezID_SL_Candidate</th>\n",
       "      <th>Gene_SL_Candidate</th>\n",
       "      <th>Correlation</th>\n",
       "      <th>PValue</th>\n",
       "    </tr>\n",
       "    <tr>\n",
       "      <th>Gene_Inactive</th>\n",
       "      <th></th>\n",
       "      <th></th>\n",
       "      <th></th>\n",
       "      <th></th>\n",
       "      <th></th>\n",
       "      <th></th>\n",
       "      <th></th>\n",
       "    </tr>\n",
       "  </thead>\n",
       "  <tbody>\n",
       "    <tr>\n",
       "      <th rowspan=\"11\" valign=\"top\">APC</th>\n",
       "      <th>0</th>\n",
       "      <td>324</td>\n",
       "      <td>APC</td>\n",
       "      <td>64848</td>\n",
       "      <td>YTHDC2</td>\n",
       "      <td>0.636174</td>\n",
       "      <td>1.200051e-144</td>\n",
       "    </tr>\n",
       "    <tr>\n",
       "      <th>1</th>\n",
       "      <td>324</td>\n",
       "      <td>APC</td>\n",
       "      <td>51735</td>\n",
       "      <td>RAPGEF6</td>\n",
       "      <td>0.624914</td>\n",
       "      <td>5.689873e-138</td>\n",
       "    </tr>\n",
       "    <tr>\n",
       "      <th>2</th>\n",
       "      <td>324</td>\n",
       "      <td>APC</td>\n",
       "      <td>373</td>\n",
       "      <td>TRIM23</td>\n",
       "      <td>0.624118</td>\n",
       "      <td>1.647260e-137</td>\n",
       "    </tr>\n",
       "    <tr>\n",
       "      <th>3</th>\n",
       "      <td>324</td>\n",
       "      <td>APC</td>\n",
       "      <td>27125</td>\n",
       "      <td>AFF4</td>\n",
       "      <td>0.607897</td>\n",
       "      <td>2.183924e-128</td>\n",
       "    </tr>\n",
       "    <tr>\n",
       "      <th>4</th>\n",
       "      <td>324</td>\n",
       "      <td>APC</td>\n",
       "      <td>4090</td>\n",
       "      <td>SMAD5</td>\n",
       "      <td>0.599476</td>\n",
       "      <td>7.424228e-124</td>\n",
       "    </tr>\n",
       "    <tr>\n",
       "      <th>...</th>\n",
       "      <td>...</td>\n",
       "      <td>...</td>\n",
       "      <td>...</td>\n",
       "      <td>...</td>\n",
       "      <td>...</td>\n",
       "      <td>...</td>\n",
       "    </tr>\n",
       "    <tr>\n",
       "      <th>137</th>\n",
       "      <td>324</td>\n",
       "      <td>APC</td>\n",
       "      <td>5469</td>\n",
       "      <td>MED1</td>\n",
       "      <td>0.501736</td>\n",
       "      <td>7.567374e-80</td>\n",
       "    </tr>\n",
       "    <tr>\n",
       "      <th>138</th>\n",
       "      <td>324</td>\n",
       "      <td>APC</td>\n",
       "      <td>51164</td>\n",
       "      <td>DCTN4</td>\n",
       "      <td>0.501515</td>\n",
       "      <td>9.181577e-80</td>\n",
       "    </tr>\n",
       "    <tr>\n",
       "      <th>139</th>\n",
       "      <td>324</td>\n",
       "      <td>APC</td>\n",
       "      <td>23367</td>\n",
       "      <td>LARP1</td>\n",
       "      <td>0.500949</td>\n",
       "      <td>1.506241e-79</td>\n",
       "    </tr>\n",
       "    <tr>\n",
       "      <th>140</th>\n",
       "      <td>324</td>\n",
       "      <td>APC</td>\n",
       "      <td>10746</td>\n",
       "      <td>MAP3K2</td>\n",
       "      <td>0.500912</td>\n",
       "      <td>1.554829e-79</td>\n",
       "    </tr>\n",
       "    <tr>\n",
       "      <th>141</th>\n",
       "      <td>324</td>\n",
       "      <td>APC</td>\n",
       "      <td>55662</td>\n",
       "      <td>HIF1AN</td>\n",
       "      <td>0.500437</td>\n",
       "      <td>2.353087e-79</td>\n",
       "    </tr>\n",
       "  </tbody>\n",
       "</table>\n",
       "<p>142 rows × 6 columns</p>\n",
       "</div>"
      ],
      "text/plain": [
       "                   EntrezID_Inactive Gene_Inactive  EntrezID_SL_Candidate  \\\n",
       "Gene_Inactive                                                               \n",
       "APC           0                  324           APC                  64848   \n",
       "              1                  324           APC                  51735   \n",
       "              2                  324           APC                    373   \n",
       "              3                  324           APC                  27125   \n",
       "              4                  324           APC                   4090   \n",
       "...                              ...           ...                    ...   \n",
       "              137                324           APC                   5469   \n",
       "              138                324           APC                  51164   \n",
       "              139                324           APC                  23367   \n",
       "              140                324           APC                  10746   \n",
       "              141                324           APC                  55662   \n",
       "\n",
       "                  Gene_SL_Candidate  Correlation         PValue  \n",
       "Gene_Inactive                                                    \n",
       "APC           0              YTHDC2     0.636174  1.200051e-144  \n",
       "              1             RAPGEF6     0.624914  5.689873e-138  \n",
       "              2              TRIM23     0.624118  1.647260e-137  \n",
       "              3                AFF4     0.607897  2.183924e-128  \n",
       "              4               SMAD5     0.599476  7.424228e-124  \n",
       "...                             ...          ...            ...  \n",
       "              137              MED1     0.501736   7.567374e-80  \n",
       "              138             DCTN4     0.501515   9.181577e-80  \n",
       "              139             LARP1     0.500949   1.506241e-79  \n",
       "              140            MAP3K2     0.500912   1.554829e-79  \n",
       "              141            HIF1AN     0.500437   2.353087e-79  \n",
       "\n",
       "[142 rows x 6 columns]"
      ]
     },
     "execution_count": 19,
     "metadata": {},
     "output_type": "execute_result"
    }
   ],
   "source": [
    "coexp_CCLE"
   ]
  },
  {
   "cell_type": "markdown",
   "metadata": {},
   "source": [
    "Results are saved into bigquery table"
   ]
  },
  {
   "cell_type": "code",
   "execution_count": 128,
   "metadata": {},
   "outputs": [
    {
     "name": "stderr",
     "output_type": "stream",
     "text": [
      "1it [00:02,  2.38s/it]\n"
     ]
    },
    {
     "name": "stdout",
     "output_type": "stream",
     "text": [
      "Table created successfully\n"
     ]
    }
   ],
   "source": [
    "CreateTable(client, coexp_CCLE, 'pipeline_results', 'DAISY_coexpression_CCLE_sl_pairs_trial', project_id, \"\")"
   ]
  },
  {
   "cell_type": "markdown",
   "metadata": {},
   "source": [
    "#### 4.2. Genomic survival of fittest module"
   ]
  },
  {
   "cell_type": "markdown",
   "metadata": {},
   "source": [
    "4.2.1. Genomic survival of fittest module on CCLE data"
   ]
  },
  {
   "cell_type": "code",
   "execution_count": 24,
   "metadata": {
    "scrolled": true
   },
   "outputs": [
    {
     "name": "stderr",
     "output_type": "stream",
     "text": [
      "../scripts\\DAISY_operations.py:334: SettingWithCopyWarning: \n",
      "A value is trying to be set on a copy of a slice from a DataFrame.\n",
      "Try using .loc[row_indexer,col_indexer] = value instead\n",
      "\n",
      "See the caveats in the documentation: https://pandas.pydata.org/pandas-docs/stable/user_guide/indexing.html#returning-a-view-versus-a-copy\n",
      "  report['PValue']=FDR\n"
     ]
    }
   ],
   "source": [
    "sof_CCLE = SurvivalOfFittest(client, \"CCLE\", p_threshold, input_entrez_ids['EntrezID'][0:1], input_mutations, percentile_threshold, cn_threshold, pval_correction)\n"
   ]
  },
  {
   "cell_type": "code",
   "execution_count": 25,
   "metadata": {},
   "outputs": [
    {
     "data": {
      "text/html": [
       "<div>\n",
       "<style scoped>\n",
       "    .dataframe tbody tr th:only-of-type {\n",
       "        vertical-align: middle;\n",
       "    }\n",
       "\n",
       "    .dataframe tbody tr th {\n",
       "        vertical-align: top;\n",
       "    }\n",
       "\n",
       "    .dataframe thead th {\n",
       "        text-align: right;\n",
       "    }\n",
       "</style>\n",
       "<table border=\"1\" class=\"dataframe\">\n",
       "  <thead>\n",
       "    <tr style=\"text-align: right;\">\n",
       "      <th></th>\n",
       "      <th></th>\n",
       "      <th>EntrezID_Inactive</th>\n",
       "      <th>Gene_Inactive</th>\n",
       "      <th>EntrezID_SL_Candidate</th>\n",
       "      <th>Gene_SL_Candidate</th>\n",
       "      <th>PValue</th>\n",
       "    </tr>\n",
       "    <tr>\n",
       "      <th>Gene_Inactive</th>\n",
       "      <th></th>\n",
       "      <th></th>\n",
       "      <th></th>\n",
       "      <th></th>\n",
       "      <th></th>\n",
       "      <th></th>\n",
       "    </tr>\n",
       "  </thead>\n",
       "  <tbody>\n",
       "    <tr>\n",
       "      <th rowspan=\"11\" valign=\"top\">APC</th>\n",
       "      <th>0</th>\n",
       "      <td>324</td>\n",
       "      <td>APC</td>\n",
       "      <td>160857</td>\n",
       "      <td>CCDC122</td>\n",
       "      <td>0.003147</td>\n",
       "    </tr>\n",
       "    <tr>\n",
       "      <th>1</th>\n",
       "      <td>324</td>\n",
       "      <td>APC</td>\n",
       "      <td>10129</td>\n",
       "      <td>FRY</td>\n",
       "      <td>0.004754</td>\n",
       "    </tr>\n",
       "    <tr>\n",
       "      <th>2</th>\n",
       "      <td>324</td>\n",
       "      <td>APC</td>\n",
       "      <td>100507099</td>\n",
       "      <td>FRY-AS1</td>\n",
       "      <td>0.004754</td>\n",
       "    </tr>\n",
       "    <tr>\n",
       "      <th>3</th>\n",
       "      <td>324</td>\n",
       "      <td>APC</td>\n",
       "      <td>196549</td>\n",
       "      <td>EEF1DP3</td>\n",
       "      <td>0.006678</td>\n",
       "    </tr>\n",
       "    <tr>\n",
       "      <th>4</th>\n",
       "      <td>324</td>\n",
       "      <td>APC</td>\n",
       "      <td>1997</td>\n",
       "      <td>ELF1</td>\n",
       "      <td>0.006858</td>\n",
       "    </tr>\n",
       "    <tr>\n",
       "      <th>...</th>\n",
       "      <td>...</td>\n",
       "      <td>...</td>\n",
       "      <td>...</td>\n",
       "      <td>...</td>\n",
       "      <td>...</td>\n",
       "    </tr>\n",
       "    <tr>\n",
       "      <th>155</th>\n",
       "      <td>324</td>\n",
       "      <td>APC</td>\n",
       "      <td>341676</td>\n",
       "      <td>NEK5</td>\n",
       "      <td>0.047518</td>\n",
       "    </tr>\n",
       "    <tr>\n",
       "      <th>156</th>\n",
       "      <td>324</td>\n",
       "      <td>APC</td>\n",
       "      <td>9724</td>\n",
       "      <td>UTP14C</td>\n",
       "      <td>0.047518</td>\n",
       "    </tr>\n",
       "    <tr>\n",
       "      <th>158</th>\n",
       "      <td>324</td>\n",
       "      <td>APC</td>\n",
       "      <td>101926951</td>\n",
       "      <td>LINC02339</td>\n",
       "      <td>0.047648</td>\n",
       "    </tr>\n",
       "    <tr>\n",
       "      <th>157</th>\n",
       "      <td>324</td>\n",
       "      <td>APC</td>\n",
       "      <td>64881</td>\n",
       "      <td>PCDH20</td>\n",
       "      <td>0.047648</td>\n",
       "    </tr>\n",
       "    <tr>\n",
       "      <th>159</th>\n",
       "      <td>324</td>\n",
       "      <td>APC</td>\n",
       "      <td>22862</td>\n",
       "      <td>FNDC3A</td>\n",
       "      <td>0.048796</td>\n",
       "    </tr>\n",
       "  </tbody>\n",
       "</table>\n",
       "<p>160 rows × 5 columns</p>\n",
       "</div>"
      ],
      "text/plain": [
       "                   EntrezID_Inactive Gene_Inactive  EntrezID_SL_Candidate  \\\n",
       "Gene_Inactive                                                               \n",
       "APC           0                  324           APC                 160857   \n",
       "              1                  324           APC                  10129   \n",
       "              2                  324           APC              100507099   \n",
       "              3                  324           APC                 196549   \n",
       "              4                  324           APC                   1997   \n",
       "...                              ...           ...                    ...   \n",
       "              155                324           APC                 341676   \n",
       "              156                324           APC                   9724   \n",
       "              158                324           APC              101926951   \n",
       "              157                324           APC                  64881   \n",
       "              159                324           APC                  22862   \n",
       "\n",
       "                  Gene_SL_Candidate    PValue  \n",
       "Gene_Inactive                                  \n",
       "APC           0             CCDC122  0.003147  \n",
       "              1                 FRY  0.004754  \n",
       "              2             FRY-AS1  0.004754  \n",
       "              3             EEF1DP3  0.006678  \n",
       "              4                ELF1  0.006858  \n",
       "...                             ...       ...  \n",
       "              155              NEK5  0.047518  \n",
       "              156            UTP14C  0.047518  \n",
       "              158         LINC02339  0.047648  \n",
       "              157            PCDH20  0.047648  \n",
       "              159            FNDC3A  0.048796  \n",
       "\n",
       "[160 rows x 5 columns]"
      ]
     },
     "execution_count": 25,
     "metadata": {},
     "output_type": "execute_result"
    }
   ],
   "source": [
    "sof_CCLE"
   ]
  },
  {
   "cell_type": "markdown",
   "metadata": {},
   "source": [
    "Results are saved into bigquery table"
   ]
  },
  {
   "cell_type": "code",
   "execution_count": 131,
   "metadata": {},
   "outputs": [
    {
     "name": "stderr",
     "output_type": "stream",
     "text": [
      "1it [00:02,  2.82s/it]\n"
     ]
    },
    {
     "name": "stdout",
     "output_type": "stream",
     "text": [
      "Table created successfully\n"
     ]
    }
   ],
   "source": [
    "CreateTable(client, sof_CCLE, 'pipeline_results', 'DAISY_sof_CCLE_sl_pairs_trial', project_id, \"\")"
   ]
  },
  {
   "cell_type": "markdown",
   "metadata": {},
   "source": [
    "<br>\n",
    "4.2.2. Genomic survival of fittest module on PancancerAtlas"
   ]
  },
  {
   "cell_type": "code",
   "execution_count": 26,
   "metadata": {},
   "outputs": [
    {
     "name": "stderr",
     "output_type": "stream",
     "text": [
      "../scripts\\DAISY_operations.py:334: SettingWithCopyWarning: \n",
      "A value is trying to be set on a copy of a slice from a DataFrame.\n",
      "Try using .loc[row_indexer,col_indexer] = value instead\n",
      "\n",
      "See the caveats in the documentation: https://pandas.pydata.org/pandas-docs/stable/user_guide/indexing.html#returning-a-view-versus-a-copy\n",
      "  report['PValue']=FDR\n"
     ]
    }
   ],
   "source": [
    "sof_pancancer = SurvivalOfFittest(client, \"PanCancerAtlas\", p_threshold, input_entrez_ids['EntrezID'][0:1], input_mutations, percentile_threshold, cn_threshold,pval_correction)\n"
   ]
  },
  {
   "cell_type": "code",
   "execution_count": 27,
   "metadata": {
    "scrolled": true
   },
   "outputs": [
    {
     "data": {
      "text/html": [
       "<div>\n",
       "<style scoped>\n",
       "    .dataframe tbody tr th:only-of-type {\n",
       "        vertical-align: middle;\n",
       "    }\n",
       "\n",
       "    .dataframe tbody tr th {\n",
       "        vertical-align: top;\n",
       "    }\n",
       "\n",
       "    .dataframe thead th {\n",
       "        text-align: right;\n",
       "    }\n",
       "</style>\n",
       "<table border=\"1\" class=\"dataframe\">\n",
       "  <thead>\n",
       "    <tr style=\"text-align: right;\">\n",
       "      <th></th>\n",
       "      <th></th>\n",
       "      <th>EntrezID_Inactive</th>\n",
       "      <th>Gene_Inactive</th>\n",
       "      <th>EntrezID_SL_Candidate</th>\n",
       "      <th>Gene_SL_Candidate</th>\n",
       "      <th>PValue</th>\n",
       "    </tr>\n",
       "    <tr>\n",
       "      <th>Gene_Inactive</th>\n",
       "      <th></th>\n",
       "      <th></th>\n",
       "      <th></th>\n",
       "      <th></th>\n",
       "      <th></th>\n",
       "      <th></th>\n",
       "    </tr>\n",
       "  </thead>\n",
       "  <tbody>\n",
       "    <tr>\n",
       "      <th rowspan=\"11\" valign=\"top\">APC</th>\n",
       "      <th>0</th>\n",
       "      <td>324</td>\n",
       "      <td>APC</td>\n",
       "      <td>100130274</td>\n",
       "      <td>CCDC166</td>\n",
       "      <td>0.000000</td>\n",
       "    </tr>\n",
       "    <tr>\n",
       "      <th>1021</th>\n",
       "      <td>324</td>\n",
       "      <td>APC</td>\n",
       "      <td>4987</td>\n",
       "      <td>OPRL1</td>\n",
       "      <td>0.000000</td>\n",
       "    </tr>\n",
       "    <tr>\n",
       "      <th>1020</th>\n",
       "      <td>324</td>\n",
       "      <td>APC</td>\n",
       "      <td>154761</td>\n",
       "      <td>LOC154761</td>\n",
       "      <td>0.000000</td>\n",
       "    </tr>\n",
       "    <tr>\n",
       "      <th>1019</th>\n",
       "      <td>324</td>\n",
       "      <td>APC</td>\n",
       "      <td>1129</td>\n",
       "      <td>CHRM2</td>\n",
       "      <td>0.000000</td>\n",
       "    </tr>\n",
       "    <tr>\n",
       "      <th>1018</th>\n",
       "      <td>324</td>\n",
       "      <td>APC</td>\n",
       "      <td>414919</td>\n",
       "      <td>C8orf82</td>\n",
       "      <td>0.000000</td>\n",
       "    </tr>\n",
       "    <tr>\n",
       "      <th>...</th>\n",
       "      <td>...</td>\n",
       "      <td>...</td>\n",
       "      <td>...</td>\n",
       "      <td>...</td>\n",
       "      <td>...</td>\n",
       "    </tr>\n",
       "    <tr>\n",
       "      <th>5006</th>\n",
       "      <td>324</td>\n",
       "      <td>APC</td>\n",
       "      <td>7272</td>\n",
       "      <td>TTK</td>\n",
       "      <td>0.046663</td>\n",
       "    </tr>\n",
       "    <tr>\n",
       "      <th>5007</th>\n",
       "      <td>324</td>\n",
       "      <td>APC</td>\n",
       "      <td>318</td>\n",
       "      <td>NUDT2</td>\n",
       "      <td>0.048370</td>\n",
       "    </tr>\n",
       "    <tr>\n",
       "      <th>5008</th>\n",
       "      <td>324</td>\n",
       "      <td>APC</td>\n",
       "      <td>347240</td>\n",
       "      <td>KIF24</td>\n",
       "      <td>0.048848</td>\n",
       "    </tr>\n",
       "    <tr>\n",
       "      <th>5009</th>\n",
       "      <td>324</td>\n",
       "      <td>APC</td>\n",
       "      <td>151234</td>\n",
       "      <td>SULT1C2P1</td>\n",
       "      <td>0.048999</td>\n",
       "    </tr>\n",
       "    <tr>\n",
       "      <th>5010</th>\n",
       "      <td>324</td>\n",
       "      <td>APC</td>\n",
       "      <td>100113379</td>\n",
       "      <td>SNORD121A</td>\n",
       "      <td>0.049908</td>\n",
       "    </tr>\n",
       "  </tbody>\n",
       "</table>\n",
       "<p>5011 rows × 5 columns</p>\n",
       "</div>"
      ],
      "text/plain": [
       "                    EntrezID_Inactive Gene_Inactive  EntrezID_SL_Candidate  \\\n",
       "Gene_Inactive                                                                \n",
       "APC           0                   324           APC              100130274   \n",
       "              1021                324           APC                   4987   \n",
       "              1020                324           APC                 154761   \n",
       "              1019                324           APC                   1129   \n",
       "              1018                324           APC                 414919   \n",
       "...                               ...           ...                    ...   \n",
       "              5006                324           APC                   7272   \n",
       "              5007                324           APC                    318   \n",
       "              5008                324           APC                 347240   \n",
       "              5009                324           APC                 151234   \n",
       "              5010                324           APC              100113379   \n",
       "\n",
       "                   Gene_SL_Candidate    PValue  \n",
       "Gene_Inactive                                   \n",
       "APC           0              CCDC166  0.000000  \n",
       "              1021             OPRL1  0.000000  \n",
       "              1020         LOC154761  0.000000  \n",
       "              1019             CHRM2  0.000000  \n",
       "              1018           C8orf82  0.000000  \n",
       "...                              ...       ...  \n",
       "              5006               TTK  0.046663  \n",
       "              5007             NUDT2  0.048370  \n",
       "              5008             KIF24  0.048848  \n",
       "              5009         SULT1C2P1  0.048999  \n",
       "              5010         SNORD121A  0.049908  \n",
       "\n",
       "[5011 rows x 5 columns]"
      ]
     },
     "execution_count": 27,
     "metadata": {},
     "output_type": "execute_result"
    }
   ],
   "source": [
    "sof_pancancer"
   ]
  },
  {
   "cell_type": "markdown",
   "metadata": {},
   "source": [
    "Results are saved in bigquery table"
   ]
  },
  {
   "cell_type": "code",
   "execution_count": 134,
   "metadata": {},
   "outputs": [
    {
     "name": "stderr",
     "output_type": "stream",
     "text": [
      "1it [00:03,  3.33s/it]\n"
     ]
    },
    {
     "name": "stdout",
     "output_type": "stream",
     "text": [
      "Table created successfully\n"
     ]
    }
   ],
   "source": [
    "CreateTable(client, sof_pancancer, 'pipeline_results', 'DAISY_sof_pancancer_sl_pairs_trial', project_id, \"\")"
   ]
  },
  {
   "cell_type": "markdown",
   "metadata": {},
   "source": [
    "#### 4.3. Functional examination inference module"
   ]
  },
  {
   "cell_type": "markdown",
   "metadata": {},
   "source": [
    "4.3.1. CRISPR based functional examination inference module"
   ]
  },
  {
   "cell_type": "code",
   "execution_count": 29,
   "metadata": {
    "scrolled": true
   },
   "outputs": [],
   "source": [
    "crispr_result = FunctionalExamination(client, \"CRISPR\", p_threshold, input_entrez_ids['EntrezID'][0:1], percentile_threshold, cn_threshold, 'none')\n"
   ]
  },
  {
   "cell_type": "code",
   "execution_count": 30,
   "metadata": {},
   "outputs": [
    {
     "data": {
      "text/html": [
       "<div>\n",
       "<style scoped>\n",
       "    .dataframe tbody tr th:only-of-type {\n",
       "        vertical-align: middle;\n",
       "    }\n",
       "\n",
       "    .dataframe tbody tr th {\n",
       "        vertical-align: top;\n",
       "    }\n",
       "\n",
       "    .dataframe thead th {\n",
       "        text-align: right;\n",
       "    }\n",
       "</style>\n",
       "<table border=\"1\" class=\"dataframe\">\n",
       "  <thead>\n",
       "    <tr style=\"text-align: right;\">\n",
       "      <th></th>\n",
       "      <th></th>\n",
       "      <th>EntrezID_Inactive</th>\n",
       "      <th>Gene_Inactive</th>\n",
       "      <th>EntrezID_SL_Candidate</th>\n",
       "      <th>Gene_SL_Candidate</th>\n",
       "      <th>PValue</th>\n",
       "    </tr>\n",
       "    <tr>\n",
       "      <th>Gene_Inactive</th>\n",
       "      <th></th>\n",
       "      <th></th>\n",
       "      <th></th>\n",
       "      <th></th>\n",
       "      <th></th>\n",
       "      <th></th>\n",
       "    </tr>\n",
       "  </thead>\n",
       "  <tbody>\n",
       "    <tr>\n",
       "      <th rowspan=\"11\" valign=\"top\">APC</th>\n",
       "      <th>0</th>\n",
       "      <td>324</td>\n",
       "      <td>APC</td>\n",
       "      <td>6728</td>\n",
       "      <td>SRP19</td>\n",
       "      <td>0.000001</td>\n",
       "    </tr>\n",
       "    <tr>\n",
       "      <th>1</th>\n",
       "      <td>324</td>\n",
       "      <td>APC</td>\n",
       "      <td>6943</td>\n",
       "      <td>TCF21</td>\n",
       "      <td>0.000044</td>\n",
       "    </tr>\n",
       "    <tr>\n",
       "      <th>2</th>\n",
       "      <td>324</td>\n",
       "      <td>APC</td>\n",
       "      <td>7766</td>\n",
       "      <td>ZNF223</td>\n",
       "      <td>0.000047</td>\n",
       "    </tr>\n",
       "    <tr>\n",
       "      <th>3</th>\n",
       "      <td>324</td>\n",
       "      <td>APC</td>\n",
       "      <td>8178</td>\n",
       "      <td>ELL</td>\n",
       "      <td>0.000161</td>\n",
       "    </tr>\n",
       "    <tr>\n",
       "      <th>4</th>\n",
       "      <td>324</td>\n",
       "      <td>APC</td>\n",
       "      <td>66000</td>\n",
       "      <td>TMEM108</td>\n",
       "      <td>0.000239</td>\n",
       "    </tr>\n",
       "    <tr>\n",
       "      <th>...</th>\n",
       "      <td>...</td>\n",
       "      <td>...</td>\n",
       "      <td>...</td>\n",
       "      <td>...</td>\n",
       "      <td>...</td>\n",
       "    </tr>\n",
       "    <tr>\n",
       "      <th>1061</th>\n",
       "      <td>324</td>\n",
       "      <td>APC</td>\n",
       "      <td>1673</td>\n",
       "      <td>DEFB4A</td>\n",
       "      <td>0.049898</td>\n",
       "    </tr>\n",
       "    <tr>\n",
       "      <th>1062</th>\n",
       "      <td>324</td>\n",
       "      <td>APC</td>\n",
       "      <td>84818</td>\n",
       "      <td>IL17RC</td>\n",
       "      <td>0.049898</td>\n",
       "    </tr>\n",
       "    <tr>\n",
       "      <th>1059</th>\n",
       "      <td>324</td>\n",
       "      <td>APC</td>\n",
       "      <td>26509</td>\n",
       "      <td>MYOF</td>\n",
       "      <td>0.049898</td>\n",
       "    </tr>\n",
       "    <tr>\n",
       "      <th>1060</th>\n",
       "      <td>324</td>\n",
       "      <td>APC</td>\n",
       "      <td>23678</td>\n",
       "      <td>SGK3</td>\n",
       "      <td>0.049898</td>\n",
       "    </tr>\n",
       "    <tr>\n",
       "      <th>1063</th>\n",
       "      <td>324</td>\n",
       "      <td>APC</td>\n",
       "      <td>65982</td>\n",
       "      <td>ZSCAN18</td>\n",
       "      <td>0.049898</td>\n",
       "    </tr>\n",
       "  </tbody>\n",
       "</table>\n",
       "<p>1064 rows × 5 columns</p>\n",
       "</div>"
      ],
      "text/plain": [
       "                    EntrezID_Inactive Gene_Inactive  EntrezID_SL_Candidate  \\\n",
       "Gene_Inactive                                                                \n",
       "APC           0                   324           APC                   6728   \n",
       "              1                   324           APC                   6943   \n",
       "              2                   324           APC                   7766   \n",
       "              3                   324           APC                   8178   \n",
       "              4                   324           APC                  66000   \n",
       "...                               ...           ...                    ...   \n",
       "              1061                324           APC                   1673   \n",
       "              1062                324           APC                  84818   \n",
       "              1059                324           APC                  26509   \n",
       "              1060                324           APC                  23678   \n",
       "              1063                324           APC                  65982   \n",
       "\n",
       "                   Gene_SL_Candidate    PValue  \n",
       "Gene_Inactive                                   \n",
       "APC           0                SRP19  0.000001  \n",
       "              1                TCF21  0.000044  \n",
       "              2               ZNF223  0.000047  \n",
       "              3                  ELL  0.000161  \n",
       "              4              TMEM108  0.000239  \n",
       "...                              ...       ...  \n",
       "              1061            DEFB4A  0.049898  \n",
       "              1062            IL17RC  0.049898  \n",
       "              1059              MYOF  0.049898  \n",
       "              1060              SGK3  0.049898  \n",
       "              1063           ZSCAN18  0.049898  \n",
       "\n",
       "[1064 rows x 5 columns]"
      ]
     },
     "execution_count": 30,
     "metadata": {},
     "output_type": "execute_result"
    }
   ],
   "source": [
    "crispr_result"
   ]
  },
  {
   "cell_type": "markdown",
   "metadata": {},
   "source": [
    "Results are saved in bigquery table"
   ]
  },
  {
   "cell_type": "code",
   "execution_count": 137,
   "metadata": {},
   "outputs": [
    {
     "name": "stderr",
     "output_type": "stream",
     "text": [
      "1it [00:11, 11.31s/it]\n"
     ]
    },
    {
     "name": "stdout",
     "output_type": "stream",
     "text": [
      "Table created successfully\n"
     ]
    }
   ],
   "source": [
    "CreateTable(client, crispr_result, 'pipeline_results', 'DAISY_func_ex_crispr_sl_pairs_trial', project_id, \"\")"
   ]
  },
  {
   "cell_type": "markdown",
   "metadata": {},
   "source": [
    "<br>\n",
    "4.3.2. shRNA based functional examination inference module"
   ]
  },
  {
   "cell_type": "code",
   "execution_count": 31,
   "metadata": {},
   "outputs": [],
   "source": [
    "siRNA_result = FunctionalExamination(client, \"siRNA\", p_threshold, input_entrez_ids['EntrezID'][0:1], percentile_threshold, cn_threshold, 'none')\n"
   ]
  },
  {
   "cell_type": "code",
   "execution_count": 32,
   "metadata": {
    "scrolled": true
   },
   "outputs": [
    {
     "data": {
      "text/html": [
       "<div>\n",
       "<style scoped>\n",
       "    .dataframe tbody tr th:only-of-type {\n",
       "        vertical-align: middle;\n",
       "    }\n",
       "\n",
       "    .dataframe tbody tr th {\n",
       "        vertical-align: top;\n",
       "    }\n",
       "\n",
       "    .dataframe thead th {\n",
       "        text-align: right;\n",
       "    }\n",
       "</style>\n",
       "<table border=\"1\" class=\"dataframe\">\n",
       "  <thead>\n",
       "    <tr style=\"text-align: right;\">\n",
       "      <th></th>\n",
       "      <th></th>\n",
       "      <th>EntrezID_Inactive</th>\n",
       "      <th>Gene_Inactive</th>\n",
       "      <th>EntrezID_SL_Candidate</th>\n",
       "      <th>Gene_SL_Candidate</th>\n",
       "      <th>PValue</th>\n",
       "    </tr>\n",
       "    <tr>\n",
       "      <th>Gene_Inactive</th>\n",
       "      <th></th>\n",
       "      <th></th>\n",
       "      <th></th>\n",
       "      <th></th>\n",
       "      <th></th>\n",
       "      <th></th>\n",
       "    </tr>\n",
       "  </thead>\n",
       "  <tbody>\n",
       "    <tr>\n",
       "      <th rowspan=\"11\" valign=\"top\">APC</th>\n",
       "      <th>0</th>\n",
       "      <td>324</td>\n",
       "      <td>APC</td>\n",
       "      <td>10890</td>\n",
       "      <td>RAB10</td>\n",
       "      <td>0.000065</td>\n",
       "    </tr>\n",
       "    <tr>\n",
       "      <th>1</th>\n",
       "      <td>324</td>\n",
       "      <td>APC</td>\n",
       "      <td>79981</td>\n",
       "      <td>FRMD1</td>\n",
       "      <td>0.000183</td>\n",
       "    </tr>\n",
       "    <tr>\n",
       "      <th>2</th>\n",
       "      <td>324</td>\n",
       "      <td>APC</td>\n",
       "      <td>81857</td>\n",
       "      <td>MED25</td>\n",
       "      <td>0.000204</td>\n",
       "    </tr>\n",
       "    <tr>\n",
       "      <th>3</th>\n",
       "      <td>324</td>\n",
       "      <td>APC</td>\n",
       "      <td>79582</td>\n",
       "      <td>SPAG16</td>\n",
       "      <td>0.000523</td>\n",
       "    </tr>\n",
       "    <tr>\n",
       "      <th>4</th>\n",
       "      <td>324</td>\n",
       "      <td>APC</td>\n",
       "      <td>2778</td>\n",
       "      <td>GNAS</td>\n",
       "      <td>0.000603</td>\n",
       "    </tr>\n",
       "    <tr>\n",
       "      <th>...</th>\n",
       "      <td>...</td>\n",
       "      <td>...</td>\n",
       "      <td>...</td>\n",
       "      <td>...</td>\n",
       "      <td>...</td>\n",
       "    </tr>\n",
       "    <tr>\n",
       "      <th>982</th>\n",
       "      <td>324</td>\n",
       "      <td>APC</td>\n",
       "      <td>162966</td>\n",
       "      <td>ZNF600</td>\n",
       "      <td>0.049828</td>\n",
       "    </tr>\n",
       "    <tr>\n",
       "      <th>984</th>\n",
       "      <td>324</td>\n",
       "      <td>APC</td>\n",
       "      <td>400002</td>\n",
       "      <td>CLEC12A-AS1</td>\n",
       "      <td>0.049828</td>\n",
       "    </tr>\n",
       "    <tr>\n",
       "      <th>980</th>\n",
       "      <td>324</td>\n",
       "      <td>APC</td>\n",
       "      <td>63899</td>\n",
       "      <td>NSUN3</td>\n",
       "      <td>0.049828</td>\n",
       "    </tr>\n",
       "    <tr>\n",
       "      <th>981</th>\n",
       "      <td>324</td>\n",
       "      <td>APC</td>\n",
       "      <td>5368</td>\n",
       "      <td>PNOC</td>\n",
       "      <td>0.049828</td>\n",
       "    </tr>\n",
       "    <tr>\n",
       "      <th>985</th>\n",
       "      <td>324</td>\n",
       "      <td>APC</td>\n",
       "      <td>6120</td>\n",
       "      <td>RPE</td>\n",
       "      <td>0.049928</td>\n",
       "    </tr>\n",
       "  </tbody>\n",
       "</table>\n",
       "<p>986 rows × 5 columns</p>\n",
       "</div>"
      ],
      "text/plain": [
       "                   EntrezID_Inactive Gene_Inactive  EntrezID_SL_Candidate  \\\n",
       "Gene_Inactive                                                               \n",
       "APC           0                  324           APC                  10890   \n",
       "              1                  324           APC                  79981   \n",
       "              2                  324           APC                  81857   \n",
       "              3                  324           APC                  79582   \n",
       "              4                  324           APC                   2778   \n",
       "...                              ...           ...                    ...   \n",
       "              982                324           APC                 162966   \n",
       "              984                324           APC                 400002   \n",
       "              980                324           APC                  63899   \n",
       "              981                324           APC                   5368   \n",
       "              985                324           APC                   6120   \n",
       "\n",
       "                  Gene_SL_Candidate    PValue  \n",
       "Gene_Inactive                                  \n",
       "APC           0               RAB10  0.000065  \n",
       "              1               FRMD1  0.000183  \n",
       "              2               MED25  0.000204  \n",
       "              3              SPAG16  0.000523  \n",
       "              4                GNAS  0.000603  \n",
       "...                             ...       ...  \n",
       "              982            ZNF600  0.049828  \n",
       "              984       CLEC12A-AS1  0.049828  \n",
       "              980             NSUN3  0.049828  \n",
       "              981              PNOC  0.049828  \n",
       "              985               RPE  0.049928  \n",
       "\n",
       "[986 rows x 5 columns]"
      ]
     },
     "execution_count": 32,
     "metadata": {},
     "output_type": "execute_result"
    }
   ],
   "source": [
    "siRNA_result"
   ]
  },
  {
   "cell_type": "markdown",
   "metadata": {},
   "source": [
    "Results are saved in bigquery table"
   ]
  },
  {
   "cell_type": "code",
   "execution_count": 140,
   "metadata": {},
   "outputs": [
    {
     "name": "stderr",
     "output_type": "stream",
     "text": [
      "1it [00:02,  2.95s/it]\n"
     ]
    },
    {
     "name": "stdout",
     "output_type": "stream",
     "text": [
      "Table created successfully\n"
     ]
    }
   ],
   "source": [
    "CreateTable(client, siRNA_result, 'pipeline_results', 'DAISY_func_ex_siRNA_sl_pairs_trial', project_id, \"\")"
   ]
  },
  {
   "cell_type": "markdown",
   "metadata": {},
   "source": [
    "### 5. Integration of results"
   ]
  },
  {
   "cell_type": "markdown",
   "metadata": {},
   "source": [
    "5.1. Integration of the pairwise Co-expression gene co-expression results on Pancancer and CCLE"
   ]
  },
  {
   "cell_type": "code",
   "execution_count": 33,
   "metadata": {
    "scrolled": true
   },
   "outputs": [
    {
     "name": "stderr",
     "output_type": "stream",
     "text": [
      "C:\\Users\\salta\\miniconda3\\lib\\site-packages\\scipy\\stats\\stats.py:7661: RuntimeWarning: divide by zero encountered in log\n",
      "  statistic = -2 * np.sum(np.log(pvalues))\n"
     ]
    }
   ],
   "source": [
    "coexpression_result = UnionResults([coexp_pancancer, coexp_CCLE])"
   ]
  },
  {
   "cell_type": "code",
   "execution_count": 34,
   "metadata": {},
   "outputs": [
    {
     "data": {
      "text/html": [
       "<div>\n",
       "<style scoped>\n",
       "    .dataframe tbody tr th:only-of-type {\n",
       "        vertical-align: middle;\n",
       "    }\n",
       "\n",
       "    .dataframe tbody tr th {\n",
       "        vertical-align: top;\n",
       "    }\n",
       "\n",
       "    .dataframe thead th {\n",
       "        text-align: right;\n",
       "    }\n",
       "</style>\n",
       "<table border=\"1\" class=\"dataframe\">\n",
       "  <thead>\n",
       "    <tr style=\"text-align: right;\">\n",
       "      <th></th>\n",
       "      <th>EntrezID_Inactive</th>\n",
       "      <th>Gene_Inactive</th>\n",
       "      <th>EntrezID_SL_Candidate</th>\n",
       "      <th>Gene_SL_Candidate</th>\n",
       "      <th>Correlation_0</th>\n",
       "      <th>PValue_0</th>\n",
       "      <th>Correlation_1</th>\n",
       "      <th>PValue_1</th>\n",
       "      <th>PValue</th>\n",
       "    </tr>\n",
       "  </thead>\n",
       "  <tbody>\n",
       "    <tr>\n",
       "      <th>0</th>\n",
       "      <td>324</td>\n",
       "      <td>APC</td>\n",
       "      <td>146057</td>\n",
       "      <td>TTBK2</td>\n",
       "      <td>0.712054</td>\n",
       "      <td>0.0</td>\n",
       "      <td>NaN</td>\n",
       "      <td>NaN</td>\n",
       "      <td>0.000000e+00</td>\n",
       "    </tr>\n",
       "    <tr>\n",
       "      <th>1</th>\n",
       "      <td>324</td>\n",
       "      <td>APC</td>\n",
       "      <td>8411</td>\n",
       "      <td>EEA1</td>\n",
       "      <td>0.535663</td>\n",
       "      <td>0.0</td>\n",
       "      <td>NaN</td>\n",
       "      <td>NaN</td>\n",
       "      <td>0.000000e+00</td>\n",
       "    </tr>\n",
       "    <tr>\n",
       "      <th>2</th>\n",
       "      <td>324</td>\n",
       "      <td>APC</td>\n",
       "      <td>4763</td>\n",
       "      <td>NF1</td>\n",
       "      <td>0.535011</td>\n",
       "      <td>0.0</td>\n",
       "      <td>NaN</td>\n",
       "      <td>NaN</td>\n",
       "      <td>0.000000e+00</td>\n",
       "    </tr>\n",
       "    <tr>\n",
       "      <th>3</th>\n",
       "      <td>324</td>\n",
       "      <td>APC</td>\n",
       "      <td>26046</td>\n",
       "      <td>LTN1</td>\n",
       "      <td>0.534041</td>\n",
       "      <td>0.0</td>\n",
       "      <td>NaN</td>\n",
       "      <td>NaN</td>\n",
       "      <td>0.000000e+00</td>\n",
       "    </tr>\n",
       "    <tr>\n",
       "      <th>4</th>\n",
       "      <td>324</td>\n",
       "      <td>APC</td>\n",
       "      <td>91526</td>\n",
       "      <td>ANKRD44</td>\n",
       "      <td>0.534037</td>\n",
       "      <td>0.0</td>\n",
       "      <td>NaN</td>\n",
       "      <td>NaN</td>\n",
       "      <td>0.000000e+00</td>\n",
       "    </tr>\n",
       "    <tr>\n",
       "      <th>...</th>\n",
       "      <td>...</td>\n",
       "      <td>...</td>\n",
       "      <td>...</td>\n",
       "      <td>...</td>\n",
       "      <td>...</td>\n",
       "      <td>...</td>\n",
       "      <td>...</td>\n",
       "      <td>...</td>\n",
       "      <td>...</td>\n",
       "    </tr>\n",
       "    <tr>\n",
       "      <th>347</th>\n",
       "      <td>324</td>\n",
       "      <td>APC</td>\n",
       "      <td>9202</td>\n",
       "      <td>ZMYM4</td>\n",
       "      <td>NaN</td>\n",
       "      <td>NaN</td>\n",
       "      <td>0.502055</td>\n",
       "      <td>5.723647e-80</td>\n",
       "      <td>5.723647e-80</td>\n",
       "    </tr>\n",
       "    <tr>\n",
       "      <th>348</th>\n",
       "      <td>324</td>\n",
       "      <td>APC</td>\n",
       "      <td>5469</td>\n",
       "      <td>MED1</td>\n",
       "      <td>NaN</td>\n",
       "      <td>NaN</td>\n",
       "      <td>0.501736</td>\n",
       "      <td>7.567374e-80</td>\n",
       "      <td>7.567374e-80</td>\n",
       "    </tr>\n",
       "    <tr>\n",
       "      <th>349</th>\n",
       "      <td>324</td>\n",
       "      <td>APC</td>\n",
       "      <td>23367</td>\n",
       "      <td>LARP1</td>\n",
       "      <td>NaN</td>\n",
       "      <td>NaN</td>\n",
       "      <td>0.500949</td>\n",
       "      <td>1.506241e-79</td>\n",
       "      <td>1.506241e-79</td>\n",
       "    </tr>\n",
       "    <tr>\n",
       "      <th>350</th>\n",
       "      <td>324</td>\n",
       "      <td>APC</td>\n",
       "      <td>10746</td>\n",
       "      <td>MAP3K2</td>\n",
       "      <td>NaN</td>\n",
       "      <td>NaN</td>\n",
       "      <td>0.500912</td>\n",
       "      <td>1.554829e-79</td>\n",
       "      <td>1.554829e-79</td>\n",
       "    </tr>\n",
       "    <tr>\n",
       "      <th>351</th>\n",
       "      <td>324</td>\n",
       "      <td>APC</td>\n",
       "      <td>55662</td>\n",
       "      <td>HIF1AN</td>\n",
       "      <td>NaN</td>\n",
       "      <td>NaN</td>\n",
       "      <td>0.500437</td>\n",
       "      <td>2.353087e-79</td>\n",
       "      <td>2.353087e-79</td>\n",
       "    </tr>\n",
       "  </tbody>\n",
       "</table>\n",
       "<p>352 rows × 9 columns</p>\n",
       "</div>"
      ],
      "text/plain": [
       "     EntrezID_Inactive Gene_Inactive  EntrezID_SL_Candidate Gene_SL_Candidate  \\\n",
       "0                  324           APC                 146057             TTBK2   \n",
       "1                  324           APC                   8411              EEA1   \n",
       "2                  324           APC                   4763               NF1   \n",
       "3                  324           APC                  26046              LTN1   \n",
       "4                  324           APC                  91526           ANKRD44   \n",
       "..                 ...           ...                    ...               ...   \n",
       "347                324           APC                   9202             ZMYM4   \n",
       "348                324           APC                   5469              MED1   \n",
       "349                324           APC                  23367             LARP1   \n",
       "350                324           APC                  10746            MAP3K2   \n",
       "351                324           APC                  55662            HIF1AN   \n",
       "\n",
       "     Correlation_0  PValue_0  Correlation_1      PValue_1        PValue  \n",
       "0         0.712054       0.0            NaN           NaN  0.000000e+00  \n",
       "1         0.535663       0.0            NaN           NaN  0.000000e+00  \n",
       "2         0.535011       0.0            NaN           NaN  0.000000e+00  \n",
       "3         0.534041       0.0            NaN           NaN  0.000000e+00  \n",
       "4         0.534037       0.0            NaN           NaN  0.000000e+00  \n",
       "..             ...       ...            ...           ...           ...  \n",
       "347            NaN       NaN       0.502055  5.723647e-80  5.723647e-80  \n",
       "348            NaN       NaN       0.501736  7.567374e-80  7.567374e-80  \n",
       "349            NaN       NaN       0.500949  1.506241e-79  1.506241e-79  \n",
       "350            NaN       NaN       0.500912  1.554829e-79  1.554829e-79  \n",
       "351            NaN       NaN       0.500437  2.353087e-79  2.353087e-79  \n",
       "\n",
       "[352 rows x 9 columns]"
      ]
     },
     "execution_count": 34,
     "metadata": {},
     "output_type": "execute_result"
    }
   ],
   "source": [
    "coexpression_result"
   ]
  },
  {
   "cell_type": "code",
   "execution_count": 143,
   "metadata": {},
   "outputs": [
    {
     "name": "stdout",
     "output_type": "stream",
     "text": [
      "Table could not be created\n",
      "Table description could not be updated\n"
     ]
    }
   ],
   "source": [
    "CreateTable(client, coexpression_result, 'DAISY_RESULTS', 'Coexpression_Union_Pancancer_CCLE_trial', project_id, \"\")"
   ]
  },
  {
   "cell_type": "markdown",
   "metadata": {},
   "source": [
    "<br>\n",
    "5.2. Integration of Survival of Fittest results on Pancancer and CCLE"
   ]
  },
  {
   "cell_type": "code",
   "execution_count": 35,
   "metadata": {},
   "outputs": [
    {
     "name": "stderr",
     "output_type": "stream",
     "text": [
      "C:\\Users\\salta\\miniconda3\\lib\\site-packages\\scipy\\stats\\stats.py:7661: RuntimeWarning: divide by zero encountered in log\n",
      "  statistic = -2 * np.sum(np.log(pvalues))\n"
     ]
    }
   ],
   "source": [
    "sof_result = UnionResults([sof_CCLE, sof_pancancer])"
   ]
  },
  {
   "cell_type": "code",
   "execution_count": 36,
   "metadata": {},
   "outputs": [
    {
     "data": {
      "text/html": [
       "<div>\n",
       "<style scoped>\n",
       "    .dataframe tbody tr th:only-of-type {\n",
       "        vertical-align: middle;\n",
       "    }\n",
       "\n",
       "    .dataframe tbody tr th {\n",
       "        vertical-align: top;\n",
       "    }\n",
       "\n",
       "    .dataframe thead th {\n",
       "        text-align: right;\n",
       "    }\n",
       "</style>\n",
       "<table border=\"1\" class=\"dataframe\">\n",
       "  <thead>\n",
       "    <tr style=\"text-align: right;\">\n",
       "      <th></th>\n",
       "      <th>EntrezID_Inactive</th>\n",
       "      <th>Gene_Inactive</th>\n",
       "      <th>EntrezID_SL_Candidate</th>\n",
       "      <th>Gene_SL_Candidate</th>\n",
       "      <th>PValue_0</th>\n",
       "      <th>PValue_1</th>\n",
       "      <th>PValue</th>\n",
       "    </tr>\n",
       "  </thead>\n",
       "  <tbody>\n",
       "    <tr>\n",
       "      <th>0</th>\n",
       "      <td>324</td>\n",
       "      <td>APC</td>\n",
       "      <td>160857</td>\n",
       "      <td>CCDC122</td>\n",
       "      <td>0.003147</td>\n",
       "      <td>0.000000</td>\n",
       "      <td>0.000000</td>\n",
       "    </tr>\n",
       "    <tr>\n",
       "      <th>1</th>\n",
       "      <td>324</td>\n",
       "      <td>APC</td>\n",
       "      <td>10129</td>\n",
       "      <td>FRY</td>\n",
       "      <td>0.004754</td>\n",
       "      <td>0.000000</td>\n",
       "      <td>0.000000</td>\n",
       "    </tr>\n",
       "    <tr>\n",
       "      <th>2</th>\n",
       "      <td>324</td>\n",
       "      <td>APC</td>\n",
       "      <td>100507099</td>\n",
       "      <td>FRY-AS1</td>\n",
       "      <td>0.004754</td>\n",
       "      <td>0.000000</td>\n",
       "      <td>0.000000</td>\n",
       "    </tr>\n",
       "    <tr>\n",
       "      <th>3</th>\n",
       "      <td>324</td>\n",
       "      <td>APC</td>\n",
       "      <td>196549</td>\n",
       "      <td>EEF1DP3</td>\n",
       "      <td>0.006678</td>\n",
       "      <td>0.000000</td>\n",
       "      <td>0.000000</td>\n",
       "    </tr>\n",
       "    <tr>\n",
       "      <th>4</th>\n",
       "      <td>324</td>\n",
       "      <td>APC</td>\n",
       "      <td>1997</td>\n",
       "      <td>ELF1</td>\n",
       "      <td>0.006858</td>\n",
       "      <td>0.000000</td>\n",
       "      <td>0.000000</td>\n",
       "    </tr>\n",
       "    <tr>\n",
       "      <th>...</th>\n",
       "      <td>...</td>\n",
       "      <td>...</td>\n",
       "      <td>...</td>\n",
       "      <td>...</td>\n",
       "      <td>...</td>\n",
       "      <td>...</td>\n",
       "      <td>...</td>\n",
       "    </tr>\n",
       "    <tr>\n",
       "      <th>5036</th>\n",
       "      <td>324</td>\n",
       "      <td>APC</td>\n",
       "      <td>7272</td>\n",
       "      <td>TTK</td>\n",
       "      <td>NaN</td>\n",
       "      <td>0.046663</td>\n",
       "      <td>0.046663</td>\n",
       "    </tr>\n",
       "    <tr>\n",
       "      <th>5037</th>\n",
       "      <td>324</td>\n",
       "      <td>APC</td>\n",
       "      <td>318</td>\n",
       "      <td>NUDT2</td>\n",
       "      <td>NaN</td>\n",
       "      <td>0.048370</td>\n",
       "      <td>0.048370</td>\n",
       "    </tr>\n",
       "    <tr>\n",
       "      <th>5038</th>\n",
       "      <td>324</td>\n",
       "      <td>APC</td>\n",
       "      <td>347240</td>\n",
       "      <td>KIF24</td>\n",
       "      <td>NaN</td>\n",
       "      <td>0.048848</td>\n",
       "      <td>0.048848</td>\n",
       "    </tr>\n",
       "    <tr>\n",
       "      <th>5039</th>\n",
       "      <td>324</td>\n",
       "      <td>APC</td>\n",
       "      <td>151234</td>\n",
       "      <td>SULT1C2P1</td>\n",
       "      <td>NaN</td>\n",
       "      <td>0.048999</td>\n",
       "      <td>0.048999</td>\n",
       "    </tr>\n",
       "    <tr>\n",
       "      <th>5040</th>\n",
       "      <td>324</td>\n",
       "      <td>APC</td>\n",
       "      <td>100113379</td>\n",
       "      <td>SNORD121A</td>\n",
       "      <td>NaN</td>\n",
       "      <td>0.049908</td>\n",
       "      <td>0.049908</td>\n",
       "    </tr>\n",
       "  </tbody>\n",
       "</table>\n",
       "<p>5041 rows × 7 columns</p>\n",
       "</div>"
      ],
      "text/plain": [
       "      EntrezID_Inactive Gene_Inactive  EntrezID_SL_Candidate  \\\n",
       "0                   324           APC                 160857   \n",
       "1                   324           APC                  10129   \n",
       "2                   324           APC              100507099   \n",
       "3                   324           APC                 196549   \n",
       "4                   324           APC                   1997   \n",
       "...                 ...           ...                    ...   \n",
       "5036                324           APC                   7272   \n",
       "5037                324           APC                    318   \n",
       "5038                324           APC                 347240   \n",
       "5039                324           APC                 151234   \n",
       "5040                324           APC              100113379   \n",
       "\n",
       "     Gene_SL_Candidate  PValue_0  PValue_1    PValue  \n",
       "0              CCDC122  0.003147  0.000000  0.000000  \n",
       "1                  FRY  0.004754  0.000000  0.000000  \n",
       "2              FRY-AS1  0.004754  0.000000  0.000000  \n",
       "3              EEF1DP3  0.006678  0.000000  0.000000  \n",
       "4                 ELF1  0.006858  0.000000  0.000000  \n",
       "...                ...       ...       ...       ...  \n",
       "5036               TTK       NaN  0.046663  0.046663  \n",
       "5037             NUDT2       NaN  0.048370  0.048370  \n",
       "5038             KIF24       NaN  0.048848  0.048848  \n",
       "5039         SULT1C2P1       NaN  0.048999  0.048999  \n",
       "5040         SNORD121A       NaN  0.049908  0.049908  \n",
       "\n",
       "[5041 rows x 7 columns]"
      ]
     },
     "execution_count": 36,
     "metadata": {},
     "output_type": "execute_result"
    }
   ],
   "source": [
    "sof_result"
   ]
  },
  {
   "cell_type": "markdown",
   "metadata": {},
   "source": [
    "\n",
    "Results are saved in bigquery table"
   ]
  },
  {
   "cell_type": "code",
   "execution_count": 146,
   "metadata": {},
   "outputs": [
    {
     "ename": "TypeError",
     "evalue": "CreateTable() missing 1 required positional argument: 'table_desc'",
     "output_type": "error",
     "traceback": [
      "\u001b[0;31m---------------------------------------------------------------------------\u001b[0m",
      "\u001b[0;31mTypeError\u001b[0m                                 Traceback (most recent call last)",
      "\u001b[0;32m<ipython-input-146-a2d932089152>\u001b[0m in \u001b[0;36m<module>\u001b[0;34m\u001b[0m\n\u001b[0;32m----> 1\u001b[0;31m \u001b[0mCreateTable\u001b[0m\u001b[0;34m(\u001b[0m\u001b[0mclient\u001b[0m\u001b[0;34m,\u001b[0m \u001b[0msof_result\u001b[0m\u001b[0;34m,\u001b[0m \u001b[0;34m'DAISY_RESULTS'\u001b[0m\u001b[0;34m,\u001b[0m \u001b[0;34m'SOF_Union_Pancancer_CCLE_trial'\u001b[0m\u001b[0;34m,\u001b[0m \u001b[0mproject_id\u001b[0m\u001b[0;34m)\u001b[0m\u001b[0;34m\u001b[0m\u001b[0;34m\u001b[0m\u001b[0m\n\u001b[0m",
      "\u001b[0;31mTypeError\u001b[0m: CreateTable() missing 1 required positional argument: 'table_desc'"
     ]
    }
   ],
   "source": [
    "CreateTable(client, sof_result, 'DAISY_RESULTS', 'SOF_Union_Pancancer_CCLE_trial', project_id)"
   ]
  },
  {
   "cell_type": "markdown",
   "metadata": {},
   "source": [
    "<br>\n",
    "5.3. Integration of shRNA and CRISPR based functional examination inference module."
   ]
  },
  {
   "cell_type": "code",
   "execution_count": 37,
   "metadata": {},
   "outputs": [],
   "source": [
    "functional_screening_result = UnionResults([crispr_result, siRNA_result])"
   ]
  },
  {
   "cell_type": "code",
   "execution_count": null,
   "metadata": {},
   "outputs": [],
   "source": [
    "CreateTable(client, functional_screening_result, 'DAISY_RESULTS', 'FuncEx_Union_CRISPR_siRNA_trial', project_id, \"\")"
   ]
  },
  {
   "cell_type": "markdown",
   "metadata": {},
   "source": [
    "<br>\n",
    "5.4. Merging the results from all three inference procedures"
   ]
  },
  {
   "cell_type": "code",
   "execution_count": 38,
   "metadata": {},
   "outputs": [
    {
     "name": "stderr",
     "output_type": "stream",
     "text": [
      "C:\\Users\\salta\\miniconda3\\lib\\site-packages\\scipy\\stats\\stats.py:7661: RuntimeWarning: divide by zero encountered in log\n",
      "  statistic = -2 * np.sum(np.log(pvalues))\n"
     ]
    }
   ],
   "source": [
    "all_merged_results = MergeResults([coexpression_result, sof_result, functional_screening_result])"
   ]
  },
  {
   "cell_type": "code",
   "execution_count": 39,
   "metadata": {
    "scrolled": true
   },
   "outputs": [
    {
     "data": {
      "text/html": [
       "<div>\n",
       "<style scoped>\n",
       "    .dataframe tbody tr th:only-of-type {\n",
       "        vertical-align: middle;\n",
       "    }\n",
       "\n",
       "    .dataframe tbody tr th {\n",
       "        vertical-align: top;\n",
       "    }\n",
       "\n",
       "    .dataframe thead th {\n",
       "        text-align: right;\n",
       "    }\n",
       "</style>\n",
       "<table border=\"1\" class=\"dataframe\">\n",
       "  <thead>\n",
       "    <tr style=\"text-align: right;\">\n",
       "      <th></th>\n",
       "      <th>EntrezID_Inactive</th>\n",
       "      <th>Gene_Inactive</th>\n",
       "      <th>EntrezID_SL_Candidate</th>\n",
       "      <th>Gene_SL_Candidate</th>\n",
       "      <th>PValue</th>\n",
       "    </tr>\n",
       "  </thead>\n",
       "  <tbody>\n",
       "    <tr>\n",
       "      <th>0</th>\n",
       "      <td>324</td>\n",
       "      <td>APC</td>\n",
       "      <td>26060</td>\n",
       "      <td>APPL1</td>\n",
       "      <td>0.000000e+00</td>\n",
       "    </tr>\n",
       "    <tr>\n",
       "      <th>1</th>\n",
       "      <td>324</td>\n",
       "      <td>APC</td>\n",
       "      <td>9031</td>\n",
       "      <td>BAZ1B</td>\n",
       "      <td>1.582141e-159</td>\n",
       "    </tr>\n",
       "  </tbody>\n",
       "</table>\n",
       "</div>"
      ],
      "text/plain": [
       "   EntrezID_Inactive Gene_Inactive  EntrezID_SL_Candidate Gene_SL_Candidate  \\\n",
       "0                324           APC                  26060             APPL1   \n",
       "1                324           APC                   9031             BAZ1B   \n",
       "\n",
       "          PValue  \n",
       "0   0.000000e+00  \n",
       "1  1.582141e-159  "
      ]
     },
     "execution_count": 39,
     "metadata": {},
     "output_type": "execute_result"
    }
   ],
   "source": [
    "all_merged_results"
   ]
  },
  {
   "cell_type": "markdown",
   "metadata": {},
   "source": [
    "Results are saved in bigquery tables"
   ]
  },
  {
   "cell_type": "code",
   "execution_count": null,
   "metadata": {},
   "outputs": [],
   "source": [
    "CreateTable(client, all_merged_results, 'pipeline_results', 'DAISY_final_sl_pairs_trial', project_id, \"\")"
   ]
  },
  {
   "cell_type": "markdown",
   "metadata": {},
   "source": [
    "Results are saved in excel file"
   ]
  },
  {
   "cell_type": "code",
   "execution_count": null,
   "metadata": {},
   "outputs": [],
   "source": [
    "WriteToExcel(\"tsg_driver.results_trial.xlsx\", [coexp_pancancer,  coexp_CCLE,  sof_CCLE, sof_pancancer,  crispr_result, siRNA_result,  coexpression_result,  sof_result, functional_screening_result, co_ex_func_merged_results,  co_ex_sof_merged_results, sof_func_merged_results, all_merged_results],[\"Co-exp_Pancancer\",  \"Co-exp_CCLE\" , \"SOF_CCLE\",  \"SOF_Pancancer\",  \"CRISPR\", \"siRNA\" , \"Coexp_Union\",  \"Sof_Union\", \"Func_Sc_Union\", \"Coexp_Func_Merged\", \"Coexp_Sof_Merged\", \"Sof_Fun_Merged\", \"All\"])\n"
   ]
  },
  {
   "cell_type": "code",
   "execution_count": null,
   "metadata": {},
   "outputs": [],
   "source": [
    "end_time= datetime.now()"
   ]
  },
  {
   "cell_type": "code",
   "execution_count": null,
   "metadata": {},
   "outputs": [],
   "source": []
  }
 ],
 "metadata": {
  "kernelspec": {
   "display_name": "Python 3",
   "language": "python",
   "name": "python3"
  },
  "language_info": {
   "codemirror_mode": {
    "name": "ipython",
    "version": 3
   },
   "file_extension": ".py",
   "mimetype": "text/x-python",
   "name": "python",
   "nbconvert_exporter": "python",
   "pygments_lexer": "ipython3",
   "version": "3.8.8"
  }
 },
 "nbformat": 4,
 "nbformat_minor": 4
}
