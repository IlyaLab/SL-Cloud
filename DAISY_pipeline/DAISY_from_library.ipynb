{
 "cells": [
  {
   "cell_type": "markdown",
   "metadata": {},
   "source": [
    "#  DAISY- the DAta-mIning SYnthetic-lethality-identification pipeline\n",
    "\n",
    "Please cite: \n",
    "\n",
    "For Implementation: \n",
    "\n",
    "Our paper,\n",
    "\n",
    "For DAISY algorithm: \n",
    "\n",
    "Jerby-Arnon, L., Pfetzer, N., Waldman, Y. Y., McGarry, L., James, D., Shanks, E., ... & Gottlieb, E. (2014). Predicting cancer-specific vulnerability via data-driven detection of synthetic lethality. Cell, 158(5), 1199-1209.\n",
    "\n",
    "For CCLE Omics data:\n",
    "\n",
    "Ghandi, M., Huang, F.W., Jané-Valbuena, J. et al. Next-generation characterization of the Cancer Cell Line Encyclopedia. Nature 569, 503–508 (2019). https://doi.org/10.1038/s41586-019-1186-3\n",
    "\n",
    "For CRISPR Data: \n",
    "\n",
    "Robin M. Meyers, Jordan G. Bryan, James M. McFarland, Barbara A. Weir, ... David E. Root, William C. Hahn, Aviad Tsherniak. Computational correction of copy number effect improves specificity of CRISPR-Cas9 essentiality screens in cancer cells. Nature Genetics 2017 October 49:1779–1784. doi:10.1038/ng.3984\n",
    "\n",
    "Dempster, J. M., Rossen, J., Kazachkova, M., Pan, J., Kugener, G., Root, D. E., & Tsherniak, A. (2019). Extracting Biological Insights from the Project Achilles Genome-Scale CRISPR Screens in Cancer Cell Lines. BioRxiv, 720243.\n",
    "\n",
    "\n",
    "This notebook is a reimplementation of DAISY Synthetic Lethal Pair Prediction Algorithm\n",
    "\n",
    "Please first run the table_creation notebook before runnnig the DAISY notebook. \n",
    "\n",
    "It consists 3 modules: \n",
    "\n",
    "1. SL candidate determination using gene co-expression\n",
    "2. SL candidate determination using survival of fittest\n",
    "3. SL candidate determination using CRISPR and ShRNA experiment\n",
    "\n",
    "\n",
    "* The results from the three modules were then aggregated into one ranked list of candidate SL pairs\n",
    "\n",
    "\n",
    "Input Parameters\n",
    "* Cancer type \n",
    "* The genes whose SL partners are seeked\n",
    "\n",
    "\n",
    "Input Data\n",
    "* Gene expression data \n",
    "* Gene mutation data\n",
    "* Copy number variation data\n",
    "* Gene effect data (CRISPR)\n",
    "* Gene Dependency scores data (shRNA)\n",
    "\n",
    "Output\n",
    "* Ranked list of candidate SL pairs\n",
    "![../../figures/daisy_pipeline.png](attachment:dene.png)"
   ]
  },
  {
   "cell_type": "code",
   "execution_count": 46,
   "metadata": {},
   "outputs": [
    {
     "name": "stdout",
     "output_type": "stream",
     "text": [
      "Once deleted, variables cannot be recovered. Proceed (y/[n])? y\n"
     ]
    }
   ],
   "source": [
    "reset "
   ]
  },
  {
   "cell_type": "code",
   "execution_count": 47,
   "metadata": {},
   "outputs": [
    {
     "data": {
      "text/plain": [
       "'/Users/bahar/Downloads/SyntheticLethality-master_16/Notebooks/DAISY_pipeline'"
      ]
     },
     "execution_count": 47,
     "metadata": {},
     "output_type": "execute_result"
    }
   ],
   "source": [
    "pwd"
   ]
  },
  {
   "cell_type": "markdown",
   "metadata": {},
   "source": [
    "The required libraries are imported. "
   ]
  },
  {
   "cell_type": "code",
   "execution_count": 66,
   "metadata": {
    "scrolled": true
   },
   "outputs": [],
   "source": [
    "from datetime import datetime\n",
    "import sys\n",
    "from ipywidgets import interact, interactive, fixed, interact_manual\n",
    "import ipywidgets as widgets\n",
    "import sys\n",
    "sys.path.append('../../scripts/')\n",
    "import SL_Library \n",
    "#from SL_Library import *\n",
    "from google.cloud import bigquery\n",
    "import importlib\n",
    "import pandas as pd\n"
   ]
  },
  {
   "cell_type": "code",
   "execution_count": 58,
   "metadata": {},
   "outputs": [
    {
     "data": {
      "text/plain": [
       "<module 'SL_Library' from '../../scripts/SL_Library/__init__.py'>"
      ]
     },
     "execution_count": 58,
     "metadata": {},
     "output_type": "execute_result"
    }
   ],
   "source": [
    "importlib.reload(SL_Library)"
   ]
  },
  {
   "cell_type": "code",
   "execution_count": 67,
   "metadata": {},
   "outputs": [],
   "source": [
    "import sys\n",
    "\n",
    "if not sys.warnoptions:\n",
    "    import warnings\n",
    "    warnings.simplefilter(\"ignore\")"
   ]
  },
  {
   "cell_type": "markdown",
   "metadata": {},
   "source": [
    "Bigquery connection\n",
    "Please replace syntheticlethality with your project name"
   ]
  },
  {
   "cell_type": "code",
   "execution_count": 60,
   "metadata": {
    "scrolled": false
   },
   "outputs": [
    {
     "name": "stdout",
     "output_type": "stream",
     "text": [
      "Traceback (most recent call last):\r\n",
      "  File \"/Users/bahar/Downloads/google-cloud-sdk/lib/gcloud.py\", line 104, in <module>\r\n",
      "    main()\r\n",
      "  File \"/Users/bahar/Downloads/google-cloud-sdk/lib/gcloud.py\", line 100, in main\r\n",
      "    sys.exit(gcloud_main.main())\r\n",
      "  File \"/Users/bahar/Downloads/google-cloud-sdk/lib/googlecloudsdk/gcloud_main.py\", line 171, in main\r\n",
      "    gcloud_cli = CreateCLI([])\r\n",
      "  File \"/Users/bahar/Downloads/google-cloud-sdk/lib/googlecloudsdk/gcloud_main.py\", line 151, in CreateCLI\r\n",
      "    generated_cli = loader.Generate()\r\n",
      "  File \"/Users/bahar/Downloads/google-cloud-sdk/lib/googlecloudsdk/calliope/cli.py\", line 504, in Generate\r\n",
      "    cli = self.__MakeCLI(top_group)\r\n",
      "  File \"/Users/bahar/Downloads/google-cloud-sdk/lib/googlecloudsdk/calliope/cli.py\", line 674, in __MakeCLI\r\n",
      "    log.AddFileLogging(self.__logs_dir)\r\n",
      "  File \"/Users/bahar/Downloads/google-cloud-sdk/lib/googlecloudsdk/core/log.py\", line 1039, in AddFileLogging\r\n",
      "    _log_manager.AddLogsDir(logs_dir=logs_dir)\r\n",
      "  File \"/Users/bahar/Downloads/google-cloud-sdk/lib/googlecloudsdk/core/log.py\", line 683, in AddLogsDir\r\n",
      "    self._CleanUpLogs(logs_dir)\r\n",
      "  File \"/Users/bahar/Downloads/google-cloud-sdk/lib/googlecloudsdk/core/log.py\", line 711, in _CleanUpLogs\r\n",
      "    self._CleanLogsDir(logs_dir)\r\n",
      "  File \"/Users/bahar/Downloads/google-cloud-sdk/lib/googlecloudsdk/core/log.py\", line 737, in _CleanLogsDir\r\n",
      "    os.remove(log_file_path)\r\n",
      "PermissionError: [Errno 13] Permission denied: '/Users/bahar/.config/gcloud/logs/2020.08.04/12.16.05.276251.log'\r\n"
     ]
    }
   ],
   "source": [
    "project_id='syntheticlethality'\n",
    "client = bigquery.Client(project_id)\n",
    "#client = bigquery.Client(credentials=credentials, project=credentials.project_id)\n",
    "\n",
    "!gcloud auth login"
   ]
  },
  {
   "cell_type": "markdown",
   "metadata": {},
   "source": [
    "This query retrieves cancer driver tumor supressor genes"
   ]
  },
  {
   "cell_type": "code",
   "execution_count": 61,
   "metadata": {
    "scrolled": true
   },
   "outputs": [],
   "source": [
    "query='''SELECT Gene_Symbol\n",
    "FROM `isb-cgc.COSMIC_v90_grch38.Cancer_Gene_Census`  \n",
    "WHERE Role_in_Cancer LIKE '%TSG%'\n",
    "\n",
    "INTERSECT DISTINCT\n",
    "\n",
    "SELECT HGNC_gene_symbol FROM `syntheticlethality.gene_information.cancer_driver_genes`\n",
    "'''\n",
    "driver_tsg_genes= client.query(query).result().to_dataframe()"
   ]
  },
  {
   "cell_type": "markdown",
   "metadata": {},
   "source": [
    "Conversion from Hugo Symbols into EntrezIDs "
   ]
  },
  {
   "cell_type": "code",
   "execution_count": 68,
   "metadata": {
    "scrolled": true
   },
   "outputs": [
    {
     "ename": "AttributeError",
     "evalue": "module 'SL_Library' has no attribute 'ConvertGene'",
     "output_type": "error",
     "traceback": [
      "\u001b[0;31m---------------------------------------------------------------------------\u001b[0m",
      "\u001b[0;31mAttributeError\u001b[0m                            Traceback (most recent call last)",
      "\u001b[0;32m<ipython-input-68-6a778a57063a>\u001b[0m in \u001b[0;36m<module>\u001b[0;34m\u001b[0m\n\u001b[1;32m      1\u001b[0m \u001b[0minput_genes\u001b[0m\u001b[0;34m=\u001b[0m\u001b[0mdriver_tsg_genes\u001b[0m\u001b[0;34m[\u001b[0m\u001b[0;34m\"Gene_Symbol\"\u001b[0m\u001b[0;34m]\u001b[0m\u001b[0;34m.\u001b[0m\u001b[0mto_list\u001b[0m\u001b[0;34m(\u001b[0m\u001b[0;34m)\u001b[0m\u001b[0;34m\u001b[0m\u001b[0;34m\u001b[0m\u001b[0m\n\u001b[0;32m----> 2\u001b[0;31m \u001b[0minput_entrez_ids\u001b[0m\u001b[0;34m=\u001b[0m\u001b[0mSL_Library\u001b[0m\u001b[0;34m.\u001b[0m\u001b[0mConvertGene\u001b[0m\u001b[0;34m(\u001b[0m\u001b[0mclient\u001b[0m\u001b[0;34m,\u001b[0m \u001b[0minput_genes\u001b[0m\u001b[0;34m,\u001b[0m \u001b[0;34m'Gene'\u001b[0m\u001b[0;34m,\u001b[0m \u001b[0;34m[\u001b[0m\u001b[0;34m'EntrezID'\u001b[0m\u001b[0;34m]\u001b[0m\u001b[0;34m)\u001b[0m\u001b[0;34m\u001b[0m\u001b[0;34m\u001b[0m\u001b[0m\n\u001b[0m",
      "\u001b[0;31mAttributeError\u001b[0m: module 'SL_Library' has no attribute 'ConvertGene'"
     ]
    }
   ],
   "source": [
    "input_genes=driver_tsg_genes[\"Gene_Symbol\"].to_list()\n",
    "input_entrez_ids=SL_Library.ConvertGene(client, input_genes, 'Gene', ['EntrezID'])"
   ]
  },
  {
   "cell_type": "code",
   "execution_count": 32,
   "metadata": {},
   "outputs": [
    {
     "data": {
      "text/html": [
       "<div>\n",
       "<style scoped>\n",
       "    .dataframe tbody tr th:only-of-type {\n",
       "        vertical-align: middle;\n",
       "    }\n",
       "\n",
       "    .dataframe tbody tr th {\n",
       "        vertical-align: top;\n",
       "    }\n",
       "\n",
       "    .dataframe thead th {\n",
       "        text-align: right;\n",
       "    }\n",
       "</style>\n",
       "<table border=\"1\" class=\"dataframe\">\n",
       "  <thead>\n",
       "    <tr style=\"text-align: right;\">\n",
       "      <th></th>\n",
       "      <th>Gene</th>\n",
       "      <th>EntrezID</th>\n",
       "    </tr>\n",
       "  </thead>\n",
       "  <tbody>\n",
       "    <tr>\n",
       "      <th>0</th>\n",
       "      <td>APC</td>\n",
       "      <td>324</td>\n",
       "    </tr>\n",
       "    <tr>\n",
       "      <th>1</th>\n",
       "      <td>ATM</td>\n",
       "      <td>472</td>\n",
       "    </tr>\n",
       "    <tr>\n",
       "      <th>2</th>\n",
       "      <td>ATR</td>\n",
       "      <td>545</td>\n",
       "    </tr>\n",
       "    <tr>\n",
       "      <th>3</th>\n",
       "      <td>B2M</td>\n",
       "      <td>567</td>\n",
       "    </tr>\n",
       "    <tr>\n",
       "      <th>4</th>\n",
       "      <td>CIC</td>\n",
       "      <td>23152</td>\n",
       "    </tr>\n",
       "    <tr>\n",
       "      <th>...</th>\n",
       "      <td>...</td>\n",
       "      <td>...</td>\n",
       "    </tr>\n",
       "    <tr>\n",
       "      <th>108</th>\n",
       "      <td>PRKAR1A</td>\n",
       "      <td>5573</td>\n",
       "    </tr>\n",
       "    <tr>\n",
       "      <th>109</th>\n",
       "      <td>SMARCA4</td>\n",
       "      <td>6597</td>\n",
       "    </tr>\n",
       "    <tr>\n",
       "      <th>110</th>\n",
       "      <td>SMARCB1</td>\n",
       "      <td>6598</td>\n",
       "    </tr>\n",
       "    <tr>\n",
       "      <th>111</th>\n",
       "      <td>TBL1XR1</td>\n",
       "      <td>79718</td>\n",
       "    </tr>\n",
       "    <tr>\n",
       "      <th>112</th>\n",
       "      <td>TNFAIP3</td>\n",
       "      <td>7128</td>\n",
       "    </tr>\n",
       "  </tbody>\n",
       "</table>\n",
       "<p>113 rows × 2 columns</p>\n",
       "</div>"
      ],
      "text/plain": [
       "        Gene  EntrezID\n",
       "0        APC       324\n",
       "1        ATM       472\n",
       "2        ATR       545\n",
       "3        B2M       567\n",
       "4        CIC     23152\n",
       "..       ...       ...\n",
       "108  PRKAR1A      5573\n",
       "109  SMARCA4      6597\n",
       "110  SMARCB1      6598\n",
       "111  TBL1XR1     79718\n",
       "112  TNFAIP3      7128\n",
       "\n",
       "[113 rows x 2 columns]"
      ]
     },
     "execution_count": 32,
     "metadata": {},
     "output_type": "execute_result"
    }
   ],
   "source": [
    "input_entrez_ids"
   ]
  },
  {
   "cell_type": "markdown",
   "metadata": {},
   "source": [
    "Default parameters for DAISY, you can edit them"
   ]
  },
  {
   "cell_type": "code",
   "execution_count": 33,
   "metadata": {},
   "outputs": [],
   "source": [
    "input_mutations = ['Nonsense_Mutation', 'Frame_Shift_Ins', 'Frame_Shift_Del'] \n",
    "percentile_threshold=10\n",
    "cn_threshold=-0.3 \n",
    "cor_threshold=0.5\n",
    "p_threshold=0.05\n",
    "pval_correction='Bonferroni'"
   ]
  },
  {
   "cell_type": "markdown",
   "metadata": {},
   "source": [
    "Pairwise gene coexpression module on Pancancer Atlas data\n"
   ]
  },
  {
   "cell_type": "code",
   "execution_count": 37,
   "metadata": {
    "scrolled": true
   },
   "outputs": [],
   "source": [
    "coexp_pancancer=CoexpressionAnalysis(client, \"PanCancerAtlas\", input_entrez_ids['EntrezID'], cor_threshold, p_threshold, pval_correction) "
   ]
  },
  {
   "cell_type": "code",
   "execution_count": 38,
   "metadata": {
    "scrolled": true
   },
   "outputs": [
    {
     "data": {
      "text/html": [
       "<div>\n",
       "<style scoped>\n",
       "    .dataframe tbody tr th:only-of-type {\n",
       "        vertical-align: middle;\n",
       "    }\n",
       "\n",
       "    .dataframe tbody tr th {\n",
       "        vertical-align: top;\n",
       "    }\n",
       "\n",
       "    .dataframe thead th {\n",
       "        text-align: right;\n",
       "    }\n",
       "</style>\n",
       "<table border=\"1\" class=\"dataframe\">\n",
       "  <thead>\n",
       "    <tr style=\"text-align: right;\">\n",
       "      <th></th>\n",
       "      <th></th>\n",
       "      <th>EntrezID_Inactive</th>\n",
       "      <th>Gene_Inactive</th>\n",
       "      <th>EntrezID_SL_Candidate</th>\n",
       "      <th>Gene_SL_Candidate</th>\n",
       "      <th>Correlation</th>\n",
       "      <th>PValue</th>\n",
       "    </tr>\n",
       "    <tr>\n",
       "      <th>Gene_Inactive</th>\n",
       "      <th></th>\n",
       "      <th></th>\n",
       "      <th></th>\n",
       "      <th></th>\n",
       "      <th></th>\n",
       "      <th></th>\n",
       "      <th></th>\n",
       "    </tr>\n",
       "  </thead>\n",
       "  <tbody>\n",
       "    <tr>\n",
       "      <th rowspan=\"5\" valign=\"top\">AMER1</th>\n",
       "      <th>3006</th>\n",
       "      <td>139285</td>\n",
       "      <td>AMER1</td>\n",
       "      <td>254065</td>\n",
       "      <td>BRWD3</td>\n",
       "      <td>0.513545</td>\n",
       "      <td>0.0</td>\n",
       "    </tr>\n",
       "    <tr>\n",
       "      <th>3405</th>\n",
       "      <td>139285</td>\n",
       "      <td>AMER1</td>\n",
       "      <td>64682</td>\n",
       "      <td>ANAPC1</td>\n",
       "      <td>0.512611</td>\n",
       "      <td>0.0</td>\n",
       "    </tr>\n",
       "    <tr>\n",
       "      <th>6722</th>\n",
       "      <td>139285</td>\n",
       "      <td>AMER1</td>\n",
       "      <td>6502</td>\n",
       "      <td>SKP2</td>\n",
       "      <td>0.513338</td>\n",
       "      <td>0.0</td>\n",
       "    </tr>\n",
       "    <tr>\n",
       "      <th>10116</th>\n",
       "      <td>139285</td>\n",
       "      <td>AMER1</td>\n",
       "      <td>55609</td>\n",
       "      <td>ZNF280C</td>\n",
       "      <td>0.504315</td>\n",
       "      <td>0.0</td>\n",
       "    </tr>\n",
       "    <tr>\n",
       "      <th>10422</th>\n",
       "      <td>139285</td>\n",
       "      <td>AMER1</td>\n",
       "      <td>9880</td>\n",
       "      <td>ZBTB39</td>\n",
       "      <td>0.510557</td>\n",
       "      <td>0.0</td>\n",
       "    </tr>\n",
       "    <tr>\n",
       "      <th>...</th>\n",
       "      <th>...</th>\n",
       "      <td>...</td>\n",
       "      <td>...</td>\n",
       "      <td>...</td>\n",
       "      <td>...</td>\n",
       "      <td>...</td>\n",
       "      <td>...</td>\n",
       "    </tr>\n",
       "    <tr>\n",
       "      <th rowspan=\"5\" valign=\"top\">ZMYM3</th>\n",
       "      <th>12104</th>\n",
       "      <td>9203</td>\n",
       "      <td>ZMYM3</td>\n",
       "      <td>162963</td>\n",
       "      <td>ZNF610</td>\n",
       "      <td>0.530604</td>\n",
       "      <td>0.0</td>\n",
       "    </tr>\n",
       "    <tr>\n",
       "      <th>11044</th>\n",
       "      <td>9203</td>\n",
       "      <td>ZMYM3</td>\n",
       "      <td>11188</td>\n",
       "      <td>NISCH</td>\n",
       "      <td>0.503019</td>\n",
       "      <td>0.0</td>\n",
       "    </tr>\n",
       "    <tr>\n",
       "      <th>11037</th>\n",
       "      <td>9203</td>\n",
       "      <td>ZMYM3</td>\n",
       "      <td>23373</td>\n",
       "      <td>CRTC1</td>\n",
       "      <td>0.539256</td>\n",
       "      <td>0.0</td>\n",
       "    </tr>\n",
       "    <tr>\n",
       "      <th>13085</th>\n",
       "      <td>9203</td>\n",
       "      <td>ZMYM3</td>\n",
       "      <td>84838</td>\n",
       "      <td>ZNF496</td>\n",
       "      <td>0.504975</td>\n",
       "      <td>0.0</td>\n",
       "    </tr>\n",
       "    <tr>\n",
       "      <th>13086</th>\n",
       "      <td>9203</td>\n",
       "      <td>ZMYM3</td>\n",
       "      <td>140883</td>\n",
       "      <td>ZNF280B</td>\n",
       "      <td>0.521912</td>\n",
       "      <td>0.0</td>\n",
       "    </tr>\n",
       "  </tbody>\n",
       "</table>\n",
       "<p>13234 rows × 6 columns</p>\n",
       "</div>"
      ],
      "text/plain": [
       "                     EntrezID_Inactive Gene_Inactive  EntrezID_SL_Candidate  \\\n",
       "Gene_Inactive                                                                 \n",
       "AMER1         3006              139285         AMER1                 254065   \n",
       "              3405              139285         AMER1                  64682   \n",
       "              6722              139285         AMER1                   6502   \n",
       "              10116             139285         AMER1                  55609   \n",
       "              10422             139285         AMER1                   9880   \n",
       "...                                ...           ...                    ...   \n",
       "ZMYM3         12104               9203         ZMYM3                 162963   \n",
       "              11044               9203         ZMYM3                  11188   \n",
       "              11037               9203         ZMYM3                  23373   \n",
       "              13085               9203         ZMYM3                  84838   \n",
       "              13086               9203         ZMYM3                 140883   \n",
       "\n",
       "                    Gene_SL_Candidate  Correlation  PValue  \n",
       "Gene_Inactive                                               \n",
       "AMER1         3006              BRWD3     0.513545     0.0  \n",
       "              3405             ANAPC1     0.512611     0.0  \n",
       "              6722               SKP2     0.513338     0.0  \n",
       "              10116           ZNF280C     0.504315     0.0  \n",
       "              10422            ZBTB39     0.510557     0.0  \n",
       "...                               ...          ...     ...  \n",
       "ZMYM3         12104            ZNF610     0.530604     0.0  \n",
       "              11044             NISCH     0.503019     0.0  \n",
       "              11037             CRTC1     0.539256     0.0  \n",
       "              13085            ZNF496     0.504975     0.0  \n",
       "              13086           ZNF280B     0.521912     0.0  \n",
       "\n",
       "[13234 rows x 6 columns]"
      ]
     },
     "execution_count": 38,
     "metadata": {},
     "output_type": "execute_result"
    }
   ],
   "source": [
    "coexp_pancancer"
   ]
  },
  {
   "cell_type": "markdown",
   "metadata": {},
   "source": [
    "Results are saved into bigquery table"
   ]
  },
  {
   "cell_type": "code",
   "execution_count": 23,
   "metadata": {},
   "outputs": [
    {
     "name": "stderr",
     "output_type": "stream",
     "text": [
      "1it [00:05,  5.16s/it]\n"
     ]
    },
    {
     "name": "stdout",
     "output_type": "stream",
     "text": [
      "Table created successfully\n"
     ]
    }
   ],
   "source": [
    "SL.CreateTable(client, coexp_pancancer, 'pipeline_results', 'DAISY_coexpression_pancancer_sl_pairs', project_id, \"\")"
   ]
  },
  {
   "cell_type": "markdown",
   "metadata": {},
   "source": [
    "Pairwise gene coexpression module on CCLE data\n"
   ]
  },
  {
   "cell_type": "code",
   "execution_count": 36,
   "metadata": {
    "scrolled": true
   },
   "outputs": [],
   "source": [
    "coexp_CCLE=CoexpressionAnalysis(client, \"CCLE\", input_entrez_ids['EntrezID'], cor_threshold, p_threshold, pval_correction) "
   ]
  },
  {
   "cell_type": "code",
   "execution_count": 39,
   "metadata": {
    "scrolled": true
   },
   "outputs": [
    {
     "data": {
      "text/html": [
       "<div>\n",
       "<style scoped>\n",
       "    .dataframe tbody tr th:only-of-type {\n",
       "        vertical-align: middle;\n",
       "    }\n",
       "\n",
       "    .dataframe tbody tr th {\n",
       "        vertical-align: top;\n",
       "    }\n",
       "\n",
       "    .dataframe thead th {\n",
       "        text-align: right;\n",
       "    }\n",
       "</style>\n",
       "<table border=\"1\" class=\"dataframe\">\n",
       "  <thead>\n",
       "    <tr style=\"text-align: right;\">\n",
       "      <th></th>\n",
       "      <th></th>\n",
       "      <th>EntrezID_Inactive</th>\n",
       "      <th>Gene_Inactive</th>\n",
       "      <th>EntrezID_SL_Candidate</th>\n",
       "      <th>Gene_SL_Candidate</th>\n",
       "      <th>Correlation</th>\n",
       "      <th>PValue</th>\n",
       "    </tr>\n",
       "    <tr>\n",
       "      <th>Gene_Inactive</th>\n",
       "      <th></th>\n",
       "      <th></th>\n",
       "      <th></th>\n",
       "      <th></th>\n",
       "      <th></th>\n",
       "      <th></th>\n",
       "      <th></th>\n",
       "    </tr>\n",
       "  </thead>\n",
       "  <tbody>\n",
       "    <tr>\n",
       "      <th rowspan=\"5\" valign=\"top\">AMER1</th>\n",
       "      <th>6937</th>\n",
       "      <td>139285</td>\n",
       "      <td>AMER1</td>\n",
       "      <td>6872</td>\n",
       "      <td>TAF1</td>\n",
       "      <td>0.618656</td>\n",
       "      <td>2.231030e-134</td>\n",
       "    </tr>\n",
       "    <tr>\n",
       "      <th>19610</th>\n",
       "      <td>139285</td>\n",
       "      <td>AMER1</td>\n",
       "      <td>81887</td>\n",
       "      <td>LAS1L</td>\n",
       "      <td>0.606935</td>\n",
       "      <td>7.315441e-128</td>\n",
       "    </tr>\n",
       "    <tr>\n",
       "      <th>6593</th>\n",
       "      <td>139285</td>\n",
       "      <td>AMER1</td>\n",
       "      <td>9880</td>\n",
       "      <td>ZBTB39</td>\n",
       "      <td>0.598761</td>\n",
       "      <td>1.775621e-123</td>\n",
       "    </tr>\n",
       "    <tr>\n",
       "      <th>9278</th>\n",
       "      <td>139285</td>\n",
       "      <td>AMER1</td>\n",
       "      <td>23133</td>\n",
       "      <td>PHF8</td>\n",
       "      <td>0.598430</td>\n",
       "      <td>2.656653e-123</td>\n",
       "    </tr>\n",
       "    <tr>\n",
       "      <th>10455</th>\n",
       "      <td>139285</td>\n",
       "      <td>AMER1</td>\n",
       "      <td>4841</td>\n",
       "      <td>NONO</td>\n",
       "      <td>0.592015</td>\n",
       "      <td>5.948916e-120</td>\n",
       "    </tr>\n",
       "    <tr>\n",
       "      <th>...</th>\n",
       "      <th>...</th>\n",
       "      <td>...</td>\n",
       "      <td>...</td>\n",
       "      <td>...</td>\n",
       "      <td>...</td>\n",
       "      <td>...</td>\n",
       "      <td>...</td>\n",
       "    </tr>\n",
       "    <tr>\n",
       "      <th rowspan=\"5\" valign=\"top\">ZMYM3</th>\n",
       "      <th>8408</th>\n",
       "      <td>9203</td>\n",
       "      <td>ZMYM3</td>\n",
       "      <td>84950</td>\n",
       "      <td>PRPF38A</td>\n",
       "      <td>0.501011</td>\n",
       "      <td>1.425741e-79</td>\n",
       "    </tr>\n",
       "    <tr>\n",
       "      <th>10790</th>\n",
       "      <td>9203</td>\n",
       "      <td>ZMYM3</td>\n",
       "      <td>8880</td>\n",
       "      <td>FUBP1</td>\n",
       "      <td>0.500516</td>\n",
       "      <td>2.197475e-79</td>\n",
       "    </tr>\n",
       "    <tr>\n",
       "      <th>15581</th>\n",
       "      <td>9203</td>\n",
       "      <td>ZMYM3</td>\n",
       "      <td>146059</td>\n",
       "      <td>CDAN1</td>\n",
       "      <td>0.500465</td>\n",
       "      <td>2.296914e-79</td>\n",
       "    </tr>\n",
       "    <tr>\n",
       "      <th>233</th>\n",
       "      <td>9203</td>\n",
       "      <td>ZMYM3</td>\n",
       "      <td>5469</td>\n",
       "      <td>MED1</td>\n",
       "      <td>0.500437</td>\n",
       "      <td>2.353243e-79</td>\n",
       "    </tr>\n",
       "    <tr>\n",
       "      <th>10728</th>\n",
       "      <td>9203</td>\n",
       "      <td>ZMYM3</td>\n",
       "      <td>2551</td>\n",
       "      <td>GABPA</td>\n",
       "      <td>0.500046</td>\n",
       "      <td>3.308658e-79</td>\n",
       "    </tr>\n",
       "  </tbody>\n",
       "</table>\n",
       "<p>21086 rows × 6 columns</p>\n",
       "</div>"
      ],
      "text/plain": [
       "                     EntrezID_Inactive Gene_Inactive  EntrezID_SL_Candidate  \\\n",
       "Gene_Inactive                                                                 \n",
       "AMER1         6937              139285         AMER1                   6872   \n",
       "              19610             139285         AMER1                  81887   \n",
       "              6593              139285         AMER1                   9880   \n",
       "              9278              139285         AMER1                  23133   \n",
       "              10455             139285         AMER1                   4841   \n",
       "...                                ...           ...                    ...   \n",
       "ZMYM3         8408                9203         ZMYM3                  84950   \n",
       "              10790               9203         ZMYM3                   8880   \n",
       "              15581               9203         ZMYM3                 146059   \n",
       "              233                 9203         ZMYM3                   5469   \n",
       "              10728               9203         ZMYM3                   2551   \n",
       "\n",
       "                    Gene_SL_Candidate  Correlation         PValue  \n",
       "Gene_Inactive                                                      \n",
       "AMER1         6937               TAF1     0.618656  2.231030e-134  \n",
       "              19610             LAS1L     0.606935  7.315441e-128  \n",
       "              6593             ZBTB39     0.598761  1.775621e-123  \n",
       "              9278               PHF8     0.598430  2.656653e-123  \n",
       "              10455              NONO     0.592015  5.948916e-120  \n",
       "...                               ...          ...            ...  \n",
       "ZMYM3         8408            PRPF38A     0.501011   1.425741e-79  \n",
       "              10790             FUBP1     0.500516   2.197475e-79  \n",
       "              15581             CDAN1     0.500465   2.296914e-79  \n",
       "              233                MED1     0.500437   2.353243e-79  \n",
       "              10728             GABPA     0.500046   3.308658e-79  \n",
       "\n",
       "[21086 rows x 6 columns]"
      ]
     },
     "execution_count": 39,
     "metadata": {},
     "output_type": "execute_result"
    }
   ],
   "source": [
    "coexp_CCLE"
   ]
  },
  {
   "cell_type": "markdown",
   "metadata": {},
   "source": [
    "Results are saved into bigquery table"
   ]
  },
  {
   "cell_type": "code",
   "execution_count": 29,
   "metadata": {},
   "outputs": [
    {
     "name": "stderr",
     "output_type": "stream",
     "text": [
      "1it [00:03,  3.29s/it]\n"
     ]
    },
    {
     "name": "stdout",
     "output_type": "stream",
     "text": [
      "Table created successfully\n"
     ]
    }
   ],
   "source": [
    "SL.CreateTable(client, coexp_CCLE, 'pipeline_results', 'DAISY_coexpression_CCLE_sl_pairs', project_id, \"\")"
   ]
  },
  {
   "cell_type": "markdown",
   "metadata": {},
   "source": [
    "Genomic survival of fittest module on CCLE data"
   ]
  },
  {
   "cell_type": "code",
   "execution_count": 39,
   "metadata": {
    "scrolled": true
   },
   "outputs": [],
   "source": [
    "sof_CCLE=SurvivalOfFittest(client, \"CCLE\", p_threshold, input_entrez_ids['EntrezID'], input_mutations, percentile_threshold, cn_threshold, pval_correction)\n"
   ]
  },
  {
   "cell_type": "code",
   "execution_count": 40,
   "metadata": {},
   "outputs": [
    {
     "data": {
      "text/html": [
       "<div>\n",
       "<style scoped>\n",
       "    .dataframe tbody tr th:only-of-type {\n",
       "        vertical-align: middle;\n",
       "    }\n",
       "\n",
       "    .dataframe tbody tr th {\n",
       "        vertical-align: top;\n",
       "    }\n",
       "\n",
       "    .dataframe thead th {\n",
       "        text-align: right;\n",
       "    }\n",
       "</style>\n",
       "<table border=\"1\" class=\"dataframe\">\n",
       "  <thead>\n",
       "    <tr style=\"text-align: right;\">\n",
       "      <th></th>\n",
       "      <th></th>\n",
       "      <th>EntrezID_Inactive</th>\n",
       "      <th>Gene_Inactive</th>\n",
       "      <th>EntrezID_SL_Candidate</th>\n",
       "      <th>Gene_SL_Candidate</th>\n",
       "      <th>PValue</th>\n",
       "    </tr>\n",
       "    <tr>\n",
       "      <th>Gene_Inactive</th>\n",
       "      <th></th>\n",
       "      <th></th>\n",
       "      <th></th>\n",
       "      <th></th>\n",
       "      <th></th>\n",
       "      <th></th>\n",
       "    </tr>\n",
       "  </thead>\n",
       "  <tbody>\n",
       "    <tr>\n",
       "      <th>ACVR2A</th>\n",
       "      <th>446</th>\n",
       "      <td>92</td>\n",
       "      <td>ACVR2A</td>\n",
       "      <td>1030</td>\n",
       "      <td>CDKN2B</td>\n",
       "      <td>0.044765</td>\n",
       "    </tr>\n",
       "    <tr>\n",
       "      <th rowspan=\"4\" valign=\"top\">AMER1</th>\n",
       "      <th>11323</th>\n",
       "      <td>139285</td>\n",
       "      <td>AMER1</td>\n",
       "      <td>283598</td>\n",
       "      <td>C14orf177</td>\n",
       "      <td>0.000081</td>\n",
       "    </tr>\n",
       "    <tr>\n",
       "      <th>11421</th>\n",
       "      <td>139285</td>\n",
       "      <td>AMER1</td>\n",
       "      <td>388011</td>\n",
       "      <td>LINC01550</td>\n",
       "      <td>0.000093</td>\n",
       "    </tr>\n",
       "    <tr>\n",
       "      <th>11314</th>\n",
       "      <td>139285</td>\n",
       "      <td>AMER1</td>\n",
       "      <td>64919</td>\n",
       "      <td>BCL11B</td>\n",
       "      <td>0.000125</td>\n",
       "    </tr>\n",
       "    <tr>\n",
       "      <th>11394</th>\n",
       "      <td>139285</td>\n",
       "      <td>AMER1</td>\n",
       "      <td>84439</td>\n",
       "      <td>HHIPL1</td>\n",
       "      <td>0.000128</td>\n",
       "    </tr>\n",
       "    <tr>\n",
       "      <th>...</th>\n",
       "      <th>...</th>\n",
       "      <td>...</td>\n",
       "      <td>...</td>\n",
       "      <td>...</td>\n",
       "      <td>...</td>\n",
       "      <td>...</td>\n",
       "    </tr>\n",
       "    <tr>\n",
       "      <th rowspan=\"5\" valign=\"top\">ZMYM3</th>\n",
       "      <th>7761</th>\n",
       "      <td>9203</td>\n",
       "      <td>ZMYM3</td>\n",
       "      <td>91754</td>\n",
       "      <td>NEK9</td>\n",
       "      <td>0.041885</td>\n",
       "    </tr>\n",
       "    <tr>\n",
       "      <th>8520</th>\n",
       "      <td>9203</td>\n",
       "      <td>ZMYM3</td>\n",
       "      <td>6252</td>\n",
       "      <td>RTN1</td>\n",
       "      <td>0.045588</td>\n",
       "    </tr>\n",
       "    <tr>\n",
       "      <th>5073</th>\n",
       "      <td>9203</td>\n",
       "      <td>ZMYM3</td>\n",
       "      <td>9495</td>\n",
       "      <td>AKAP5</td>\n",
       "      <td>0.046226</td>\n",
       "    </tr>\n",
       "    <tr>\n",
       "      <th>9425</th>\n",
       "      <td>9203</td>\n",
       "      <td>ZMYM3</td>\n",
       "      <td>22890</td>\n",
       "      <td>ZBTB1</td>\n",
       "      <td>0.046424</td>\n",
       "    </tr>\n",
       "    <tr>\n",
       "      <th>7482</th>\n",
       "      <td>9203</td>\n",
       "      <td>ZMYM3</td>\n",
       "      <td>100847088</td>\n",
       "      <td>MIR5586</td>\n",
       "      <td>0.049181</td>\n",
       "    </tr>\n",
       "  </tbody>\n",
       "</table>\n",
       "<p>13635 rows × 5 columns</p>\n",
       "</div>"
      ],
      "text/plain": [
       "                     EntrezID_Inactive Gene_Inactive  EntrezID_SL_Candidate  \\\n",
       "Gene_Inactive                                                                 \n",
       "ACVR2A        446                   92        ACVR2A                   1030   \n",
       "AMER1         11323             139285         AMER1                 283598   \n",
       "              11421             139285         AMER1                 388011   \n",
       "              11314             139285         AMER1                  64919   \n",
       "              11394             139285         AMER1                  84439   \n",
       "...                                ...           ...                    ...   \n",
       "ZMYM3         7761                9203         ZMYM3                  91754   \n",
       "              8520                9203         ZMYM3                   6252   \n",
       "              5073                9203         ZMYM3                   9495   \n",
       "              9425                9203         ZMYM3                  22890   \n",
       "              7482                9203         ZMYM3              100847088   \n",
       "\n",
       "                    Gene_SL_Candidate    PValue  \n",
       "Gene_Inactive                                    \n",
       "ACVR2A        446              CDKN2B  0.044765  \n",
       "AMER1         11323         C14orf177  0.000081  \n",
       "              11421         LINC01550  0.000093  \n",
       "              11314            BCL11B  0.000125  \n",
       "              11394            HHIPL1  0.000128  \n",
       "...                               ...       ...  \n",
       "ZMYM3         7761               NEK9  0.041885  \n",
       "              8520               RTN1  0.045588  \n",
       "              5073              AKAP5  0.046226  \n",
       "              9425              ZBTB1  0.046424  \n",
       "              7482            MIR5586  0.049181  \n",
       "\n",
       "[13635 rows x 5 columns]"
      ]
     },
     "execution_count": 40,
     "metadata": {},
     "output_type": "execute_result"
    }
   ],
   "source": [
    "sof_CCLE"
   ]
  },
  {
   "cell_type": "markdown",
   "metadata": {},
   "source": [
    "Results are saved into bigquery table"
   ]
  },
  {
   "cell_type": "code",
   "execution_count": 82,
   "metadata": {},
   "outputs": [
    {
     "name": "stderr",
     "output_type": "stream",
     "text": [
      "1it [00:05,  5.37s/it]\n"
     ]
    },
    {
     "name": "stdout",
     "output_type": "stream",
     "text": [
      "Table created successfully\n"
     ]
    }
   ],
   "source": [
    "CreateTable(client, sof_CCLE, 'pipeline_results', 'DAISY_sof_CCLE_sl_pairs', project_id, \"\")"
   ]
  },
  {
   "cell_type": "markdown",
   "metadata": {},
   "source": [
    "Genomic survival of fittest module on PancancerAtlas"
   ]
  },
  {
   "cell_type": "code",
   "execution_count": 42,
   "metadata": {},
   "outputs": [],
   "source": [
    "sof_pancancer=SurvivalOfFittest(client, \"PanCancerAtlas\", p_threshold, input_entrez_ids['EntrezID'], input_mutations, percentile_threshold, cn_threshold,pval_correction)\n"
   ]
  },
  {
   "cell_type": "code",
   "execution_count": 43,
   "metadata": {
    "scrolled": true
   },
   "outputs": [
    {
     "data": {
      "text/html": [
       "<div>\n",
       "<style scoped>\n",
       "    .dataframe tbody tr th:only-of-type {\n",
       "        vertical-align: middle;\n",
       "    }\n",
       "\n",
       "    .dataframe tbody tr th {\n",
       "        vertical-align: top;\n",
       "    }\n",
       "\n",
       "    .dataframe thead th {\n",
       "        text-align: right;\n",
       "    }\n",
       "</style>\n",
       "<table border=\"1\" class=\"dataframe\">\n",
       "  <thead>\n",
       "    <tr style=\"text-align: right;\">\n",
       "      <th></th>\n",
       "      <th></th>\n",
       "      <th>EntrezID_Inactive</th>\n",
       "      <th>Gene_Inactive</th>\n",
       "      <th>EntrezID_SL_Candidate</th>\n",
       "      <th>Gene_SL_Candidate</th>\n",
       "      <th>PValue</th>\n",
       "    </tr>\n",
       "    <tr>\n",
       "      <th>Gene_Inactive</th>\n",
       "      <th></th>\n",
       "      <th></th>\n",
       "      <th></th>\n",
       "      <th></th>\n",
       "      <th></th>\n",
       "      <th></th>\n",
       "    </tr>\n",
       "  </thead>\n",
       "  <tbody>\n",
       "    <tr>\n",
       "      <th rowspan=\"5\" valign=\"top\">ACVR2A</th>\n",
       "      <th>85281</th>\n",
       "      <td>92</td>\n",
       "      <td>ACVR2A</td>\n",
       "      <td>3612</td>\n",
       "      <td>IMPA1</td>\n",
       "      <td>0.021901</td>\n",
       "    </tr>\n",
       "    <tr>\n",
       "      <th>88643</th>\n",
       "      <td>92</td>\n",
       "      <td>ACVR2A</td>\n",
       "      <td>79752</td>\n",
       "      <td>ZFAND1</td>\n",
       "      <td>0.021944</td>\n",
       "    </tr>\n",
       "    <tr>\n",
       "      <th>87542</th>\n",
       "      <td>92</td>\n",
       "      <td>ACVR2A</td>\n",
       "      <td>347051</td>\n",
       "      <td>SLC10A5</td>\n",
       "      <td>0.021971</td>\n",
       "    </tr>\n",
       "    <tr>\n",
       "      <th>84416</th>\n",
       "      <td>92</td>\n",
       "      <td>ACVR2A</td>\n",
       "      <td>92421</td>\n",
       "      <td>CHMP4C</td>\n",
       "      <td>0.022888</td>\n",
       "    </tr>\n",
       "    <tr>\n",
       "      <th>84890</th>\n",
       "      <td>92</td>\n",
       "      <td>ACVR2A</td>\n",
       "      <td>646486</td>\n",
       "      <td>FABP12</td>\n",
       "      <td>0.026031</td>\n",
       "    </tr>\n",
       "    <tr>\n",
       "      <th>...</th>\n",
       "      <th>...</th>\n",
       "      <td>...</td>\n",
       "      <td>...</td>\n",
       "      <td>...</td>\n",
       "      <td>...</td>\n",
       "      <td>...</td>\n",
       "    </tr>\n",
       "    <tr>\n",
       "      <th rowspan=\"5\" valign=\"top\">ZFHX3</th>\n",
       "      <th>167155</th>\n",
       "      <td>463</td>\n",
       "      <td>ZFHX3</td>\n",
       "      <td>23181</td>\n",
       "      <td>DIP2A</td>\n",
       "      <td>0.029849</td>\n",
       "    </tr>\n",
       "    <tr>\n",
       "      <th>167597</th>\n",
       "      <td>463</td>\n",
       "      <td>ZFHX3</td>\n",
       "      <td>54059</td>\n",
       "      <td>YBEY</td>\n",
       "      <td>0.029849</td>\n",
       "    </tr>\n",
       "    <tr>\n",
       "      <th>167157</th>\n",
       "      <td>463</td>\n",
       "      <td>ZFHX3</td>\n",
       "      <td>100862692</td>\n",
       "      <td>DIP2A-IT1</td>\n",
       "      <td>0.029849</td>\n",
       "    </tr>\n",
       "    <tr>\n",
       "      <th>167471</th>\n",
       "      <td>463</td>\n",
       "      <td>ZFHX3</td>\n",
       "      <td>5116</td>\n",
       "      <td>PCNT</td>\n",
       "      <td>0.029849</td>\n",
       "    </tr>\n",
       "    <tr>\n",
       "      <th>167191</th>\n",
       "      <td>463</td>\n",
       "      <td>ZFHX3</td>\n",
       "      <td>10841</td>\n",
       "      <td>FTCD</td>\n",
       "      <td>0.030332</td>\n",
       "    </tr>\n",
       "  </tbody>\n",
       "</table>\n",
       "<p>168296 rows × 5 columns</p>\n",
       "</div>"
      ],
      "text/plain": [
       "                      EntrezID_Inactive Gene_Inactive  EntrezID_SL_Candidate  \\\n",
       "Gene_Inactive                                                                  \n",
       "ACVR2A        85281                  92        ACVR2A                   3612   \n",
       "              88643                  92        ACVR2A                  79752   \n",
       "              87542                  92        ACVR2A                 347051   \n",
       "              84416                  92        ACVR2A                  92421   \n",
       "              84890                  92        ACVR2A                 646486   \n",
       "...                                 ...           ...                    ...   \n",
       "ZFHX3         167155                463         ZFHX3                  23181   \n",
       "              167597                463         ZFHX3                  54059   \n",
       "              167157                463         ZFHX3              100862692   \n",
       "              167471                463         ZFHX3                   5116   \n",
       "              167191                463         ZFHX3                  10841   \n",
       "\n",
       "                     Gene_SL_Candidate    PValue  \n",
       "Gene_Inactive                                     \n",
       "ACVR2A        85281              IMPA1  0.021901  \n",
       "              88643             ZFAND1  0.021944  \n",
       "              87542            SLC10A5  0.021971  \n",
       "              84416             CHMP4C  0.022888  \n",
       "              84890             FABP12  0.026031  \n",
       "...                                ...       ...  \n",
       "ZFHX3         167155             DIP2A  0.029849  \n",
       "              167597              YBEY  0.029849  \n",
       "              167157         DIP2A-IT1  0.029849  \n",
       "              167471              PCNT  0.029849  \n",
       "              167191              FTCD  0.030332  \n",
       "\n",
       "[168296 rows x 5 columns]"
      ]
     },
     "execution_count": 43,
     "metadata": {},
     "output_type": "execute_result"
    }
   ],
   "source": [
    "sof_pancancer"
   ]
  },
  {
   "cell_type": "markdown",
   "metadata": {},
   "source": [
    "Results are saved in bigquery table"
   ]
  },
  {
   "cell_type": "code",
   "execution_count": 81,
   "metadata": {},
   "outputs": [
    {
     "name": "stderr",
     "output_type": "stream",
     "text": [
      "1it [00:23, 23.09s/it]\n"
     ]
    },
    {
     "name": "stdout",
     "output_type": "stream",
     "text": [
      "Table created successfully\n"
     ]
    }
   ],
   "source": [
    "SL.CreateTable(client, sof_pancancer, 'pipeline_results', 'DAISY_sof_pancancer_sl_pairs', project_id, \"\")"
   ]
  },
  {
   "cell_type": "markdown",
   "metadata": {},
   "source": [
    "CRISPR functional examination inference procedure"
   ]
  },
  {
   "cell_type": "code",
   "execution_count": 54,
   "metadata": {
    "scrolled": true
   },
   "outputs": [],
   "source": [
    "crispr_result=FunctionalExamination(client, \"CRISPR\", p_threshold, input_entrez_ids['EntrezID'], percentile_threshold, cn_threshold, 'none')\n"
   ]
  },
  {
   "cell_type": "code",
   "execution_count": 55,
   "metadata": {},
   "outputs": [
    {
     "data": {
      "text/html": [
       "<div>\n",
       "<style scoped>\n",
       "    .dataframe tbody tr th:only-of-type {\n",
       "        vertical-align: middle;\n",
       "    }\n",
       "\n",
       "    .dataframe tbody tr th {\n",
       "        vertical-align: top;\n",
       "    }\n",
       "\n",
       "    .dataframe thead th {\n",
       "        text-align: right;\n",
       "    }\n",
       "</style>\n",
       "<table border=\"1\" class=\"dataframe\">\n",
       "  <thead>\n",
       "    <tr style=\"text-align: right;\">\n",
       "      <th></th>\n",
       "      <th></th>\n",
       "      <th>EntrezID_Inactive</th>\n",
       "      <th>Gene_Inactive</th>\n",
       "      <th>EntrezID_SL_Candidate</th>\n",
       "      <th>Gene_SL_Candidate</th>\n",
       "      <th>PValue</th>\n",
       "    </tr>\n",
       "    <tr>\n",
       "      <th>Gene_Inactive</th>\n",
       "      <th></th>\n",
       "      <th></th>\n",
       "      <th></th>\n",
       "      <th></th>\n",
       "      <th></th>\n",
       "      <th></th>\n",
       "    </tr>\n",
       "  </thead>\n",
       "  <tbody>\n",
       "    <tr>\n",
       "      <th rowspan=\"5\" valign=\"top\">ACVR2A</th>\n",
       "      <th>74664</th>\n",
       "      <td>92</td>\n",
       "      <td>ACVR2A</td>\n",
       "      <td>5695</td>\n",
       "      <td>PSMB7</td>\n",
       "      <td>0.001069</td>\n",
       "    </tr>\n",
       "    <tr>\n",
       "      <th>32771</th>\n",
       "      <td>92</td>\n",
       "      <td>ACVR2A</td>\n",
       "      <td>100507588</td>\n",
       "      <td>TGFBR3L</td>\n",
       "      <td>0.001167</td>\n",
       "    </tr>\n",
       "    <tr>\n",
       "      <th>101453</th>\n",
       "      <td>92</td>\n",
       "      <td>ACVR2A</td>\n",
       "      <td>23030</td>\n",
       "      <td>KDM4B</td>\n",
       "      <td>0.001211</td>\n",
       "    </tr>\n",
       "    <tr>\n",
       "      <th>96010</th>\n",
       "      <td>92</td>\n",
       "      <td>ACVR2A</td>\n",
       "      <td>7535</td>\n",
       "      <td>ZAP70</td>\n",
       "      <td>0.001340</td>\n",
       "    </tr>\n",
       "    <tr>\n",
       "      <th>97288</th>\n",
       "      <td>92</td>\n",
       "      <td>ACVR2A</td>\n",
       "      <td>130340</td>\n",
       "      <td>AP1S3</td>\n",
       "      <td>0.001340</td>\n",
       "    </tr>\n",
       "    <tr>\n",
       "      <th>...</th>\n",
       "      <th>...</th>\n",
       "      <td>...</td>\n",
       "      <td>...</td>\n",
       "      <td>...</td>\n",
       "      <td>...</td>\n",
       "      <td>...</td>\n",
       "    </tr>\n",
       "    <tr>\n",
       "      <th rowspan=\"5\" valign=\"top\">ZMYM3</th>\n",
       "      <th>112231</th>\n",
       "      <td>9203</td>\n",
       "      <td>ZMYM3</td>\n",
       "      <td>5507</td>\n",
       "      <td>PPP1R3C</td>\n",
       "      <td>0.049735</td>\n",
       "    </tr>\n",
       "    <tr>\n",
       "      <th>18793</th>\n",
       "      <td>9203</td>\n",
       "      <td>ZMYM3</td>\n",
       "      <td>10313</td>\n",
       "      <td>RTN3</td>\n",
       "      <td>0.049735</td>\n",
       "    </tr>\n",
       "    <tr>\n",
       "      <th>1358</th>\n",
       "      <td>9203</td>\n",
       "      <td>ZMYM3</td>\n",
       "      <td>3460</td>\n",
       "      <td>IFNGR2</td>\n",
       "      <td>0.049798</td>\n",
       "    </tr>\n",
       "    <tr>\n",
       "      <th>86987</th>\n",
       "      <td>9203</td>\n",
       "      <td>ZMYM3</td>\n",
       "      <td>2738</td>\n",
       "      <td>GLI4</td>\n",
       "      <td>0.049862</td>\n",
       "    </tr>\n",
       "    <tr>\n",
       "      <th>12799</th>\n",
       "      <td>9203</td>\n",
       "      <td>ZMYM3</td>\n",
       "      <td>3586</td>\n",
       "      <td>IL10</td>\n",
       "      <td>0.049862</td>\n",
       "    </tr>\n",
       "  </tbody>\n",
       "</table>\n",
       "<p>128529 rows × 5 columns</p>\n",
       "</div>"
      ],
      "text/plain": [
       "                      EntrezID_Inactive Gene_Inactive  EntrezID_SL_Candidate  \\\n",
       "Gene_Inactive                                                                  \n",
       "ACVR2A        74664                  92        ACVR2A                   5695   \n",
       "              32771                  92        ACVR2A              100507588   \n",
       "              101453                 92        ACVR2A                  23030   \n",
       "              96010                  92        ACVR2A                   7535   \n",
       "              97288                  92        ACVR2A                 130340   \n",
       "...                                 ...           ...                    ...   \n",
       "ZMYM3         112231               9203         ZMYM3                   5507   \n",
       "              18793                9203         ZMYM3                  10313   \n",
       "              1358                 9203         ZMYM3                   3460   \n",
       "              86987                9203         ZMYM3                   2738   \n",
       "              12799                9203         ZMYM3                   3586   \n",
       "\n",
       "                     Gene_SL_Candidate    PValue  \n",
       "Gene_Inactive                                     \n",
       "ACVR2A        74664              PSMB7  0.001069  \n",
       "              32771            TGFBR3L  0.001167  \n",
       "              101453             KDM4B  0.001211  \n",
       "              96010              ZAP70  0.001340  \n",
       "              97288              AP1S3  0.001340  \n",
       "...                                ...       ...  \n",
       "ZMYM3         112231           PPP1R3C  0.049735  \n",
       "              18793               RTN3  0.049735  \n",
       "              1358              IFNGR2  0.049798  \n",
       "              86987               GLI4  0.049862  \n",
       "              12799               IL10  0.049862  \n",
       "\n",
       "[128529 rows x 5 columns]"
      ]
     },
     "execution_count": 55,
     "metadata": {},
     "output_type": "execute_result"
    }
   ],
   "source": [
    "crispr_result"
   ]
  },
  {
   "cell_type": "markdown",
   "metadata": {},
   "source": [
    "Results are saved in bigquery table"
   ]
  },
  {
   "cell_type": "code",
   "execution_count": 64,
   "metadata": {},
   "outputs": [
    {
     "name": "stderr",
     "output_type": "stream",
     "text": [
      "1it [00:11, 11.45s/it]\n"
     ]
    },
    {
     "name": "stdout",
     "output_type": "stream",
     "text": [
      "Table created successfully\n"
     ]
    }
   ],
   "source": [
    "CreateTable(client, crispr_result, 'pipeline_results', 'DAISY_func_ex_crispr_sl_pairs', project_id, \"\")"
   ]
  },
  {
   "cell_type": "markdown",
   "metadata": {},
   "source": [
    "shRNA functional examination inference procedure"
   ]
  },
  {
   "cell_type": "code",
   "execution_count": 62,
   "metadata": {},
   "outputs": [],
   "source": [
    "siRNA_result=FunctionalExamination(client, \"siRNA\", p_threshold, input_entrez_ids['EntrezID'], percentile_threshold, cn_threshold, 'none')\n"
   ]
  },
  {
   "cell_type": "code",
   "execution_count": 63,
   "metadata": {
    "scrolled": true
   },
   "outputs": [
    {
     "data": {
      "text/html": [
       "<div>\n",
       "<style scoped>\n",
       "    .dataframe tbody tr th:only-of-type {\n",
       "        vertical-align: middle;\n",
       "    }\n",
       "\n",
       "    .dataframe tbody tr th {\n",
       "        vertical-align: top;\n",
       "    }\n",
       "\n",
       "    .dataframe thead th {\n",
       "        text-align: right;\n",
       "    }\n",
       "</style>\n",
       "<table border=\"1\" class=\"dataframe\">\n",
       "  <thead>\n",
       "    <tr style=\"text-align: right;\">\n",
       "      <th></th>\n",
       "      <th></th>\n",
       "      <th>EntrezID_Inactive</th>\n",
       "      <th>Gene_Inactive</th>\n",
       "      <th>EntrezID_SL_Candidate</th>\n",
       "      <th>Gene_SL_Candidate</th>\n",
       "      <th>PValue</th>\n",
       "    </tr>\n",
       "    <tr>\n",
       "      <th>Gene_Inactive</th>\n",
       "      <th></th>\n",
       "      <th></th>\n",
       "      <th></th>\n",
       "      <th></th>\n",
       "      <th></th>\n",
       "      <th></th>\n",
       "    </tr>\n",
       "  </thead>\n",
       "  <tbody>\n",
       "    <tr>\n",
       "      <th rowspan=\"5\" valign=\"top\">ACVR2A</th>\n",
       "      <th>36174</th>\n",
       "      <td>92</td>\n",
       "      <td>ACVR2A</td>\n",
       "      <td>8396</td>\n",
       "      <td>PIP4K2B</td>\n",
       "      <td>0.001404</td>\n",
       "    </tr>\n",
       "    <tr>\n",
       "      <th>56449</th>\n",
       "      <td>92</td>\n",
       "      <td>ACVR2A</td>\n",
       "      <td>3768</td>\n",
       "      <td>KCNJ12</td>\n",
       "      <td>0.001687</td>\n",
       "    </tr>\n",
       "    <tr>\n",
       "      <th>42907</th>\n",
       "      <td>92</td>\n",
       "      <td>ACVR2A</td>\n",
       "      <td>8482</td>\n",
       "      <td>SEMA7A</td>\n",
       "      <td>0.001806</td>\n",
       "    </tr>\n",
       "    <tr>\n",
       "      <th>58122</th>\n",
       "      <td>92</td>\n",
       "      <td>ACVR2A</td>\n",
       "      <td>3082</td>\n",
       "      <td>HGF</td>\n",
       "      <td>0.003357</td>\n",
       "    </tr>\n",
       "    <tr>\n",
       "      <th>56428</th>\n",
       "      <td>92</td>\n",
       "      <td>ACVR2A</td>\n",
       "      <td>307</td>\n",
       "      <td>ANXA4</td>\n",
       "      <td>0.003671</td>\n",
       "    </tr>\n",
       "    <tr>\n",
       "      <th>...</th>\n",
       "      <th>...</th>\n",
       "      <td>...</td>\n",
       "      <td>...</td>\n",
       "      <td>...</td>\n",
       "      <td>...</td>\n",
       "      <td>...</td>\n",
       "    </tr>\n",
       "    <tr>\n",
       "      <th rowspan=\"5\" valign=\"top\">ZMYM3</th>\n",
       "      <th>23480</th>\n",
       "      <td>9203</td>\n",
       "      <td>ZMYM3</td>\n",
       "      <td>51094</td>\n",
       "      <td>ADIPOR1</td>\n",
       "      <td>0.047138</td>\n",
       "    </tr>\n",
       "    <tr>\n",
       "      <th>2518</th>\n",
       "      <td>9203</td>\n",
       "      <td>ZMYM3</td>\n",
       "      <td>79772</td>\n",
       "      <td>MCTP1</td>\n",
       "      <td>0.047526</td>\n",
       "    </tr>\n",
       "    <tr>\n",
       "      <th>59466</th>\n",
       "      <td>9203</td>\n",
       "      <td>ZMYM3</td>\n",
       "      <td>57758</td>\n",
       "      <td>SCUBE2</td>\n",
       "      <td>0.048311</td>\n",
       "    </tr>\n",
       "    <tr>\n",
       "      <th>19880</th>\n",
       "      <td>9203</td>\n",
       "      <td>ZMYM3</td>\n",
       "      <td>55362</td>\n",
       "      <td>TMEM63B</td>\n",
       "      <td>0.049508</td>\n",
       "    </tr>\n",
       "    <tr>\n",
       "      <th>51340</th>\n",
       "      <td>9203</td>\n",
       "      <td>ZMYM3</td>\n",
       "      <td>5313</td>\n",
       "      <td>PKLR</td>\n",
       "      <td>0.049912</td>\n",
       "    </tr>\n",
       "  </tbody>\n",
       "</table>\n",
       "<p>60531 rows × 5 columns</p>\n",
       "</div>"
      ],
      "text/plain": [
       "                     EntrezID_Inactive Gene_Inactive  EntrezID_SL_Candidate  \\\n",
       "Gene_Inactive                                                                 \n",
       "ACVR2A        36174                 92        ACVR2A                   8396   \n",
       "              56449                 92        ACVR2A                   3768   \n",
       "              42907                 92        ACVR2A                   8482   \n",
       "              58122                 92        ACVR2A                   3082   \n",
       "              56428                 92        ACVR2A                    307   \n",
       "...                                ...           ...                    ...   \n",
       "ZMYM3         23480               9203         ZMYM3                  51094   \n",
       "              2518                9203         ZMYM3                  79772   \n",
       "              59466               9203         ZMYM3                  57758   \n",
       "              19880               9203         ZMYM3                  55362   \n",
       "              51340               9203         ZMYM3                   5313   \n",
       "\n",
       "                    Gene_SL_Candidate    PValue  \n",
       "Gene_Inactive                                    \n",
       "ACVR2A        36174           PIP4K2B  0.001404  \n",
       "              56449            KCNJ12  0.001687  \n",
       "              42907            SEMA7A  0.001806  \n",
       "              58122               HGF  0.003357  \n",
       "              56428             ANXA4  0.003671  \n",
       "...                               ...       ...  \n",
       "ZMYM3         23480           ADIPOR1  0.047138  \n",
       "              2518              MCTP1  0.047526  \n",
       "              59466            SCUBE2  0.048311  \n",
       "              19880           TMEM63B  0.049508  \n",
       "              51340              PKLR  0.049912  \n",
       "\n",
       "[60531 rows x 5 columns]"
      ]
     },
     "execution_count": 63,
     "metadata": {},
     "output_type": "execute_result"
    }
   ],
   "source": [
    "siRNA_result"
   ]
  },
  {
   "cell_type": "markdown",
   "metadata": {},
   "source": [
    "Results are saved in bigquery table"
   ]
  },
  {
   "cell_type": "code",
   "execution_count": 66,
   "metadata": {},
   "outputs": [
    {
     "name": "stderr",
     "output_type": "stream",
     "text": [
      "1it [00:04,  4.73s/it]\n"
     ]
    },
    {
     "name": "stdout",
     "output_type": "stream",
     "text": [
      "Table created successfully\n"
     ]
    }
   ],
   "source": [
    "CreateTable(client, siRNA_result, 'pipeline_results', 'DAISY_func_ex_siRNA_sl_pairs', project_id, \"\")"
   ]
  },
  {
   "cell_type": "markdown",
   "metadata": {},
   "source": [
    "Pairwise Co-expression gene co-expression results on Pancancer and CCLE are integrated"
   ]
  },
  {
   "cell_type": "code",
   "execution_count": 67,
   "metadata": {
    "scrolled": true
   },
   "outputs": [],
   "source": [
    "coexpression_result=UnionResults([coexp_pancancer, coexp_CCLE])"
   ]
  },
  {
   "cell_type": "code",
   "execution_count": 68,
   "metadata": {},
   "outputs": [
    {
     "data": {
      "text/html": [
       "<div>\n",
       "<style scoped>\n",
       "    .dataframe tbody tr th:only-of-type {\n",
       "        vertical-align: middle;\n",
       "    }\n",
       "\n",
       "    .dataframe tbody tr th {\n",
       "        vertical-align: top;\n",
       "    }\n",
       "\n",
       "    .dataframe thead th {\n",
       "        text-align: right;\n",
       "    }\n",
       "</style>\n",
       "<table border=\"1\" class=\"dataframe\">\n",
       "  <thead>\n",
       "    <tr style=\"text-align: right;\">\n",
       "      <th></th>\n",
       "      <th>EntrezID_Inactive</th>\n",
       "      <th>Gene_Inactive</th>\n",
       "      <th>EntrezID_SL_Candidate</th>\n",
       "      <th>Gene_SL_Candidate</th>\n",
       "      <th>Correlation_0</th>\n",
       "      <th>PValue_0</th>\n",
       "      <th>Correlation_1</th>\n",
       "      <th>PValue_1</th>\n",
       "      <th>PValue</th>\n",
       "    </tr>\n",
       "  </thead>\n",
       "  <tbody>\n",
       "    <tr>\n",
       "      <th>0</th>\n",
       "      <td>139285</td>\n",
       "      <td>AMER1</td>\n",
       "      <td>254065</td>\n",
       "      <td>BRWD3</td>\n",
       "      <td>0.513545</td>\n",
       "      <td>0.0</td>\n",
       "      <td>0.512958</td>\n",
       "      <td>3.399950e-84</td>\n",
       "      <td>0.000000e+00</td>\n",
       "    </tr>\n",
       "    <tr>\n",
       "      <th>1</th>\n",
       "      <td>139285</td>\n",
       "      <td>AMER1</td>\n",
       "      <td>64682</td>\n",
       "      <td>ANAPC1</td>\n",
       "      <td>0.512611</td>\n",
       "      <td>0.0</td>\n",
       "      <td>NaN</td>\n",
       "      <td>NaN</td>\n",
       "      <td>0.000000e+00</td>\n",
       "    </tr>\n",
       "    <tr>\n",
       "      <th>2</th>\n",
       "      <td>139285</td>\n",
       "      <td>AMER1</td>\n",
       "      <td>6502</td>\n",
       "      <td>SKP2</td>\n",
       "      <td>0.513338</td>\n",
       "      <td>0.0</td>\n",
       "      <td>NaN</td>\n",
       "      <td>NaN</td>\n",
       "      <td>0.000000e+00</td>\n",
       "    </tr>\n",
       "    <tr>\n",
       "      <th>3</th>\n",
       "      <td>139285</td>\n",
       "      <td>AMER1</td>\n",
       "      <td>55609</td>\n",
       "      <td>ZNF280C</td>\n",
       "      <td>0.504315</td>\n",
       "      <td>0.0</td>\n",
       "      <td>NaN</td>\n",
       "      <td>NaN</td>\n",
       "      <td>0.000000e+00</td>\n",
       "    </tr>\n",
       "    <tr>\n",
       "      <th>4</th>\n",
       "      <td>139285</td>\n",
       "      <td>AMER1</td>\n",
       "      <td>9880</td>\n",
       "      <td>ZBTB39</td>\n",
       "      <td>0.510557</td>\n",
       "      <td>0.0</td>\n",
       "      <td>0.598761</td>\n",
       "      <td>1.775621e-123</td>\n",
       "      <td>0.000000e+00</td>\n",
       "    </tr>\n",
       "    <tr>\n",
       "      <th>...</th>\n",
       "      <td>...</td>\n",
       "      <td>...</td>\n",
       "      <td>...</td>\n",
       "      <td>...</td>\n",
       "      <td>...</td>\n",
       "      <td>...</td>\n",
       "      <td>...</td>\n",
       "      <td>...</td>\n",
       "      <td>...</td>\n",
       "    </tr>\n",
       "    <tr>\n",
       "      <th>29915</th>\n",
       "      <td>9203</td>\n",
       "      <td>ZMYM3</td>\n",
       "      <td>84950</td>\n",
       "      <td>PRPF38A</td>\n",
       "      <td>NaN</td>\n",
       "      <td>NaN</td>\n",
       "      <td>0.501011</td>\n",
       "      <td>1.425741e-79</td>\n",
       "      <td>1.425741e-79</td>\n",
       "    </tr>\n",
       "    <tr>\n",
       "      <th>29916</th>\n",
       "      <td>9203</td>\n",
       "      <td>ZMYM3</td>\n",
       "      <td>8880</td>\n",
       "      <td>FUBP1</td>\n",
       "      <td>NaN</td>\n",
       "      <td>NaN</td>\n",
       "      <td>0.500516</td>\n",
       "      <td>2.197475e-79</td>\n",
       "      <td>2.197475e-79</td>\n",
       "    </tr>\n",
       "    <tr>\n",
       "      <th>29917</th>\n",
       "      <td>9203</td>\n",
       "      <td>ZMYM3</td>\n",
       "      <td>146059</td>\n",
       "      <td>CDAN1</td>\n",
       "      <td>NaN</td>\n",
       "      <td>NaN</td>\n",
       "      <td>0.500465</td>\n",
       "      <td>2.296914e-79</td>\n",
       "      <td>2.296914e-79</td>\n",
       "    </tr>\n",
       "    <tr>\n",
       "      <th>29918</th>\n",
       "      <td>9203</td>\n",
       "      <td>ZMYM3</td>\n",
       "      <td>5469</td>\n",
       "      <td>MED1</td>\n",
       "      <td>NaN</td>\n",
       "      <td>NaN</td>\n",
       "      <td>0.500437</td>\n",
       "      <td>2.353243e-79</td>\n",
       "      <td>2.353243e-79</td>\n",
       "    </tr>\n",
       "    <tr>\n",
       "      <th>29919</th>\n",
       "      <td>9203</td>\n",
       "      <td>ZMYM3</td>\n",
       "      <td>2551</td>\n",
       "      <td>GABPA</td>\n",
       "      <td>NaN</td>\n",
       "      <td>NaN</td>\n",
       "      <td>0.500046</td>\n",
       "      <td>3.308658e-79</td>\n",
       "      <td>3.308658e-79</td>\n",
       "    </tr>\n",
       "  </tbody>\n",
       "</table>\n",
       "<p>29920 rows × 9 columns</p>\n",
       "</div>"
      ],
      "text/plain": [
       "       EntrezID_Inactive Gene_Inactive  EntrezID_SL_Candidate  \\\n",
       "0                 139285         AMER1                 254065   \n",
       "1                 139285         AMER1                  64682   \n",
       "2                 139285         AMER1                   6502   \n",
       "3                 139285         AMER1                  55609   \n",
       "4                 139285         AMER1                   9880   \n",
       "...                  ...           ...                    ...   \n",
       "29915               9203         ZMYM3                  84950   \n",
       "29916               9203         ZMYM3                   8880   \n",
       "29917               9203         ZMYM3                 146059   \n",
       "29918               9203         ZMYM3                   5469   \n",
       "29919               9203         ZMYM3                   2551   \n",
       "\n",
       "      Gene_SL_Candidate  Correlation_0  PValue_0  Correlation_1  \\\n",
       "0                 BRWD3       0.513545       0.0       0.512958   \n",
       "1                ANAPC1       0.512611       0.0            NaN   \n",
       "2                  SKP2       0.513338       0.0            NaN   \n",
       "3               ZNF280C       0.504315       0.0            NaN   \n",
       "4                ZBTB39       0.510557       0.0       0.598761   \n",
       "...                 ...            ...       ...            ...   \n",
       "29915           PRPF38A            NaN       NaN       0.501011   \n",
       "29916             FUBP1            NaN       NaN       0.500516   \n",
       "29917             CDAN1            NaN       NaN       0.500465   \n",
       "29918              MED1            NaN       NaN       0.500437   \n",
       "29919             GABPA            NaN       NaN       0.500046   \n",
       "\n",
       "            PValue_1        PValue  \n",
       "0       3.399950e-84  0.000000e+00  \n",
       "1                NaN  0.000000e+00  \n",
       "2                NaN  0.000000e+00  \n",
       "3                NaN  0.000000e+00  \n",
       "4      1.775621e-123  0.000000e+00  \n",
       "...              ...           ...  \n",
       "29915   1.425741e-79  1.425741e-79  \n",
       "29916   2.197475e-79  2.197475e-79  \n",
       "29917   2.296914e-79  2.296914e-79  \n",
       "29918   2.353243e-79  2.353243e-79  \n",
       "29919   3.308658e-79  3.308658e-79  \n",
       "\n",
       "[29920 rows x 9 columns]"
      ]
     },
     "execution_count": 68,
     "metadata": {},
     "output_type": "execute_result"
    }
   ],
   "source": [
    "coexpression_result"
   ]
  },
  {
   "cell_type": "code",
   "execution_count": 84,
   "metadata": {},
   "outputs": [
    {
     "name": "stderr",
     "output_type": "stream",
     "text": [
      "1it [00:13, 13.96s/it]"
     ]
    },
    {
     "name": "stdout",
     "output_type": "stream",
     "text": [
      "Table created successfully\n"
     ]
    },
    {
     "name": "stderr",
     "output_type": "stream",
     "text": [
      "\n"
     ]
    }
   ],
   "source": [
    "#SL.CreateTable(client, coexpression_result, 'DAISY_RESULTS', 'Coexpression_Union_Pancancer_CCLE', project_id)"
   ]
  },
  {
   "cell_type": "markdown",
   "metadata": {},
   "source": [
    "Survival of Fittest results on Pancancer and CCLE are integrated"
   ]
  },
  {
   "cell_type": "code",
   "execution_count": 69,
   "metadata": {},
   "outputs": [],
   "source": [
    "sof_result=UnionResults([sof_CCLE, sof_pancancer])"
   ]
  },
  {
   "cell_type": "code",
   "execution_count": 71,
   "metadata": {},
   "outputs": [
    {
     "data": {
      "text/html": [
       "<div>\n",
       "<style scoped>\n",
       "    .dataframe tbody tr th:only-of-type {\n",
       "        vertical-align: middle;\n",
       "    }\n",
       "\n",
       "    .dataframe tbody tr th {\n",
       "        vertical-align: top;\n",
       "    }\n",
       "\n",
       "    .dataframe thead th {\n",
       "        text-align: right;\n",
       "    }\n",
       "</style>\n",
       "<table border=\"1\" class=\"dataframe\">\n",
       "  <thead>\n",
       "    <tr style=\"text-align: right;\">\n",
       "      <th></th>\n",
       "      <th>EntrezID_Inactive</th>\n",
       "      <th>Gene_Inactive</th>\n",
       "      <th>EntrezID_SL_Candidate</th>\n",
       "      <th>Gene_SL_Candidate</th>\n",
       "      <th>PValue_0</th>\n",
       "      <th>PValue_1</th>\n",
       "      <th>PValue</th>\n",
       "    </tr>\n",
       "  </thead>\n",
       "  <tbody>\n",
       "    <tr>\n",
       "      <th>0</th>\n",
       "      <td>92</td>\n",
       "      <td>ACVR2A</td>\n",
       "      <td>1030</td>\n",
       "      <td>CDKN2B</td>\n",
       "      <td>0.044765</td>\n",
       "      <td>NaN</td>\n",
       "      <td>0.044765</td>\n",
       "    </tr>\n",
       "    <tr>\n",
       "      <th>1</th>\n",
       "      <td>139285</td>\n",
       "      <td>AMER1</td>\n",
       "      <td>283598</td>\n",
       "      <td>C14orf177</td>\n",
       "      <td>0.000081</td>\n",
       "      <td>NaN</td>\n",
       "      <td>0.000081</td>\n",
       "    </tr>\n",
       "    <tr>\n",
       "      <th>2</th>\n",
       "      <td>139285</td>\n",
       "      <td>AMER1</td>\n",
       "      <td>388011</td>\n",
       "      <td>LINC01550</td>\n",
       "      <td>0.000093</td>\n",
       "      <td>NaN</td>\n",
       "      <td>0.000093</td>\n",
       "    </tr>\n",
       "    <tr>\n",
       "      <th>3</th>\n",
       "      <td>139285</td>\n",
       "      <td>AMER1</td>\n",
       "      <td>64919</td>\n",
       "      <td>BCL11B</td>\n",
       "      <td>0.000125</td>\n",
       "      <td>NaN</td>\n",
       "      <td>0.000125</td>\n",
       "    </tr>\n",
       "    <tr>\n",
       "      <th>4</th>\n",
       "      <td>139285</td>\n",
       "      <td>AMER1</td>\n",
       "      <td>84439</td>\n",
       "      <td>HHIPL1</td>\n",
       "      <td>0.000128</td>\n",
       "      <td>NaN</td>\n",
       "      <td>0.000128</td>\n",
       "    </tr>\n",
       "    <tr>\n",
       "      <th>...</th>\n",
       "      <td>...</td>\n",
       "      <td>...</td>\n",
       "      <td>...</td>\n",
       "      <td>...</td>\n",
       "      <td>...</td>\n",
       "      <td>...</td>\n",
       "      <td>...</td>\n",
       "    </tr>\n",
       "    <tr>\n",
       "      <th>177798</th>\n",
       "      <td>463</td>\n",
       "      <td>ZFHX3</td>\n",
       "      <td>23181</td>\n",
       "      <td>DIP2A</td>\n",
       "      <td>NaN</td>\n",
       "      <td>0.029849</td>\n",
       "      <td>0.029849</td>\n",
       "    </tr>\n",
       "    <tr>\n",
       "      <th>177799</th>\n",
       "      <td>463</td>\n",
       "      <td>ZFHX3</td>\n",
       "      <td>54059</td>\n",
       "      <td>YBEY</td>\n",
       "      <td>NaN</td>\n",
       "      <td>0.029849</td>\n",
       "      <td>0.029849</td>\n",
       "    </tr>\n",
       "    <tr>\n",
       "      <th>177800</th>\n",
       "      <td>463</td>\n",
       "      <td>ZFHX3</td>\n",
       "      <td>100862692</td>\n",
       "      <td>DIP2A-IT1</td>\n",
       "      <td>NaN</td>\n",
       "      <td>0.029849</td>\n",
       "      <td>0.029849</td>\n",
       "    </tr>\n",
       "    <tr>\n",
       "      <th>177801</th>\n",
       "      <td>463</td>\n",
       "      <td>ZFHX3</td>\n",
       "      <td>5116</td>\n",
       "      <td>PCNT</td>\n",
       "      <td>NaN</td>\n",
       "      <td>0.029849</td>\n",
       "      <td>0.029849</td>\n",
       "    </tr>\n",
       "    <tr>\n",
       "      <th>177802</th>\n",
       "      <td>463</td>\n",
       "      <td>ZFHX3</td>\n",
       "      <td>10841</td>\n",
       "      <td>FTCD</td>\n",
       "      <td>NaN</td>\n",
       "      <td>0.030332</td>\n",
       "      <td>0.030332</td>\n",
       "    </tr>\n",
       "  </tbody>\n",
       "</table>\n",
       "<p>177803 rows × 7 columns</p>\n",
       "</div>"
      ],
      "text/plain": [
       "        EntrezID_Inactive Gene_Inactive  EntrezID_SL_Candidate  \\\n",
       "0                      92        ACVR2A                   1030   \n",
       "1                  139285         AMER1                 283598   \n",
       "2                  139285         AMER1                 388011   \n",
       "3                  139285         AMER1                  64919   \n",
       "4                  139285         AMER1                  84439   \n",
       "...                   ...           ...                    ...   \n",
       "177798                463         ZFHX3                  23181   \n",
       "177799                463         ZFHX3                  54059   \n",
       "177800                463         ZFHX3              100862692   \n",
       "177801                463         ZFHX3                   5116   \n",
       "177802                463         ZFHX3                  10841   \n",
       "\n",
       "       Gene_SL_Candidate  PValue_0  PValue_1    PValue  \n",
       "0                 CDKN2B  0.044765       NaN  0.044765  \n",
       "1              C14orf177  0.000081       NaN  0.000081  \n",
       "2              LINC01550  0.000093       NaN  0.000093  \n",
       "3                 BCL11B  0.000125       NaN  0.000125  \n",
       "4                 HHIPL1  0.000128       NaN  0.000128  \n",
       "...                  ...       ...       ...       ...  \n",
       "177798             DIP2A       NaN  0.029849  0.029849  \n",
       "177799              YBEY       NaN  0.029849  0.029849  \n",
       "177800         DIP2A-IT1       NaN  0.029849  0.029849  \n",
       "177801              PCNT       NaN  0.029849  0.029849  \n",
       "177802              FTCD       NaN  0.030332  0.030332  \n",
       "\n",
       "[177803 rows x 7 columns]"
      ]
     },
     "execution_count": 71,
     "metadata": {},
     "output_type": "execute_result"
    }
   ],
   "source": [
    "sof_result"
   ]
  },
  {
   "cell_type": "markdown",
   "metadata": {},
   "source": [
    "\n",
    "Results are saved in bigquery table"
   ]
  },
  {
   "cell_type": "code",
   "execution_count": 87,
   "metadata": {},
   "outputs": [
    {
     "name": "stderr",
     "output_type": "stream",
     "text": [
      "1it [00:37, 37.60s/it]"
     ]
    },
    {
     "name": "stdout",
     "output_type": "stream",
     "text": [
      "Table created successfully\n"
     ]
    },
    {
     "name": "stderr",
     "output_type": "stream",
     "text": [
      "\n"
     ]
    }
   ],
   "source": [
    "SL.CreateTable(client, sof_result, 'DAISY_RESULTS', 'SOF_Union_Pancancer_CCLE', project_id)"
   ]
  },
  {
   "cell_type": "markdown",
   "metadata": {},
   "source": [
    "Survival of Fittest results on Pancancer and CCLE are integrated"
   ]
  },
  {
   "cell_type": "code",
   "execution_count": 72,
   "metadata": {},
   "outputs": [],
   "source": [
    "functional_screening_result=UnionResults([crispr_result, siRNA_result])"
   ]
  },
  {
   "cell_type": "code",
   "execution_count": 89,
   "metadata": {},
   "outputs": [
    {
     "data": {
      "text/html": [
       "<div>\n",
       "<style scoped>\n",
       "    .dataframe tbody tr th:only-of-type {\n",
       "        vertical-align: middle;\n",
       "    }\n",
       "\n",
       "    .dataframe tbody tr th {\n",
       "        vertical-align: top;\n",
       "    }\n",
       "\n",
       "    .dataframe thead th {\n",
       "        text-align: right;\n",
       "    }\n",
       "</style>\n",
       "<table border=\"1\" class=\"dataframe\">\n",
       "  <thead>\n",
       "    <tr style=\"text-align: right;\">\n",
       "      <th></th>\n",
       "      <th>EntrezID_Inactive</th>\n",
       "      <th>Gene_Inactive</th>\n",
       "      <th>EntrezID_SL_Candidate</th>\n",
       "      <th>Gene_SL_Candidate</th>\n",
       "      <th>PValue_0</th>\n",
       "      <th>PValue_1</th>\n",
       "      <th>PValue</th>\n",
       "    </tr>\n",
       "  </thead>\n",
       "  <tbody>\n",
       "    <tr>\n",
       "      <th>17424</th>\n",
       "      <td>672</td>\n",
       "      <td>BRCA1</td>\n",
       "      <td>142</td>\n",
       "      <td>PARP1</td>\n",
       "      <td>0.00152</td>\n",
       "      <td>NaN</td>\n",
       "      <td>0.00152</td>\n",
       "    </tr>\n",
       "  </tbody>\n",
       "</table>\n",
       "</div>"
      ],
      "text/plain": [
       "       EntrezID_Inactive Gene_Inactive  EntrezID_SL_Candidate  \\\n",
       "17424                672         BRCA1                    142   \n",
       "\n",
       "      Gene_SL_Candidate  PValue_0  PValue_1   PValue  \n",
       "17424             PARP1   0.00152       NaN  0.00152  "
      ]
     },
     "execution_count": 89,
     "metadata": {},
     "output_type": "execute_result"
    }
   ],
   "source": [
    "functional_screening_result.loc[(functional_screening_result['Gene_Inactive']=='BRCA1')& (functional_screening_result['Gene_SL_Candidate']=='PARP1'), ]"
   ]
  },
  {
   "cell_type": "code",
   "execution_count": 90,
   "metadata": {},
   "outputs": [
    {
     "name": "stderr",
     "output_type": "stream",
     "text": [
      "1it [00:40, 40.61s/it]"
     ]
    },
    {
     "name": "stdout",
     "output_type": "stream",
     "text": [
      "Table created successfully\n"
     ]
    },
    {
     "name": "stderr",
     "output_type": "stream",
     "text": [
      "\n"
     ]
    }
   ],
   "source": [
    "#SL.CreateTable(client, functional_screening_result, 'DAISY_RESULTS', 'FuncEx_Union_CRISPR_siRNA', project_id)"
   ]
  },
  {
   "cell_type": "markdown",
   "metadata": {},
   "source": [
    "The results from three inference procedures are merged"
   ]
  },
  {
   "cell_type": "code",
   "execution_count": 74,
   "metadata": {},
   "outputs": [],
   "source": [
    "all_merged_results=MergeResults([coexpression_result, sof_result, functional_screening_result])"
   ]
  },
  {
   "cell_type": "code",
   "execution_count": 75,
   "metadata": {
    "scrolled": true
   },
   "outputs": [
    {
     "data": {
      "text/html": [
       "<div>\n",
       "<style scoped>\n",
       "    .dataframe tbody tr th:only-of-type {\n",
       "        vertical-align: middle;\n",
       "    }\n",
       "\n",
       "    .dataframe tbody tr th {\n",
       "        vertical-align: top;\n",
       "    }\n",
       "\n",
       "    .dataframe thead th {\n",
       "        text-align: right;\n",
       "    }\n",
       "</style>\n",
       "<table border=\"1\" class=\"dataframe\">\n",
       "  <thead>\n",
       "    <tr style=\"text-align: right;\">\n",
       "      <th></th>\n",
       "      <th>EntrezID_Inactive</th>\n",
       "      <th>Gene_Inactive</th>\n",
       "      <th>EntrezID_SL_Candidate</th>\n",
       "      <th>Gene_SL_Candidate</th>\n",
       "      <th>PValue</th>\n",
       "    </tr>\n",
       "  </thead>\n",
       "  <tbody>\n",
       "    <tr>\n",
       "      <th>0</th>\n",
       "      <td>324</td>\n",
       "      <td>APC</td>\n",
       "      <td>257218</td>\n",
       "      <td>SHPRH</td>\n",
       "      <td>0.000000e+00</td>\n",
       "    </tr>\n",
       "    <tr>\n",
       "      <th>1</th>\n",
       "      <td>8289</td>\n",
       "      <td>ARID1A</td>\n",
       "      <td>57649</td>\n",
       "      <td>PHF12</td>\n",
       "      <td>0.000000e+00</td>\n",
       "    </tr>\n",
       "    <tr>\n",
       "      <th>2</th>\n",
       "      <td>8289</td>\n",
       "      <td>ARID1A</td>\n",
       "      <td>284058</td>\n",
       "      <td>KANSL1</td>\n",
       "      <td>0.000000e+00</td>\n",
       "    </tr>\n",
       "    <tr>\n",
       "      <th>3</th>\n",
       "      <td>546</td>\n",
       "      <td>ATRX</td>\n",
       "      <td>3708</td>\n",
       "      <td>ITPR1</td>\n",
       "      <td>0.000000e+00</td>\n",
       "    </tr>\n",
       "    <tr>\n",
       "      <th>4</th>\n",
       "      <td>546</td>\n",
       "      <td>ATRX</td>\n",
       "      <td>5108</td>\n",
       "      <td>PCM1</td>\n",
       "      <td>0.000000e+00</td>\n",
       "    </tr>\n",
       "    <tr>\n",
       "      <th>...</th>\n",
       "      <td>...</td>\n",
       "      <td>...</td>\n",
       "      <td>...</td>\n",
       "      <td>...</td>\n",
       "      <td>...</td>\n",
       "    </tr>\n",
       "    <tr>\n",
       "      <th>145</th>\n",
       "      <td>7428</td>\n",
       "      <td>VHL</td>\n",
       "      <td>7014</td>\n",
       "      <td>TERF2</td>\n",
       "      <td>1.800103e-225</td>\n",
       "    </tr>\n",
       "    <tr>\n",
       "      <th>146</th>\n",
       "      <td>7428</td>\n",
       "      <td>VHL</td>\n",
       "      <td>23019</td>\n",
       "      <td>CNOT1</td>\n",
       "      <td>1.818288e-197</td>\n",
       "    </tr>\n",
       "    <tr>\n",
       "      <th>147</th>\n",
       "      <td>7428</td>\n",
       "      <td>VHL</td>\n",
       "      <td>30827</td>\n",
       "      <td>CXXC1</td>\n",
       "      <td>8.511482e-185</td>\n",
       "    </tr>\n",
       "    <tr>\n",
       "      <th>148</th>\n",
       "      <td>7428</td>\n",
       "      <td>VHL</td>\n",
       "      <td>9794</td>\n",
       "      <td>MAML1</td>\n",
       "      <td>0.000000e+00</td>\n",
       "    </tr>\n",
       "    <tr>\n",
       "      <th>149</th>\n",
       "      <td>7428</td>\n",
       "      <td>VHL</td>\n",
       "      <td>57534</td>\n",
       "      <td>MIB1</td>\n",
       "      <td>5.031126e-158</td>\n",
       "    </tr>\n",
       "  </tbody>\n",
       "</table>\n",
       "<p>150 rows × 5 columns</p>\n",
       "</div>"
      ],
      "text/plain": [
       "     EntrezID_Inactive Gene_Inactive  EntrezID_SL_Candidate Gene_SL_Candidate  \\\n",
       "0                  324           APC                 257218             SHPRH   \n",
       "1                 8289        ARID1A                  57649             PHF12   \n",
       "2                 8289        ARID1A                 284058            KANSL1   \n",
       "3                  546          ATRX                   3708             ITPR1   \n",
       "4                  546          ATRX                   5108              PCM1   \n",
       "..                 ...           ...                    ...               ...   \n",
       "145               7428           VHL                   7014             TERF2   \n",
       "146               7428           VHL                  23019             CNOT1   \n",
       "147               7428           VHL                  30827             CXXC1   \n",
       "148               7428           VHL                   9794             MAML1   \n",
       "149               7428           VHL                  57534              MIB1   \n",
       "\n",
       "            PValue  \n",
       "0     0.000000e+00  \n",
       "1     0.000000e+00  \n",
       "2     0.000000e+00  \n",
       "3     0.000000e+00  \n",
       "4     0.000000e+00  \n",
       "..             ...  \n",
       "145  1.800103e-225  \n",
       "146  1.818288e-197  \n",
       "147  8.511482e-185  \n",
       "148   0.000000e+00  \n",
       "149  5.031126e-158  \n",
       "\n",
       "[150 rows x 5 columns]"
      ]
     },
     "execution_count": 75,
     "metadata": {},
     "output_type": "execute_result"
    }
   ],
   "source": [
    "all_merged_results"
   ]
  },
  {
   "cell_type": "markdown",
   "metadata": {},
   "source": [
    "Results are saved in bigquery tables"
   ]
  },
  {
   "cell_type": "code",
   "execution_count": 80,
   "metadata": {},
   "outputs": [
    {
     "name": "stderr",
     "output_type": "stream",
     "text": [
      "1it [00:03,  3.39s/it]\n"
     ]
    },
    {
     "name": "stdout",
     "output_type": "stream",
     "text": [
      "Table created successfully\n"
     ]
    }
   ],
   "source": [
    "CreateTable(client, all_merged_results, 'pipeline_results', 'DAISY_final_sl_pairs', project_id, \"\")"
   ]
  },
  {
   "cell_type": "markdown",
   "metadata": {},
   "source": [
    "Results are saved in excel file"
   ]
  },
  {
   "cell_type": "code",
   "execution_count": 100,
   "metadata": {},
   "outputs": [],
   "source": [
    "WriteToExcel(\"tsg_driver.results.xlsx\", [coexp_pancancer,  coexp_CCLE,  sof_CCLE, sof_pancancer,  crispr_result, siRNA_result,  coexpression_result,  sof_result, functional_screening_result, co_ex_func_merged_results,  co_ex_sof_merged_results, sof_func_merged_results, all_merged_results],[\"Co-exp_Pancancer\",  \"Co-exp_CCLE\" , \"SOF_CCLE\",  \"SOF_Pancancer\",  \"CRISPR\", \"siRNA\" , \"Coexp_Union\",  \"Sof_Union\", \"Func_Sc_Union\", \"Coexp_Func_Merged\", \"Coexp_Sof_Merged\", \"Sof_Fun_Merged\", \"All\"])\n"
   ]
  },
  {
   "cell_type": "code",
   "execution_count": 101,
   "metadata": {},
   "outputs": [],
   "source": [
    "end_time= datetime.now()"
   ]
  }
 ],
 "metadata": {
  "kernelspec": {
   "display_name": "Python 3",
   "language": "python",
   "name": "python3"
  },
  "language_info": {
   "codemirror_mode": {
    "name": "ipython",
    "version": 3
   },
   "file_extension": ".py",
   "mimetype": "text/x-python",
   "name": "python",
   "nbconvert_exporter": "python",
   "pygments_lexer": "ipython3",
   "version": "3.7.6"
  }
 },
 "nbformat": 4,
 "nbformat_minor": 4
}
