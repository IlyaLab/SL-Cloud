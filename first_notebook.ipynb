{
 "cells": [
  {
   "cell_type": "code",
   "execution_count": null,
   "metadata": {},
   "outputs": [],
   "source": [
    "reset"
   ]
  },
  {
   "cell_type": "code",
   "execution_count": null,
   "metadata": {},
   "outputs": [],
   "source": [
    "#Please run this code block only once, the first time you are running this notebook\n",
    "!pip3 install google.cloud"
   ]
  },
  {
   "cell_type": "code",
   "execution_count": null,
   "metadata": {},
   "outputs": [],
   "source": [
    "#To be able to retrieve data from google cloud bigquery tables \n",
    "from google.cloud import bigquery"
   ]
  },
  {
   "cell_type": "code",
   "execution_count": null,
   "metadata": {},
   "outputs": [],
   "source": [
    "#Please make sure that you have installed Cloud SDK.\n",
    "#See support from https://cloud.google.com/sdk/docs/install\n",
    "\n",
    "!gcloud auth application-default login"
   ]
  },
  {
   "cell_type": "code",
   "execution_count": null,
   "metadata": {},
   "outputs": [],
   "source": [
    "# Please update with your own projectid\n",
    "project_id='firstslproject-324718'\n",
    "client = bigquery.Client(project_id)\n",
    "#client = bigquery.Client(credentials=credentials, project=credentials.project_id)"
   ]
  },
  {
   "cell_type": "code",
   "execution_count": null,
   "metadata": {},
   "outputs": [],
   "source": [
    "# Retireve BRCA1 gene effect score of the first data entry for gene BRCA1 from CRISPR dataset\n",
    "crispr_query=\"\"\"\n",
    "SELECT * FROM \n",
    "`syntheticlethality.DepMap_public_20Q3.Achilles_gene_effect`\n",
    "WHERE Hugo_Symbol='BRCA1'\n",
    "LIMIT 10\n",
    "\"\"\"\n",
    "brca1_gene_effect=client.query(crispr_query).result().to_dataframe()\n",
    "brca1_gene_effect"
   ]
  },
  {
   "cell_type": "code",
   "execution_count": null,
   "metadata": {},
   "outputs": [],
   "source": [
    "# Retrieve the first 10 records for BRCA1 gene expression from pancancer atlas dataset\n",
    "pancancer_atlas_query=\"\"\"\n",
    "SELECT * FROM\n",
    "`pancancer-atlas.Filtered.EBpp_AdjustPANCAN_IlluminaHiSeq_RNASeqV2_genExp_filtered` \n",
    "WHERE Symbol='BRCA1'\n",
    "LIMIT 10\n",
    "\"\"\"\n",
    "brca1_gene_exp=client.query(pancancer_atlas_query).result().to_dataframe()\n",
    "brca1_gene_exp"
   ]
  }
 ],
 "metadata": {
  "kernelspec": {
   "display_name": "Python 3",
   "language": "python",
   "name": "python3"
  },
  "language_info": {
   "codemirror_mode": {
    "name": "ipython",
    "version": 3
   },
   "file_extension": ".py",
   "mimetype": "text/x-python",
   "name": "python",
   "nbconvert_exporter": "python",
   "pygments_lexer": "ipython3",
   "version": "3.7.6"
  }
 },
 "nbformat": 4,
 "nbformat_minor": 4
}
