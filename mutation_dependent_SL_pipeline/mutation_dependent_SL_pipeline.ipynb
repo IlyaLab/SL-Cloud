{
 "cells": [
  {
   "cell_type": "markdown",
   "id": "married-trinidad",
   "metadata": {},
   "source": [
    "### About this notebook: \n",
    "<font color='grey'>This notebook is used to answer </font><font color='red'>which gene knockout or gene knockdown </font> show sensitivity to <font color='red'> certain gene mutation or the mutation of a group of genes.</font> <br/>\n",
    "\n",
    "<font color='blue'>The functional screening data and omics data for cell lines is from the Depmap and CCLE project from the Broad institute (DepMap Public 20Q3). To use this jupyter notebook and the data which are used in the jupyter notebook, Please cite the following papers</font> <br/>\n",
    "\n",
    "....our paper\n",
    "\n",
    "For this DepMap release:\n",
    "DepMap, Broad (2020): DepMap 20Q3 Public. figshare. Dataset doi:10.6084/m9.figshare.11791698.v2.\n",
    "\n",
    "For CRISPR datasets:\n",
    "Robin M. Meyers, Jordan G. Bryan, James M. McFarland, Barbara A. Weir, ... David E. Root, William C. Hahn, Aviad Tsherniak. Computational correction of copy number effect improves specificity of CRISPR-Cas9 essentiality screens in cancer cells. Nature Genetics 2017 October 49:1779–1784. doi:10.1038/ng.3984\n",
    "\n",
    "Dempster, J. M., Rossen, J., Kazachkova, M., Pan, J., Kugener, G., Root, D. E., & Tsherniak, A. (2019). Extracting Biological Insights from the Project Achilles Genome-Scale CRISPR Screens in Cancer Cell Lines. BioRxiv, 720243.\n",
    "\n",
    "For omics datasets:\n",
    "Mahmoud Ghandi, Franklin W. Huang, Judit Jané-Valbuena, Gregory V. Kryukov, ... Todd R. Golub, Levi A. Garraway & William R. Sellers. 2019. Next-generation characterization of the Cancer Cell Line Encyclopedia. Nature 569, 503–508 (2019).\n"
   ]
  },
  {
   "cell_type": "code",
   "execution_count": null,
   "id": "processed-respect",
   "metadata": {},
   "outputs": [],
   "source": [
    "#Make sure to have the libraries required to be installed.\n",
    "from google.cloud import bigquery\n",
    "import pandas as pd\n",
    "import numpy as np\n",
    "import ipywidgets as widgets\n",
    "from scipy import stats \n",
    "import statsmodels.stats.multitest as multi\n",
    "import sys\n",
    "sys.path.append('../scripts/')\n",
    "import mutation_dependent_PP as mdpp\n",
    "\n"
   ]
  },
  {
   "cell_type": "code",
   "execution_count": null,
   "id": "interpreted-lewis",
   "metadata": {},
   "outputs": [],
   "source": [
    "# Users need to a google cloud project to query the data in the BigQuery tables. \n",
    "project_id='syntheticlethality'\n",
    "client = bigquery.Client(project_id)\n",
    "\n",
    "!gcloud auth login"
   ]
  },
  {
   "cell_type": "markdown",
   "id": "pregnant-material",
   "metadata": {},
   "source": [
    "#### Get mutation data from CCLE, crispr gene knockout effects from Depmap and shRNA gene knockdown gene dependency data from demeter"
   ]
  },
  {
   "cell_type": "code",
   "execution_count": null,
   "id": "unique-jacob",
   "metadata": {},
   "outputs": [],
   "source": [
    "Mut_mat = mdpp.get_ccle_mutation_data()\n",
    "Demeter_data = mdpp.get_demeter_shRNA_data()\n",
    "Depmap_matrix = mdpp.get_depmap_crispr_data()"
   ]
  },
  {
   "cell_type": "markdown",
   "id": "laughing-budapest",
   "metadata": {},
   "source": [
    "#### Set user input:\n",
    "###### 1, Data_source: only two options are avaiable, \"shRNA\" or \"Crispr\", datatype: string\n",
    "###### 2, Mutated genes to be interested. It can be a list of genes or one single gene in a list format. \n",
    "###### 3, Tumor types to be included in the analysis. Users can select 'pancancer' or select one or multiple tumor types to theirs interests."
   ]
  },
  {
   "cell_type": "code",
   "execution_count": null,
   "id": "canadian-lunch",
   "metadata": {},
   "outputs": [],
   "source": [
    "# User input\n",
    "Data_source = \"shRNA\" # only two options are avaiable, \"shRNA\" or \"Crispr\", datatype: string\n",
    "Gene_list = ['BRCA2'] # data type: list"
   ]
  },
  {
   "cell_type": "code",
   "execution_count": null,
   "id": "solid-season",
   "metadata": {},
   "outputs": [],
   "source": [
    "query = ''' \n",
    "SELECT DepMap_ID, primary_disease,TCGA_subtype\n",
    "FROM `syntheticlethality.DepMap_public_20Q3.sample_info_Depmap_withTCGA_labels` \n",
    "'''\n",
    "sample_info = client.query(query).result().to_dataframe()\n",
    "\n",
    "pancancer_cls = sample_info.loc[~sample_info['primary_disease'].isin(['Non-Cancerous','Unknown','Engineered','Immortalized'])]\n",
    "pancancer_cls = pancancer_cls.loc[~(pancancer_cls['primary_disease'].isna())]\n",
    "\n",
    "TCGA_list = [x for x in list(set(pancancer_cls['TCGA_subtype'])) if x == x]\n",
    "\n",
    "tumor_type = widgets.SelectMultiple(\n",
    "    options=['pancancer'] + TCGA_list  ,\n",
    "    value=[],\n",
    "    description='Tumor type',\n",
    "    disabled=False\n",
    ")\n",
    "display(tumor_type)"
   ]
  },
  {
   "cell_type": "markdown",
   "id": "written-winter",
   "metadata": {},
   "source": [
    "#### Select shRNA dataset or Crispr dataset to infer synthetic lethality pairs for mutated genes! "
   ]
  },
  {
   "cell_type": "code",
   "execution_count": null,
   "id": "normal-quality",
   "metadata": {},
   "outputs": [],
   "source": [
    "if Data_source == \"shRNA\"\n",
    "    result = mdpp.Mutational_based_SL_pipeline(list(tumor_type.value), Gene_list, Mut_mat, Demeter_data, Data_source)"
   ]
  },
  {
   "cell_type": "code",
   "execution_count": null,
   "id": "bearing-repository",
   "metadata": {},
   "outputs": [],
   "source": [
    "if Data_source == \"Crispr\"\n",
    "    result = mdpp.Mutational_based_SL_pipeline(list(tumor_type.value), Gene_list, Mut_mat, Depmap_matrix, Data_source)"
   ]
  }
 ],
 "metadata": {
  "kernelspec": {
   "display_name": "Python 3",
   "language": "python",
   "name": "python3"
  },
  "language_info": {
   "codemirror_mode": {
    "name": "ipython",
    "version": 3
   },
   "file_extension": ".py",
   "mimetype": "text/x-python",
   "name": "python",
   "nbconvert_exporter": "python",
   "pygments_lexer": "ipython3",
   "version": "3.7.6"
  }
 },
 "nbformat": 4,
 "nbformat_minor": 5
}
