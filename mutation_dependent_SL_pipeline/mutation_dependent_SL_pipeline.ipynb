{
 "cells": [
  {
   "cell_type": "markdown",
   "id": "married-trinidad",
   "metadata": {},
   "source": [
    "### About this notebook: \n",
    "This notebook is used to answer which gene knockout or gene knockdown  show sensitivity to certain gene mutation or the mutation of a group of genes. <br/>\n",
    "\n",
    "Please cite the following paper when use this notebook. \n",
    "\n",
    "<font color='blue'>The functional screening data and omics data for cell lines is from the Depmap and CCLE project from the Broad institute (DepMap Public 20Q3). To use this jupyter notebook and the data which are used in the jupyter notebook, Please cite the following papers</font> <br/>\n",
    "\n",
    "....our paper\n",
    "\n",
    "For this DepMap release:\n",
    "DepMap, Broad (2020): DepMap 20Q3 Public. figshare. Dataset doi:10.6084/m9.figshare.11791698.v2.\n",
    "\n",
    "For CRISPR datasets:\n",
    "Robin M. Meyers, Jordan G. Bryan, James M. McFarland, Barbara A. Weir, ... David E. Root, William C. Hahn, Aviad Tsherniak. Computational correction of copy number effect improves specificity of CRISPR-Cas9 essentiality screens in cancer cells. Nature Genetics 2017 October 49:1779–1784. doi:10.1038/ng.3984\n",
    "\n",
    "Dempster, J. M., Rossen, J., Kazachkova, M., Pan, J., Kugener, G., Root, D. E., & Tsherniak, A. (2019). Extracting Biological Insights from the Project Achilles Genome-Scale CRISPR Screens in Cancer Cell Lines. BioRxiv, 720243.\n",
    "\n",
    "For omics datasets:\n",
    "Mahmoud Ghandi, Franklin W. Huang, Judit Jané-Valbuena, Gregory V. Kryukov, ... Todd R. Golub, Levi A. Garraway & William R. Sellers. 2019. Next-generation characterization of the Cancer Cell Line Encyclopedia. Nature 569, 503–508 (2019).\n",
    "\n",
    "For more detailed information, please contact gqin@systemsbiology.org\n"
   ]
  },
  {
   "cell_type": "code",
   "execution_count": null,
   "id": "processed-respect",
   "metadata": {},
   "outputs": [],
   "source": [
    "#Make sure to have the libraries required to be installed.\n",
    "from google.cloud import bigquery\n",
    "import pandas as pd\n",
    "import numpy as np\n",
    "import ipywidgets as widgets\n",
    "from scipy import stats \n",
    "import statsmodels.stats.multitest as multi\n",
    "import sys\n",
    "sys.path.append('../scripts/')\n",
    "import mutation_dependent_PP as mdpp"
   ]
  },
  {
   "cell_type": "code",
   "execution_count": null,
   "id": "restricted-monroe",
   "metadata": {},
   "outputs": [],
   "source": [
    "import warnings\n",
    "warnings.filterwarnings(\"ignore\", category=RuntimeWarning) "
   ]
  },
  {
   "cell_type": "code",
   "execution_count": null,
   "id": "interpreted-lewis",
   "metadata": {},
   "outputs": [],
   "source": [
    "# Users need to a google cloud project to query the data in the BigQuery tables. \n",
    "project_id='syntheticlethality'\n",
    "client = bigquery.Client(project_id)\n",
    "\n",
    "!gcloud auth login"
   ]
  },
  {
   "cell_type": "markdown",
   "id": "pregnant-material",
   "metadata": {},
   "source": [
    "#### Get mutation data from CCLE, crispr gene knockout effects from Depmap and shRNA gene knockdown gene dependency data from demeter"
   ]
  },
  {
   "cell_type": "code",
   "execution_count": null,
   "id": "unique-jacob",
   "metadata": {},
   "outputs": [],
   "source": [
    "Mut_mat = mdpp.get_ccle_mutation_data()\n",
    "Demeter_data = mdpp.get_demeter_shRNA_data()\n",
    "Depmap_matrix = mdpp.get_depmap_crispr_data()"
   ]
  },
  {
   "cell_type": "markdown",
   "id": "laughing-budapest",
   "metadata": {},
   "source": [
    "#### Set user input:\n",
    "###### 1, Data_source: only two options are avaiable, \"shRNA\" or \"Crispr\", datatype: string\n",
    "###### 2, Mutated genes to be interested. It can be a list of genes or one single gene in a list format. \n",
    "###### 3, Tumor types to be included in the analysis. Users can select 'pancancer' or select one or multiple tumor types to theirs interests."
   ]
  },
  {
   "cell_type": "code",
   "execution_count": null,
   "id": "canadian-lunch",
   "metadata": {},
   "outputs": [],
   "source": [
    "# User input\n",
    "Data_source = \"shRNA\" # only two options are avaiable, \"shRNA\" or \"Crispr\", datatype: string\n",
    "Gene_list = ['BRCA2'] # data type: list of gene symbols"
   ]
  },
  {
   "cell_type": "code",
   "execution_count": null,
   "id": "imperial-messaging",
   "metadata": {},
   "outputs": [],
   "source": [
    "#All DDR genes\n",
    "#Gene_list = pd.read_csv(\"/Users/gloria/Documents/ISB/Synthetic_lethality/Manuscript/scripts/Synthetic_lethylity/Data/DDRGenes.csv\")\n",
    "#Gene_list = list(Gene_list['HGNC_gene_symbol'])"
   ]
  },
  {
   "cell_type": "code",
   "execution_count": null,
   "id": "ordinary-minister",
   "metadata": {},
   "outputs": [],
   "source": [
    "# ID mapping between the CCLE annotation and input gene symbols\n",
    "id_mapping, Gene_list_matched = mdpp.GeneSymbol_standardization(Gene_list)\n"
   ]
  },
  {
   "cell_type": "markdown",
   "id": "color-athletics",
   "metadata": {},
   "source": [
    "#### Select tumor types"
   ]
  },
  {
   "cell_type": "code",
   "execution_count": null,
   "id": "solid-season",
   "metadata": {},
   "outputs": [],
   "source": [
    "query = ''' \n",
    "SELECT DepMap_ID, primary_disease,TCGA_subtype\n",
    "FROM `syntheticlethality.DepMap_public_20Q3.sample_info_Depmap_withTCGA_labels` \n",
    "'''\n",
    "sample_info = client.query(query).result().to_dataframe()\n",
    "\n",
    "pancancer_cls = sample_info.loc[~sample_info['primary_disease'].isin(['Non-Cancerous','Unknown','Engineered','Immortalized'])]\n",
    "pancancer_cls = pancancer_cls.loc[~(pancancer_cls['primary_disease'].isna())]\n",
    "\n",
    "TCGA_list = [x for x in list(set(pancancer_cls['TCGA_subtype'])) if x == x]\n",
    "\n",
    "Not_none_values = filter(None.__ne__, TCGA_list)\n",
    "TCGA_list = list(Not_none_values)\n",
    "\n",
    "tumor_type = widgets.SelectMultiple(\n",
    "    options=['pancancer'] + TCGA_list  ,\n",
    "    value=[],\n",
    "    description='Tumor type',\n",
    "    disabled=False\n",
    ")\n",
    "display(tumor_type)"
   ]
  },
  {
   "cell_type": "markdown",
   "id": "written-winter",
   "metadata": {},
   "source": [
    "#### Select shRNA dataset or Crispr dataset to infer synthetic lethality pairs for mutated genes! "
   ]
  },
  {
   "cell_type": "code",
   "execution_count": null,
   "id": "normal-quality",
   "metadata": {},
   "outputs": [],
   "source": [
    "Data_source = \"shRNA\"\n",
    "if Data_source == \"shRNA\":\n",
    "    result_shRNA = mdpp.Mutational_based_SL_pipeline(list(tumor_type.value), Gene_list_matched, Mut_mat, Demeter_data, Data_source)\n",
    "    if result_shRNA.shape[0] > 0:\n",
    "        result_shRNA_sig = result_shRNA.loc[result_shRNA['FDR_all_exp'] < 0.05]\n",
    "        result_shRNA_sig = result_shRNA_sig.loc[result_shRNA_sig['ES']<0]"
   ]
  },
  {
   "cell_type": "code",
   "execution_count": null,
   "id": "metallic-doctrine",
   "metadata": {},
   "outputs": [],
   "source": [
    "result_shRNA_sig.to_csv(\"DDR_shRNA_sig.csv\")"
   ]
  },
  {
   "cell_type": "code",
   "execution_count": null,
   "id": "bearing-repository",
   "metadata": {},
   "outputs": [],
   "source": [
    "Data_source = \"Crispr\"\n",
    "if Data_source == \"Crispr\":\n",
    "    result_Crispr = mdpp.Mutational_based_SL_pipeline(list(tumor_type.value), Gene_list_matched, Mut_mat, Depmap_matrix, Data_source)\n",
    "    if result_Crispr.shape[0] > 0:\n",
    "        result_Crispr_sig = result_Crispr.loc[result_Crispr['FDR_all_exp'] < 0.05]\n",
    "        result_Crispr_sig = result_Crispr_sig.loc[result_Crispr_sig['ES'] < 0] "
   ]
  },
  {
   "cell_type": "code",
   "execution_count": null,
   "id": "stock-password",
   "metadata": {},
   "outputs": [],
   "source": [
    "result_Crispr_sig.to_csv(\"DDR_Crispr_sig.csv\")"
   ]
  },
  {
   "cell_type": "markdown",
   "id": "resident-edwards",
   "metadata": {},
   "source": [
    "###### Result interpretation \n",
    "result_Crispr_sig or result_shRNA_sig contains the synthetic lethal gene pairs predicted from this pipeline.<br/>\n",
    "###### table annotation:\n",
    "Gene_mut: mutated genes;<br/>\n",
    "Gene_kd: gene knockdown or knock out <br/>\n",
    "Mutated_samples: Number of mutated cell lines in the selected tumor type<br/>\n",
    "pvalue: p-value result from t-test<br/>\n",
    "ES: effect size of gene effects between the mutated group and wild type group<br/>\n",
    "FDR_all_exp: <br/>\n",
    "FDR_by_gene: FDR for p-value by one gene mutation<br/>\n",
    "Tumor_type: tumor types in analysis"
   ]
  },
  {
   "cell_type": "code",
   "execution_count": null,
   "id": "enhanced-trail",
   "metadata": {},
   "outputs": [],
   "source": [
    "# User defined analysis"
   ]
  }
 ],
 "metadata": {
  "kernelspec": {
   "display_name": "Python 3",
   "language": "python",
   "name": "python3"
  },
  "language_info": {
   "codemirror_mode": {
    "name": "ipython",
    "version": 3
   },
   "file_extension": ".py",
   "mimetype": "text/x-python",
   "name": "python",
   "nbconvert_exporter": "python",
   "pygments_lexer": "ipython3",
   "version": "3.7.6"
  }
 },
 "nbformat": 4,
 "nbformat_minor": 5
}
