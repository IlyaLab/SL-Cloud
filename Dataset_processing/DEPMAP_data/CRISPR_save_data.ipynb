{
 "cells": [
  {
   "cell_type": "markdown",
   "metadata": {},
   "source": [
    "## Saving DEPMAP20Q3 datasets in BigQuery Tables \n",
    "```\n",
    "Title:   How to save DEPMAP20Q3 datasets in BigQuery Tables\n",
    "Author:  Bahar Tercan\n",
    "Created: 02-08-2022\n",
    "Purpose: To download data from DEPMAP20Q3 project into BigQuery Tables \n",
    "Notes: Runs in Mybinder\n",
    "```"
   ]
  },
  {
   "cell_type": "markdown",
   "metadata": {},
   "source": [
    "This notebook provides code for saving DepMap_public_20Q3 data in bigquery tables.\n",
    "Users don't need to run this pipeline to get the data, this pipeline shows how we saved the data in bigquery tables.\n",
    "\n",
    "Please contact Bahar Tercan, btercan@systemsbiology.org, if you have further questions for this notebook.\n"
   ]
  },
  {
   "cell_type": "markdown",
   "metadata": {},
   "source": [
    "Installing and importing the required libraries "
   ]
  },
  {
   "cell_type": "code",
   "execution_count": 1,
   "metadata": {},
   "outputs": [
    {
     "name": "stdout",
     "output_type": "stream",
     "text": [
      "Requirement already satisfied: numpy in /usr/local/lib/python3.9/site-packages (1.22.2)\n",
      "\u001b[33mWARNING: You are using pip version 20.3.3; however, version 22.0.3 is available.\n",
      "You should consider upgrading via the '/usr/local/opt/python@3.9/bin/python3.9 -m pip install --upgrade pip' command.\u001b[0m\n",
      "Requirement already satisfied: pandas in /usr/local/lib/python3.9/site-packages (1.4.0)\n",
      "Requirement already satisfied: pytz>=2020.1 in /usr/local/lib/python3.9/site-packages (from pandas) (2021.3)\n",
      "Requirement already satisfied: python-dateutil>=2.8.1 in /usr/local/lib/python3.9/site-packages (from pandas) (2.8.2)\n",
      "Requirement already satisfied: numpy>=1.18.5 in /usr/local/lib/python3.9/site-packages (from pandas) (1.22.2)\n",
      "Requirement already satisfied: six>=1.5 in /usr/local/lib/python3.9/site-packages (from python-dateutil>=2.8.1->pandas) (1.16.0)\n",
      "\u001b[33mWARNING: You are using pip version 20.3.3; however, version 22.0.3 is available.\n",
      "You should consider upgrading via the '/usr/local/opt/python@3.9/bin/python3.9 -m pip install --upgrade pip' command.\u001b[0m\n",
      "Requirement already satisfied: google.cloud in /usr/local/lib/python3.9/site-packages (0.34.0)\n",
      "\u001b[33mWARNING: You are using pip version 20.3.3; however, version 22.0.3 is available.\n",
      "You should consider upgrading via the '/usr/local/opt/python@3.9/bin/python3.9 -m pip install --upgrade pip' command.\u001b[0m\n",
      "Collecting pandas_gbq\n",
      "  Downloading pandas_gbq-0.17.0-py2.py3-none-any.whl (24 kB)\n",
      "Requirement already satisfied: pandas>=0.24.2 in /usr/local/lib/python3.9/site-packages (from pandas_gbq) (1.4.0)\n",
      "Requirement already satisfied: pyarrow<7.0dev,>=3.0.0 in /usr/local/lib/python3.9/site-packages (from pandas_gbq) (6.0.1)\n",
      "Requirement already satisfied: google-auth>=1.18.0 in /usr/local/lib/python3.9/site-packages (from pandas_gbq) (2.6.0)\n",
      "Requirement already satisfied: google-api-core>=1.21.0 in /usr/local/lib/python3.9/site-packages (from pandas_gbq) (2.5.0)\n",
      "Requirement already satisfied: setuptools in /usr/local/lib/python3.9/site-packages (from pandas_gbq) (51.1.1)\n",
      "Requirement already satisfied: google-cloud-bigquery!=2.4.*,<4.0.0dev,>=1.27.2 in /usr/local/lib/python3.9/site-packages (from pandas_gbq) (2.32.0)\n",
      "Requirement already satisfied: numpy>=1.16.6 in /usr/local/lib/python3.9/site-packages (from pandas_gbq) (1.22.2)\n",
      "Collecting db-dtypes<2.0.0,>=0.3.1\n",
      "  Downloading db_dtypes-0.3.1-py2.py3-none-any.whl (13 kB)\n",
      "Requirement already satisfied: packaging>=17.0 in /usr/local/lib/python3.9/site-packages (from db-dtypes<2.0.0,>=0.3.1->pandas_gbq) (21.3)\n",
      "Requirement already satisfied: googleapis-common-protos<2.0dev,>=1.52.0 in /usr/local/lib/python3.9/site-packages (from google-api-core>=1.21.0->pandas_gbq) (1.54.0)\n",
      "Requirement already satisfied: protobuf>=3.12.0 in /usr/local/lib/python3.9/site-packages (from google-api-core>=1.21.0->pandas_gbq) (3.19.4)\n",
      "Requirement already satisfied: requests<3.0.0dev,>=2.18.0 in /usr/local/lib/python3.9/site-packages (from google-api-core>=1.21.0->pandas_gbq) (2.27.1)\n",
      "Requirement already satisfied: rsa<5,>=3.1.4 in /usr/local/lib/python3.9/site-packages (from google-auth>=1.18.0->pandas_gbq) (4.8)\n",
      "Requirement already satisfied: pyasn1-modules>=0.2.1 in /usr/local/lib/python3.9/site-packages (from google-auth>=1.18.0->pandas_gbq) (0.2.8)\n",
      "Requirement already satisfied: six>=1.9.0 in /usr/local/lib/python3.9/site-packages (from google-auth>=1.18.0->pandas_gbq) (1.16.0)\n",
      "Requirement already satisfied: cachetools<6.0,>=2.0.0 in /usr/local/lib/python3.9/site-packages (from google-auth>=1.18.0->pandas_gbq) (5.0.0)\n",
      "Collecting google-auth-oauthlib>=0.0.1\n",
      "  Downloading google_auth_oauthlib-0.4.6-py2.py3-none-any.whl (18 kB)\n",
      "Requirement already satisfied: google-cloud-core<3.0.0dev,>=1.4.1 in /usr/local/lib/python3.9/site-packages (from google-cloud-bigquery!=2.4.*,<4.0.0dev,>=1.27.2->pandas_gbq) (2.2.2)\n",
      "Requirement already satisfied: python-dateutil<3.0dev,>=2.7.2 in /usr/local/lib/python3.9/site-packages (from google-cloud-bigquery!=2.4.*,<4.0.0dev,>=1.27.2->pandas_gbq) (2.8.2)\n",
      "Requirement already satisfied: proto-plus>=1.10.0 in /usr/local/lib/python3.9/site-packages (from google-cloud-bigquery!=2.4.*,<4.0.0dev,>=1.27.2->pandas_gbq) (1.19.9)\n",
      "Requirement already satisfied: google-resumable-media<3.0dev,>=0.6.0 in /usr/local/lib/python3.9/site-packages (from google-cloud-bigquery!=2.4.*,<4.0.0dev,>=1.27.2->pandas_gbq) (2.1.0)\n",
      "Requirement already satisfied: grpcio<2.0dev,>=1.38.1 in /usr/local/lib/python3.9/site-packages (from google-cloud-bigquery!=2.4.*,<4.0.0dev,>=1.27.2->pandas_gbq) (1.43.0)\n",
      "Requirement already satisfied: grpcio-status<2.0dev,>=1.33.2 in /usr/local/lib/python3.9/site-packages (from google-api-core>=1.21.0->pandas_gbq) (1.43.0)\n",
      "Collecting google-cloud-bigquery-storage<3.0.0dev,>=1.1.0\n",
      "  Downloading google_cloud_bigquery_storage-2.11.0-py2.py3-none-any.whl (172 kB)\n",
      "\u001b[K     |████████████████████████████████| 172 kB 6.4 MB/s eta 0:00:01\n",
      "\u001b[?25hRequirement already satisfied: google-crc32c<2.0dev,>=1.0 in /usr/local/lib/python3.9/site-packages (from google-resumable-media<3.0dev,>=0.6.0->google-cloud-bigquery!=2.4.*,<4.0.0dev,>=1.27.2->pandas_gbq) (1.3.0)\n",
      "Collecting libcst>=0.2.5\n",
      "  Downloading libcst-0.4.1-cp39-cp39-macosx_10_9_x86_64.whl (1.8 MB)\n",
      "\u001b[K     |████████████████████████████████| 1.8 MB 11.3 MB/s eta 0:00:01\n",
      "\u001b[?25hRequirement already satisfied: typing-extensions>=3.7.4.2 in /usr/local/lib/python3.9/site-packages (from libcst>=0.2.5->google-cloud-bigquery-storage<3.0.0dev,>=1.1.0->pandas_gbq) (4.0.1)\n",
      "Requirement already satisfied: pyparsing!=3.0.5,>=2.0.2 in /usr/local/lib/python3.9/site-packages (from packaging>=17.0->db-dtypes<2.0.0,>=0.3.1->pandas_gbq) (3.0.7)\n",
      "Requirement already satisfied: pytz>=2020.1 in /usr/local/lib/python3.9/site-packages (from pandas>=0.24.2->pandas_gbq) (2021.3)\n",
      "Requirement already satisfied: pyasn1<0.5.0,>=0.4.6 in /usr/local/lib/python3.9/site-packages (from pyasn1-modules>=0.2.1->google-auth>=1.18.0->pandas_gbq) (0.4.8)\n",
      "Collecting pyyaml>=5.2\n",
      "  Downloading PyYAML-6.0-cp39-cp39-macosx_10_9_x86_64.whl (197 kB)\n",
      "\u001b[K     |████████████████████████████████| 197 kB 44.5 MB/s eta 0:00:01\n",
      "\u001b[?25hRequirement already satisfied: charset-normalizer~=2.0.0 in /usr/local/lib/python3.9/site-packages (from requests<3.0.0dev,>=2.18.0->google-api-core>=1.21.0->pandas_gbq) (2.0.11)\n",
      "Requirement already satisfied: urllib3<1.27,>=1.21.1 in /usr/local/lib/python3.9/site-packages (from requests<3.0.0dev,>=2.18.0->google-api-core>=1.21.0->pandas_gbq) (1.26.8)\n",
      "Requirement already satisfied: idna<4,>=2.5 in /usr/local/lib/python3.9/site-packages (from requests<3.0.0dev,>=2.18.0->google-api-core>=1.21.0->pandas_gbq) (3.3)\n",
      "Requirement already satisfied: certifi>=2017.4.17 in /usr/local/lib/python3.9/site-packages (from requests<3.0.0dev,>=2.18.0->google-api-core>=1.21.0->pandas_gbq) (2021.10.8)\n",
      "Collecting requests-oauthlib>=0.7.0\n",
      "  Downloading requests_oauthlib-1.3.1-py2.py3-none-any.whl (23 kB)\n",
      "Collecting oauthlib>=3.0.0\n",
      "  Downloading oauthlib-3.2.0-py3-none-any.whl (151 kB)\n",
      "\u001b[K     |████████████████████████████████| 151 kB 40.4 MB/s eta 0:00:01\n",
      "\u001b[?25hCollecting typing-inspect>=0.4.0\n",
      "  Downloading typing_inspect-0.7.1-py3-none-any.whl (8.4 kB)\n",
      "Requirement already satisfied: mypy-extensions>=0.3.0 in /usr/local/lib/python3.9/site-packages (from typing-inspect>=0.4.0->libcst>=0.2.5->google-cloud-bigquery-storage<3.0.0dev,>=1.1.0->pandas_gbq) (0.4.3)\n",
      "Collecting pydata-google-auth\n",
      "  Downloading pydata_google_auth-1.3.0-py2.py3-none-any.whl (14 kB)\n",
      "Installing collected packages: oauthlib, typing-inspect, requests-oauthlib, pyyaml, libcst, google-auth-oauthlib, pydata-google-auth, google-cloud-bigquery-storage, db-dtypes, pandas-gbq\n",
      "Successfully installed db-dtypes-0.3.1 google-auth-oauthlib-0.4.6 google-cloud-bigquery-storage-2.11.0 libcst-0.4.1 oauthlib-3.2.0 pandas-gbq-0.17.0 pydata-google-auth-1.3.0 pyyaml-6.0 requests-oauthlib-1.3.1 typing-inspect-0.7.1\n",
      "\u001b[33mWARNING: You are using pip version 20.3.3; however, version 22.0.3 is available.\n",
      "You should consider upgrading via the '/usr/local/opt/python@3.9/bin/python3.9 -m pip install --upgrade pip' command.\u001b[0m\n",
      "Collecting importlib\n",
      "  Using cached importlib-1.0.4.zip (7.1 kB)\n",
      "Building wheels for collected packages: importlib\n"
     ]
    },
    {
     "name": "stdout",
     "output_type": "stream",
     "text": [
      "  Building wheel for importlib (setup.py) ... \u001b[?25ldone\n",
      "\u001b[?25h  Created wheel for importlib: filename=importlib-1.0.4-py3-none-any.whl size=5858 sha256=3b145d4ed02f5f0feb4a3c04bc876277f32c47f0afe1556292d8a2064bdab0b7\n",
      "  Stored in directory: /Users/bahar/Library/Caches/pip/wheels/66/d5/91/d3087e750eb0957b46f68e9c3d0d45a93ea344220c87ab1583\n",
      "Successfully built importlib\n",
      "Installing collected packages: importlib\n",
      "Successfully installed importlib-1.0.4\n",
      "\u001b[33mWARNING: You are using pip version 20.3.3; however, version 22.0.3 is available.\n",
      "You should consider upgrading via the '/usr/local/opt/python@3.9/bin/python3.9 -m pip install --upgrade pip' command.\u001b[0m\n"
     ]
    }
   ],
   "source": [
    "# This code block installs the dependencies, please run it only once, the first time you run this notebook\n",
    "#(If you have already run this block for the shRNA_save_data pipeline, you do not need to run)\n",
    "!pip3 install numpy\n",
    "!pip3 install pandas\n",
    "!pip3 install google.cloud\n",
    "!pip3 install pandas_gbq\n",
    "!pip3 install importlib"
   ]
  },
  {
   "cell_type": "code",
   "execution_count": 57,
   "metadata": {},
   "outputs": [],
   "source": [
    "import numpy as np\n",
    "import sys\n",
    "sys.path.append('../../Scripts/')\n",
    "import importlib\n",
    "import BIGQUERY_operations\n",
    "importlib.reload(BIGQUERY_operations)\n",
    "from BIGQUERY_operations import *\n",
    "import DEPMAP_data_preprocessing\n",
    "importlib.reload(DEPMAP_data_preprocessing)\n",
    "from DEPMAP_data_preprocessing import *\n"
   ]
  },
  {
   "cell_type": "markdown",
   "metadata": {},
   "source": [
    "## Google Authentication\n",
    "The first step is to authorize access to BigQuery and the Google Cloud. For more information see ['Quick Start Guide to ISB-CGC'](https://isb-cancer-genomics-cloud.readthedocs.io/en/latest/sections/HowToGetStartedonISB-CGC.html) and alternative authentication methods can be found [here](https://googleapis.dev/python/google-api-core/latest/auth.html).\n",
    "\n",
    "Moreover you need to [create a google cloud](https://cloud.google.com/resource-manager/docs/creating-managing-projects#console) project to be able to run BigQuery queries."
   ]
  },
  {
   "cell_type": "code",
   "execution_count": 2,
   "metadata": {},
   "outputs": [
    {
     "name": "stdout",
     "output_type": "stream",
     "text": [
      "Your browser has been opened to visit:\n",
      "\n",
      "    https://accounts.google.com/o/oauth2/auth?response_type=code&client_id=764086051850-6qr4p6gpi6hn506pt8ejuq83di341hur.apps.googleusercontent.com&redirect_uri=http%3A%2F%2Flocalhost%3A8085%2F&scope=openid+https%3A%2F%2Fwww.googleapis.com%2Fauth%2Fuserinfo.email+https%3A%2F%2Fwww.googleapis.com%2Fauth%2Fcloud-platform+https%3A%2F%2Fwww.googleapis.com%2Fauth%2Faccounts.reauth&state=wL36OPXyZiTaOwAWv9qKKV58QGDQkm&access_type=offline&code_challenge=196bzz2V_YgVEKRscz-8c8bhhIB5A2oI8EKnbVptH-Y&code_challenge_method=S256\n",
      "\n",
      "\n",
      "Credentials saved to file: [/Users/bahar/.config/gcloud/application_default_credentials.json]\n",
      "\n",
      "These credentials will be used by any library that requests Application Default Credentials (ADC).\n",
      "\u001b[1;33mWARNING:\u001b[0m \n",
      "Cannot add the project \"1\" to ADC as the quota project because the account in ADC does not have the \"serviceusage.services.use\" permission on this project. You might receive a \"quota_exceeded\" or \"API not enabled\" error. Run $ gcloud auth application-default set-quota-project to add a quota project.\n"
     ]
    }
   ],
   "source": [
    "!gcloud auth application-default login"
   ]
  },
  {
   "cell_type": "code",
   "execution_count": 4,
   "metadata": {},
   "outputs": [],
   "source": [
    "from google.cloud import bigquery"
   ]
  },
  {
   "cell_type": "code",
   "execution_count": 5,
   "metadata": {},
   "outputs": [
    {
     "name": "stderr",
     "output_type": "stream",
     "text": [
      "/usr/local/lib/python3.9/site-packages/google/auth/_default.py:79: UserWarning: Your application has authenticated using end user credentials from Google Cloud SDK without a quota project. You might receive a \"quota exceeded\" or \"API not enabled\" error. We recommend you rerun `gcloud auth application-default login` and make sure a quota project is added. Or you can use service accounts instead. For more information about service accounts, see https://cloud.google.com/docs/authentication/\n",
      "  warnings.warn(_CLOUD_SDK_CREDENTIALS_WARNING)\n"
     ]
    }
   ],
   "source": [
    "# configure project info and bigquery client\n",
    "# please replace syntheticlethality with your own project_id\n",
    "\n",
    "\n",
    "project_id='syntheticlethality'\n",
    "\n",
    "# construct a BigQuery client object.\n",
    "client = bigquery.Client(project_id)"
   ]
  },
  {
   "cell_type": "markdown",
   "metadata": {},
   "source": [
    "Defining dataset name and dataset description"
   ]
  },
  {
   "cell_type": "code",
   "execution_count": 8,
   "metadata": {},
   "outputs": [
    {
     "name": "stdout",
     "output_type": "stream",
     "text": [
      "Dataset DepMap_public_20Q3_backup created.\n"
     ]
    }
   ],
   "source": [
    "dataset_name='DepMap_public_20Q3_backup'\n",
    "dataset_description=\"\"\"  \n",
    "This DepMap release contains data from CRISPR knockout \n",
    "screens from project Achilles, as well as genomic characterization data from the CCLE project.\n",
    "\n",
    "References:\n",
    "Dempster, J.M., Rossen, J., Kazachkova, M., Pan, J., Kugener, G., Root, D.E., and Tsherniak, A. (2019). Extracting Biological Insights from the Project Achilles Genome-Scale CRISPR Screens in Cancer Cell Lines.\n",
    "\n",
    "Meyers, R.M., Bryan, J.G., McFarland, J.M., Weir, B.A., Sizemore, A.E., Xu, H., Dharia, N.V., Montgomery, P.G., Cowley, G.S., Pantel, S., et al. (2017). Computational correction of copy number effect improves specificity of CRISPR-Cas9 essentiality screens in cancer cells. Nat. Genet. 49, 1779–1784.\n",
    "\n",
    "Ghandi, M., Huang, F.W., Jané-Valbuena, J., Kryukov, G.V., Lo, C.C., McDonald, E.R., 3rd, Barretina, J., Gelfand, E.T., Bielski, C.M., Li, H., et al. (2019). Next-generation characterization of the Cancer Cell Line Encyclopedia. Nature 569, 503–508\n",
    "\n",
    "\"\"\"\n",
    "\n",
    "CreateDataSet(client, dataset_name, project_id, dataset_description)"
   ]
  },
  {
   "cell_type": "markdown",
   "metadata": {},
   "source": [
    "Download the DEPMAP20Q3 datasets from DEPMAP portal"
   ]
  },
  {
   "cell_type": "code",
   "execution_count": 9,
   "metadata": {},
   "outputs": [
    {
     "name": "stderr",
     "output_type": "stream",
     "text": [
      "/var/folders/lt/0vwt29w14852kmmw6t66b_mr0000gn/T/ipykernel_13020/1128898433.py:2: DtypeWarning: Columns (19,29,30) have mixed types. Specify dtype option on import or set low_memory=False.\n",
      "  mutation_data=pd.read_csv(\"https://ndownloader.figshare.com/files/24613355\", sep=\"\\t\")\n"
     ]
    }
   ],
   "source": [
    "#CCLE_mutation_data.csv file\n",
    "mutation_data=pd.read_csv(\"https://ndownloader.figshare.com/files/24613355\", sep=\"\\t\") \n",
    "#https://ndownloader.figshare.com/files/24613355\n",
    "\n",
    "#sample_info.csv file\n",
    "sample_info=pd.read_csv(\"https://ndownloader.figshare.com/files/24613394\",  sep=\",\")\n",
    "#https://ndownloader.figshare.com/files/24613394\n",
    "\n",
    "#WES_SNP_CN_data.csv file\n",
    "cn_data=pd.read_csv(\"https://ndownloader.figshare.com/files/24613352\", index_col=0)\n",
    "#https://ndownloader.figshare.com/files/24613352\n",
    "\n",
    "#CCLE_expression.csv\n",
    "gene_exp_data=pd.read_csv(\"https://ndownloader.figshare.com/files/24613325\", index_col=0)\n",
    "#https://ndownloader.figshare.com/files/24613325\n",
    "\n",
    "#D2_Achilles_gene_effect.csv file\n",
    "achilles_gene_effect=pd.read_csv(\"https://ndownloader.figshare.com/files/24613292\", index_col=0)\n",
    "#https://ndownloader.figshare.com/files/24613292\n"
   ]
  },
  {
   "cell_type": "markdown",
   "metadata": {},
   "source": [
    "Read the manually created annotations for columns of tables"
   ]
  },
  {
   "cell_type": "code",
   "execution_count": 58,
   "metadata": {},
   "outputs": [],
   "source": [
    "# get annotations from the excel file \n",
    "depmap_annotations=pd.ExcelFile(\"../Depmap20Q3_annotation.xlsx\")"
   ]
  },
  {
   "cell_type": "code",
   "execution_count": 59,
   "metadata": {},
   "outputs": [],
   "source": [
    "mutation_annotation=depmap_annotations.parse('CCLE_Mutations')\n",
    "sample_annotation=depmap_annotations.parse('Sample_Info')\n",
    "achilles_gene_effect_annotation=depmap_annotations.parse('Achilles_Gene_Effect')\n",
    "CCLE_expression_annotation=depmap_annotations.parse('CCLE_Gene_Expression')\n",
    "cnv_annotations=depmap_annotations.parse('CCLE_Copy_Number')"
   ]
  },
  {
   "cell_type": "markdown",
   "metadata": {},
   "source": [
    "Create the BigQuery dataset in the google cloud project"
   ]
  },
  {
   "cell_type": "code",
   "execution_count": 12,
   "metadata": {},
   "outputs": [
    {
     "name": "stdout",
     "output_type": "stream",
     "text": [
      "Dataset DepMap_public_20Q3_backup already exists.\n"
     ]
    }
   ],
   "source": [
    "dataset_name='DepMap_public_20Q3_backup'\n",
    "dataset_description=\"\"\"  \n",
    "This DepMap release contains data from CRISPR knockout \n",
    "screens from project Achilles, as well as genomic characterization data from the CCLE project.\n",
    "\n",
    "References:\n",
    "Dempster, J.M., Rossen, J., Kazachkova, M., Pan, J., Kugener, G., Root, D.E., and Tsherniak, A. (2019). Extracting Biological Insights from the Project Achilles Genome-Scale CRISPR Screens in Cancer Cell Lines.\n",
    "\n",
    "Meyers, R.M., Bryan, J.G., McFarland, J.M., Weir, B.A., Sizemore, A.E., Xu, H., Dharia, N.V., Montgomery, P.G., Cowley, G.S., Pantel, S., et al. (2017). Computational correction of copy number effect improves specificity of CRISPR-Cas9 essentiality screens in cancer cells. Nat. Genet. 49, 1779–1784.\n",
    "\n",
    "Ghandi, M., Huang, F.W., Jané-Valbuena, J., Kryukov, G.V., Lo, C.C., McDonald, E.R., 3rd, Barretina, J., Gelfand, E.T., Bielski, C.M., Li, H., et al. (2019). Next-generation characterization of the Cancer Cell Line Encyclopedia. Nature 569, 503–508\n",
    "\n",
    "\"\"\"\n",
    "\n",
    "CreateDataSet(client, dataset_name, project_id, dataset_description)"
   ]
  },
  {
   "cell_type": "markdown",
   "metadata": {},
   "source": [
    "Save mutation data into BigQuery table "
   ]
  },
  {
   "cell_type": "code",
   "execution_count": 13,
   "metadata": {},
   "outputs": [
    {
     "name": "stderr",
     "output_type": "stream",
     "text": [
      "/usr/local/lib/python3.9/site-packages/google/auth/_default.py:79: UserWarning: Your application has authenticated using end user credentials from Google Cloud SDK without a quota project. You might receive a \"quota exceeded\" or \"API not enabled\" error. We recommend you rerun `gcloud auth application-default login` and make sure a quota project is added. Or you can use service accounts instead. For more information about service accounts, see https://cloud.google.com/docs/authentication/\n",
      "  warnings.warn(_CLOUD_SDK_CREDENTIALS_WARNING)\n"
     ]
    },
    {
     "name": "stdout",
     "output_type": "stream",
     "text": [
      "Table created successfully\n"
     ]
    }
   ],
   "source": [
    "mutation_table_name='CCLE_mutation'\n",
    "mutation_table_desc='''Pipeline: Mutations MAF of gene mutations. Original file: CCLE_mutations.csv\n",
    "Download link: https://ndownloader.figshare.com/files/24613355.'''\n",
    "\n",
    "mutation_dict=mutation_annotation.to_dict('records')\n",
    "mutation_table=CreateTable(client, mutation_data, dataset_name, mutation_table_name, project_id,  mutation_table_desc, mutation_dict)"
   ]
  },
  {
   "cell_type": "markdown",
   "metadata": {},
   "source": [
    "Save sample info data into BigQuery table "
   ]
  },
  {
   "cell_type": "code",
   "execution_count": 14,
   "metadata": {},
   "outputs": [
    {
     "name": "stdout",
     "output_type": "stream",
     "text": [
      "Table created successfully\n"
     ]
    }
   ],
   "source": [
    "sample_info_table_name=\"sample_info\"\n",
    "sample_info_table_desc='''Cell line information definitions. Original file:sample_info.csv \n",
    "Download link: https://ndownloader.figshare.com/files/24613394'''\n",
    "\n",
    "sample_dict=sample_annotation.to_dict('records')\n",
    "CreateTable(client, sample_info, dataset_name, sample_info_table_name, project_id, sample_info_table_desc, sample_dict)"
   ]
  },
  {
   "cell_type": "markdown",
   "metadata": {},
   "source": [
    "Save copy number data into BigQuery table "
   ]
  },
  {
   "cell_type": "code",
   "execution_count": 71,
   "metadata": {},
   "outputs": [
    {
     "name": "stdout",
     "output_type": "stream",
     "text": [
      "Table created successfully\n"
     ]
    }
   ],
   "source": [
    "cn_table_desc='''Pipeline: Copy number Gene level copy number data, log2 transformed with a pseudo count of 1.\n",
    "This is generated by mapping genes onto the segment level calls. \n",
    "Original file: WES_SNP_CN_data.csv Download link: https://ndownloader.figshare.com/files/24613352.'''\n",
    "\n",
    "cnv_long_format=CRISPRPreprocess(cn_data, 'CNA')\n",
    "cnv_long_format['Entrez_ID']=pd.to_numeric(cnv_long_format['Entrez_ID'])\n",
    "cnv_table_name=\"CCLE_gene_cn\"\n",
    "cnv_dict=cnv_annotations.to_dict('records')\n",
    "CreateTable(client, cnv_long_format, dataset_name, cnv_table_name, project_id, cn_table_desc, cnv_dict)"
   ]
  },
  {
   "cell_type": "markdown",
   "metadata": {},
   "source": [
    "Save gene expression data into BigQuery table "
   ]
  },
  {
   "cell_type": "code",
   "execution_count": 72,
   "metadata": {},
   "outputs": [
    {
     "name": "stdout",
     "output_type": "stream",
     "text": [
      "Table created successfully\n"
     ]
    }
   ],
   "source": [
    "CCLE_expression_table_desc='''\n",
    "Pipeline: Expression Random TPM gene expression data for just protein coding genes using RSEM. \n",
    "Log2 transformed, using a pseudo-count of 1. Original file: CCLE_expression.csv \n",
    "Download link: https://ndownloader.figshare.com/files/24613325'''\n",
    "\n",
    "CCLE_expression_long_format=CRISPRPreprocess(gene_exp_data, 'TPM')\n",
    "CCLE_expression_long_format['Entrez_ID']=pd.to_numeric(CCLE_expression_long_format['Entrez_ID'])\n",
    "CCLE_expression_table_name=\"CCLE_gene_expression\"\n",
    "CCLE_expression_dict=CCLE_expression_annotation.to_dict('records')\n",
    "CreateTable(client, CCLE_expression_long_format, dataset_name, CCLE_expression_table_name, project_id, CCLE_expression_table_desc, CCLE_expression_dict)\n",
    "\n",
    "\n"
   ]
  },
  {
   "cell_type": "markdown",
   "metadata": {},
   "source": [
    "Save gene effect data into BigQuery table "
   ]
  },
  {
   "cell_type": "code",
   "execution_count": 73,
   "metadata": {},
   "outputs": [
    {
     "name": "stdout",
     "output_type": "stream",
     "text": [
      "Table created successfully\n"
     ]
    }
   ],
   "source": [
    "achilles_gene_effect_table_desc='''Pipeline: Achilles_Post-CERES_ CERES data with principle components strongly related to known batch effects removed, then shifted and scaled per cell line so the median nonessential KO effect is 0 and the median essential KO effect is -1.\n",
    "Original file: Achilles_gene_effect.csv \n",
    "Download link: https://ndownloader.figshare.com/files/24613352\n",
    "'''\n",
    "achilles_gene_effect_long_format=CRISPRPreprocess(achilles_gene_effect, 'Gene_Effect')\n",
    "achilles_gene_effect_long_format['Entrez_ID']=pd.to_numeric(achilles_gene_effect_long_format['Entrez_ID'])\n",
    "achilles_gene_effect_table_name=\"Achilles_gene_effect\"\n",
    "achilles_gene_effect_dict=achilles_gene_effect_annotation.to_dict('records')\n",
    "CreateTable(client, achilles_gene_effect_long_format, dataset_name, achilles_gene_effect_table_name, project_id, achilles_gene_effect_table_desc, achilles_gene_effect_dict)\n",
    "\n"
   ]
  },
  {
   "cell_type": "code",
   "execution_count": null,
   "metadata": {},
   "outputs": [],
   "source": []
  }
 ],
 "metadata": {
  "kernelspec": {
   "display_name": "Python 3 (ipykernel)",
   "language": "python",
   "name": "python3"
  },
  "language_info": {
   "codemirror_mode": {
    "name": "ipython",
    "version": 3
   },
   "file_extension": ".py",
   "mimetype": "text/x-python",
   "name": "python",
   "nbconvert_exporter": "python",
   "pygments_lexer": "ipython3",
   "version": "3.9.1"
  }
 },
 "nbformat": 4,
 "nbformat_minor": 4
}
