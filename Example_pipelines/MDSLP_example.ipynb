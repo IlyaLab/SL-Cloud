{
 "cells": [
  {
   "cell_type": "markdown",
   "id": "married-trinidad",
   "metadata": {},
   "source": [
    "### About this notebook: \n",
    "This notebook is used to answer which gene knockout or gene knockdown  show sensitivity to certain gene mutation or the mutation of a group of genes. <br/>\n",
    "\n",
    "Please cite the following paper when use this notebook. \n",
    "\n",
    "<font color='blue'>The functional screening data and omics data for cell lines is from the Depmap and CCLE project from the Broad institute (DepMap Public 20Q3). To use this jupyter notebook and the data which are used in the jupyter notebook, Please cite the following papers</font> <br/>\n",
    "\n",
    "....our paper\n",
    "\n",
    "For this DepMap release:\n",
    "DepMap, Broad (2020): DepMap 20Q3 Public. figshare. Dataset doi:10.6084/m9.figshare.11791698.v2.\n",
    "\n",
    "For CRISPR datasets:\n",
    "Robin M. Meyers, Jordan G. Bryan, James M. McFarland, Barbara A. Weir, ... David E. Root, William C. Hahn, Aviad Tsherniak. Computational correction of copy number effect improves specificity of CRISPR-Cas9 essentiality screens in cancer cells. Nature Genetics 2017 October 49:1779–1784. doi:10.1038/ng.3984. PMID: 29083409\n",
    "\n",
    "Dempster, J. M., Rossen, J., Kazachkova, M., Pan, J., Kugener, G., Root, D. E., & Tsherniak, A. (2019). Extracting Biological Insights from the Project Achilles Genome-Scale CRISPR Screens in Cancer Cell Lines. BioRxiv, 720243.\n",
    "\n",
    "For omics datasets:\n",
    "Mahmoud Ghandi, Franklin W. Huang, Judit Jané-Valbuena, Gregory V. Kryukov, ... Todd R. Golub, Levi A. Garraway & William R. Sellers. 2019. Next-generation characterization of the Cancer Cell Line Encyclopedia. Nature 569, 503–508 (2019).PMID: 31068700\n",
    "\n",
    "For more detailed information, please contact gqin@systemsbiology.org\n"
   ]
  },
  {
   "cell_type": "code",
   "execution_count": 1,
   "id": "processed-respect",
   "metadata": {},
   "outputs": [],
   "source": [
    "#The following libraries are needed.\n",
    "from google.cloud import bigquery\n",
    "import pandas as pd\n",
    "import numpy as np\n",
    "import ipywidgets as widgets\n",
    "from scipy import stats \n",
    "import statsmodels.stats.multitest as multi\n",
    "import sys\n",
    "sys.path.append('../Scripts/')\n",
    "import MDSLP"
   ]
  },
  {
   "cell_type": "code",
   "execution_count": null,
   "id": "a092723e",
   "metadata": {},
   "outputs": [],
   "source": [
    "# users need to run the following commend in their local machine or throught the notebook.\n",
    "# Make sure to install the google cloud in the local envirionment. For more detail of gcloud installation, please see support from https://cloud.google.com/sdk/docs/install\n",
    "\n",
    "!gcloud auth application-default login"
   ]
  },
  {
   "cell_type": "code",
   "execution_count": 2,
   "id": "527f016d",
   "metadata": {},
   "outputs": [],
   "source": [
    "%load_ext google.cloud.bigquery"
   ]
  },
  {
   "cell_type": "code",
   "execution_count": 3,
   "id": "interpreted-lewis",
   "metadata": {},
   "outputs": [],
   "source": [
    "# Users need to a google cloud project to query the data in the BigQuery tables. \n",
    "project_id='syntheticlethality'\n",
    "client = bigquery.Client(project_id)"
   ]
  },
  {
   "cell_type": "markdown",
   "id": "pregnant-material",
   "metadata": {},
   "source": [
    "#### Get mutation data from CCLE, CRISPR gene knockout effects from Depmap and shRNA gene knockdown gene dependency data from demeter2 v6. Depmap version 20Q3 is used for the following analysis"
   ]
  },
  {
   "cell_type": "code",
   "execution_count": 4,
   "id": "unique-jacob",
   "metadata": {},
   "outputs": [
    {
     "name": "stdout",
     "output_type": "stream",
     "text": [
      "Unnamed: 0\n",
      "AZ521_STOMACH\n",
      "GISTT1_GASTROINTESTINAL_TRACT\n",
      "MB157_BREAST\n",
      "SW527_BREAST\n"
     ]
    }
   ],
   "source": [
    "#This step may take a little bit longer time, take a cup of coffee and relax\n",
    "Mut_mat = MDSLP.get_ccle_mutation_data()\n",
    "Demeter_data = MDSLP.get_demeter_shRNA_data()\n",
    "Depmap_matrix = MDSLP.get_depmap_crispr_data()"
   ]
  },
  {
   "cell_type": "markdown",
   "id": "cef59eb5",
   "metadata": {},
   "source": [
    "##### \n",
    "You are expecting to see the message above as follows:\n",
    "Unnamed: 0 <br/>\n",
    "AZ521_STOMACH<br/>\n",
    "GISTT1_GASTROINTESTINAL_TRACT<br/>\n",
    "MB157_BREAST<br/>\n",
    "SW527_BREAST<br/>\n",
    "<br/>\n",
    "It means these cell lines are not included for the analysis as they show mismatching annotation from different datasets.\n"
   ]
  },
  {
   "cell_type": "markdown",
   "id": "laughing-budapest",
   "metadata": {},
   "source": [
    "#### Set user input:\n",
    "###### 1, Data_source: only two options are avaiable, \"shRNA\" or \"Crispr\", datatype: string\n",
    "###### 2, Mutated genes to be interested. It can be a list of genes or one single gene in a list format. \n",
    "###### 3, Tumor types to be included in the analysis. Users can select 'pancancer' or select one or multiple tumor types to theirs interests."
   ]
  },
  {
   "cell_type": "code",
   "execution_count": null,
   "id": "canadian-lunch",
   "metadata": {},
   "outputs": [],
   "source": [
    "# User input; The natural language question we ask here is which gene show senthetic lethality with the gene being mutated.\n",
    "Data_source = \"shRNA\" # only two options are avaiable, \"shRNA\" or \"Crispr\", datatype: string\n",
    "Gene_list = ['BRCA2'] # data type: list of gene symbols\n"
   ]
  },
  {
   "cell_type": "code",
   "execution_count": null,
   "id": "ordinary-minister",
   "metadata": {},
   "outputs": [],
   "source": [
    "# ID mapping between the CCLE annotation and input gene symbols\n",
    "id_mapping, Gene_list_matched = MDSLP.GeneSymbol_standardization(Gene_list)\n"
   ]
  },
  {
   "cell_type": "markdown",
   "id": "color-athletics",
   "metadata": {},
   "source": [
    "#### Select tumor types"
   ]
  },
  {
   "cell_type": "code",
   "execution_count": null,
   "id": "solid-season",
   "metadata": {},
   "outputs": [],
   "source": [
    "query = ''' \n",
    "SELECT DepMap_ID, primary_disease,TCGA_subtype\n",
    "FROM `syntheticlethality.DepMap_public_20Q3.sample_info_Depmap_withTCGA_labels` \n",
    "'''\n",
    "sample_info = client.query(query).result().to_dataframe()\n",
    "\n",
    "pancancer_cls = sample_info.loc[~sample_info['primary_disease'].isin(['Non-Cancerous','Unknown','Engineered','Immortalized'])]\n",
    "pancancer_cls = pancancer_cls.loc[~(pancancer_cls['primary_disease'].isna())]\n",
    "\n",
    "TCGA_list = [x for x in list(set(pancancer_cls['primary_disease'])) if x == x]\n",
    "\n",
    "Not_none_values = filter(None.__ne__, TCGA_list)\n",
    "TCGA_list = list(Not_none_values)\n",
    "\n",
    "tumor_type = widgets.SelectMultiple(\n",
    "    options=['pancancer'] + TCGA_list  ,\n",
    "    value=[],\n",
    "    description='Tumor type',\n",
    "    disabled=False\n",
    ")\n",
    "display(tumor_type)"
   ]
  },
  {
   "cell_type": "markdown",
   "id": "written-winter",
   "metadata": {},
   "source": [
    "#### Select shRNA dataset or Crispr dataset to infer synthetic lethality pairs for mutated genes! "
   ]
  },
  {
   "cell_type": "code",
   "execution_count": null,
   "id": "normal-quality",
   "metadata": {},
   "outputs": [],
   "source": [
    "Data_source = \"shRNA\"\n",
    "if Data_source == \"shRNA\":\n",
    "    result_shRNA = MDSLP.Mutational_based_SL_pipeline(list(tumor_type.value), Gene_list_matched, Mut_mat, Demeter_data, Data_source)\n",
    "    if result_shRNA.shape[0] > 0:\n",
    "        result_shRNA_sig = result_shRNA.loc[result_shRNA['FDR_all_exp'] < 0.05]\n",
    "        result_shRNA_sig = result_shRNA_sig.loc[result_shRNA_sig['ES']<0] # ES < 0 represents SL pairs"
   ]
  },
  {
   "cell_type": "code",
   "execution_count": null,
   "id": "textile-demographic",
   "metadata": {},
   "outputs": [],
   "source": [
    "result_shRNA_sig.to_csv(\"BRCA2_shRNA_sig.csv\")"
   ]
  },
  {
   "cell_type": "code",
   "execution_count": null,
   "id": "bearing-repository",
   "metadata": {},
   "outputs": [],
   "source": [
    "Data_source = \"Crispr\"\n",
    "if Data_source == \"Crispr\":\n",
    "    result_Crispr = MDSLP.Mutational_based_SL_pipeline(list(tumor_type.value), Gene_list_matched, Mut_mat, Depmap_matrix, Data_source)\n",
    "    if result_Crispr.shape[0] > 0:\n",
    "        result_Crispr_sig = result_Crispr.loc[result_Crispr['FDR_all_exp'] < 0.05]\n",
    "        result_Crispr_sig = result_Crispr_sig.loc[result_Crispr_sig['ES'] < 0]  # ES < 0 represents SL pairs"
   ]
  },
  {
   "cell_type": "code",
   "execution_count": null,
   "id": "stock-password",
   "metadata": {},
   "outputs": [],
   "source": [
    "result_Crispr_sig.to_csv(\"BRCA2_Crispr_sig.csv\")"
   ]
  },
  {
   "cell_type": "markdown",
   "id": "resident-edwards",
   "metadata": {},
   "source": [
    "###### Result interpretation \n",
    "result_Crispr_sig or result_shRNA_sig contains the synthetic lethal gene pairs predicted from this pipeline.<br/>\n",
    "###### table annotation:\n",
    "Gene_mut: mutated genes;<br/>\n",
    "Gene_kd: gene knockdown or knock out <br/>\n",
    "Mutated_samples: Number of mutated cell lines in the selected tumor type<br/>\n",
    "pvalue: p-value result from t-test<br/>\n",
    "ES: effect size of gene effects between the mutated group and wild type group<br/>\n",
    "FDR_all_exp: FDR for p-value for all analysis<br/>\n",
    "FDR_by_gene: FDR for p-value by one gene mutation<br/>\n",
    "Tumor_type: tumor types in analysis"
   ]
  },
  {
   "cell_type": "code",
   "execution_count": null,
   "id": "enhanced-trail",
   "metadata": {},
   "outputs": [],
   "source": [
    "# User defined analysis"
   ]
  },
  {
   "cell_type": "markdown",
   "id": "annoying-permit",
   "metadata": {},
   "source": [
    "### 2. Tumor specific analysis"
   ]
  },
  {
   "cell_type": "code",
   "execution_count": null,
   "id": "amateur-bronze",
   "metadata": {},
   "outputs": [],
   "source": [
    "TCGA_list.append('pancancer')"
   ]
  },
  {
   "cell_type": "code",
   "execution_count": null,
   "id": "republican-chaos",
   "metadata": {},
   "outputs": [],
   "source": [
    "#The pancancer analysis may take a couple of minutes, take a cup of coffee please.\n",
    "Gene_list = ['ARID1A']\n",
    "pan_cancer_result =  pd.DataFrame()\n",
    "for tumor in TCGA_list:\n",
    "    print(tumor)\n",
    "    Data_source = \"shRNA\"\n",
    "    if Data_source == \"shRNA\":\n",
    "        result_shRNA = MDSLP.Mutational_based_SL_pipeline([tumor], Gene_list, Mut_mat, Demeter_data, Data_source)\n",
    "        if result_shRNA.shape[0] > 0:\n",
    "            result_shRNA_ARID1B = result_shRNA.loc[result_shRNA['Gene_kd_symbol'] =='ARID1B']\n",
    "            pan_cancer_result = pd.concat([pan_cancer_result, result_shRNA_ARID1B])\n",
    "            "
   ]
  },
  {
   "cell_type": "code",
   "execution_count": null,
   "id": "large-majority",
   "metadata": {},
   "outputs": [],
   "source": [
    "pan_cancer_result['source']=['MDSLP-shRNA']*pan_cancer_result.shape[0]"
   ]
  },
  {
   "cell_type": "code",
   "execution_count": null,
   "id": "monthly-treasury",
   "metadata": {},
   "outputs": [],
   "source": []
  },
  {
   "cell_type": "code",
   "execution_count": null,
   "id": "committed-seeker",
   "metadata": {},
   "outputs": [],
   "source": [
    "Gene_list = ['ARID1A']\n",
    "pan_cancer_result_crispr =  pd.DataFrame()\n",
    "for tumor in TCGA_list:\n",
    "    print(tumor)\n",
    "    Data_source = \"Crispr\"\n",
    "    if Data_source == \"Crispr\":\n",
    "        result_crispr = MDSLP.Mutational_based_SL_pipeline([tumor], Gene_list, Mut_mat, Depmap_matrix, Data_source)\n",
    "        if result_crispr.shape[0] > 0:\n",
    "            result_crispr_ARID1B = result_crispr.loc[result_crispr['Gene_kd_symbol'] =='ARID1B']\n",
    "            pan_cancer_result_crispr = pd.concat([pan_cancer_result_crispr, result_crispr_ARID1B])\n",
    "            "
   ]
  },
  {
   "cell_type": "code",
   "execution_count": null,
   "id": "strong-label",
   "metadata": {},
   "outputs": [],
   "source": [
    "pan_cancer_result_crispr['source']=['MDSLP-CRISPR']*pan_cancer_result_crispr.shape[0]"
   ]
  },
  {
   "cell_type": "code",
   "execution_count": null,
   "id": "earlier-officer",
   "metadata": {},
   "outputs": [],
   "source": [
    "result = pd.concat([pan_cancer_result_crispr,pan_cancer_result])"
   ]
  },
  {
   "cell_type": "code",
   "execution_count": null,
   "id": "weird-kidney",
   "metadata": {},
   "outputs": [],
   "source": [
    "result['-log(FDR)'] = -1 *np.log(result['FDR_all_exp'])"
   ]
  },
  {
   "cell_type": "code",
   "execution_count": null,
   "id": "broad-geography",
   "metadata": {},
   "outputs": [],
   "source": [
    "result.to_csv(\"tumor_specific_analysis_ARID1A_ARID1B.csv\")"
   ]
  },
  {
   "cell_type": "markdown",
   "id": "judicial-delta",
   "metadata": {},
   "source": [
    "#### Visulization of the results"
   ]
  },
  {
   "cell_type": "code",
   "execution_count": null,
   "id": "weird-investment",
   "metadata": {},
   "outputs": [],
   "source": [
    "import seaborn as sns\n",
    "import matplotlib.pyplot as plt\n",
    "plt.figure(figsize = [4,4], dpi = 300)\n",
    "\n",
    "clrs = []\n",
    "for x in range(0,7):\n",
    "    clrs.append('#5477b4')\n",
    "    clrs.append('#dc895a')\n",
    "\n",
    "ax = sns.barplot(x=\"ES\", y=\"Tumor_type\", hue=\"source\",data=result,\n",
    "                 orient = 'h', \n",
    "                 order = ['pancancer',\n",
    "                          'Ovarian Cancer',\n",
    "                          \n",
    "                          'Gastric Cancer',\n",
    "                          'Colon/Colorectal Cancer',\n",
    "                          'Bladder Cancer',\n",
    "                          'Lung Cancer',\n",
    "                          'Endometrial/Uterine Cancer',\n",
    "                          'Pancreatic Cancer',\n",
    "                          'Leukemia'\n",
    "                          ],\n",
    "                palette = clrs)\n",
    "\n",
    "plt.setp(ax.get_legend().get_texts(), fontsize='8') # for legend text\n",
    "ax.set_xlabel('Effect size (Mut - WT)', fontsize=14)\n",
    "ax.set_ylabel('', fontsize=0)\n",
    "ax.set(xlim=(-2, 0))\n",
    "plt.legend(loc='lower left')\n"
   ]
  },
  {
   "cell_type": "code",
   "execution_count": null,
   "id": "facial-estimate",
   "metadata": {},
   "outputs": [],
   "source": [
    "clrs = []\n",
    "for x in range(0,7):\n",
    "    clrs.append('#5477b4')\n",
    "    clrs.append('#dc895a')\n",
    "    \n",
    "plt.figure(figsize = [4,4], dpi = 300)\n",
    "ax1 = sns.barplot(x=\"-log(FDR)\", y=\"Tumor_type\", hue=\"source\",\n",
    "                  data=result,\n",
    "                  orient = 'h' ,\n",
    "                  order = ['pancancer',\n",
    "                             'Ovarian Cancer',\n",
    "                             'Gastric Cancer',\n",
    "                             'Colon/Colorectal Cancer',\n",
    "                             'Bladder Cancer',\n",
    "                             'Lung Cancer', \n",
    "                             'Endometrial/Uterine Cancer',\n",
    "                             'Pancreatic Cancer',\n",
    "                             'Leukemia'\n",
    "                            ],\n",
    "                  palette = clrs)\n",
    "plt.setp(ax1.get_legend().get_texts(), fontsize='8') # for legend text\n",
    "ax1.set_xlabel('Statistical Significance', fontsize=14) #-1 * log (FDR)\n",
    "ax1.set_ylabel('', fontsize=0) #ignore the y axis label\n",
    "plt.legend(loc='lower right')\n",
    "\n",
    "plt.plot([1.301029996, 1.301029996], [0, 8], 'k-', lw=0.5) # Plot the significance threshold 1.301029996 = -log(0.05)\n"
   ]
  },
  {
   "cell_type": "code",
   "execution_count": null,
   "id": "dominant-camel",
   "metadata": {},
   "outputs": [],
   "source": [
    "result.loc[result['source'] == 'MDSLP-CRISPR'].sort_values(by = ['FDR_all_exp'])"
   ]
  },
  {
   "cell_type": "code",
   "execution_count": null,
   "id": "dutch-cooperative",
   "metadata": {},
   "outputs": [],
   "source": [
    "## End analysis"
   ]
  }
 ],
 "metadata": {
  "kernelspec": {
   "display_name": "Python 3 (ipykernel)",
   "language": "python",
   "name": "python3"
  },
  "language_info": {
   "codemirror_mode": {
    "name": "ipython",
    "version": 3
   },
   "file_extension": ".py",
   "mimetype": "text/x-python",
   "name": "python",
   "nbconvert_exporter": "python",
   "pygments_lexer": "ipython3",
   "version": "3.9.6"
  }
 },
 "nbformat": 4,
 "nbformat_minor": 5
}
