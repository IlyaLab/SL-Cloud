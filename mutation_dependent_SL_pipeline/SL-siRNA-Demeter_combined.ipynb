{
 "cells": [
  {
   "cell_type": "markdown",
   "metadata": {},
   "source": [
    "#### This notebook is used to analyze the mutation dependent synthetic lethalaty using the siRNA dataset from the Broad institute. Data resoures are from https://depmap.org/portal/download/. Four datasets are used in this pipeline:\n",
    "1. DEMETER2 Data v6\n",
    "2. CCLE_mutations.csv from DepMap Public 20Q3\n",
    "3. sample_info.csv from DepMap Public 20Q3"
   ]
  },
  {
   "cell_type": "code",
   "execution_count": 1,
   "metadata": {},
   "outputs": [],
   "source": [
    "import sys\n",
    "import matplotlib.pyplot as plt\n",
    "import pandas as pd\n",
    "import scipy\n",
    "from scipy import stats \n",
    "import numpy as np\n",
    "import json\n",
    "import statsmodels.stats.multitest as multi\n",
    "import matplotlib.pyplot as plt\n",
    "import math\n",
    "import ipywidgets as widgets\n",
    "import plotly\n",
    "import plotly.express as px\n",
    "from google.cloud import bigquery"
   ]
  },
  {
   "cell_type": "code",
   "execution_count": 2,
   "metadata": {},
   "outputs": [],
   "source": [
    "def Cohen_dist(x,y):\n",
    "\n",
    "    n1 = len(x)\n",
    "    n2 = len(y)\n",
    "    s = np.sqrt(((n1 - 1)*(np.std(x))*(np.std(x)) + (n2 - 1) * (np.std(y)) * (np.std(y))) / (n1 + n2 -2))\n",
    "    d = (np.mean(x) - np.mean(y)) / s\n",
    "    return(d)\n",
    " "
   ]
  },
  {
   "cell_type": "code",
   "execution_count": 3,
   "metadata": {},
   "outputs": [],
   "source": [
    "#!gcloud auth application-default login"
   ]
  },
  {
   "cell_type": "code",
   "execution_count": 4,
   "metadata": {},
   "outputs": [],
   "source": [
    "#%load_ext google.cloud.bigquery"
   ]
  },
  {
   "cell_type": "code",
   "execution_count": 5,
   "metadata": {},
   "outputs": [],
   "source": [
    "directories = {\"input_dir\":\"~/Documents/ISB/KG\",\n",
    "               \"output_dir\":\"../Output_SL/\"}\n",
    "\n",
    "input_data = {\n",
    "         \"input_mut\": \"Depmap_Crispr_data/20Q3/CCLE_mutations.csv\",\n",
    "         \"input_depmap\": \"Depmap_RNAi_data/D2_combined_gene_dep_scores.csv\",\n",
    "         \"input_sample_info\": \"Depmap_Crispr_data/20Q3/sample_info_Depmap.csv\",\n",
    "        }"
   ]
  },
  {
   "cell_type": "code",
   "execution_count": 6,
   "metadata": {},
   "outputs": [
    {
     "name": "stderr",
     "output_type": "stream",
     "text": [
      "/Users/gloria/.pyenv/versions/3.7.7/envs/3.7.7-incov/lib/python3.7/site-packages/IPython/core/interactiveshell.py:3063: DtypeWarning: Columns (19,29,30) have mixed types.Specify dtype option on import or set low_memory=False.\n",
      "  interactivity=interactivity, compiler=compiler, result=result)\n"
     ]
    }
   ],
   "source": [
    "Mut_mat = pd.read_csv(directories['input_dir']+'/'+input_data['input_mut'], sep = '\\t') \n",
    "Depmap_matrix = pd.read_csv(directories['input_dir']+'/'+input_data['input_depmap'], index_col = \"Unnamed: 0\") \n",
    "sample_info = pd.read_csv(directories['input_dir']+'/'+input_data['input_sample_info'])\n"
   ]
  },
  {
   "cell_type": "markdown",
   "metadata": {},
   "source": [
    "#### Overview of the datasets\n",
    "There siRNA knockdown effects for 712 cell lines in the DEMETER2 v6 datasets\n",
    "708 among the 712 cell lines were found in the sample info from the Depmap dataset 20Q3\n",
    "For exceptions: \n",
    "1. AZ521_STOMACH was labeled as AZ521_SMALL_INTESTINE, with ACH id of ACH-001015\n",
    "2. GISTT1_GASTROINTESTINAL_TRACT was labeled as GISTT1_STOMACH, with ACH id of ACH-002332\n",
    "3. MB157_BREAST was not found\n",
    "4. SW527_BREAST was label as SW527_LARGE_INTESTINE in the Depmap dataset 20Q3, which is inconsistance with the report from DEMTER2.\n",
    "For the following analysis, we ignored the four cell lines with unbious annoation for further statistical models, as the mismatching from the data resources."
   ]
  },
  {
   "cell_type": "markdown",
   "metadata": {},
   "source": [
    "#### Generating the sample dictionary for the CCLE_ID to the ACH_ID "
   ]
  },
  {
   "cell_type": "code",
   "execution_count": 7,
   "metadata": {},
   "outputs": [],
   "source": [
    "sample_info\n",
    "sample_map = {}\n",
    "for i in range(0, sample_info.shape[0]):\n",
    "    Depmap_id = sample_info.iloc[i,0]\n",
    "    CCLE_Name = sample_info.iloc[i,2]\n",
    "    sample_map[CCLE_Name]  = Depmap_id\n"
   ]
  },
  {
   "cell_type": "markdown",
   "metadata": {},
   "source": [
    "#### Check the matched samples and select the matched samples"
   ]
  },
  {
   "cell_type": "code",
   "execution_count": 8,
   "metadata": {},
   "outputs": [
    {
     "name": "stdout",
     "output_type": "stream",
     "text": [
      "AZ521_STOMACH\n",
      "GISTT1_GASTROINTESTINAL_TRACT\n",
      "MB157_BREAST\n",
      "SW527_BREAST\n"
     ]
    }
   ],
   "source": [
    "Matched_cellLines = []\n",
    "for CCLE_Name in list(Depmap_matrix.columns):\n",
    "    if CCLE_Name not in sample_map:\n",
    "        print(CCLE_Name)\n",
    "    else:\n",
    "        Matched_cellLines.append(CCLE_Name)        "
   ]
  },
  {
   "cell_type": "code",
   "execution_count": 9,
   "metadata": {},
   "outputs": [],
   "source": [
    "Depmap_matrix_sele = Depmap_matrix.loc[:,Matched_cellLines]"
   ]
  },
  {
   "cell_type": "markdown",
   "metadata": {},
   "source": [
    "#### Rename the matched names"
   ]
  },
  {
   "cell_type": "code",
   "execution_count": 10,
   "metadata": {},
   "outputs": [],
   "source": [
    "ACH_ID_list = []\n",
    "for CCLE_Name in list(Depmap_matrix_sele.columns):\n",
    "    if CCLE_Name not in sample_map:\n",
    "        print(CCLE_Name)\n",
    "    else:\n",
    "        ACH_ID_list.append(sample_map[CCLE_Name])\n",
    "Depmap_matrix_sele.columns = ACH_ID_list "
   ]
  },
  {
   "cell_type": "markdown",
   "metadata": {},
   "source": [
    "#### Select the samples with both mutation data and knockdown data\n",
    "???? 674 cell lines were with mutation data and gene knockdown data, whether the rest of the cell lines doesn't contain any alteration or they are not measured at all?"
   ]
  },
  {
   "cell_type": "code",
   "execution_count": 11,
   "metadata": {},
   "outputs": [
    {
     "name": "stdout",
     "output_type": "stream",
     "text": [
      "674\n"
     ]
    }
   ],
   "source": [
    "Samples_with_mut_kd = list(set(Mut_mat.loc[Mut_mat['DepMap_ID'].isin(ACH_ID_list)]['DepMap_ID']))\n",
    "print(len(Samples_with_mut_kd))"
   ]
  },
  {
   "cell_type": "markdown",
   "metadata": {},
   "source": [
    "#### Select the gene knockdown results with gene mutation data"
   ]
  },
  {
   "cell_type": "code",
   "execution_count": 12,
   "metadata": {},
   "outputs": [],
   "source": [
    "Depmap_matrix_sele = Depmap_matrix_sele.loc[:,Samples_with_mut_kd ]"
   ]
  },
  {
   "cell_type": "markdown",
   "metadata": {},
   "source": [
    "##### Format the depency map and rename the gene name"
   ]
  },
  {
   "cell_type": "code",
   "execution_count": 13,
   "metadata": {},
   "outputs": [],
   "source": [
    "Depmap_matrix_transpose = Depmap_matrix_sele.transpose()\n",
    "gene_names_old = list(Depmap_matrix_transpose.columns.values)\n",
    "gene_names_new = []\n",
    "for item in gene_names_old:\n",
    "    name = item.split(' (')[0]\n",
    "    gene_names_new.append(name)\n",
    "Depmap_matrix_transpose.columns = gene_names_new\n"
   ]
  },
  {
   "cell_type": "markdown",
   "metadata": {},
   "source": [
    "#### Select the muation categories"
   ]
  },
  {
   "cell_type": "code",
   "execution_count": 14,
   "metadata": {},
   "outputs": [
    {
     "name": "stdout",
     "output_type": "stream",
     "text": [
      "[nan, 'IGR', 'Nonsense_Mutation', \"5'Flank\", \"3'UTR\", 'Stop_Codon_Del', 'De_novo_Start_OutOfFrame', 'Frame_Shift_Ins', 'Stop_Codon_Ins', 'Missense_Mutation', 'In_Frame_Del', 'In_Frame_Ins', 'Start_Codon_Del', 'Nonstop_Mutation', 'Frame_Shift_Del', 'Intron', \"5'UTR\", 'Splice_Site', 'Start_Codon_SNP', 'Silent', 'Start_Codon_Ins']\n"
     ]
    }
   ],
   "source": [
    "print(list(set(Mut_mat['Variant_Classification'])))\n",
    "selected_variants = ['Splice_Site',\n",
    "                     'Frame_Shift_Del',\n",
    "                     'Frame_Shift_Ins',\n",
    "                     'Nonstop_Mutation',\n",
    "                     'In_Frame_Del',\n",
    "                     'In_Frame_Ins',\n",
    "                     'Missense_Mutation',\n",
    "                     'Nonsense_Mutation',\n",
    "                     'Nonstop_Mutation',\n",
    "                     'Start_Codon_Del',\n",
    "                     'Start_Codon_Ins',\n",
    "                     'Start_Codon_SNP',\n",
    "                     'Stop_Codon_Del',\n",
    "                     'Stop_Codon_Del',\n",
    "                     'Stop_Codon_Ins',\n",
    "                     'De_novo_Start_OutOfFrame']"
   ]
  },
  {
   "cell_type": "code",
   "execution_count": 15,
   "metadata": {},
   "outputs": [],
   "source": [
    "Mut_mat_sele1 = Mut_mat.loc[Mut_mat['Tumor_Sample_Barcode'].isin(Samples_with_mut_kd)]\n",
    "Mut_mat_sele2 = Mut_mat_sele1.loc[Mut_mat_sele1['Variant_Classification'].isin(selected_variants)]\n"
   ]
  },
  {
   "cell_type": "markdown",
   "metadata": {},
   "source": [
    "#### Input mutated genes"
   ]
  },
  {
   "cell_type": "code",
   "execution_count": 16,
   "metadata": {},
   "outputs": [],
   "source": [
    "mut_gene = pd.read_csv(\"../Github_version/SyntheticLethality/data/CancerDriverGenes.csv\")\n",
    "mut_gene = list(mut_gene['HGNC_gene_symbol'])\n"
   ]
  },
  {
   "cell_type": "code",
   "execution_count": 17,
   "metadata": {},
   "outputs": [],
   "source": [
    "Mut_mat_sele3 = Mut_mat_sele2.loc[Mut_mat_sele2['Hugo_Symbol'].isin(mut_gene),['Hugo_Symbol','DepMap_ID']]\n"
   ]
  },
  {
   "cell_type": "markdown",
   "metadata": {},
   "source": [
    "#### T-test and effect size estimation between the mutated group and the wt-group"
   ]
  },
  {
   "cell_type": "code",
   "execution_count": 18,
   "metadata": {
    "scrolled": false
   },
   "outputs": [
    {
     "name": "stdout",
     "output_type": "stream",
     "text": [
      "BRCA2\n"
     ]
    }
   ],
   "source": [
    "#Sci_test = stats.ranksums(D_mut_new, D_wt_new)\n",
    "Gene_mut_list = []\n",
    "Gene_kd_list = []\n",
    "p_list = []\n",
    "es_list = []\n",
    "size_mut = []\n",
    "FDR_List = []\n",
    "\n",
    "\n",
    "for Gene in mut_gene:\n",
    "    print(Gene)\n",
    "    p_list_curr = []\n",
    "    Mut_group = list(Mut_mat_sele3.loc[Mut_mat_sele3['Hugo_Symbol'] == Gene]['DepMap_ID'].values)\n",
    "    WT_group = list(set(Samples_with_mut_kd) - set(Mut_group))\n",
    "\n",
    "    for Gene_kd in list(Depmap_matrix_sele.index.values):\n",
    "        D_mut_new = Depmap_matrix_sele.loc[Gene_kd,Mut_group].values\n",
    "        D_wt_new = Depmap_matrix_sele.loc[Gene_kd,WT_group].values\n",
    "        \n",
    "        nan_array = np.isnan(D_mut_new)\n",
    "        not_nan_array = ~ nan_array\n",
    "        D_mut_new = D_mut_new[not_nan_array]\n",
    "        \n",
    "        nan_array = np.isnan(D_wt_new)\n",
    "        not_nan_array = ~ nan_array\n",
    "        D_wt_new = D_wt_new[not_nan_array]\n",
    "        \n",
    "        \n",
    "        if len(D_mut_new) > 2:\n",
    "            size_mut.append(len(D_mut_new))\n",
    "            Sci_test = stats.ttest_ind(D_mut_new, D_wt_new, nan_policy = 'omit')\n",
    "            pvalue = Sci_test[1]\n",
    "            p_list_curr.append(pvalue)\n",
    "            Size_effect =Cohen_dist(D_mut_new, D_wt_new)\n",
    "            es_list.append(Size_effect)\n",
    "            Gene_mut_list.append(Gene)\n",
    "            Gene_kd_list.append(Gene_kd)\n",
    "            \n",
    "    if len(p_list_curr) > 0:\n",
    "        p_list = p_list + p_list_curr\n",
    "        FDR_List_table = multi.multipletests(p_list_curr, alpha=0.05, method='fdr_bh', is_sorted=False)[1]\n",
    "        FDR_List = FDR_List + list(FDR_List_table)\n",
    "        \n"
   ]
  },
  {
   "cell_type": "code",
   "execution_count": 19,
   "metadata": {},
   "outputs": [
    {
     "name": "stdout",
     "output_type": "stream",
     "text": [
      "17309\n",
      "17309\n"
     ]
    }
   ],
   "source": [
    "print(len(p_list))\n",
    "print(len(es_list))"
   ]
  },
  {
   "cell_type": "code",
   "execution_count": 20,
   "metadata": {},
   "outputs": [],
   "source": [
    "result = pd.DataFrame({\"Gene_mut\": Gene_mut_list, \n",
    "                       \"Gene_kd\": Gene_kd_list, \n",
    "                       \"Mutated_samples\":size_mut,\n",
    "                       \"pvalue\": p_list, \n",
    "                       \"ES\":es_list,\n",
    "                       \"FDR\": FDR_List\n",
    "                      })"
   ]
  },
  {
   "cell_type": "markdown",
   "metadata": {},
   "source": [
    "#### Result_output"
   ]
  },
  {
   "cell_type": "code",
   "execution_count": 21,
   "metadata": {},
   "outputs": [],
   "source": [
    "result.sort_values(by = ['pvalue']).to_csv(\"driver_gene_mutation_dependency_siRNA_panCancer_withFDR.csv\")"
   ]
  },
  {
   "cell_type": "code",
   "execution_count": null,
   "metadata": {},
   "outputs": [],
   "source": []
  }
 ],
 "metadata": {
  "kernelspec": {
   "display_name": "Python 3",
   "language": "python",
   "name": "python3"
  },
  "language_info": {
   "codemirror_mode": {
    "name": "ipython",
    "version": 3
   },
   "file_extension": ".py",
   "mimetype": "text/x-python",
   "name": "python",
   "nbconvert_exporter": "python",
   "pygments_lexer": "ipython3",
   "version": "3.7.7"
  }
 },
 "nbformat": 4,
 "nbformat_minor": 4
}
