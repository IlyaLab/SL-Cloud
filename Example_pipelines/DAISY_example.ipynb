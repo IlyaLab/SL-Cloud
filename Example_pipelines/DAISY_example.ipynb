{
 "cells": [
  {
   "cell_type": "markdown",
   "metadata": {},
   "source": [
    "## DAISY- the DAta-mIning SYnthetic-lethality-identification pipeline\n",
    "```\n",
    "Title:   Data Mining Synthetic Lethality Identification Pipeline (DAISY)\n",
    "Author:  Bahar Tercan\n",
    "Created: 02-07-2022\n",
    "Purpose: Retrive Synthetic Lethal Partners of The Genes in the Given List Using DAISY Algorithm \n",
    "Notes: Runs in MyBinder \n",
    "```"
   ]
  },
  {
   "cell_type": "markdown",
   "metadata": {},
   "source": [
    "\n",
    "Please cite: \n",
    "For Implementation: \n",
    "\n",
    "Our paper,\n",
    "\n",
    "For DAISY algorithm: \n",
    "\n",
    "Jerby-Arnon, L., Pfetzer, N., Waldman, Y. Y., McGarry, L., James, D., Shanks, E., ... & Gottlieb, E. (2014). Predicting cancer-specific vulnerability via data-driven detection of synthetic lethality. Cell, 158(5), 1199-1209.\n",
    "\n",
    "For CCLE Omics data:\n",
    "\n",
    "Ghandi, M., Huang, F.W., Jané-Valbuena, J. et al. Next-generation characterization of the Cancer Cell Line Encyclopedia. Nature 569, 503–508 (2019). https://doi.org/10.1038/s41586-019-1186-3\n",
    "\n",
    "For CRISPR Data: \n",
    "\n",
    "Robin M. Meyers, Jordan G. Bryan, James M. McFarland, Barbara A. Weir, ... David E. Root, William C. Hahn, Aviad Tsherniak. Computational correction of copy number effect improves specificity of CRISPR-Cas9 essentiality screens in cancer cells. Nature Genetics 2017 October 49:1779–1784. doi:10.1038/ng.3984\n",
    "\n",
    "Dempster, J. M., Rossen, J., Kazachkova, M., Pan, J., Kugener, G., Root, D. E., & Tsherniak, A. (2019). Extracting Biological Insights from the Project Achilles Genome-Scale CRISPR Screens in Cancer Cell Lines. BioRxiv, 720243.\n",
    "\n",
    "For shRNA Data:\n",
    "\n",
    "James M. McFarland, Zandra V. Ho, Guillaume Kugener, Joshua M. Dempster, Phillip G. Montgomery, Jordan G. Bryan, John M. Krill-Burger, Thomas M. Green, Francisca Vazquez, Jesse S. Boehm, Todd R. Golub, William C. Hahn, David E. Root, Aviad Tsherniak. (2018). Improved estimation of cancer dependencies from large-scale RNAi screens using model-based normalization and data integration. Nature Communications 9, 1. https://doi.org/10.1038/s41467-018-06916-5\n",
    "\n",
    "For ISB-CGC:\n",
    "Reynolds, S. M., Miller, M., Lee, P., Leinonen, K., Paquette, S. M., Rodebaugh, Z., ... & Shmulevich, I. (2017). The ISB Cancer Genomics Cloud: a flexible cloud-based platform for cancer genomics research. Cancer research, 77(21), e7-e10.\n",
    "\n",
    "For Pancancer Atlas Data:\n",
    "Hutter, C., and Zenklusen, J.C. (2018). The Cancer Genome Atlas: Creating Lasting Value beyond Its Data. Cell 173, 283–285.\n",
    "\n",
    "This notebook is a reimplementation of DAISY Synthetic Lethal Pair Prediction Algorithm\n",
    "\n",
    "It consists 3 modules: \n",
    "\n",
    "1. SL candidate determination using gene co-expression\n",
    "2. SL candidate determination using survival of fittest\n",
    "3. SL candidate determination using CRISPR and shRNA experiments\n",
    "\n",
    "* The results from the three modules were then aggregated into one ranked list of candidate SL pairs\n",
    "\n",
    "Input Parameters\n",
    "* Cancer type \n",
    "* The genes whose SL partners are seeked\n",
    "\n",
    "Input Data (available in bigquery tables)\n",
    "* Gene expression data \n",
    "* Gene mutation data\n",
    "* Copy number variation data\n",
    "* Gene effect data (CRISPR)\n",
    "* Gene dependency scores data (shRNA)\n",
    "\n",
    "Output\n",
    "* List of candidate SL pairs\n",
    "\n",
    "Please contact Bahar Tercan btercan@systemsbiology.org for your questions and detailed information. "
   ]
  },
  {
   "cell_type": "code",
   "execution_count": null,
   "metadata": {},
   "outputs": [],
   "source": [
    "# This code block installs the dependencies, please run it only once, the first time you run this notebook\n",
    "\n",
    "!pip3 install google.cloud\n",
    "!pip3 install importlib\n",
    "!pip3 install pandas\n",
    "!pip3 install ipywidgets\n",
    "!pip3 install numpy\n",
    "!pip3 install statsmodels\n"
   ]
  },
  {
   "cell_type": "markdown",
   "metadata": {},
   "source": [
    "### 1. Import python libraries required\n",
    "The required libraries are imported. "
   ]
  },
  {
   "cell_type": "code",
   "execution_count": null,
   "metadata": {
    "scrolled": true
   },
   "outputs": [],
   "source": [
    "import sys\n",
    "sys.path.append('../Scripts/') # to be able to use the .py files in ../Scripts folder\n",
    "from google.cloud import bigquery\n",
    "import importlib\n",
    "import pandas as pd\n",
    "import DAISY_operations\n",
    "importlib.reload(DAISY_operations)\n",
    "from DAISY_operations import *\n",
    "import ipywidgets as widgets"
   ]
  },
  {
   "cell_type": "code",
   "execution_count": null,
   "metadata": {},
   "outputs": [],
   "source": [
    "if not sys.warnoptions:\n",
    "    import warnings\n",
    "    warnings.simplefilter(\"ignore\")"
   ]
  },
  {
   "cell_type": "markdown",
   "metadata": {},
   "source": [
    "## Google Authentication\n",
    "The first step is to authorize access to BigQuery and the Google Cloud. For more information see ['Quick Start Guide to ISB-CGC'](https://isb-cancer-genomics-cloud.readthedocs.io/en/latest/sections/HowToGetStartedonISB-CGC.html) and alternative authentication methods can be found [here](https://googleapis.dev/python/google-api-core/latest/auth.html).\n",
    "\n",
    "Moreover you need to [create a google cloud](https://cloud.google.com/resource-manager/docs/creating-managing-projects#console) project to be able to run BigQuery queries."
   ]
  },
  {
   "cell_type": "code",
   "execution_count": null,
   "metadata": {},
   "outputs": [],
   "source": [
    "#Please make sure that you have installed Cloud SDK.\n",
    "#See support from https://cloud.google.com/sdk/docs/install\n",
    "\n",
    "!gcloud auth application-default login\n"
   ]
  },
  {
   "cell_type": "markdown",
   "metadata": {},
   "source": [
    "### 2. Sign in Google Bigquery with the project id\n",
    "\n",
    "Bigquery connection\n",
    "\n",
    "Please replace syntheticlethality with your project name."
   ]
  },
  {
   "cell_type": "code",
   "execution_count": null,
   "metadata": {
    "scrolled": true
   },
   "outputs": [],
   "source": [
    "# please replace 'syntheticlethality' with your project id\n",
    "project_id='syntheticlethality'\n",
    "client = bigquery.Client(project_id)"
   ]
  },
  {
   "cell_type": "markdown",
   "metadata": {},
   "source": [
    "### 4. Prediction of synthetic lethal partners using different modules on DAISY\n"
   ]
  },
  {
   "cell_type": "markdown",
   "metadata": {},
   "source": [
    "There are three modules for synthetic lethal pair inferences on DAISY :\n",
    "1. Pairwise gene coexpression, \n",
    "\n",
    "2. Genomic survival of the fittest. \n",
    "\n",
    "3. shRNA or CRISPR based functional examination.\n",
    "You can get more information in the original paper : https://www.sciencedirect.com/science/article/pii/S0092867414009775.\n",
    "\n",
    "In pairwise gene coexpression module and genomic survial of the fittest module, we will use PancancerAtlas and CCLE data.<br>\n",
    "In functional examination module, we will use CRISPR and shRNA data together with CCLE data. <br>\n",
    "\n",
    "Python codes required are  in the ../Scripts/ folder and they are imported at the beginning. \n"
   ]
  },
  {
   "cell_type": "markdown",
   "metadata": {},
   "source": [
    "#### 4.0. Default parameters for DAISY, you can edit them\n",
    "\n",
    "For SDL prediction, please replace 'SL' with 'SDL' and 'Inactive' with 'Overactive' in the following code lines\n",
    "\n",
    "For SOF and FuncExamination Procedures, input_mutations is an optional parameter, if you don't want to use,  you can skip "
   ]
  },
  {
   "cell_type": "code",
   "execution_count": null,
   "metadata": {},
   "outputs": [],
   "source": [
    "input_mutations = ['Nonsense_Mutation', 'Frame_Shift_Ins', 'Frame_Shift_Del'] \n",
    "# DAISY default parameters for SL prediction\n",
    "percentile_threshold = 10\n",
    "cn_threshold = -0.3 \n",
    "cor_threshold = 0.5\n",
    "p_threshold = 0.05\n",
    "pval_correction = 'Bonferroni'\n",
    "fdr_level='gene_level' #it can be gene_level or analysis_level\n",
    "\n",
    "# for SDL prediction DAISY parameters are \n",
    "#percentile_threshold = 90\n",
    "#cn_threshold = 0.3 \n",
    "#cor_threshold = 0.5\n",
    "#p_threshold = 0.05\n"
   ]
  },
  {
   "cell_type": "markdown",
   "metadata": {},
   "source": [
    "The tumor types are the TCGA cancer types, the cancer types that have corresponding Celllines are listed in the combobox. Please click on the tissue(s) you want to do the analyses on."
   ]
  },
  {
   "cell_type": "code",
   "execution_count": null,
   "metadata": {
    "scrolled": true
   },
   "outputs": [],
   "source": [
    "TCGA_list=GetTCGASubtypes(client)\n",
    "TCGA_list = [i for i in TCGA_list if i]\n",
    "\n",
    "tumor_type = widgets.SelectMultiple(\n",
    "    options=['pancancer'] + TCGA_list  ,\n",
    "    value=[],\n",
    "    description='Tumor type',\n",
    "    disabled=False\n",
    ")\n",
    "display(tumor_type)"
   ]
  },
  {
   "cell_type": "markdown",
   "metadata": {},
   "source": [
    "The gene list that we have interested in finding SL partners of."
   ]
  },
  {
   "cell_type": "code",
   "execution_count": null,
   "metadata": {},
   "outputs": [],
   "source": [
    "gene_list=[\"BRCA1\", \"BRCA2\", \"ARID1A\"] # any number of genes in list format"
   ]
  },
  {
   "cell_type": "markdown",
   "metadata": {},
   "source": [
    "#### 4.1. Pairwise gene coexpression module\n",
    "\n",
    "In the pairwise co-expression module, DAISY makes inferences based on the assumption that synthetic lethal gene pairs play a role in related biological processes and are co-expressed. Gene expression is measured for patient-derived data from TCGA and cancer cell line-derived data from CCLE. Pairwise co-expression is estimated from the Spearman correlation which we calculated between each gene of interest (each item in the query gene list) and all other genes. Candidate synthetic lethal gene pairs are those with correlation coefficient greater than 0.5 and whose Bonferroni-corrected P value was smaller than 0.05 by default, these parameters can be updated. \n"
   ]
  },
  {
   "cell_type": "markdown",
   "metadata": {},
   "source": [
    "4.1.1. Pairwise gene coexpression module on PancancerAtlas."
   ]
  },
  {
   "cell_type": "code",
   "execution_count": null,
   "metadata": {
    "scrolled": true
   },
   "outputs": [],
   "source": [
    "coexp_pancancer = CoexpressionAnalysis(client, 'SL', \"PanCancerAtlas\", gene_list , pval_correction, fdr_level, list(tumor_type.value))\n",
    "try:\n",
    "    coex_pan_intermediate_report=coexp_pancancer.loc[(coexp_pancancer['FDR'] < p_threshold)&(coexp_pancancer['Correlation'] > cor_threshold)]\n",
    "    coexp_pancancer_report=coex_pan_intermediate_report.groupby('Inactive').apply(lambda x: x.sort_values('FDR'))\n",
    "except:\n",
    "    coexp_pancancer_report=pd.DataFrame()\n",
    "    print(\"No results returned.\")\n",
    "    \n",
    "coexp_pancancer_report"
   ]
  },
  {
   "cell_type": "markdown",
   "metadata": {},
   "source": [
    "<br>\n",
    "4.1.2. Pairwise gene coexpression module on CCLE data"
   ]
  },
  {
   "cell_type": "code",
   "execution_count": null,
   "metadata": {
    "scrolled": true
   },
   "outputs": [],
   "source": [
    "coexp_CCLE=CoexpressionAnalysis(client, 'SL', 'CCLE', gene_list, pval_correction, fdr_level, list(tumor_type.value ))\n",
    "try: \n",
    "    coex_ccle_intermediate_report=coexp_CCLE.loc[(coexp_CCLE['FDR'] < p_threshold)&(coexp_CCLE['Correlation'] > cor_threshold)]\n",
    "    coexp_CCLE_report=coex_ccle_intermediate_report.groupby('Inactive').apply(lambda x: x.sort_values('FDR'))\n",
    "except:\n",
    "    coexp_CCLE_report=pd.DataFrame()\n",
    "    print(\"No results returned.\")\n",
    "coexp_CCLE_report    \n",
    "    "
   ]
  },
  {
   "cell_type": "markdown",
   "metadata": {},
   "source": [
    "#### 4.2. Genomic survival of fittest module\n",
    "The genomic survival of the fittest inference module is based on the statistical test of the copy number alteration of the gene in the search domain, given whether the gene of interest is inactive (overactive) or not.The gene of interest in a sample is considered inactive if its expression is less than 10th percentile across all samples and its copy number alteration is less than -0.3 or if it has a nonsense, frame shift or frame-del mutation. The gene of interest in a sample is considered overactive if it has gene expression exceeding the 90th percentile across all samples and its copy number alteration is greater  than 0.3 (over-activity is used in synthetic dosage lethal pair prediction)\n",
    "The one-sided Wilcoxon rank-sum (Mann-Whitney U) test was applied to the copy number alteration of the candidate synthetic lethal pair of each gene of interest. The higher copy number of the candidate synthetic lethal pair for  the samples whose gene of interest is inactive (overactive) is considered as an indicator of the genes being in a synthetic lethal or synthetic dosage lethal relationship. The SL/SDL pairs whose Bonferroni - corrected p-value is  less than 0.05  were returned. This inference procedure was applied on PanCancer Atlas  and CCLE data separately. "
   ]
  },
  {
   "cell_type": "markdown",
   "metadata": {},
   "source": [
    "4.2.1. Genomic survival of fittest module on CCLE data"
   ]
  },
  {
   "cell_type": "code",
   "execution_count": null,
   "metadata": {
    "scrolled": true
   },
   "outputs": [],
   "source": [
    "sof_CCLE = SurvivalOfFittest(client, 'SL', \"CCLE\", gene_list,  percentile_threshold, cn_threshold, pval_correction, fdr_level, list(tumor_type.value), input_mutations)\n",
    "try: \n",
    "    sof_ccle_intermediate_report=sof_CCLE.loc[(sof_CCLE['FDR'] < p_threshold),]\n",
    "    sof_ccle_report=sof_ccle_intermediate_report.groupby('Inactive').apply(lambda x: x.sort_values('FDR'))\n",
    "except:\n",
    "    sof_ccle_report=pd.DataFrame()\n",
    "    print(\"No results returned.\")\n",
    "sof_ccle_report"
   ]
  },
  {
   "cell_type": "markdown",
   "metadata": {},
   "source": [
    "4.2.2. Genomic survival of fittest module on PancancerAtlas data"
   ]
  },
  {
   "cell_type": "code",
   "execution_count": null,
   "metadata": {
    "scrolled": true
   },
   "outputs": [],
   "source": [
    "sof_pancancer = SurvivalOfFittest(client, 'SL', \"PanCancerAtlas\", gene_list, percentile_threshold, cn_threshold, pval_correction, fdr_level, list(tumor_type.value), input_mutations)\n",
    "try:\n",
    "    sof_pancancer_intermediate_report=sof_pancancer.loc[(sof_pancancer['FDR'] < p_threshold),]                \n",
    "    sof_pancancer_report=sof_pancancer_intermediate_report.groupby('Inactive').apply(lambda x: x.sort_values('FDR'))\n",
    "except:\n",
    "    sof_pancancer_report=pd.DataFrame()\n",
    "    print(\"No results returned.\") \n",
    "sof_pancancer_report"
   ]
  },
  {
   "cell_type": "markdown",
   "metadata": {},
   "source": [
    "#### 4.3. Functional examination inference module\n",
    "\n",
    "The rationale for the functional examination inference module is that if the synthetic lethal partner of a gene is inactive in a given sample, subsequent inactivation of that gene will be lethal. Therefore, for a gene of interest, we first defined two groups for the test, one in which the gene was inactive and the other in which it was not. We then performed a one-sided Wilcoxon rank-sum (Mann-Whitney U) test on the knockdown/knockout sensitivity of candidate synthetic lethal pairs of interest. Lower viability that is associated with higher knockout/knockdown sensitivity is an indicator of a potential SLI. The synthetic lethal pairs for  whom the test result P value was lower than 0.05 were returned. This inference procedure was applied to the gene-dependency scores or gene effect scores for the shRNA and CRISPR datasets separately. "
   ]
  },
  {
   "cell_type": "markdown",
   "metadata": {},
   "source": [
    "4.3.1. CRISPR based functional examination inference module"
   ]
  },
  {
   "cell_type": "code",
   "execution_count": null,
   "metadata": {},
   "outputs": [],
   "source": [
    "crispr_result = FunctionalExamination(client,'SL', \"CRISPR\", gene_list, percentile_threshold, \n",
    "                                      cn_threshold, pval_correction,  fdr_level, list(tumor_type.value), input_mutations )\n",
    "try:\n",
    "    crispr_intermediate_report=crispr_result.loc[(crispr_result['PValue'] < p_threshold),]\n",
    "    crispr_report=crispr_intermediate_report.groupby('Inactive').apply(lambda x: x.sort_values('PValue'))\n",
    "except:\n",
    "    crispr_report=pd.DataFrame()\n",
    "    print(\"No results returned.\")\n",
    "crispr_report   "
   ]
  },
  {
   "cell_type": "markdown",
   "metadata": {},
   "source": [
    "<br>\n",
    "4.3.2. shRNA based functional examination inference module"
   ]
  },
  {
   "cell_type": "code",
   "execution_count": null,
   "metadata": {
    "scrolled": true
   },
   "outputs": [],
   "source": [
    "shRNA_result = FunctionalExamination(client, 'SL', \"shRNA\", gene_list , percentile_threshold, \\\n",
    "                                     cn_threshold, pval_correction,  fdr_level, list(tumor_type.value),input_mutations)\n",
    "try:\n",
    "    shRNA_intermediate_report=shRNA_result.loc[(shRNA_result['PValue'] < p_threshold),]\n",
    "    shRNA_report=shRNA_intermediate_report.groupby('Inactive').apply(lambda x: x.sort_values('PValue'))\n",
    "    \n",
    "except:\n",
    "    shRNA_report=pd.DataFrame()\n",
    "    print(\"No results returned.\")\n",
    "shRNA_report"
   ]
  },
  {
   "cell_type": "markdown",
   "metadata": {},
   "source": [
    "### 5. Integration of results"
   ]
  },
  {
   "cell_type": "markdown",
   "metadata": {},
   "source": [
    "5.1. Integration of the pairwise Co-expression gene co-expression results on Pancancer and CCLE\n",
    "\n",
    "The union of results from PanCancer Atlas and CCLE was used. \n"
   ]
  },
  {
   "cell_type": "code",
   "execution_count": null,
   "metadata": {
    "scrolled": true
   },
   "outputs": [],
   "source": [
    "try:\n",
    "    coexpression_result = UnionResults([coexp_pancancer_report, coexp_CCLE_report],'SL', ['FDR', 'FDR'],  list(tumor_type.value))\n",
    "    coexpression_result=coexpression_result.sort_values('Inactive')\n",
    "except:\n",
    "    coexpression_result=pd.DataFrame()\n",
    "    print(\"No Result From Pairwise Co-expression Inference Procedure\")\n",
    "    \n",
    "coexpression_result"
   ]
  },
  {
   "cell_type": "markdown",
   "metadata": {},
   "source": [
    "<br>\n",
    "5.2. Integration of Survival of Fittest results on Pancancer and CCLE\n",
    "\n",
    "The union of results from PanCancer Atlas and CCLE was used. "
   ]
  },
  {
   "cell_type": "code",
   "execution_count": null,
   "metadata": {},
   "outputs": [],
   "source": [
    "try:\n",
    "    sof_result = UnionResults([sof_ccle_report, sof_pancancer_report],  'SL', ['FDR', 'FDR'], list(tumor_type.value))\n",
    "    sof_result=sof_result.sort_values('Inactive')\n",
    "except:\n",
    "    sof_result=pd.DataFrame()\n",
    "    print(\"No Result From Survival of Fittest Inference Procedure\")\n",
    "sof_result    "
   ]
  },
  {
   "cell_type": "markdown",
   "metadata": {},
   "source": [
    "<br>\n",
    "5.3. Integration of shRNA and CRISPR based functional examination inference module.\n",
    "\n",
    "We reported the union of results from shRNA and CRISPR-based datasets. "
   ]
  },
  {
   "cell_type": "code",
   "execution_count": null,
   "metadata": {},
   "outputs": [],
   "source": [
    "try:\n",
    "    functional_screening_result = UnionResults([crispr_report, shRNA_report],'SL', ['PValue', 'PValue'], list(tumor_type.value))\n",
    "    functional_screening_result=functional_screening_result.sort_values('Inactive')\n",
    "    \n",
    "except:\n",
    "    functional_screening_result=pd.DataFrame()\n",
    "    print(\"No Result From Functional Examination Inference Procedure\")\n",
    "functional_screening_result    "
   ]
  },
  {
   "cell_type": "markdown",
   "metadata": {},
   "source": [
    "<br>\n",
    "5.4. Merging the results from all three inference procedures\n",
    "\n",
    "The intersection of SL pairs from different inference procedures compose the final list. \n"
   ]
  },
  {
   "cell_type": "code",
   "execution_count": null,
   "metadata": {
    "scrolled": true
   },
   "outputs": [],
   "source": [
    "try:\n",
    "    all_merged_results = MergeResults([coexpression_result, sof_result, functional_screening_result], 'SL',  list(tumor_type.value))\n",
    "    all_merged_results=all_merged_results.sort_values('Inactive')\n",
    "except:\n",
    "    all_merged_results=pd.DataFrame()\n",
    "    print(\"No results found\")\n",
    "all_merged_results"
   ]
  },
  {
   "cell_type": "markdown",
   "metadata": {},
   "source": [
    "Results can also be saved into the excel files."
   ]
  },
  {
   "cell_type": "code",
   "execution_count": null,
   "metadata": {},
   "outputs": [],
   "source": [
    "WriteToExcel(\"DAISY_SL_results.xlsx\", [all_merged_results], [\"final results\"])"
   ]
  }
 ],
 "metadata": {
  "kernelspec": {
   "display_name": "Python 3 (ipykernel)",
   "language": "python",
   "name": "python3"
  },
  "language_info": {
   "codemirror_mode": {
    "name": "ipython",
    "version": 3
   },
   "file_extension": ".py",
   "mimetype": "text/x-python",
   "name": "python",
   "nbconvert_exporter": "python",
   "pygments_lexer": "ipython3",
   "version": "3.9.1"
  }
 },
 "nbformat": 4,
 "nbformat_minor": 4
}
