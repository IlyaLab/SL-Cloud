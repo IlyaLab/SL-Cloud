{
 "cells": [
  {
   "cell_type": "markdown",
   "metadata": {},
   "source": [
    "#  DAISY- the DAta-mIning SYnthetic-lethality-identification pipeline\n",
    "\n",
    "Please cite: \n",
    "For Implementation: \n",
    "\n",
    "Our paper,\n",
    "\n",
    "For DAISY algorithm: \n",
    "\n",
    "Jerby-Arnon, L., Pfetzer, N., Waldman, Y. Y., McGarry, L., James, D., Shanks, E., ... & Gottlieb, E. (2014). Predicting cancer-specific vulnerability via data-driven detection of synthetic lethality. Cell, 158(5), 1199-1209.\n",
    "\n",
    "For CCLE Omics data:\n",
    "\n",
    "Ghandi, M., Huang, F.W., Jané-Valbuena, J. et al. Next-generation characterization of the Cancer Cell Line Encyclopedia. Nature 569, 503–508 (2019). https://doi.org/10.1038/s41586-019-1186-3\n",
    "\n",
    "For CRISPR Data: \n",
    "\n",
    "Robin M. Meyers, Jordan G. Bryan, James M. McFarland, Barbara A. Weir, ... David E. Root, William C. Hahn, Aviad Tsherniak. Computational correction of copy number effect improves specificity of CRISPR-Cas9 essentiality screens in cancer cells. Nature Genetics 2017 October 49:1779–1784. doi:10.1038/ng.3984\n",
    "\n",
    "Dempster, J. M., Rossen, J., Kazachkova, M., Pan, J., Kugener, G., Root, D. E., & Tsherniak, A. (2019). Extracting Biological Insights from the Project Achilles Genome-Scale CRISPR Screens in Cancer Cell Lines. BioRxiv, 720243.\n",
    "\n",
    "For shRNA Data:\n",
    "\n",
    "James M. McFarland, Zandra V. Ho, Guillaume Kugener, Joshua M. Dempster, Phillip G. Montgomery, Jordan G. Bryan, John M. Krill-Burger, Thomas M. Green, Francisca Vazquez, Jesse S. Boehm, Todd R. Golub, William C. Hahn, David E. Root, Aviad Tsherniak. (2018). Improved estimation of cancer dependencies from large-scale RNAi screens using model-based normalization and data integration. Nature Communications 9, 1. https://doi.org/10.1038/s41467-018-06916-5\n",
    "\n",
    "For ISB-CGC:\n",
    "Reynolds, S. M., Miller, M., Lee, P., Leinonen, K., Paquette, S. M., Rodebaugh, Z., ... & Shmulevich, I. (2017). The ISB Cancer Genomics Cloud: a flexible cloud-based platform for cancer genomics research. Cancer research, 77(21), e7-e10.\n",
    "\n",
    "For Pancancer Atlas Data:\n",
    "Hutter, C., and Zenklusen, J.C. (2018). The Cancer Genome Atlas: Creating Lasting Value beyond Its Data. Cell 173, 283–285.\n",
    "\n",
    "This notebook is a reimplementation of DAISY Synthetic Lethal Pair Prediction Algorithm\n",
    "\n",
    "It consists 3 modules: \n",
    "\n",
    "1. SL candidate determination using gene co-expression\n",
    "2. SL candidate determination using survival of fittest\n",
    "3. SL candidate determination using CRISPR and shRNA experiments\n",
    "\n",
    "* The results from the three modules were then aggregated into one ranked list of candidate SL pairs\n",
    "\n",
    "Input Parameters\n",
    "* Cancer type \n",
    "* The genes whose SL partners are seeked\n",
    "\n",
    "Input Data (available in bigquery tables)\n",
    "* Gene expression data \n",
    "* Gene mutation data\n",
    "* Copy number variation data\n",
    "* Gene effect data (CRISPR)\n",
    "* Gene dependency scores data (shRNA)\n",
    "\n",
    "Output\n",
    "* Ranked list of candidate SL pairs\n",
    "\n",
    "Please contact Bahar Tercan btercan@systemsbiology.org for your questions and detailed information. "
   ]
  },
  {
   "cell_type": "code",
   "execution_count": null,
   "metadata": {},
   "outputs": [],
   "source": [
    "reset "
   ]
  },
  {
   "cell_type": "code",
   "execution_count": null,
   "metadata": {},
   "outputs": [],
   "source": [
    "pwd"
   ]
  },
  {
   "cell_type": "markdown",
   "metadata": {},
   "source": [
    "### 1. Import python libraries required\n",
    "The required libraries are imported. "
   ]
  },
  {
   "cell_type": "code",
   "execution_count": null,
   "metadata": {
    "scrolled": true
   },
   "outputs": [],
   "source": [
    "import sys\n",
    "sys.path.append('/scripts') # to be able to use the .py files in ../scripts folder\n",
    "from google.cloud import bigquery\n",
    "import importlib\n",
    "import pandas as pd\n",
    "import DAISY_operations\n",
    "importlib.reload(DAISY_operations)\n",
    "from DAISY_operations import *\n",
    "import ipywidgets as widgets"
   ]
  },
  {
   "cell_type": "code",
   "execution_count": null,
   "metadata": {},
   "outputs": [],
   "source": [
    "if not sys.warnoptions:\n",
    "    import warnings\n",
    "    warnings.simplefilter(\"ignore\")"
   ]
  },
  {
   "cell_type": "markdown",
   "metadata": {},
   "source": [
    "### 2. Sign in Google Bigquery with the project id\n",
    "\n",
    "Bigquery connection\n",
    "Please replace syntheticlethality with your project name"
   ]
  },
  {
   "cell_type": "code",
   "execution_count": null,
   "metadata": {
    "scrolled": true
   },
   "outputs": [],
   "source": [
    "# please replace 'syntheticlethality' with your project id\n",
    "project_id='syntheticlethality'\n",
    "client = bigquery.Client(project_id)\n",
    "\n",
    "#Please make sure that you have installed google clouds.\n",
    "#For more detailed information: https://cloud.google.com/sdk/docs/install\n",
    "!gcloud auth login"
   ]
  },
  {
   "cell_type": "markdown",
   "metadata": {},
   "source": [
    "### 4. Prediction of synthetic lethal partners using different modules on DAISY\n"
   ]
  },
  {
   "cell_type": "markdown",
   "metadata": {},
   "source": [
    "There are three modules for synthetic lethal pair inferences on DAISY : 1. Pairwise gene coexpression, 2. Genomic survival of the fittest. 3. shRNA or CRISPR based functional examination. You can get more information in the original paper : https://www.sciencedirect.com/science/article/pii/S0092867414009775.\n",
    "\n",
    "In pairwise gene coexpression module and genomic survial of the fittest module, we will use PancancerAtlas and CCLE data.<br>\n",
    "In functional examination module, we will use CRISPR and shRNA data. <br>\n",
    "\n",
    "Python codes required are  in the ../scripts/ folder and they are imported at the beginning. \n"
   ]
  },
  {
   "cell_type": "markdown",
   "metadata": {},
   "source": [
    "#### 4.0. Default parameters for DAISY, you can edit them"
   ]
  },
  {
   "cell_type": "code",
   "execution_count": null,
   "metadata": {},
   "outputs": [],
   "source": [
    "input_mutations = ['Nonsense_Mutation', 'Frame_Shift_Ins', 'Frame_Shift_Del'] \n",
    "# DAISY default parameters for SL prediction\n",
    "percentile_threshold = 10\n",
    "cn_threshold = -0.3 \n",
    "cor_threshold = 0.5\n",
    "p_threshold = 0.05\n",
    "pval_correction = 'Bonferroni'\n",
    "\n",
    "# for SDL prediction DAISY parameters are \n",
    "#percentile_threshold = 90\n",
    "#cn_threshold = 0.3 \n",
    "#cor_threshold = 0.5\n",
    "#p_threshold = 0.05\n",
    "\n",
    "# for SDL prediction, please replace 'SL' with 'SDL' and 'Inactive' with 'Overactive' in the following code lines"
   ]
  },
  {
   "cell_type": "code",
   "execution_count": null,
   "metadata": {},
   "outputs": [],
   "source": [
    "TCGA_list=GetTCGASubtypes(client)\n",
    "TCGA_list = [i for i in TCGA_list if i]\n",
    "\n",
    "tumor_type = widgets.SelectMultiple(\n",
    "    options=['pancancer'] + TCGA_list  ,\n",
    "    value=[],\n",
    "    description='Tumor type',\n",
    "    disabled=False\n",
    ")\n",
    "display(tumor_type)"
   ]
  },
  {
   "cell_type": "code",
   "execution_count": null,
   "metadata": {},
   "outputs": [],
   "source": [
    "gene_list=[\"BRCA1\", \"BRCA2\",  \"ARID1A\"] # any number of genes in list format"
   ]
  },
  {
   "cell_type": "markdown",
   "metadata": {},
   "source": [
    "#### 4.1. Pairwise gene coexpression module"
   ]
  },
  {
   "cell_type": "markdown",
   "metadata": {},
   "source": [
    "4.1.1. Pairwise gene coexpression module on PancancerAtlas."
   ]
  },
  {
   "cell_type": "code",
   "execution_count": null,
   "metadata": {
    "scrolled": true
   },
   "outputs": [],
   "source": [
    "coexp_pancancer = CoexpressionAnalysis(client, 'SL', \"PanCancerAtlas\", gene_list , pval_correction, list(tumor_type.value))\n",
    "try:\n",
    "    report=coexp_pancancer.loc[(coexp_pancancer['FDR'] < p_threshold)&(coexp_pancancer['Correlation'] > cor_threshold)]\n",
    "    if report.shape[0]>0:\n",
    "        coexp_pancancer_report=report.groupby('Inactive').apply(lambda x: x.sort_values('FDR'))\n",
    "except:\n",
    "    print(\"No results returned.\")\n",
    "    "
   ]
  },
  {
   "cell_type": "markdown",
   "metadata": {},
   "source": [
    "<br>\n",
    "4.1.2. Pairwise gene coexpression module on CCLE data"
   ]
  },
  {
   "cell_type": "code",
   "execution_count": null,
   "metadata": {
    "scrolled": true
   },
   "outputs": [],
   "source": [
    "coexp_CCLE=CoexpressionAnalysis(client, 'SL', 'CCLE', gene_list, pval_correction, list(tumor_type.value))\n",
    "try: \n",
    "    report=coexp_CCLE.loc[(coexp_CCLE['FDR'] < p_threshold)&(coexp_CCLE['Correlation'] > cor_threshold)]\n",
    "    if report.shape[0]>0:\n",
    "        coexp_CCLE_report=report.groupby('Inactive').apply(lambda x: x.sort_values('FDR'))\n",
    "except:\n",
    "    print(\"No results returned.\")"
   ]
  },
  {
   "cell_type": "markdown",
   "metadata": {},
   "source": [
    "#### 4.2. Genomic survival of fittest module"
   ]
  },
  {
   "cell_type": "markdown",
   "metadata": {},
   "source": [
    "4.2.1. Genomic survival of fittest module on CCLE data"
   ]
  },
  {
   "cell_type": "code",
   "execution_count": null,
   "metadata": {
    "scrolled": true
   },
   "outputs": [],
   "source": [
    "sof_CCLE = SurvivalOfFittest(client, 'SL', \"CCLE\", gene_list,  percentile_threshold, cn_threshold, pval_correction, list(tumor_type.value), input_mutations)\n",
    "try: \n",
    "    report=sof_CCLE.loc[(sof_CCLE['FDR'] < p_threshold),]\n",
    "    sof_ccle_report=report.groupby('Inactive').apply(lambda x: x.sort_values('FDR'))\n",
    "except:\n",
    "    print(\"No results returned.\")"
   ]
  },
  {
   "cell_type": "code",
   "execution_count": null,
   "metadata": {
    "scrolled": true
   },
   "outputs": [],
   "source": [
    "sof_pancancer = SurvivalOfFittest(client, 'SL', \"PanCancerAtlas\", gene_list, percentile_threshold, cn_threshold, pval_correction, list(tumor_type.value), input_mutations)\n",
    "try:\n",
    "    report=sof_pancancer.loc[(sof_pancancer['FDR'] < p_threshold),]                \n",
    "    if report.shape[0]>0:\n",
    "        sof_pancancer_report=report.groupby('Inactive').apply(lambda x: x.sort_values('FDR'))\n",
    "except:\n",
    "    print(\"No results returned.\") "
   ]
  },
  {
   "cell_type": "markdown",
   "metadata": {},
   "source": [
    "#### 4.3. Functional examination inference module"
   ]
  },
  {
   "cell_type": "markdown",
   "metadata": {},
   "source": [
    "4.3.1. CRISPR based functional examination inference module"
   ]
  },
  {
   "cell_type": "code",
   "execution_count": null,
   "metadata": {},
   "outputs": [],
   "source": [
    "crispr_result = FunctionalExamination(client,'SL', \"CRISPR\", gene_list, percentile_threshold, cn_threshold, pval_correction,list(tumor_type.value), input_mutations )\n",
    "try:\n",
    "    report=crispr_result.loc[(crispr_result['PValue'] < p_threshold),]\n",
    "                      \n",
    "    if report.shape[0]>0:\n",
    "        crispr_report=report.groupby('Inactive').apply(lambda x: x.sort_values('PValue'))\n",
    "except:\n",
    "    print(\"No results returned.\")\n",
    "    \n"
   ]
  },
  {
   "cell_type": "markdown",
   "metadata": {},
   "source": [
    "<br>\n",
    "4.3.2. shRNA based functional examination inference module"
   ]
  },
  {
   "cell_type": "code",
   "execution_count": null,
   "metadata": {
    "scrolled": true
   },
   "outputs": [],
   "source": [
    "shRNA_result = FunctionalExamination(client, 'SL', \"shRNA\", gene_list , percentile_threshold, \\\n",
    "                                     cn_threshold, pval_correction, list(tumor_type.value),input_mutations)\n",
    "try:\n",
    "    report=shRNA_result.loc[(shRNA_result['PValue'] < p_threshold),]\n",
    "                      \n",
    "    if report.shape[0]>0:\n",
    "        shRNA_report=report.groupby('Inactive').apply(lambda x: x.sort_values('PValue'))\n",
    "    shRNA_report\n",
    "except:\n",
    "    print(\"No results returned.\")\n"
   ]
  },
  {
   "cell_type": "markdown",
   "metadata": {},
   "source": [
    "### 5. Integration of results"
   ]
  },
  {
   "cell_type": "markdown",
   "metadata": {},
   "source": [
    "5.1. Integration of the pairwise Co-expression gene co-expression results on Pancancer and CCLE"
   ]
  },
  {
   "cell_type": "code",
   "execution_count": null,
   "metadata": {
    "scrolled": true
   },
   "outputs": [],
   "source": [
    "coexpression_result = UnionResults([coexp_pancancer_report, coexp_CCLE_report],'SL', ['FDR', 'FDR'],  list(tumor_type.value))\n",
    "coexpression_result=coexpression_result.groupby('Inactive').apply(lambda x: x.sort_values('AggregatedP'))"
   ]
  },
  {
   "cell_type": "markdown",
   "metadata": {},
   "source": [
    "<br>\n",
    "5.2. Integration of Survival of Fittest results on Pancancer and CCLE"
   ]
  },
  {
   "cell_type": "code",
   "execution_count": null,
   "metadata": {},
   "outputs": [],
   "source": [
    "sof_result = UnionResults([sof_ccle_report, sof_pancancer_report],  'SL', ['FDR', 'FDR'], list(tumor_type.value))\n",
    "sof_result=sof_result.groupby('Inactive').apply(lambda x: x.sort_values('AggregatedP'))"
   ]
  },
  {
   "cell_type": "markdown",
   "metadata": {},
   "source": [
    "<br>\n",
    "5.3. Integration of shRNA and CRISPR based functional examination inference module."
   ]
  },
  {
   "cell_type": "code",
   "execution_count": null,
   "metadata": {},
   "outputs": [],
   "source": [
    "functional_screening_result = UnionResults([crispr_report, shRNA_report],'SL', ['PValue', 'PValue'], list(tumor_type.value))\n",
    "functional_screening_result=functional_screening_result.groupby('Inactive').apply(lambda x: x.sort_values('AggregatedP'))\n"
   ]
  },
  {
   "cell_type": "markdown",
   "metadata": {},
   "source": [
    "<br>\n",
    "5.4. Merging the results from all three inference procedures"
   ]
  },
  {
   "cell_type": "code",
   "execution_count": null,
   "metadata": {
    "scrolled": true
   },
   "outputs": [],
   "source": [
    "all_merged_results = MergeResults([coexpression_result, sof_result, functional_screening_result], 'SL', list(tumor_type.value))\n",
    "all_merged_results=all_merged_results.groupby('Inactive').apply(lambda x: x.sort_values('FinalP'))"
   ]
  },
  {
   "cell_type": "markdown",
   "metadata": {},
   "source": [
    "Results are saved in excel file"
   ]
  },
  {
   "cell_type": "code",
   "execution_count": null,
   "metadata": {},
   "outputs": [],
   "source": [
    "all_merged_results.to_csv(\"DAISY_SL_results.xlsx\")"
   ]
  },
  {
   "cell_type": "code",
   "execution_count": null,
   "metadata": {},
   "outputs": [],
   "source": []
  }
 ],
 "metadata": {
  "kernelspec": {
   "display_name": "Python 3",
   "language": "python",
   "name": "python3"
  },
  "language_info": {
   "codemirror_mode": {
    "name": "ipython",
    "version": 3
   },
   "file_extension": ".py",
   "mimetype": "text/x-python",
   "name": "python",
   "nbconvert_exporter": "python",
   "pygments_lexer": "ipython3",
   "version": "3.7.6"
  }
 },
 "nbformat": 4,
 "nbformat_minor": 4
}
