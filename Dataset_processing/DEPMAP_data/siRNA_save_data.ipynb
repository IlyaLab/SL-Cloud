{
 "cells": [
  {
   "cell_type": "markdown",
   "metadata": {},
   "source": [
    "DEMETER2 version 6"
    "The data is already saved into bigquery tables, no need to run this code if you have added syntheticlethality dataset in your project"
    "Contact Bahar Tercan for further questions -- btercan@systemsbiology.org"
   ]
  },
  {
   "cell_type": "code",
   "execution_count": 36,
   "metadata": {},
   "outputs": [
    {
     "name": "stdout",
     "output_type": "stream",
     "text": [
      "Once deleted, variables cannot be recovered. Proceed (y/[n])? y\n"
     ]
    }
   ],
   "source": [
    "%reset "
   ]
  },
  {
   "cell_type": "code",
   "execution_count": 31,
   "metadata": {},
   "outputs": [
    {
     "data": {
      "text/plain": [
       "'/Users/bahar/Downloads/SL-Cloud-main2/DEPMAP_save_data'"
      ]
     },
     "execution_count": 31,
     "metadata": {},
     "output_type": "execute_result"
    }
   ],
   "source": [
    "pwd"
   ]
  },
  {
   "cell_type": "code",
   "execution_count": 42,
   "metadata": {},
   "outputs": [],
   "source": [
    "import pandas as pd\n",
    "import pandas_gbq as gbq\n",
    "from google.cloud import bigquery\n",
    "import numpy as np\n",
    "import sys\n",
    "sys.path.append('../scripts/')\n",
    "import importlib\n",
    "import BIGQUERY_operations\n",
    "importlib.reload(BIGQUERY_operations)\n",
    "from BIGQUERY_operations import *\n",
    "import DEPMAP_data_preprocessing\n",
    "importlib.reload(DEPMAP_data_preprocessing)\n",
    "from DEPMAP_data_preprocessing import *"
   ]
  },
  {
   "cell_type": "code",
   "execution_count": 2,
   "metadata": {},
   "outputs": [
    {
     "name": "stdout",
     "output_type": "stream",
     "text": [
      "Traceback (most recent call last):\r\n",
      "  File \"/Users/bahar/Downloads/google-cloud-sdk/lib/gcloud.py\", line 104, in <module>\r\n",
      "    main()\r\n",
      "  File \"/Users/bahar/Downloads/google-cloud-sdk/lib/gcloud.py\", line 100, in main\r\n",
      "    sys.exit(gcloud_main.main())\r\n",
      "  File \"/Users/bahar/Downloads/google-cloud-sdk/lib/googlecloudsdk/gcloud_main.py\", line 171, in main\r\n",
      "    gcloud_cli = CreateCLI([])\r\n",
      "  File \"/Users/bahar/Downloads/google-cloud-sdk/lib/googlecloudsdk/gcloud_main.py\", line 151, in CreateCLI\r\n",
      "    generated_cli = loader.Generate()\r\n",
      "  File \"/Users/bahar/Downloads/google-cloud-sdk/lib/googlecloudsdk/calliope/cli.py\", line 504, in Generate\r\n",
      "    cli = self.__MakeCLI(top_group)\r\n",
      "  File \"/Users/bahar/Downloads/google-cloud-sdk/lib/googlecloudsdk/calliope/cli.py\", line 674, in __MakeCLI\r\n",
      "    log.AddFileLogging(self.__logs_dir)\r\n",
      "  File \"/Users/bahar/Downloads/google-cloud-sdk/lib/googlecloudsdk/core/log.py\", line 1039, in AddFileLogging\r\n",
      "    _log_manager.AddLogsDir(logs_dir=logs_dir)\r\n",
      "  File \"/Users/bahar/Downloads/google-cloud-sdk/lib/googlecloudsdk/core/log.py\", line 683, in AddLogsDir\r\n",
      "    self._CleanUpLogs(logs_dir)\r\n",
      "  File \"/Users/bahar/Downloads/google-cloud-sdk/lib/googlecloudsdk/core/log.py\", line 711, in _CleanUpLogs\r\n",
      "    self._CleanLogsDir(logs_dir)\r\n",
      "  File \"/Users/bahar/Downloads/google-cloud-sdk/lib/googlecloudsdk/core/log.py\", line 737, in _CleanLogsDir\r\n",
      "    os.remove(log_file_path)\r\n",
      "PermissionError: [Errno 13] Permission denied: '/Users/bahar/.config/gcloud/logs/2020.08.04/12.16.05.276251.log'\r\n"
     ]
    }
   ],
   "source": [
    "!gcloud auth application-default login"
   ]
  },
  {
   "cell_type": "code",
   "execution_count": 3,
   "metadata": {},
   "outputs": [],
   "source": [
    "# configure project info and bigquery client\n",
    "project_id='syntheticlethality'\n",
    "\n",
    "# construct a BigQuery client object.\n",
    "client = bigquery.Client(project_id)"
   ]
  },
  {
   "cell_type": "code",
   "execution_count": 4,
   "metadata": {},
   "outputs": [],
   "source": [
    "dataset_name='DEMETER2_v6'\n",
    "dataset_description=\"\"\" Cancer cell line genetic dependencies estimated using the DEMETER2 model. DEMETER2 is\n",
    "applied to three large-scale RNAi screening datasets: the Broad Institute Project Achilles, \n",
    "Novartis Project DRIVE, and the Marcotte et al. breast cell line dataset. \n",
    "The model is also applied to generate a combined dataset of gene dependencies covering \n",
    "a total of 712 unique cancer cell lines. For version history,\n",
    "see the description in the figshare. For more information visit https://depmap.org/R2-D2/.\\ \"\"\""
   ]
  },
  {
   "cell_type": "code",
   "execution_count": 5,
   "metadata": {},
   "outputs": [
    {
     "name": "stderr",
     "output_type": "stream",
     "text": [
      "/Users/bahar/opt/anaconda3/lib/python3.7/site-packages/IPython/core/interactiveshell.py:3063: DtypeWarning: Columns (25,26,27,31) have mixed types.Specify dtype option on import or set low_memory=False.\n",
      "  interactivity=interactivity, compiler=compiler, result=result)\n"
     ]
    }
   ],
   "source": [
    "#CCLE_mutation_data.csv file\n",
    "mutation_data=pd.read_csv(\"https://ndownloader.figshare.com/files/13110674\") \n",
    "\n",
    "#sample_info.csv file\n",
    "sample_info=pd.read_csv(\"https://ndownloader.figshare.com/files/11489717\")\n",
    "\n",
    "#WES_SNP_CN_data.csv file\n",
    "cn_data=pd.read_csv(\"https://ndownloader.figshare.com/files/11489726\", index_col=0)\n",
    "\n",
    "#RNAseq_lRPKM_data.csv file \n",
    "gene_exp_data=pd.read_csv(\"https://ndownloader.figshare.com/files/13110677\", index_col=0)\n",
    "\n",
    "#D2_combined_gene_dep_scores.csv\n",
    "combined_gene_dep_scores=pd.read_csv(\"https://ndownloader.figshare.com/files/13515395\", index_col=0)"
   ]
  },
  {
   "cell_type": "code",
   "execution_count": 6,
   "metadata": {},
   "outputs": [],
   "source": [
    "# get annotations from the excel file \n",
    "demeter6_annotations=pd.ExcelFile(\"DEMETER2_v6_annotation.xlsx\")"
   ]
  },
  {
   "cell_type": "code",
   "execution_count": 7,
   "metadata": {},
   "outputs": [],
   "source": [
    "mutation_annotation=demeter6_annotations.parse('CCLE_Mutation')\n",
    "sample_annotation=demeter6_annotations.parse('Sample_Info')\n",
    "gene_dep_scores_annotation=demeter6_annotations.parse('D2_combined_gene_dep_scores')\n",
    "RNAseq_IRPKM_annotation=demeter6_annotations.parse('RNAseq_IRPKM_data')\n",
    "cnv_annotations=demeter6_annotations.parse('WES_SNP_CN_data')"
   ]
  },
  {
   "cell_type": "code",
   "execution_count": 8,
   "metadata": {},
   "outputs": [
    {
     "name": "stdout",
     "output_type": "stream",
     "text": [
      "Dataset DEMETER2_v6 already exists.\n"
     ]
    }
   ],
   "source": [
    "dataset_description=''' Cancer cell line genetic dependencies estimated using the DEMETER2 model. \n",
    "    DEMETER2 is applied to three large-scale RNAi screening datasets: \n",
    "    the Broad Institute Project Achilles, Novartis Project DRIVE, and the Marcotte et al. breast cell line dataset.\n",
    "    The model is also applied togenerate a combined dataset of gene dependencies covering a total of 712 unique cancer cell lines.\n",
    "    For version history, see the description in the figshare\n",
    "    (https://figshare.com/articles/DEMETER2_data/6025238/6).\n",
    "    For more information visit https://depmap.org/R2-D2/.\n",
    "    '''\n",
    "   \n",
    "CreateDataSet(client, dataset_name, project_id, dataset_description)"
   ]
  },
  {
   "cell_type": "code",
   "execution_count": 10,
   "metadata": {
    "scrolled": true
   },
   "outputs": [
    {
     "name": "stderr",
     "output_type": "stream",
     "text": [
      "1it [00:42, 42.73s/it]\n"
     ]
    },
    {
     "name": "stdout",
     "output_type": "stream",
     "text": [
      "Table created successfully\n"
     ]
    }
   ],
   "source": [
    "# Save mutation data into bigquery table\n",
    "mutation_table_name='CCLE_mutation'\n",
    "mutation_table_desc='''Mutation data taken from the file CCLE_DepMap_18Q1_maf_20180207.txt.'''\n",
    "\n",
    "mutation_dict=mutation_annotation.to_dict('records')\n",
    "mutation_table=CreateTable(client, mutation_data, dataset_name, mutation_table_name, project_id,  mutation_table_desc, mutation_dict)"
   ]
  },
  {
   "cell_type": "code",
   "execution_count": 11,
   "metadata": {},
   "outputs": [
    {
     "name": "stderr",
     "output_type": "stream",
     "text": [
      "1it [00:02,  2.87s/it]\n"
     ]
    },
    {
     "name": "stdout",
     "output_type": "stream",
     "text": [
      "Table created successfully\n"
     ]
    }
   ],
   "source": [
    "sample_info_table_name=\"sample_info\"\n",
    "sample_info_table_desc='''Table of meta data per cell line.'''\n",
    "\n",
    "sample_dict=sample_annotation.to_dict('records')\n",
    "CreateTable(client, sample_info, dataset_name, sample_info_table_name, project_id, sample_info_table_desc, sample_dict)"
   ]
  },
  {
   "cell_type": "code",
   "execution_count": 43,
   "metadata": {},
   "outputs": [
    {
     "name": "stderr",
     "output_type": "stream",
     "text": [
      "1it [04:03, 243.92s/it]\n"
     ]
    },
    {
     "name": "stdout",
     "output_type": "stream",
     "text": [
      "Table created successfully\n"
     ]
    }
   ],
   "source": [
    "cn_table_desc='''Gene-level copy number data per cell line, derived from CCLE whole-exome sequencing data, along with CCLE \n",
    "SNP array data. Used for feature-dependency association analysis presented in the DEMETER2 manuscript.'''\n",
    "\n",
    "cnv_long_format=siRNAPreprocess(cn_data, 'CNA')\n",
    "cnv_table_name=\"WES_snp_cn\"\n",
    "cnv_dict=cnv_annotations.to_dict('records')\n",
    "CreateTable(client, cnv_long_format, dataset_name, cnv_table_name, project_id,cn_table_desc, cnv_dict)"
   ]
  },
  {
   "cell_type": "code",
   "execution_count": 45,
   "metadata": {},
   "outputs": [
    {
     "name": "stderr",
     "output_type": "stream",
     "text": [
      "1it [03:29, 209.61s/it]\n"
     ]
    },
    {
     "name": "stdout",
     "output_type": "stream",
     "text": [
      "Table created successfully\n"
     ]
    }
   ],
   "source": [
    "RNAseq_IRPKM_table_desc='''log10(RPKM + 0.001) for protein-coding genes, \n",
    "derived from the file CCLE_DepMap_18Q1_RNAseq_RPKM_20180214.gct.'''\n",
    "\n",
    "RNAseq_IRPKM_long_format=siRNAPreprocess(gene_exp_data, 'RPKM')\n",
    "RNAseq_IRPKM_table_name=\"RNAseq_IRPKM\"\n",
    "RNAseq_IRPKM_dict=RNAseq_IRPKM_annotation.to_dict('records')\n",
    "CreateTable(client, RNAseq_IRPKM_long_format, dataset_name, RNAseq_IRPKM_table_name, project_id, RNAseq_IRPKM_table_desc, RNAseq_IRPKM_dict)"
   ]
  },
  {
   "cell_type": "code",
   "execution_count": 47,
   "metadata": {},
   "outputs": [
    {
     "name": "stderr",
     "output_type": "stream",
     "text": [
      "1it [03:25, 205.46s/it]\n"
     ]
    },
    {
     "name": "stdout",
     "output_type": "stream",
     "text": [
      "Table created successfully\n"
     ]
    }
   ],
   "source": [
    "gene_dep_scores_table_desc='''Estimated gene dependency for each cell line and gene (posterior mean estimates).'''\n",
    "gene_dep_scores_long_format=siRNAPreprocess(combined_gene_dep_scores, 'Combined_Gene_Dep_Score')\n",
    "gene_dep_scores_table_name=\"D2_combined_gene_dep_score\"\n",
    "gene_dep_scores_dict=gene_dep_scores_annotation.to_dict('records')\n",
    "CreateTable(client, gene_dep_scores_long_format, dataset_name, gene_dep_scores_table_name, project_id, gene_dep_scores_table_desc, gene_dep_scores_dict)"
   ]
  },
  {
   "cell_type": "code",
   "execution_count": null,
   "metadata": {},
   "outputs": [],
   "source": []
  }
 ],
 "metadata": {
  "kernelspec": {
   "display_name": "Python 3",
   "language": "python",
   "name": "python3"
  },
  "language_info": {
   "codemirror_mode": {
    "name": "ipython",
    "version": 3
   },
   "file_extension": ".py",
   "mimetype": "text/x-python",
   "name": "python",
   "nbconvert_exporter": "python",
   "pygments_lexer": "ipython3",
   "version": "3.7.6"
  }
 },
 "nbformat": 4,
 "nbformat_minor": 4
}
